{
  "nbformat": 4,
  "nbformat_minor": 0,
  "metadata": {
    "colab": {
      "name": "Copy of Bert_model.ipynb",
      "provenance": [],
      "collapsed_sections": []
    },
    "kernelspec": {
      "display_name": "Python 3",
      "name": "python3"
    },
    "widgets": {
      "application/vnd.jupyter.widget-state+json": {
        "0b00008858ab498ab57d6ea7e82b2072": {
          "model_module": "@jupyter-widgets/controls",
          "model_name": "HBoxModel",
          "state": {
            "_view_name": "HBoxView",
            "_dom_classes": [],
            "_model_name": "HBoxModel",
            "_view_module": "@jupyter-widgets/controls",
            "_model_module_version": "1.5.0",
            "_view_count": null,
            "_view_module_version": "1.5.0",
            "box_style": "",
            "layout": "IPY_MODEL_c35fd9519bff4b258b4513635822c138",
            "_model_module": "@jupyter-widgets/controls",
            "children": [
              "IPY_MODEL_752723c5d0e1424f85fa2e9fc10696d5",
              "IPY_MODEL_c8ed0c569c844b2cb4a7c15d302a27bc"
            ]
          }
        },
        "c35fd9519bff4b258b4513635822c138": {
          "model_module": "@jupyter-widgets/base",
          "model_name": "LayoutModel",
          "state": {
            "_view_name": "LayoutView",
            "grid_template_rows": null,
            "right": null,
            "justify_content": null,
            "_view_module": "@jupyter-widgets/base",
            "overflow": null,
            "_model_module_version": "1.2.0",
            "_view_count": null,
            "flex_flow": null,
            "width": null,
            "min_width": null,
            "border": null,
            "align_items": null,
            "bottom": null,
            "_model_module": "@jupyter-widgets/base",
            "top": null,
            "grid_column": null,
            "overflow_y": null,
            "overflow_x": null,
            "grid_auto_flow": null,
            "grid_area": null,
            "grid_template_columns": null,
            "flex": null,
            "_model_name": "LayoutModel",
            "justify_items": null,
            "grid_row": null,
            "max_height": null,
            "align_content": null,
            "visibility": null,
            "align_self": null,
            "height": null,
            "min_height": null,
            "padding": null,
            "grid_auto_rows": null,
            "grid_gap": null,
            "max_width": null,
            "order": null,
            "_view_module_version": "1.2.0",
            "grid_template_areas": null,
            "object_position": null,
            "object_fit": null,
            "grid_auto_columns": null,
            "margin": null,
            "display": null,
            "left": null
          }
        },
        "752723c5d0e1424f85fa2e9fc10696d5": {
          "model_module": "@jupyter-widgets/controls",
          "model_name": "FloatProgressModel",
          "state": {
            "_view_name": "ProgressView",
            "style": "IPY_MODEL_203bedae211346b8ac879155d4dde1c4",
            "_dom_classes": [],
            "description": "Downloading: 100%",
            "_model_name": "FloatProgressModel",
            "bar_style": "success",
            "max": 760289,
            "_view_module": "@jupyter-widgets/controls",
            "_model_module_version": "1.5.0",
            "value": 760289,
            "_view_count": null,
            "_view_module_version": "1.5.0",
            "orientation": "horizontal",
            "min": 0,
            "description_tooltip": null,
            "_model_module": "@jupyter-widgets/controls",
            "layout": "IPY_MODEL_7afd63854b2841c9ba38921c557f1547"
          }
        },
        "c8ed0c569c844b2cb4a7c15d302a27bc": {
          "model_module": "@jupyter-widgets/controls",
          "model_name": "HTMLModel",
          "state": {
            "_view_name": "HTMLView",
            "style": "IPY_MODEL_7fae1bd5200e47c2bfd3973c34d1c553",
            "_dom_classes": [],
            "description": "",
            "_model_name": "HTMLModel",
            "placeholder": "​",
            "_view_module": "@jupyter-widgets/controls",
            "_model_module_version": "1.5.0",
            "value": " 760k/760k [00:00&lt;00:00, 2.35MB/s]",
            "_view_count": null,
            "_view_module_version": "1.5.0",
            "description_tooltip": null,
            "_model_module": "@jupyter-widgets/controls",
            "layout": "IPY_MODEL_fb2482d26ead422eaca70fc1ffbc35bc"
          }
        },
        "203bedae211346b8ac879155d4dde1c4": {
          "model_module": "@jupyter-widgets/controls",
          "model_name": "ProgressStyleModel",
          "state": {
            "_view_name": "StyleView",
            "_model_name": "ProgressStyleModel",
            "description_width": "initial",
            "_view_module": "@jupyter-widgets/base",
            "_model_module_version": "1.5.0",
            "_view_count": null,
            "_view_module_version": "1.2.0",
            "bar_color": null,
            "_model_module": "@jupyter-widgets/controls"
          }
        },
        "7afd63854b2841c9ba38921c557f1547": {
          "model_module": "@jupyter-widgets/base",
          "model_name": "LayoutModel",
          "state": {
            "_view_name": "LayoutView",
            "grid_template_rows": null,
            "right": null,
            "justify_content": null,
            "_view_module": "@jupyter-widgets/base",
            "overflow": null,
            "_model_module_version": "1.2.0",
            "_view_count": null,
            "flex_flow": null,
            "width": null,
            "min_width": null,
            "border": null,
            "align_items": null,
            "bottom": null,
            "_model_module": "@jupyter-widgets/base",
            "top": null,
            "grid_column": null,
            "overflow_y": null,
            "overflow_x": null,
            "grid_auto_flow": null,
            "grid_area": null,
            "grid_template_columns": null,
            "flex": null,
            "_model_name": "LayoutModel",
            "justify_items": null,
            "grid_row": null,
            "max_height": null,
            "align_content": null,
            "visibility": null,
            "align_self": null,
            "height": null,
            "min_height": null,
            "padding": null,
            "grid_auto_rows": null,
            "grid_gap": null,
            "max_width": null,
            "order": null,
            "_view_module_version": "1.2.0",
            "grid_template_areas": null,
            "object_position": null,
            "object_fit": null,
            "grid_auto_columns": null,
            "margin": null,
            "display": null,
            "left": null
          }
        },
        "7fae1bd5200e47c2bfd3973c34d1c553": {
          "model_module": "@jupyter-widgets/controls",
          "model_name": "DescriptionStyleModel",
          "state": {
            "_view_name": "StyleView",
            "_model_name": "DescriptionStyleModel",
            "description_width": "",
            "_view_module": "@jupyter-widgets/base",
            "_model_module_version": "1.5.0",
            "_view_count": null,
            "_view_module_version": "1.2.0",
            "_model_module": "@jupyter-widgets/controls"
          }
        },
        "fb2482d26ead422eaca70fc1ffbc35bc": {
          "model_module": "@jupyter-widgets/base",
          "model_name": "LayoutModel",
          "state": {
            "_view_name": "LayoutView",
            "grid_template_rows": null,
            "right": null,
            "justify_content": null,
            "_view_module": "@jupyter-widgets/base",
            "overflow": null,
            "_model_module_version": "1.2.0",
            "_view_count": null,
            "flex_flow": null,
            "width": null,
            "min_width": null,
            "border": null,
            "align_items": null,
            "bottom": null,
            "_model_module": "@jupyter-widgets/base",
            "top": null,
            "grid_column": null,
            "overflow_y": null,
            "overflow_x": null,
            "grid_auto_flow": null,
            "grid_area": null,
            "grid_template_columns": null,
            "flex": null,
            "_model_name": "LayoutModel",
            "justify_items": null,
            "grid_row": null,
            "max_height": null,
            "align_content": null,
            "visibility": null,
            "align_self": null,
            "height": null,
            "min_height": null,
            "padding": null,
            "grid_auto_rows": null,
            "grid_gap": null,
            "max_width": null,
            "order": null,
            "_view_module_version": "1.2.0",
            "grid_template_areas": null,
            "object_position": null,
            "object_fit": null,
            "grid_auto_columns": null,
            "margin": null,
            "display": null,
            "left": null
          }
        },
        "7bf778c684be43e68b3bbd4c9281acd8": {
          "model_module": "@jupyter-widgets/controls",
          "model_name": "HBoxModel",
          "state": {
            "_view_name": "HBoxView",
            "_dom_classes": [],
            "_model_name": "HBoxModel",
            "_view_module": "@jupyter-widgets/controls",
            "_model_module_version": "1.5.0",
            "_view_count": null,
            "_view_module_version": "1.5.0",
            "box_style": "",
            "layout": "IPY_MODEL_65418206266348c28984e412a8754791",
            "_model_module": "@jupyter-widgets/controls",
            "children": [
              "IPY_MODEL_f45c74fe95cc4ff0bbd1beeccacfceac",
              "IPY_MODEL_b736180e1cf44064999ce35d2202c504"
            ]
          }
        },
        "65418206266348c28984e412a8754791": {
          "model_module": "@jupyter-widgets/base",
          "model_name": "LayoutModel",
          "state": {
            "_view_name": "LayoutView",
            "grid_template_rows": null,
            "right": null,
            "justify_content": null,
            "_view_module": "@jupyter-widgets/base",
            "overflow": null,
            "_model_module_version": "1.2.0",
            "_view_count": null,
            "flex_flow": null,
            "width": null,
            "min_width": null,
            "border": null,
            "align_items": null,
            "bottom": null,
            "_model_module": "@jupyter-widgets/base",
            "top": null,
            "grid_column": null,
            "overflow_y": null,
            "overflow_x": null,
            "grid_auto_flow": null,
            "grid_area": null,
            "grid_template_columns": null,
            "flex": null,
            "_model_name": "LayoutModel",
            "justify_items": null,
            "grid_row": null,
            "max_height": null,
            "align_content": null,
            "visibility": null,
            "align_self": null,
            "height": null,
            "min_height": null,
            "padding": null,
            "grid_auto_rows": null,
            "grid_gap": null,
            "max_width": null,
            "order": null,
            "_view_module_version": "1.2.0",
            "grid_template_areas": null,
            "object_position": null,
            "object_fit": null,
            "grid_auto_columns": null,
            "margin": null,
            "display": null,
            "left": null
          }
        },
        "f45c74fe95cc4ff0bbd1beeccacfceac": {
          "model_module": "@jupyter-widgets/controls",
          "model_name": "FloatProgressModel",
          "state": {
            "_view_name": "ProgressView",
            "style": "IPY_MODEL_b3594f8239b140d5abfa2e850aab3385",
            "_dom_classes": [],
            "description": "Downloading: 100%",
            "_model_name": "FloatProgressModel",
            "bar_style": "success",
            "max": 710,
            "_view_module": "@jupyter-widgets/controls",
            "_model_module_version": "1.5.0",
            "value": 710,
            "_view_count": null,
            "_view_module_version": "1.5.0",
            "orientation": "horizontal",
            "min": 0,
            "description_tooltip": null,
            "_model_module": "@jupyter-widgets/controls",
            "layout": "IPY_MODEL_888135a97a844612b5a2a4987712158f"
          }
        },
        "b736180e1cf44064999ce35d2202c504": {
          "model_module": "@jupyter-widgets/controls",
          "model_name": "HTMLModel",
          "state": {
            "_view_name": "HTMLView",
            "style": "IPY_MODEL_bc8b59a57f1942409125f0507aa5bac2",
            "_dom_classes": [],
            "description": "",
            "_model_name": "HTMLModel",
            "placeholder": "​",
            "_view_module": "@jupyter-widgets/controls",
            "_model_module_version": "1.5.0",
            "value": " 710/710 [00:23&lt;00:00, 30.0B/s]",
            "_view_count": null,
            "_view_module_version": "1.5.0",
            "description_tooltip": null,
            "_model_module": "@jupyter-widgets/controls",
            "layout": "IPY_MODEL_8f93a7c089564376b98b04d344579fc0"
          }
        },
        "b3594f8239b140d5abfa2e850aab3385": {
          "model_module": "@jupyter-widgets/controls",
          "model_name": "ProgressStyleModel",
          "state": {
            "_view_name": "StyleView",
            "_model_name": "ProgressStyleModel",
            "description_width": "initial",
            "_view_module": "@jupyter-widgets/base",
            "_model_module_version": "1.5.0",
            "_view_count": null,
            "_view_module_version": "1.2.0",
            "bar_color": null,
            "_model_module": "@jupyter-widgets/controls"
          }
        },
        "888135a97a844612b5a2a4987712158f": {
          "model_module": "@jupyter-widgets/base",
          "model_name": "LayoutModel",
          "state": {
            "_view_name": "LayoutView",
            "grid_template_rows": null,
            "right": null,
            "justify_content": null,
            "_view_module": "@jupyter-widgets/base",
            "overflow": null,
            "_model_module_version": "1.2.0",
            "_view_count": null,
            "flex_flow": null,
            "width": null,
            "min_width": null,
            "border": null,
            "align_items": null,
            "bottom": null,
            "_model_module": "@jupyter-widgets/base",
            "top": null,
            "grid_column": null,
            "overflow_y": null,
            "overflow_x": null,
            "grid_auto_flow": null,
            "grid_area": null,
            "grid_template_columns": null,
            "flex": null,
            "_model_name": "LayoutModel",
            "justify_items": null,
            "grid_row": null,
            "max_height": null,
            "align_content": null,
            "visibility": null,
            "align_self": null,
            "height": null,
            "min_height": null,
            "padding": null,
            "grid_auto_rows": null,
            "grid_gap": null,
            "max_width": null,
            "order": null,
            "_view_module_version": "1.2.0",
            "grid_template_areas": null,
            "object_position": null,
            "object_fit": null,
            "grid_auto_columns": null,
            "margin": null,
            "display": null,
            "left": null
          }
        },
        "bc8b59a57f1942409125f0507aa5bac2": {
          "model_module": "@jupyter-widgets/controls",
          "model_name": "DescriptionStyleModel",
          "state": {
            "_view_name": "StyleView",
            "_model_name": "DescriptionStyleModel",
            "description_width": "",
            "_view_module": "@jupyter-widgets/base",
            "_model_module_version": "1.5.0",
            "_view_count": null,
            "_view_module_version": "1.2.0",
            "_model_module": "@jupyter-widgets/controls"
          }
        },
        "8f93a7c089564376b98b04d344579fc0": {
          "model_module": "@jupyter-widgets/base",
          "model_name": "LayoutModel",
          "state": {
            "_view_name": "LayoutView",
            "grid_template_rows": null,
            "right": null,
            "justify_content": null,
            "_view_module": "@jupyter-widgets/base",
            "overflow": null,
            "_model_module_version": "1.2.0",
            "_view_count": null,
            "flex_flow": null,
            "width": null,
            "min_width": null,
            "border": null,
            "align_items": null,
            "bottom": null,
            "_model_module": "@jupyter-widgets/base",
            "top": null,
            "grid_column": null,
            "overflow_y": null,
            "overflow_x": null,
            "grid_auto_flow": null,
            "grid_area": null,
            "grid_template_columns": null,
            "flex": null,
            "_model_name": "LayoutModel",
            "justify_items": null,
            "grid_row": null,
            "max_height": null,
            "align_content": null,
            "visibility": null,
            "align_self": null,
            "height": null,
            "min_height": null,
            "padding": null,
            "grid_auto_rows": null,
            "grid_gap": null,
            "max_width": null,
            "order": null,
            "_view_module_version": "1.2.0",
            "grid_template_areas": null,
            "object_position": null,
            "object_fit": null,
            "grid_auto_columns": null,
            "margin": null,
            "display": null,
            "left": null
          }
        },
        "8780a4ea8af143a6a75e24946aff4a0d": {
          "model_module": "@jupyter-widgets/controls",
          "model_name": "HBoxModel",
          "state": {
            "_view_name": "HBoxView",
            "_dom_classes": [],
            "_model_name": "HBoxModel",
            "_view_module": "@jupyter-widgets/controls",
            "_model_module_version": "1.5.0",
            "_view_count": null,
            "_view_module_version": "1.5.0",
            "box_style": "",
            "layout": "IPY_MODEL_e3ed52512fde42398d8b23d9aa4ebacf",
            "_model_module": "@jupyter-widgets/controls",
            "children": [
              "IPY_MODEL_51ef6714cd86400d8f300c00612ed559",
              "IPY_MODEL_4a5d12a5dc074598ba5bedfa72b3a996"
            ]
          }
        },
        "e3ed52512fde42398d8b23d9aa4ebacf": {
          "model_module": "@jupyter-widgets/base",
          "model_name": "LayoutModel",
          "state": {
            "_view_name": "LayoutView",
            "grid_template_rows": null,
            "right": null,
            "justify_content": null,
            "_view_module": "@jupyter-widgets/base",
            "overflow": null,
            "_model_module_version": "1.2.0",
            "_view_count": null,
            "flex_flow": null,
            "width": null,
            "min_width": null,
            "border": null,
            "align_items": null,
            "bottom": null,
            "_model_module": "@jupyter-widgets/base",
            "top": null,
            "grid_column": null,
            "overflow_y": null,
            "overflow_x": null,
            "grid_auto_flow": null,
            "grid_area": null,
            "grid_template_columns": null,
            "flex": null,
            "_model_name": "LayoutModel",
            "justify_items": null,
            "grid_row": null,
            "max_height": null,
            "align_content": null,
            "visibility": null,
            "align_self": null,
            "height": null,
            "min_height": null,
            "padding": null,
            "grid_auto_rows": null,
            "grid_gap": null,
            "max_width": null,
            "order": null,
            "_view_module_version": "1.2.0",
            "grid_template_areas": null,
            "object_position": null,
            "object_fit": null,
            "grid_auto_columns": null,
            "margin": null,
            "display": null,
            "left": null
          }
        },
        "51ef6714cd86400d8f300c00612ed559": {
          "model_module": "@jupyter-widgets/controls",
          "model_name": "FloatProgressModel",
          "state": {
            "_view_name": "ProgressView",
            "style": "IPY_MODEL_927002f4cd6d4ec5a8e244633f89a5d7",
            "_dom_classes": [],
            "description": "Downloading: 100%",
            "_model_name": "FloatProgressModel",
            "bar_style": "success",
            "max": 892728632,
            "_view_module": "@jupyter-widgets/controls",
            "_model_module_version": "1.5.0",
            "value": 892728632,
            "_view_count": null,
            "_view_module_version": "1.5.0",
            "orientation": "horizontal",
            "min": 0,
            "description_tooltip": null,
            "_model_module": "@jupyter-widgets/controls",
            "layout": "IPY_MODEL_49c185ba798e4f89a9e6b36886d30a11"
          }
        },
        "4a5d12a5dc074598ba5bedfa72b3a996": {
          "model_module": "@jupyter-widgets/controls",
          "model_name": "HTMLModel",
          "state": {
            "_view_name": "HTMLView",
            "style": "IPY_MODEL_3df0d021f8b04a1eb13d486a6af2b5a2",
            "_dom_classes": [],
            "description": "",
            "_model_name": "HTMLModel",
            "placeholder": "​",
            "_view_module": "@jupyter-widgets/controls",
            "_model_module_version": "1.5.0",
            "value": " 893M/893M [00:22&lt;00:00, 39.1MB/s]",
            "_view_count": null,
            "_view_module_version": "1.5.0",
            "description_tooltip": null,
            "_model_module": "@jupyter-widgets/controls",
            "layout": "IPY_MODEL_7497ba2475334b3685ba60a2a2d426b3"
          }
        },
        "927002f4cd6d4ec5a8e244633f89a5d7": {
          "model_module": "@jupyter-widgets/controls",
          "model_name": "ProgressStyleModel",
          "state": {
            "_view_name": "StyleView",
            "_model_name": "ProgressStyleModel",
            "description_width": "initial",
            "_view_module": "@jupyter-widgets/base",
            "_model_module_version": "1.5.0",
            "_view_count": null,
            "_view_module_version": "1.2.0",
            "bar_color": null,
            "_model_module": "@jupyter-widgets/controls"
          }
        },
        "49c185ba798e4f89a9e6b36886d30a11": {
          "model_module": "@jupyter-widgets/base",
          "model_name": "LayoutModel",
          "state": {
            "_view_name": "LayoutView",
            "grid_template_rows": null,
            "right": null,
            "justify_content": null,
            "_view_module": "@jupyter-widgets/base",
            "overflow": null,
            "_model_module_version": "1.2.0",
            "_view_count": null,
            "flex_flow": null,
            "width": null,
            "min_width": null,
            "border": null,
            "align_items": null,
            "bottom": null,
            "_model_module": "@jupyter-widgets/base",
            "top": null,
            "grid_column": null,
            "overflow_y": null,
            "overflow_x": null,
            "grid_auto_flow": null,
            "grid_area": null,
            "grid_template_columns": null,
            "flex": null,
            "_model_name": "LayoutModel",
            "justify_items": null,
            "grid_row": null,
            "max_height": null,
            "align_content": null,
            "visibility": null,
            "align_self": null,
            "height": null,
            "min_height": null,
            "padding": null,
            "grid_auto_rows": null,
            "grid_gap": null,
            "max_width": null,
            "order": null,
            "_view_module_version": "1.2.0",
            "grid_template_areas": null,
            "object_position": null,
            "object_fit": null,
            "grid_auto_columns": null,
            "margin": null,
            "display": null,
            "left": null
          }
        },
        "3df0d021f8b04a1eb13d486a6af2b5a2": {
          "model_module": "@jupyter-widgets/controls",
          "model_name": "DescriptionStyleModel",
          "state": {
            "_view_name": "StyleView",
            "_model_name": "DescriptionStyleModel",
            "description_width": "",
            "_view_module": "@jupyter-widgets/base",
            "_model_module_version": "1.5.0",
            "_view_count": null,
            "_view_module_version": "1.2.0",
            "_model_module": "@jupyter-widgets/controls"
          }
        },
        "7497ba2475334b3685ba60a2a2d426b3": {
          "model_module": "@jupyter-widgets/base",
          "model_name": "LayoutModel",
          "state": {
            "_view_name": "LayoutView",
            "grid_template_rows": null,
            "right": null,
            "justify_content": null,
            "_view_module": "@jupyter-widgets/base",
            "overflow": null,
            "_model_module_version": "1.2.0",
            "_view_count": null,
            "flex_flow": null,
            "width": null,
            "min_width": null,
            "border": null,
            "align_items": null,
            "bottom": null,
            "_model_module": "@jupyter-widgets/base",
            "top": null,
            "grid_column": null,
            "overflow_y": null,
            "overflow_x": null,
            "grid_auto_flow": null,
            "grid_area": null,
            "grid_template_columns": null,
            "flex": null,
            "_model_name": "LayoutModel",
            "justify_items": null,
            "grid_row": null,
            "max_height": null,
            "align_content": null,
            "visibility": null,
            "align_self": null,
            "height": null,
            "min_height": null,
            "padding": null,
            "grid_auto_rows": null,
            "grid_gap": null,
            "max_width": null,
            "order": null,
            "_view_module_version": "1.2.0",
            "grid_template_areas": null,
            "object_position": null,
            "object_fit": null,
            "grid_auto_columns": null,
            "margin": null,
            "display": null,
            "left": null
          }
        }
      }
    },
    "accelerator": "GPU"
  },
  "cells": [
    {
      "cell_type": "code",
      "metadata": {
        "colab": {
          "base_uri": "https://localhost:8080/"
        },
        "id": "qsfg6RTYC-0k",
        "outputId": "bf46c3f3-53b4-4bfa-830d-153df3c484bb"
      },
      "source": [
        "!pip install transformers"
      ],
      "execution_count": 2,
      "outputs": [
        {
          "output_type": "stream",
          "text": [
            "Requirement already satisfied: transformers in /usr/local/lib/python3.6/dist-packages (4.3.2)\n",
            "Requirement already satisfied: importlib-metadata; python_version < \"3.8\" in /usr/local/lib/python3.6/dist-packages (from transformers) (3.4.0)\n",
            "Requirement already satisfied: dataclasses; python_version < \"3.7\" in /usr/local/lib/python3.6/dist-packages (from transformers) (0.8)\n",
            "Requirement already satisfied: filelock in /usr/local/lib/python3.6/dist-packages (from transformers) (3.0.12)\n",
            "Requirement already satisfied: packaging in /usr/local/lib/python3.6/dist-packages (from transformers) (20.9)\n",
            "Requirement already satisfied: requests in /usr/local/lib/python3.6/dist-packages (from transformers) (2.23.0)\n",
            "Requirement already satisfied: tqdm>=4.27 in /usr/local/lib/python3.6/dist-packages (from transformers) (4.41.1)\n",
            "Requirement already satisfied: tokenizers<0.11,>=0.10.1 in /usr/local/lib/python3.6/dist-packages (from transformers) (0.10.1)\n",
            "Requirement already satisfied: sacremoses in /usr/local/lib/python3.6/dist-packages (from transformers) (0.0.43)\n",
            "Requirement already satisfied: regex!=2019.12.17 in /usr/local/lib/python3.6/dist-packages (from transformers) (2019.12.20)\n",
            "Requirement already satisfied: numpy>=1.17 in /usr/local/lib/python3.6/dist-packages (from transformers) (1.19.5)\n",
            "Requirement already satisfied: typing-extensions>=3.6.4; python_version < \"3.8\" in /usr/local/lib/python3.6/dist-packages (from importlib-metadata; python_version < \"3.8\"->transformers) (3.7.4.3)\n",
            "Requirement already satisfied: zipp>=0.5 in /usr/local/lib/python3.6/dist-packages (from importlib-metadata; python_version < \"3.8\"->transformers) (3.4.0)\n",
            "Requirement already satisfied: pyparsing>=2.0.2 in /usr/local/lib/python3.6/dist-packages (from packaging->transformers) (2.4.7)\n",
            "Requirement already satisfied: certifi>=2017.4.17 in /usr/local/lib/python3.6/dist-packages (from requests->transformers) (2020.12.5)\n",
            "Requirement already satisfied: chardet<4,>=3.0.2 in /usr/local/lib/python3.6/dist-packages (from requests->transformers) (3.0.4)\n",
            "Requirement already satisfied: idna<3,>=2.5 in /usr/local/lib/python3.6/dist-packages (from requests->transformers) (2.10)\n",
            "Requirement already satisfied: urllib3!=1.25.0,!=1.25.1,<1.26,>=1.21.1 in /usr/local/lib/python3.6/dist-packages (from requests->transformers) (1.24.3)\n",
            "Requirement already satisfied: joblib in /usr/local/lib/python3.6/dist-packages (from sacremoses->transformers) (1.0.0)\n",
            "Requirement already satisfied: six in /usr/local/lib/python3.6/dist-packages (from sacremoses->transformers) (1.15.0)\n",
            "Requirement already satisfied: click in /usr/local/lib/python3.6/dist-packages (from sacremoses->transformers) (7.1.2)\n"
          ],
          "name": "stdout"
        }
      ]
    },
    {
      "cell_type": "code",
      "metadata": {
        "colab": {
          "base_uri": "https://localhost:8080/"
        },
        "id": "EX2aVsKdLmxx",
        "outputId": "a74bdb35-6403-47ec-ebbb-d13d0f5fd0c9"
      },
      "source": [
        "!pip install sentencepiece"
      ],
      "execution_count": 3,
      "outputs": [
        {
          "output_type": "stream",
          "text": [
            "Collecting sentencepiece\n",
            "\u001b[?25l  Downloading https://files.pythonhosted.org/packages/14/67/e42bd1181472c95c8cda79305df848264f2a7f62740995a46945d9797b67/sentencepiece-0.1.95-cp36-cp36m-manylinux2014_x86_64.whl (1.2MB)\n",
            "\r\u001b[K     |▎                               | 10kB 20.3MB/s eta 0:00:01\r\u001b[K     |▌                               | 20kB 16.6MB/s eta 0:00:01\r\u001b[K     |▉                               | 30kB 13.6MB/s eta 0:00:01\r\u001b[K     |█                               | 40kB 13.1MB/s eta 0:00:01\r\u001b[K     |█▍                              | 51kB 9.3MB/s eta 0:00:01\r\u001b[K     |█▋                              | 61kB 10.0MB/s eta 0:00:01\r\u001b[K     |██                              | 71kB 9.7MB/s eta 0:00:01\r\u001b[K     |██▏                             | 81kB 10.7MB/s eta 0:00:01\r\u001b[K     |██▌                             | 92kB 10.2MB/s eta 0:00:01\r\u001b[K     |██▊                             | 102kB 9.0MB/s eta 0:00:01\r\u001b[K     |███                             | 112kB 9.0MB/s eta 0:00:01\r\u001b[K     |███▎                            | 122kB 9.0MB/s eta 0:00:01\r\u001b[K     |███▌                            | 133kB 9.0MB/s eta 0:00:01\r\u001b[K     |███▉                            | 143kB 9.0MB/s eta 0:00:01\r\u001b[K     |████                            | 153kB 9.0MB/s eta 0:00:01\r\u001b[K     |████▍                           | 163kB 9.0MB/s eta 0:00:01\r\u001b[K     |████▋                           | 174kB 9.0MB/s eta 0:00:01\r\u001b[K     |█████                           | 184kB 9.0MB/s eta 0:00:01\r\u001b[K     |█████▏                          | 194kB 9.0MB/s eta 0:00:01\r\u001b[K     |█████▌                          | 204kB 9.0MB/s eta 0:00:01\r\u001b[K     |█████▊                          | 215kB 9.0MB/s eta 0:00:01\r\u001b[K     |██████                          | 225kB 9.0MB/s eta 0:00:01\r\u001b[K     |██████▎                         | 235kB 9.0MB/s eta 0:00:01\r\u001b[K     |██████▌                         | 245kB 9.0MB/s eta 0:00:01\r\u001b[K     |██████▉                         | 256kB 9.0MB/s eta 0:00:01\r\u001b[K     |███████                         | 266kB 9.0MB/s eta 0:00:01\r\u001b[K     |███████▍                        | 276kB 9.0MB/s eta 0:00:01\r\u001b[K     |███████▋                        | 286kB 9.0MB/s eta 0:00:01\r\u001b[K     |████████                        | 296kB 9.0MB/s eta 0:00:01\r\u001b[K     |████████▏                       | 307kB 9.0MB/s eta 0:00:01\r\u001b[K     |████████▍                       | 317kB 9.0MB/s eta 0:00:01\r\u001b[K     |████████▊                       | 327kB 9.0MB/s eta 0:00:01\r\u001b[K     |█████████                       | 337kB 9.0MB/s eta 0:00:01\r\u001b[K     |█████████▎                      | 348kB 9.0MB/s eta 0:00:01\r\u001b[K     |█████████▌                      | 358kB 9.0MB/s eta 0:00:01\r\u001b[K     |█████████▉                      | 368kB 9.0MB/s eta 0:00:01\r\u001b[K     |██████████                      | 378kB 9.0MB/s eta 0:00:01\r\u001b[K     |██████████▍                     | 389kB 9.0MB/s eta 0:00:01\r\u001b[K     |██████████▋                     | 399kB 9.0MB/s eta 0:00:01\r\u001b[K     |███████████                     | 409kB 9.0MB/s eta 0:00:01\r\u001b[K     |███████████▏                    | 419kB 9.0MB/s eta 0:00:01\r\u001b[K     |███████████▍                    | 430kB 9.0MB/s eta 0:00:01\r\u001b[K     |███████████▊                    | 440kB 9.0MB/s eta 0:00:01\r\u001b[K     |████████████                    | 450kB 9.0MB/s eta 0:00:01\r\u001b[K     |████████████▎                   | 460kB 9.0MB/s eta 0:00:01\r\u001b[K     |████████████▌                   | 471kB 9.0MB/s eta 0:00:01\r\u001b[K     |████████████▉                   | 481kB 9.0MB/s eta 0:00:01\r\u001b[K     |█████████████                   | 491kB 9.0MB/s eta 0:00:01\r\u001b[K     |█████████████▍                  | 501kB 9.0MB/s eta 0:00:01\r\u001b[K     |█████████████▋                  | 512kB 9.0MB/s eta 0:00:01\r\u001b[K     |█████████████▉                  | 522kB 9.0MB/s eta 0:00:01\r\u001b[K     |██████████████▏                 | 532kB 9.0MB/s eta 0:00:01\r\u001b[K     |██████████████▍                 | 542kB 9.0MB/s eta 0:00:01\r\u001b[K     |██████████████▊                 | 552kB 9.0MB/s eta 0:00:01\r\u001b[K     |███████████████                 | 563kB 9.0MB/s eta 0:00:01\r\u001b[K     |███████████████▎                | 573kB 9.0MB/s eta 0:00:01\r\u001b[K     |███████████████▌                | 583kB 9.0MB/s eta 0:00:01\r\u001b[K     |███████████████▉                | 593kB 9.0MB/s eta 0:00:01\r\u001b[K     |████████████████                | 604kB 9.0MB/s eta 0:00:01\r\u001b[K     |████████████████▍               | 614kB 9.0MB/s eta 0:00:01\r\u001b[K     |████████████████▋               | 624kB 9.0MB/s eta 0:00:01\r\u001b[K     |████████████████▉               | 634kB 9.0MB/s eta 0:00:01\r\u001b[K     |█████████████████▏              | 645kB 9.0MB/s eta 0:00:01\r\u001b[K     |█████████████████▍              | 655kB 9.0MB/s eta 0:00:01\r\u001b[K     |█████████████████▊              | 665kB 9.0MB/s eta 0:00:01\r\u001b[K     |██████████████████              | 675kB 9.0MB/s eta 0:00:01\r\u001b[K     |██████████████████▎             | 686kB 9.0MB/s eta 0:00:01\r\u001b[K     |██████████████████▌             | 696kB 9.0MB/s eta 0:00:01\r\u001b[K     |██████████████████▉             | 706kB 9.0MB/s eta 0:00:01\r\u001b[K     |███████████████████             | 716kB 9.0MB/s eta 0:00:01\r\u001b[K     |███████████████████▎            | 727kB 9.0MB/s eta 0:00:01\r\u001b[K     |███████████████████▋            | 737kB 9.0MB/s eta 0:00:01\r\u001b[K     |███████████████████▉            | 747kB 9.0MB/s eta 0:00:01\r\u001b[K     |████████████████████▏           | 757kB 9.0MB/s eta 0:00:01\r\u001b[K     |████████████████████▍           | 768kB 9.0MB/s eta 0:00:01\r\u001b[K     |████████████████████▊           | 778kB 9.0MB/s eta 0:00:01\r\u001b[K     |█████████████████████           | 788kB 9.0MB/s eta 0:00:01\r\u001b[K     |█████████████████████▎          | 798kB 9.0MB/s eta 0:00:01\r\u001b[K     |█████████████████████▌          | 808kB 9.0MB/s eta 0:00:01\r\u001b[K     |█████████████████████▉          | 819kB 9.0MB/s eta 0:00:01\r\u001b[K     |██████████████████████          | 829kB 9.0MB/s eta 0:00:01\r\u001b[K     |██████████████████████▎         | 839kB 9.0MB/s eta 0:00:01\r\u001b[K     |██████████████████████▋         | 849kB 9.0MB/s eta 0:00:01\r\u001b[K     |██████████████████████▉         | 860kB 9.0MB/s eta 0:00:01\r\u001b[K     |███████████████████████▏        | 870kB 9.0MB/s eta 0:00:01\r\u001b[K     |███████████████████████▍        | 880kB 9.0MB/s eta 0:00:01\r\u001b[K     |███████████████████████▊        | 890kB 9.0MB/s eta 0:00:01\r\u001b[K     |████████████████████████        | 901kB 9.0MB/s eta 0:00:01\r\u001b[K     |████████████████████████▎       | 911kB 9.0MB/s eta 0:00:01\r\u001b[K     |████████████████████████▌       | 921kB 9.0MB/s eta 0:00:01\r\u001b[K     |████████████████████████▊       | 931kB 9.0MB/s eta 0:00:01\r\u001b[K     |█████████████████████████       | 942kB 9.0MB/s eta 0:00:01\r\u001b[K     |█████████████████████████▎      | 952kB 9.0MB/s eta 0:00:01\r\u001b[K     |█████████████████████████▋      | 962kB 9.0MB/s eta 0:00:01\r\u001b[K     |█████████████████████████▉      | 972kB 9.0MB/s eta 0:00:01\r\u001b[K     |██████████████████████████▏     | 983kB 9.0MB/s eta 0:00:01\r\u001b[K     |██████████████████████████▍     | 993kB 9.0MB/s eta 0:00:01\r\u001b[K     |██████████████████████████▊     | 1.0MB 9.0MB/s eta 0:00:01\r\u001b[K     |███████████████████████████     | 1.0MB 9.0MB/s eta 0:00:01\r\u001b[K     |███████████████████████████▎    | 1.0MB 9.0MB/s eta 0:00:01\r\u001b[K     |███████████████████████████▌    | 1.0MB 9.0MB/s eta 0:00:01\r\u001b[K     |███████████████████████████▊    | 1.0MB 9.0MB/s eta 0:00:01\r\u001b[K     |████████████████████████████    | 1.1MB 9.0MB/s eta 0:00:01\r\u001b[K     |████████████████████████████▎   | 1.1MB 9.0MB/s eta 0:00:01\r\u001b[K     |████████████████████████████▋   | 1.1MB 9.0MB/s eta 0:00:01\r\u001b[K     |████████████████████████████▉   | 1.1MB 9.0MB/s eta 0:00:01\r\u001b[K     |█████████████████████████████▏  | 1.1MB 9.0MB/s eta 0:00:01\r\u001b[K     |█████████████████████████████▍  | 1.1MB 9.0MB/s eta 0:00:01\r\u001b[K     |█████████████████████████████▊  | 1.1MB 9.0MB/s eta 0:00:01\r\u001b[K     |██████████████████████████████  | 1.1MB 9.0MB/s eta 0:00:01\r\u001b[K     |██████████████████████████████▏ | 1.1MB 9.0MB/s eta 0:00:01\r\u001b[K     |██████████████████████████████▌ | 1.1MB 9.0MB/s eta 0:00:01\r\u001b[K     |██████████████████████████████▊ | 1.2MB 9.0MB/s eta 0:00:01\r\u001b[K     |███████████████████████████████ | 1.2MB 9.0MB/s eta 0:00:01\r\u001b[K     |███████████████████████████████▎| 1.2MB 9.0MB/s eta 0:00:01\r\u001b[K     |███████████████████████████████▋| 1.2MB 9.0MB/s eta 0:00:01\r\u001b[K     |███████████████████████████████▉| 1.2MB 9.0MB/s eta 0:00:01\r\u001b[K     |████████████████████████████████| 1.2MB 9.0MB/s \n",
            "\u001b[?25hInstalling collected packages: sentencepiece\n",
            "Successfully installed sentencepiece-0.1.95\n"
          ],
          "name": "stdout"
        }
      ]
    },
    {
      "cell_type": "code",
      "metadata": {
        "id": "76tN3SJ_CMHA"
      },
      "source": [
        "import logging\n",
        "import os\n",
        "import argparse\n",
        "import random\n",
        "from tqdm import tqdm, trange\n",
        "import csv\n",
        "\n",
        "import numpy as np\n",
        "import sys\n",
        "import matplotlib.pyplot as plt\n",
        "import sentencepiece\n",
        "import torch\n",
        "from torch.utils.data import TensorDataset, DataLoader, RandomSampler, SequentialSampler\n",
        "from torch.utils.data.distributed import DistributedSampler\n",
        "\n",
        "\n",
        "logging.basicConfig(format = '%(asctime)s - %(levelname)s - %(name)s -   %(message)s',\n",
        "                    datefmt = '%m/%d/%Y %H:%M:%S',\n",
        "                    level = logging.INFO)\n",
        "logger = logging.getLogger(__name__)"
      ],
      "execution_count": 4,
      "outputs": []
    },
    {
      "cell_type": "code",
      "metadata": {
        "id": "ZlcIcjL9THCy"
      },
      "source": [
        "# Arguments\n",
        "max_seq_length = 256\n",
        "train_batch_size = 16\n",
        "eval_batch_size = 8       \n",
        "learning_rate = 5e-5      \n",
        "num_train_epochs = 3            # Epochs - less epochs to be used for BERT\n",
        "warmup_proportion = 0.1         # How to use?\n",
        "seed = 42                       # Random seed\n",
        "local_rank = -1\n",
        "optimize_on_cpu = False          # Whether to perform optimization and keep the optimizer averages on CPU\n",
        "fp16 = False                    # Whether to use 16-bit float precision instead of 32-bit\n",
        "loss_scale = 128                # Loss scaling, positive power of 2 values can improve fp16 convergence\n",
        "gradient_accumulation_steps = 4 \n",
        "model_checkpoint = False"
      ],
      "execution_count": 5,
      "outputs": []
    },
    {
      "cell_type": "code",
      "metadata": {
        "id": "h1mfX4TLTUqs"
      },
      "source": [
        "#FILES : \n",
        "\n",
        "task1_train = 'Task1_train.csv'\n",
        "task1_dev = 'Task1_dev.csv'\n",
        "task2_train = 'Task2_train.csv'\n",
        "task2_dev = 'Task2_dev.csv'"
      ],
      "execution_count": 6,
      "outputs": []
    },
    {
      "cell_type": "markdown",
      "metadata": {
        "id": "zTqSNOW5TiqW"
      },
      "source": [
        "**Necessory FUNCTIONS : **\n",
        "\n",
        "\n",
        "---\n",
        "\n",
        "\n"
      ]
    },
    {
      "cell_type": "code",
      "metadata": {
        "id": "77P2ucJPHsZk"
      },
      "source": [
        "def read_examples(input_file):\n",
        "\n",
        "    with open(input_file, 'r', encoding='utf-8') as f:\n",
        "        reader = csv.reader(f)\n",
        "        lines = list(reader)\n",
        "\n",
        "    examples = [\n",
        "        {\n",
        "            \"article\" : line[0],\n",
        "            \"question\" : line[1],\n",
        "\n",
        "            \"options\" : [line[2], line[3], line[4], line[5], line[6]],\n",
        "         \n",
        "            \"label\" : int(line[7]) \n",
        "         } for line in lines[1:]    # we skip the line with the column names\n",
        "    ]\n",
        "    return examples\n",
        "\n",
        "\n",
        "\n",
        "class InputFeatures(object):\n",
        "    def __init__(self, features , lm_labels, options, label):\n",
        "        # We didn't stored tokens in features\n",
        "        self.choices_features = [\n",
        "            {\n",
        "                'input_ids': input_ids,\n",
        "                'input_mask': input_mask,\n",
        "                'segment_ids': segment_ids\n",
        "            }\n",
        "            for _, input_ids, input_mask, segment_ids in features \n",
        "        ]\n",
        "\n",
        "        self.lm_labels = lm_labels\n",
        "        self.options = options\n",
        "        self.label = label\n",
        "\n",
        "\n",
        "def _truncate_seq_pair(tokens_a, tokens_b, max_length):\n",
        "    \"\"\"Truncates a sequence pair in place !\n",
        "    Both article and question are truncated from end\"\"\"\n",
        "\n",
        "    # This is a simple heuristic which will always truncate the longer sequence\n",
        "    # one token at a time. This makes more sense than truncating an equal percent\n",
        "    # of tokens from each, since if one sequence is very short then each token\n",
        "    # that's truncated likely contains more information than a longer sequence.\n",
        "    while True:\n",
        "        total_length = len(tokens_a) + len(tokens_b)\n",
        "        if total_length <= max_length:\n",
        "            break\n",
        "        if len(tokens_a) > len(tokens_b):\n",
        "            tokens_a.pop()\n",
        "        else:\n",
        "            tokens_b.pop()\n"
      ],
      "execution_count": 7,
      "outputs": []
    },
    {
      "cell_type": "code",
      "metadata": {
        "id": "gfiG5kgrT_W2"
      },
      "source": [
        "def convert_examples_to_features(examples, tokenizer, max_seq_length):\n",
        "    \"\"\"Loads a data file into a list of `InputBatch`s.\"\"\"\n",
        "    \n",
        "    features = []\n",
        "    num_tokens_article = []\n",
        "    count = 0\n",
        "    masking_token_id = tokenizer.mask_token_id\n",
        "\n",
        "    for example_index, example in enumerate(examples):\n",
        "        # Article Truncated from beginning and not end!\n",
        "        choices_features = []\n",
        "\n",
        "        article_tokens = tokenizer.tokenize(example['article'])\n",
        "        ques_tokens = tokenizer.tokenize(example['question'].replace(\"@placeholder\", tokenizer.mask_token))\n",
        "\n",
        "        options = []\n",
        "        for c in example['options']:\n",
        "            options.append(tokenizer.convert_tokens_to_ids(tokenizer.tokenize(c))[0])\n",
        "        \n",
        "        # Truncate Article now        \n",
        "        _truncate_seq_pair(article_tokens, ques_tokens, max_seq_length - 1)\n",
        "\n",
        "        # tokens = ques_tokens + [tokenizer.sep_token] + article_tokens + [tokenizer.sep_token]\n",
        "        # segment_ids = [0] * (len(ques_tokens) + 1) + [1] * (len(article_tokens) + 1)          # Segment Id's 0 -> Ques and 1 -> Article\n",
        "\n",
        "        tokens = ques_tokens + [tokenizer.sep_token]\n",
        "        segment_ids = [0] * (len(ques_tokens) + 1) \n",
        "\n",
        "        input_ids = tokenizer.convert_tokens_to_ids(tokens)                                   \n",
        "        input_mask = [1] * len(input_ids)\n",
        "        padding = [0] * (max_seq_length - len(input_ids))\n",
        "        input_ids += [tokenizer.pad_token_id] * (len(padding))\n",
        "        input_mask += padding\n",
        "        segment_ids += padding\n",
        "\n",
        "        # Heuristic : Loss calculated only for Masked Token!\n",
        "        lm_labels = [-100 if t_id != masking_token_id else tokenizer.convert_tokens_to_ids(tokenizer.tokenize(example['options'][example['label']]))[0] for t_id in input_ids]\n",
        "\n",
        "        assert len(input_ids) == max_seq_length\n",
        "        assert len(input_mask) == max_seq_length\n",
        "        assert len(segment_ids) == max_seq_length\n",
        "        assert len(lm_labels) == max_seq_length\n",
        "        choices_features.append((tokens, input_ids, input_mask, segment_ids))\n",
        "        # *------------------------------------------------------------------------------------------------------------------*\n",
        "        # Truncate article from start!\n",
        "        # article_tokens = tokenizer.tokenize(example['article'])\n",
        "        # ques_tokens = tokenizer.tokenize(example['question'].replace(\"@placeholder\", \"_\"))\n",
        "        # ques_tokens[masked_index] = '[MASK]'\n",
        "\n",
        "        # choices_features2 = []\n",
        "        # _truncate_seq_pair2(article_tokens, ques_tokens, max_seq_length - 2)\n",
        "\n",
        "        # tokens = ques_tokens + [\"[SEP]\"] + article_tokens + [\"[SEP]\"]\n",
        "        # segment_ids = [0] * (len(ques_tokens) + 1) + [1] * (len(article_tokens) + 1)\n",
        "        # input_ids = tokenizer.convert_tokens_to_ids(tokens)\n",
        "        # input_mask = [1] * len(input_ids)\n",
        "        # padding = [0] * (max_seq_length - len(input_ids))\n",
        "        # input_ids += padding\n",
        "        # input_mask += padding\n",
        "        # segment_ids += padding\n",
        "        # lm_labels = [-1 if t_id != masking_token_id else tokenizer.convert_tokens_to_ids(tokenizer.tokenize(example['options'][example['label']]))[0] for t_id in input_ids]\n",
        "\n",
        "        # assert len(input_ids) == max_seq_length\n",
        "        # assert len(input_mask) == max_seq_length\n",
        "        # assert len(segment_ids) == max_seq_length\n",
        "        # assert len(lm_labels) == max_seq_length\n",
        "\n",
        "        # choices_features2.append((tokens, input_ids, input_mask, segment_ids))\n",
        "\n",
        "        features.append(\n",
        "            InputFeatures(\n",
        "                features = choices_features,\n",
        "                lm_labels = lm_labels,\n",
        "                options = options,\n",
        "                label = example['label']\n",
        "            )\n",
        "        )\n",
        "    \n",
        "    return features\n",
        "\n",
        "\n",
        "\n",
        "                                                                                                  \n",
        "                "
      ],
      "execution_count": 12,
      "outputs": []
    },
    {
      "cell_type": "code",
      "metadata": {
        "id": "ecpp23byUD2l"
      },
      "source": [
        "def copy_optimizer_params_to_model(named_params_model, named_params_optimizer):\n",
        "    \"\"\" Utility function for optimize_on_cpu and 16-bits training.\n",
        "        Copy the parameters optimized on CPU/RAM back to the model on GPU\n",
        "    \"\"\"\n",
        "    for (name_opti, param_opti), (name_model, param_model) in zip(named_params_optimizer, named_params_model):\n",
        "        if name_opti != name_model:\n",
        "            logger.error(\"name_opti != name_model: {} {}\".format(name_opti, name_model))\n",
        "            raise ValueError\n",
        "        param_model.data.copy_(param_opti.data)\n",
        "\n",
        "        \n",
        "def set_optimizer_params_grad(named_params_optimizer, named_params_model, test_nan=False):\n",
        "    \"\"\" Utility function for optimize_on_cpu and 16-bits training.\n",
        "        Copy the gradient of the GPU parameters to the CPU/RAMM copy of the model\n",
        "    \"\"\"\n",
        "    is_nan = False\n",
        "    for (name_opti, param_opti), (name_model, param_model) in zip(named_params_optimizer, named_params_model):\n",
        "        if name_opti != name_model:\n",
        "            logger.error(\"name_opti != name_model: {} {}\".format(name_opti, name_model))\n",
        "            raise ValueError\n",
        "        if param_model.grad is not None:\n",
        "            if test_nan and torch.isnan(param_model.grad).sum() > 0:\n",
        "                is_nan = True\n",
        "            if param_opti.grad is None:\n",
        "                param_opti.grad = torch.nn.Parameter(param_opti.data.new().resize_(*param_opti.data.size()))\n",
        "            param_opti.grad.data.copy_(param_model.grad.data)\n",
        "        else:\n",
        "            param_opti.grad = None\n",
        "    return is_nan\n",
        "\n",
        "\n",
        "\n",
        "# Define Accuracy check metrics and training utils\n",
        "\n",
        "def epoch_time(start_time, end_time):\n",
        "    elapsed_time = end_time - start_time\n",
        "    elapsed_mins = int(elapsed_time / 60)\n",
        "    elapsed_secs = int(elapsed_time - (elapsed_mins * 60))\n",
        "    return elapsed_mins, elapsed_secs\n",
        "\n",
        "def select_field(features, field):\n",
        "    return [\n",
        "            feature.choices_features[0][field]\n",
        "        for feature in features\n",
        "    ]\n",
        "   \n",
        "    \n",
        "def classifiction_metric(preds, labels, label_list):\n",
        "    \"\"\" The Metric of classification, input should be numpy format \"\"\"\n",
        "\n",
        "    acc = metrics.accuracy_score(labels, preds)\n",
        "\n",
        "    labels_list = [i for i in range(len(label_list))]\n",
        "\n",
        "    report = metrics.classification_report(\n",
        "        labels, preds, labels=labels_list, target_names=label_list, digits=5, output_dict=True)\n",
        "\n",
        "    return acc, report"
      ],
      "execution_count": 9,
      "outputs": []
    },
    {
      "cell_type": "markdown",
      "metadata": {
        "id": "2qO4QAwTUbHb"
      },
      "source": [
        "Main Code Begins Now : "
      ]
    },
    {
      "cell_type": "code",
      "metadata": {
        "id": "o9IVTlL1UZLm"
      },
      "source": [
        "device = torch.device(\"cuda\" if torch.cuda.is_available() else \"cpu\")\n",
        "n_gpu = torch.cuda.device_count()\n",
        "\n",
        "train_batch_size = int(train_batch_size / gradient_accumulation_steps)\n",
        "#Initialise seeds\n",
        "random.seed(seed)\n",
        "np.random.seed(seed)\n",
        "torch.manual_seed(seed)\n",
        "if n_gpu > 0:\n",
        "    torch.cuda.manual_seed_all(seed)\n"
      ],
      "execution_count": 10,
      "outputs": []
    },
    {
      "cell_type": "markdown",
      "metadata": {
        "id": "e4BtFEVGUnfI"
      },
      "source": [
        "Importing Tokenizer and Model From Hugging face library \"Transformers\"\n",
        "\n",
        "\n",
        "Following Models have to be tried : \n",
        "Reference link for pretrained models : [Hugging Face Pretrained Models](https://huggingface.co/transformers/pretrained_models.html)\n",
        "\n",
        "1.   XlNet  \n",
        "2.   Albert  (Expected to work better)  -> v2 version is better than v1\n",
        "3.   Roberta (Expected to work poorer)\n",
        "4.   Electra (No idea about it,  Have to study about it!)\n",
        "\n",
        "\n",
        "Instructions for saving model : \n",
        "\n",
        "1. Please download the saved model file into your computer (size might be big though :) )\n",
        "2. Report the Results in the docs ->. [Doc Link](https://docs.google.com/document/d/1VPKYoi1VahtQgPCs4zMZVYOhy3xHkrq7OLp5fnClmvM/edit?usp=sharing)\n",
        "\n",
        "\n",
        "\n",
        "\n",
        "\n",
        "For different models import these respectively : \n",
        "\n",
        "1.  XLNetTokenizer, XLNetLMHeadModel\n",
        "2.  AlbertTokenizer,  AlbertForMaskedLM\n",
        "3.  RobertaTokenizer, RobertaForMaskedLM\n",
        "4.  ElectraTokenizer, ElectraForMaskedLM\n",
        "\n",
        "\n",
        "\n",
        "There might be some errors. If so, Please Contact -> Abhishek Mittal, 180022 :)\n"
      ]
    },
    {
      "cell_type": "code",
      "metadata": {
        "colab": {
          "base_uri": "https://localhost:8080/",
          "height": 289,
          "referenced_widgets": [
            "0b00008858ab498ab57d6ea7e82b2072",
            "c35fd9519bff4b258b4513635822c138",
            "752723c5d0e1424f85fa2e9fc10696d5",
            "c8ed0c569c844b2cb4a7c15d302a27bc",
            "203bedae211346b8ac879155d4dde1c4",
            "7afd63854b2841c9ba38921c557f1547",
            "7fae1bd5200e47c2bfd3973c34d1c553",
            "fb2482d26ead422eaca70fc1ffbc35bc",
            "7bf778c684be43e68b3bbd4c9281acd8",
            "65418206266348c28984e412a8754791",
            "f45c74fe95cc4ff0bbd1beeccacfceac",
            "b736180e1cf44064999ce35d2202c504",
            "b3594f8239b140d5abfa2e850aab3385",
            "888135a97a844612b5a2a4987712158f",
            "bc8b59a57f1942409125f0507aa5bac2",
            "8f93a7c089564376b98b04d344579fc0",
            "8780a4ea8af143a6a75e24946aff4a0d",
            "e3ed52512fde42398d8b23d9aa4ebacf",
            "51ef6714cd86400d8f300c00612ed559",
            "4a5d12a5dc074598ba5bedfa72b3a996",
            "927002f4cd6d4ec5a8e244633f89a5d7",
            "49c185ba798e4f89a9e6b36886d30a11",
            "3df0d021f8b04a1eb13d486a6af2b5a2",
            "7497ba2475334b3685ba60a2a2d426b3"
          ]
        },
        "id": "xNhG9vTmCUK_",
        "outputId": "f5fde3df-5fa9-4ac0-cf8c-5b97977e3dbb"
      },
      "source": [
        "from transformers import AlbertTokenizer, AlbertForMaskedLM, BertModel, AdamW        \n",
        "import torch\n",
        "\n",
        "tokenizer = AlbertTokenizer.from_pretrained('albert-xxlarge-v2')        # Write the tokenizer to be used\n",
        "model = AlbertForMaskedLM.from_pretrained('albert-xxlarge-v2')    # Write the model to be used\n",
        "\n",
        "# tokenizer = BertTokenizer.from_pretrained('bert-large-uncased')        # Write the tokenizer to be used\n",
        "# model = BertForMaskedLM.from_pretrained('bert-large-uncased')    # Write the model to be used\n",
        "\n",
        "# bert_model = BertModel.from_pretrained('bert-large-uncased')\n",
        "\n",
        "# tokenizer = ElectraTokenizer.from_pretrained('google/electra-base-discriminator')\n",
        "# model = ElectraForMaskedLM.from_pretrained('google/electra-base-discriminator')\n"
      ],
      "execution_count": 47,
      "outputs": [
        {
          "output_type": "stream",
          "text": [
            "02/15/2021 10:26:02 - INFO - filelock -   Lock 140211453353096 acquired on /root/.cache/huggingface/transformers/57f3073e5921aab4297e8e1a59ec930b5cc22e13e6ecabad692e1bb4f28d71a2.d6110e25022b713452eb83d5bfa8ae64530995a93d8e694fe52e05aa85dd3a7d.lock\n"
          ],
          "name": "stderr"
        },
        {
          "output_type": "display_data",
          "data": {
            "application/vnd.jupyter.widget-view+json": {
              "model_id": "0b00008858ab498ab57d6ea7e82b2072",
              "version_minor": 0,
              "version_major": 2
            },
            "text/plain": [
              "HBox(children=(FloatProgress(value=0.0, description='Downloading', max=760289.0, style=ProgressStyle(descripti…"
            ]
          },
          "metadata": {
            "tags": []
          }
        },
        {
          "output_type": "stream",
          "text": [
            "02/15/2021 10:26:03 - INFO - filelock -   Lock 140211453353096 released on /root/.cache/huggingface/transformers/57f3073e5921aab4297e8e1a59ec930b5cc22e13e6ecabad692e1bb4f28d71a2.d6110e25022b713452eb83d5bfa8ae64530995a93d8e694fe52e05aa85dd3a7d.lock\n"
          ],
          "name": "stderr"
        },
        {
          "output_type": "stream",
          "text": [
            "\n"
          ],
          "name": "stdout"
        },
        {
          "output_type": "stream",
          "text": [
            "02/15/2021 10:26:03 - INFO - filelock -   Lock 140211453351976 acquired on /root/.cache/huggingface/transformers/d5df78f35f3fedf5dab8dafee426bca04736e16e0a70bd647bd60607a39bf577.f2355728e5c0b990d2832c3ab8751836d17900316f0e874141a85d322e48b3fd.lock\n"
          ],
          "name": "stderr"
        },
        {
          "output_type": "display_data",
          "data": {
            "application/vnd.jupyter.widget-view+json": {
              "model_id": "7bf778c684be43e68b3bbd4c9281acd8",
              "version_minor": 0,
              "version_major": 2
            },
            "text/plain": [
              "HBox(children=(FloatProgress(value=0.0, description='Downloading', max=710.0, style=ProgressStyle(description_…"
            ]
          },
          "metadata": {
            "tags": []
          }
        },
        {
          "output_type": "stream",
          "text": [
            "02/15/2021 10:26:03 - INFO - filelock -   Lock 140211453351976 released on /root/.cache/huggingface/transformers/d5df78f35f3fedf5dab8dafee426bca04736e16e0a70bd647bd60607a39bf577.f2355728e5c0b990d2832c3ab8751836d17900316f0e874141a85d322e48b3fd.lock\n"
          ],
          "name": "stderr"
        },
        {
          "output_type": "stream",
          "text": [
            "\n"
          ],
          "name": "stdout"
        },
        {
          "output_type": "stream",
          "text": [
            "02/15/2021 10:26:03 - INFO - filelock -   Lock 140211428071688 acquired on /root/.cache/huggingface/transformers/fa287cec8f8154228201180899218fed4f77fa0fd085bfb8a11cd1e1bef85216.4296b379bf943b455a1427c0758ddc23a147936625e7527e40b9087c28d7ae32.lock\n"
          ],
          "name": "stderr"
        },
        {
          "output_type": "display_data",
          "data": {
            "application/vnd.jupyter.widget-view+json": {
              "model_id": "8780a4ea8af143a6a75e24946aff4a0d",
              "version_minor": 0,
              "version_major": 2
            },
            "text/plain": [
              "HBox(children=(FloatProgress(value=0.0, description='Downloading', max=892728632.0, style=ProgressStyle(descri…"
            ]
          },
          "metadata": {
            "tags": []
          }
        },
        {
          "output_type": "stream",
          "text": [
            "02/15/2021 10:26:26 - INFO - filelock -   Lock 140211428071688 released on /root/.cache/huggingface/transformers/fa287cec8f8154228201180899218fed4f77fa0fd085bfb8a11cd1e1bef85216.4296b379bf943b455a1427c0758ddc23a147936625e7527e40b9087c28d7ae32.lock\n"
          ],
          "name": "stderr"
        },
        {
          "output_type": "stream",
          "text": [
            "\n"
          ],
          "name": "stdout"
        }
      ]
    },
    {
      "cell_type": "code",
      "metadata": {
        "colab": {
          "base_uri": "https://localhost:8080/"
        },
        "id": "N9nrWURIU4_q",
        "outputId": "e57492a2-415d-4ec6-e2c0-6aa8e4e160cb"
      },
      "source": [
        "# Load Saved model (if any)\n",
        "if model_checkpoint :\n",
        "    values = torch.load(no_cls_task1)\n",
        "    model.load_state_dict(values['model'])\n",
        "\n",
        "# Optimisations\n",
        "if fp16:\n",
        "    model.half()\n",
        "if n_gpu > 1:\n",
        "    model = torch.nn.DataParallel(model)\n",
        "\n",
        "# Load Model to device (cuda here)\n",
        "model.to(device)\n"
      ],
      "execution_count": 50,
      "outputs": [
        {
          "output_type": "execute_result",
          "data": {
            "text/plain": [
              "AlbertForMaskedLM(\n",
              "  (albert): AlbertModel(\n",
              "    (embeddings): AlbertEmbeddings(\n",
              "      (word_embeddings): Embedding(30000, 128, padding_idx=0)\n",
              "      (position_embeddings): Embedding(512, 128)\n",
              "      (token_type_embeddings): Embedding(2, 128)\n",
              "      (LayerNorm): LayerNorm((128,), eps=1e-12, elementwise_affine=True)\n",
              "      (dropout): Dropout(p=0, inplace=False)\n",
              "    )\n",
              "    (encoder): AlbertTransformer(\n",
              "      (embedding_hidden_mapping_in): Linear(in_features=128, out_features=4096, bias=True)\n",
              "      (albert_layer_groups): ModuleList(\n",
              "        (0): AlbertLayerGroup(\n",
              "          (albert_layers): ModuleList(\n",
              "            (0): AlbertLayer(\n",
              "              (full_layer_layer_norm): LayerNorm((4096,), eps=1e-12, elementwise_affine=True)\n",
              "              (attention): AlbertAttention(\n",
              "                (query): Linear(in_features=4096, out_features=4096, bias=True)\n",
              "                (key): Linear(in_features=4096, out_features=4096, bias=True)\n",
              "                (value): Linear(in_features=4096, out_features=4096, bias=True)\n",
              "                (attention_dropout): Dropout(p=0, inplace=False)\n",
              "                (output_dropout): Dropout(p=0, inplace=False)\n",
              "                (dense): Linear(in_features=4096, out_features=4096, bias=True)\n",
              "                (LayerNorm): LayerNorm((4096,), eps=1e-12, elementwise_affine=True)\n",
              "              )\n",
              "              (ffn): Linear(in_features=4096, out_features=16384, bias=True)\n",
              "              (ffn_output): Linear(in_features=16384, out_features=4096, bias=True)\n",
              "              (dropout): Dropout(p=0, inplace=False)\n",
              "            )\n",
              "          )\n",
              "        )\n",
              "      )\n",
              "    )\n",
              "  )\n",
              "  (predictions): AlbertMLMHead(\n",
              "    (LayerNorm): LayerNorm((128,), eps=1e-05, elementwise_affine=True)\n",
              "    (dense): Linear(in_features=4096, out_features=128, bias=True)\n",
              "    (decoder): Linear(in_features=128, out_features=30000, bias=True)\n",
              "  )\n",
              ")"
            ]
          },
          "metadata": {
            "tags": []
          },
          "execution_count": 50
        }
      ]
    },
    {
      "cell_type": "code",
      "metadata": {
        "id": "uSMP0jAWVX5M"
      },
      "source": [
        "if fp16:\n",
        "    param_optimizer = [(n, param.clone().detach().to('cpu').float().requires_grad_()) \\\n",
        "                        for n, param in model.named_parameters()]\n",
        "elif optimize_on_cpu:\n",
        "    param_optimizer = [(n, param.clone().detach().to('cpu').requires_grad_()) \\\n",
        "                        for n, param in model.named_parameters()]\n",
        "else:\n",
        "    param_optimizer = list(model.named_parameters())\n",
        "\n",
        "no_decay = ['bias', 'gamma', 'beta']\n",
        "optimizer_grouped_parameters = [\n",
        "    {'params': [p for n, p in param_optimizer if not any(nd in n for nd in no_decay)], 'weight_decay_rate': 0.01},\n",
        "    {'params': [p for n, p in param_optimizer if any(nd in n for nd in no_decay)], 'weight_decay_rate': 0.0}\n",
        "    ]\n"
      ],
      "execution_count": 14,
      "outputs": []
    },
    {
      "cell_type": "markdown",
      "metadata": {
        "id": "DqrOsv7AVnkO"
      },
      "source": [
        " **Training Code** : \n",
        "\n",
        "\n",
        "\n",
        "\n",
        "\n",
        "\n"
      ]
    },
    {
      "cell_type": "code",
      "metadata": {
        "id": "hhwinTkiV5As"
      },
      "source": [
        "train_examples = read_examples(task1_train)         # Training Examples\n",
        "num_train_steps = int(len(train_examples) / train_batch_size / gradient_accumulation_steps * num_train_epochs)\n",
        "t_total = num_train_steps\n",
        "\n",
        "# Optimiser is Adam\n",
        "optimizer = AdamW(optimizer_grouped_parameters,\n",
        "                         lr = learning_rate)\n"
      ],
      "execution_count": 28,
      "outputs": []
    },
    {
      "cell_type": "code",
      "metadata": {
        "colab": {
          "base_uri": "https://localhost:8080/"
        },
        "id": "y46gjeGkSaxB",
        "outputId": "d0514504-6d97-4be1-f8f3-e63071212434"
      },
      "source": [
        "print(tokenizer)"
      ],
      "execution_count": null,
      "outputs": [
        {
          "output_type": "stream",
          "text": [
            "PreTrainedTokenizer(name_or_path='bert-large-uncased', vocab_size=30522, model_max_len=512, is_fast=False, padding_side='right', special_tokens={'unk_token': '[UNK]', 'sep_token': '[SEP]', 'pad_token': '[PAD]', 'cls_token': '[CLS]', 'mask_token': '[MASK]'})\n"
          ],
          "name": "stdout"
        }
      ]
    },
    {
      "cell_type": "code",
      "metadata": {
        "colab": {
          "base_uri": "https://localhost:8080/"
        },
        "id": "qiqh8N-HWCrn",
        "outputId": "5b0751c0-ffc4-48bd-e400-1559b6077aa3"
      },
      "source": [
        "global_step = 0\n",
        "train_features = convert_examples_to_features(\n",
        "        train_examples, tokenizer, max_seq_length\n",
        "        )\n",
        "\n",
        "logger.info(\"***** Running training *****\")\n",
        "logger.info(\"  Num examples = %d\", len(train_examples))\n",
        "logger.info(\"  Batch size = %d\", train_batch_size)\n",
        "logger.info(\"  Num steps = %d\", num_train_steps)\n",
        "\n",
        "# all_options = torch.tensor([f.options for f in train_features], dtype=torch.long)\n",
        "all_labels = torch.tensor([f.label for f in train_features], dtype=torch.long)\n",
        "all_lm_labels = torch.tensor([f.lm_labels for f in train_features], dtype=torch.long)\n",
        "\n",
        "all_input_ids_1 = torch.tensor(select_field(train_features, 'input_ids'), dtype=torch.long)\n",
        "all_input_mask_1 = torch.tensor(select_field(train_features, 'input_mask'), dtype=torch.long)\n",
        "all_segment_ids_1 = torch.tensor(select_field(train_features, 'segment_ids'), dtype=torch.long)\n",
        "\n",
        "train_data = TensorDataset(all_input_ids_1, all_input_mask_1, all_segment_ids_1, all_labels, all_lm_labels)\n",
        "train_sampler = RandomSampler(train_data)\n",
        "train_dataloader = DataLoader(train_data, sampler=train_sampler, batch_size=train_batch_size)\n",
        "\n",
        "model.train()"
      ],
      "execution_count": 29,
      "outputs": [
        {
          "output_type": "stream",
          "text": [
            "02/15/2021 09:32:51 - INFO - __main__ -   ***** Running training *****\n",
            "02/15/2021 09:32:51 - INFO - __main__ -     Num examples = 3227\n",
            "02/15/2021 09:32:51 - INFO - __main__ -     Batch size = 4\n",
            "02/15/2021 09:32:51 - INFO - __main__ -     Num steps = 605\n"
          ],
          "name": "stderr"
        },
        {
          "output_type": "execute_result",
          "data": {
            "text/plain": [
              "BertForMaskedLM(\n",
              "  (bert): BertModel(\n",
              "    (embeddings): BertEmbeddings(\n",
              "      (word_embeddings): Embedding(30522, 1024, padding_idx=0)\n",
              "      (position_embeddings): Embedding(512, 1024)\n",
              "      (token_type_embeddings): Embedding(2, 1024)\n",
              "      (LayerNorm): LayerNorm((1024,), eps=1e-12, elementwise_affine=True)\n",
              "      (dropout): Dropout(p=0.1, inplace=False)\n",
              "    )\n",
              "    (encoder): BertEncoder(\n",
              "      (layer): ModuleList(\n",
              "        (0): BertLayer(\n",
              "          (attention): BertAttention(\n",
              "            (self): BertSelfAttention(\n",
              "              (query): Linear(in_features=1024, out_features=1024, bias=True)\n",
              "              (key): Linear(in_features=1024, out_features=1024, bias=True)\n",
              "              (value): Linear(in_features=1024, out_features=1024, bias=True)\n",
              "              (dropout): Dropout(p=0.1, inplace=False)\n",
              "            )\n",
              "            (output): BertSelfOutput(\n",
              "              (dense): Linear(in_features=1024, out_features=1024, bias=True)\n",
              "              (LayerNorm): LayerNorm((1024,), eps=1e-12, elementwise_affine=True)\n",
              "              (dropout): Dropout(p=0.1, inplace=False)\n",
              "            )\n",
              "          )\n",
              "          (intermediate): BertIntermediate(\n",
              "            (dense): Linear(in_features=1024, out_features=4096, bias=True)\n",
              "          )\n",
              "          (output): BertOutput(\n",
              "            (dense): Linear(in_features=4096, out_features=1024, bias=True)\n",
              "            (LayerNorm): LayerNorm((1024,), eps=1e-12, elementwise_affine=True)\n",
              "            (dropout): Dropout(p=0.1, inplace=False)\n",
              "          )\n",
              "        )\n",
              "        (1): BertLayer(\n",
              "          (attention): BertAttention(\n",
              "            (self): BertSelfAttention(\n",
              "              (query): Linear(in_features=1024, out_features=1024, bias=True)\n",
              "              (key): Linear(in_features=1024, out_features=1024, bias=True)\n",
              "              (value): Linear(in_features=1024, out_features=1024, bias=True)\n",
              "              (dropout): Dropout(p=0.1, inplace=False)\n",
              "            )\n",
              "            (output): BertSelfOutput(\n",
              "              (dense): Linear(in_features=1024, out_features=1024, bias=True)\n",
              "              (LayerNorm): LayerNorm((1024,), eps=1e-12, elementwise_affine=True)\n",
              "              (dropout): Dropout(p=0.1, inplace=False)\n",
              "            )\n",
              "          )\n",
              "          (intermediate): BertIntermediate(\n",
              "            (dense): Linear(in_features=1024, out_features=4096, bias=True)\n",
              "          )\n",
              "          (output): BertOutput(\n",
              "            (dense): Linear(in_features=4096, out_features=1024, bias=True)\n",
              "            (LayerNorm): LayerNorm((1024,), eps=1e-12, elementwise_affine=True)\n",
              "            (dropout): Dropout(p=0.1, inplace=False)\n",
              "          )\n",
              "        )\n",
              "        (2): BertLayer(\n",
              "          (attention): BertAttention(\n",
              "            (self): BertSelfAttention(\n",
              "              (query): Linear(in_features=1024, out_features=1024, bias=True)\n",
              "              (key): Linear(in_features=1024, out_features=1024, bias=True)\n",
              "              (value): Linear(in_features=1024, out_features=1024, bias=True)\n",
              "              (dropout): Dropout(p=0.1, inplace=False)\n",
              "            )\n",
              "            (output): BertSelfOutput(\n",
              "              (dense): Linear(in_features=1024, out_features=1024, bias=True)\n",
              "              (LayerNorm): LayerNorm((1024,), eps=1e-12, elementwise_affine=True)\n",
              "              (dropout): Dropout(p=0.1, inplace=False)\n",
              "            )\n",
              "          )\n",
              "          (intermediate): BertIntermediate(\n",
              "            (dense): Linear(in_features=1024, out_features=4096, bias=True)\n",
              "          )\n",
              "          (output): BertOutput(\n",
              "            (dense): Linear(in_features=4096, out_features=1024, bias=True)\n",
              "            (LayerNorm): LayerNorm((1024,), eps=1e-12, elementwise_affine=True)\n",
              "            (dropout): Dropout(p=0.1, inplace=False)\n",
              "          )\n",
              "        )\n",
              "        (3): BertLayer(\n",
              "          (attention): BertAttention(\n",
              "            (self): BertSelfAttention(\n",
              "              (query): Linear(in_features=1024, out_features=1024, bias=True)\n",
              "              (key): Linear(in_features=1024, out_features=1024, bias=True)\n",
              "              (value): Linear(in_features=1024, out_features=1024, bias=True)\n",
              "              (dropout): Dropout(p=0.1, inplace=False)\n",
              "            )\n",
              "            (output): BertSelfOutput(\n",
              "              (dense): Linear(in_features=1024, out_features=1024, bias=True)\n",
              "              (LayerNorm): LayerNorm((1024,), eps=1e-12, elementwise_affine=True)\n",
              "              (dropout): Dropout(p=0.1, inplace=False)\n",
              "            )\n",
              "          )\n",
              "          (intermediate): BertIntermediate(\n",
              "            (dense): Linear(in_features=1024, out_features=4096, bias=True)\n",
              "          )\n",
              "          (output): BertOutput(\n",
              "            (dense): Linear(in_features=4096, out_features=1024, bias=True)\n",
              "            (LayerNorm): LayerNorm((1024,), eps=1e-12, elementwise_affine=True)\n",
              "            (dropout): Dropout(p=0.1, inplace=False)\n",
              "          )\n",
              "        )\n",
              "        (4): BertLayer(\n",
              "          (attention): BertAttention(\n",
              "            (self): BertSelfAttention(\n",
              "              (query): Linear(in_features=1024, out_features=1024, bias=True)\n",
              "              (key): Linear(in_features=1024, out_features=1024, bias=True)\n",
              "              (value): Linear(in_features=1024, out_features=1024, bias=True)\n",
              "              (dropout): Dropout(p=0.1, inplace=False)\n",
              "            )\n",
              "            (output): BertSelfOutput(\n",
              "              (dense): Linear(in_features=1024, out_features=1024, bias=True)\n",
              "              (LayerNorm): LayerNorm((1024,), eps=1e-12, elementwise_affine=True)\n",
              "              (dropout): Dropout(p=0.1, inplace=False)\n",
              "            )\n",
              "          )\n",
              "          (intermediate): BertIntermediate(\n",
              "            (dense): Linear(in_features=1024, out_features=4096, bias=True)\n",
              "          )\n",
              "          (output): BertOutput(\n",
              "            (dense): Linear(in_features=4096, out_features=1024, bias=True)\n",
              "            (LayerNorm): LayerNorm((1024,), eps=1e-12, elementwise_affine=True)\n",
              "            (dropout): Dropout(p=0.1, inplace=False)\n",
              "          )\n",
              "        )\n",
              "        (5): BertLayer(\n",
              "          (attention): BertAttention(\n",
              "            (self): BertSelfAttention(\n",
              "              (query): Linear(in_features=1024, out_features=1024, bias=True)\n",
              "              (key): Linear(in_features=1024, out_features=1024, bias=True)\n",
              "              (value): Linear(in_features=1024, out_features=1024, bias=True)\n",
              "              (dropout): Dropout(p=0.1, inplace=False)\n",
              "            )\n",
              "            (output): BertSelfOutput(\n",
              "              (dense): Linear(in_features=1024, out_features=1024, bias=True)\n",
              "              (LayerNorm): LayerNorm((1024,), eps=1e-12, elementwise_affine=True)\n",
              "              (dropout): Dropout(p=0.1, inplace=False)\n",
              "            )\n",
              "          )\n",
              "          (intermediate): BertIntermediate(\n",
              "            (dense): Linear(in_features=1024, out_features=4096, bias=True)\n",
              "          )\n",
              "          (output): BertOutput(\n",
              "            (dense): Linear(in_features=4096, out_features=1024, bias=True)\n",
              "            (LayerNorm): LayerNorm((1024,), eps=1e-12, elementwise_affine=True)\n",
              "            (dropout): Dropout(p=0.1, inplace=False)\n",
              "          )\n",
              "        )\n",
              "        (6): BertLayer(\n",
              "          (attention): BertAttention(\n",
              "            (self): BertSelfAttention(\n",
              "              (query): Linear(in_features=1024, out_features=1024, bias=True)\n",
              "              (key): Linear(in_features=1024, out_features=1024, bias=True)\n",
              "              (value): Linear(in_features=1024, out_features=1024, bias=True)\n",
              "              (dropout): Dropout(p=0.1, inplace=False)\n",
              "            )\n",
              "            (output): BertSelfOutput(\n",
              "              (dense): Linear(in_features=1024, out_features=1024, bias=True)\n",
              "              (LayerNorm): LayerNorm((1024,), eps=1e-12, elementwise_affine=True)\n",
              "              (dropout): Dropout(p=0.1, inplace=False)\n",
              "            )\n",
              "          )\n",
              "          (intermediate): BertIntermediate(\n",
              "            (dense): Linear(in_features=1024, out_features=4096, bias=True)\n",
              "          )\n",
              "          (output): BertOutput(\n",
              "            (dense): Linear(in_features=4096, out_features=1024, bias=True)\n",
              "            (LayerNorm): LayerNorm((1024,), eps=1e-12, elementwise_affine=True)\n",
              "            (dropout): Dropout(p=0.1, inplace=False)\n",
              "          )\n",
              "        )\n",
              "        (7): BertLayer(\n",
              "          (attention): BertAttention(\n",
              "            (self): BertSelfAttention(\n",
              "              (query): Linear(in_features=1024, out_features=1024, bias=True)\n",
              "              (key): Linear(in_features=1024, out_features=1024, bias=True)\n",
              "              (value): Linear(in_features=1024, out_features=1024, bias=True)\n",
              "              (dropout): Dropout(p=0.1, inplace=False)\n",
              "            )\n",
              "            (output): BertSelfOutput(\n",
              "              (dense): Linear(in_features=1024, out_features=1024, bias=True)\n",
              "              (LayerNorm): LayerNorm((1024,), eps=1e-12, elementwise_affine=True)\n",
              "              (dropout): Dropout(p=0.1, inplace=False)\n",
              "            )\n",
              "          )\n",
              "          (intermediate): BertIntermediate(\n",
              "            (dense): Linear(in_features=1024, out_features=4096, bias=True)\n",
              "          )\n",
              "          (output): BertOutput(\n",
              "            (dense): Linear(in_features=4096, out_features=1024, bias=True)\n",
              "            (LayerNorm): LayerNorm((1024,), eps=1e-12, elementwise_affine=True)\n",
              "            (dropout): Dropout(p=0.1, inplace=False)\n",
              "          )\n",
              "        )\n",
              "        (8): BertLayer(\n",
              "          (attention): BertAttention(\n",
              "            (self): BertSelfAttention(\n",
              "              (query): Linear(in_features=1024, out_features=1024, bias=True)\n",
              "              (key): Linear(in_features=1024, out_features=1024, bias=True)\n",
              "              (value): Linear(in_features=1024, out_features=1024, bias=True)\n",
              "              (dropout): Dropout(p=0.1, inplace=False)\n",
              "            )\n",
              "            (output): BertSelfOutput(\n",
              "              (dense): Linear(in_features=1024, out_features=1024, bias=True)\n",
              "              (LayerNorm): LayerNorm((1024,), eps=1e-12, elementwise_affine=True)\n",
              "              (dropout): Dropout(p=0.1, inplace=False)\n",
              "            )\n",
              "          )\n",
              "          (intermediate): BertIntermediate(\n",
              "            (dense): Linear(in_features=1024, out_features=4096, bias=True)\n",
              "          )\n",
              "          (output): BertOutput(\n",
              "            (dense): Linear(in_features=4096, out_features=1024, bias=True)\n",
              "            (LayerNorm): LayerNorm((1024,), eps=1e-12, elementwise_affine=True)\n",
              "            (dropout): Dropout(p=0.1, inplace=False)\n",
              "          )\n",
              "        )\n",
              "        (9): BertLayer(\n",
              "          (attention): BertAttention(\n",
              "            (self): BertSelfAttention(\n",
              "              (query): Linear(in_features=1024, out_features=1024, bias=True)\n",
              "              (key): Linear(in_features=1024, out_features=1024, bias=True)\n",
              "              (value): Linear(in_features=1024, out_features=1024, bias=True)\n",
              "              (dropout): Dropout(p=0.1, inplace=False)\n",
              "            )\n",
              "            (output): BertSelfOutput(\n",
              "              (dense): Linear(in_features=1024, out_features=1024, bias=True)\n",
              "              (LayerNorm): LayerNorm((1024,), eps=1e-12, elementwise_affine=True)\n",
              "              (dropout): Dropout(p=0.1, inplace=False)\n",
              "            )\n",
              "          )\n",
              "          (intermediate): BertIntermediate(\n",
              "            (dense): Linear(in_features=1024, out_features=4096, bias=True)\n",
              "          )\n",
              "          (output): BertOutput(\n",
              "            (dense): Linear(in_features=4096, out_features=1024, bias=True)\n",
              "            (LayerNorm): LayerNorm((1024,), eps=1e-12, elementwise_affine=True)\n",
              "            (dropout): Dropout(p=0.1, inplace=False)\n",
              "          )\n",
              "        )\n",
              "        (10): BertLayer(\n",
              "          (attention): BertAttention(\n",
              "            (self): BertSelfAttention(\n",
              "              (query): Linear(in_features=1024, out_features=1024, bias=True)\n",
              "              (key): Linear(in_features=1024, out_features=1024, bias=True)\n",
              "              (value): Linear(in_features=1024, out_features=1024, bias=True)\n",
              "              (dropout): Dropout(p=0.1, inplace=False)\n",
              "            )\n",
              "            (output): BertSelfOutput(\n",
              "              (dense): Linear(in_features=1024, out_features=1024, bias=True)\n",
              "              (LayerNorm): LayerNorm((1024,), eps=1e-12, elementwise_affine=True)\n",
              "              (dropout): Dropout(p=0.1, inplace=False)\n",
              "            )\n",
              "          )\n",
              "          (intermediate): BertIntermediate(\n",
              "            (dense): Linear(in_features=1024, out_features=4096, bias=True)\n",
              "          )\n",
              "          (output): BertOutput(\n",
              "            (dense): Linear(in_features=4096, out_features=1024, bias=True)\n",
              "            (LayerNorm): LayerNorm((1024,), eps=1e-12, elementwise_affine=True)\n",
              "            (dropout): Dropout(p=0.1, inplace=False)\n",
              "          )\n",
              "        )\n",
              "        (11): BertLayer(\n",
              "          (attention): BertAttention(\n",
              "            (self): BertSelfAttention(\n",
              "              (query): Linear(in_features=1024, out_features=1024, bias=True)\n",
              "              (key): Linear(in_features=1024, out_features=1024, bias=True)\n",
              "              (value): Linear(in_features=1024, out_features=1024, bias=True)\n",
              "              (dropout): Dropout(p=0.1, inplace=False)\n",
              "            )\n",
              "            (output): BertSelfOutput(\n",
              "              (dense): Linear(in_features=1024, out_features=1024, bias=True)\n",
              "              (LayerNorm): LayerNorm((1024,), eps=1e-12, elementwise_affine=True)\n",
              "              (dropout): Dropout(p=0.1, inplace=False)\n",
              "            )\n",
              "          )\n",
              "          (intermediate): BertIntermediate(\n",
              "            (dense): Linear(in_features=1024, out_features=4096, bias=True)\n",
              "          )\n",
              "          (output): BertOutput(\n",
              "            (dense): Linear(in_features=4096, out_features=1024, bias=True)\n",
              "            (LayerNorm): LayerNorm((1024,), eps=1e-12, elementwise_affine=True)\n",
              "            (dropout): Dropout(p=0.1, inplace=False)\n",
              "          )\n",
              "        )\n",
              "        (12): BertLayer(\n",
              "          (attention): BertAttention(\n",
              "            (self): BertSelfAttention(\n",
              "              (query): Linear(in_features=1024, out_features=1024, bias=True)\n",
              "              (key): Linear(in_features=1024, out_features=1024, bias=True)\n",
              "              (value): Linear(in_features=1024, out_features=1024, bias=True)\n",
              "              (dropout): Dropout(p=0.1, inplace=False)\n",
              "            )\n",
              "            (output): BertSelfOutput(\n",
              "              (dense): Linear(in_features=1024, out_features=1024, bias=True)\n",
              "              (LayerNorm): LayerNorm((1024,), eps=1e-12, elementwise_affine=True)\n",
              "              (dropout): Dropout(p=0.1, inplace=False)\n",
              "            )\n",
              "          )\n",
              "          (intermediate): BertIntermediate(\n",
              "            (dense): Linear(in_features=1024, out_features=4096, bias=True)\n",
              "          )\n",
              "          (output): BertOutput(\n",
              "            (dense): Linear(in_features=4096, out_features=1024, bias=True)\n",
              "            (LayerNorm): LayerNorm((1024,), eps=1e-12, elementwise_affine=True)\n",
              "            (dropout): Dropout(p=0.1, inplace=False)\n",
              "          )\n",
              "        )\n",
              "        (13): BertLayer(\n",
              "          (attention): BertAttention(\n",
              "            (self): BertSelfAttention(\n",
              "              (query): Linear(in_features=1024, out_features=1024, bias=True)\n",
              "              (key): Linear(in_features=1024, out_features=1024, bias=True)\n",
              "              (value): Linear(in_features=1024, out_features=1024, bias=True)\n",
              "              (dropout): Dropout(p=0.1, inplace=False)\n",
              "            )\n",
              "            (output): BertSelfOutput(\n",
              "              (dense): Linear(in_features=1024, out_features=1024, bias=True)\n",
              "              (LayerNorm): LayerNorm((1024,), eps=1e-12, elementwise_affine=True)\n",
              "              (dropout): Dropout(p=0.1, inplace=False)\n",
              "            )\n",
              "          )\n",
              "          (intermediate): BertIntermediate(\n",
              "            (dense): Linear(in_features=1024, out_features=4096, bias=True)\n",
              "          )\n",
              "          (output): BertOutput(\n",
              "            (dense): Linear(in_features=4096, out_features=1024, bias=True)\n",
              "            (LayerNorm): LayerNorm((1024,), eps=1e-12, elementwise_affine=True)\n",
              "            (dropout): Dropout(p=0.1, inplace=False)\n",
              "          )\n",
              "        )\n",
              "        (14): BertLayer(\n",
              "          (attention): BertAttention(\n",
              "            (self): BertSelfAttention(\n",
              "              (query): Linear(in_features=1024, out_features=1024, bias=True)\n",
              "              (key): Linear(in_features=1024, out_features=1024, bias=True)\n",
              "              (value): Linear(in_features=1024, out_features=1024, bias=True)\n",
              "              (dropout): Dropout(p=0.1, inplace=False)\n",
              "            )\n",
              "            (output): BertSelfOutput(\n",
              "              (dense): Linear(in_features=1024, out_features=1024, bias=True)\n",
              "              (LayerNorm): LayerNorm((1024,), eps=1e-12, elementwise_affine=True)\n",
              "              (dropout): Dropout(p=0.1, inplace=False)\n",
              "            )\n",
              "          )\n",
              "          (intermediate): BertIntermediate(\n",
              "            (dense): Linear(in_features=1024, out_features=4096, bias=True)\n",
              "          )\n",
              "          (output): BertOutput(\n",
              "            (dense): Linear(in_features=4096, out_features=1024, bias=True)\n",
              "            (LayerNorm): LayerNorm((1024,), eps=1e-12, elementwise_affine=True)\n",
              "            (dropout): Dropout(p=0.1, inplace=False)\n",
              "          )\n",
              "        )\n",
              "        (15): BertLayer(\n",
              "          (attention): BertAttention(\n",
              "            (self): BertSelfAttention(\n",
              "              (query): Linear(in_features=1024, out_features=1024, bias=True)\n",
              "              (key): Linear(in_features=1024, out_features=1024, bias=True)\n",
              "              (value): Linear(in_features=1024, out_features=1024, bias=True)\n",
              "              (dropout): Dropout(p=0.1, inplace=False)\n",
              "            )\n",
              "            (output): BertSelfOutput(\n",
              "              (dense): Linear(in_features=1024, out_features=1024, bias=True)\n",
              "              (LayerNorm): LayerNorm((1024,), eps=1e-12, elementwise_affine=True)\n",
              "              (dropout): Dropout(p=0.1, inplace=False)\n",
              "            )\n",
              "          )\n",
              "          (intermediate): BertIntermediate(\n",
              "            (dense): Linear(in_features=1024, out_features=4096, bias=True)\n",
              "          )\n",
              "          (output): BertOutput(\n",
              "            (dense): Linear(in_features=4096, out_features=1024, bias=True)\n",
              "            (LayerNorm): LayerNorm((1024,), eps=1e-12, elementwise_affine=True)\n",
              "            (dropout): Dropout(p=0.1, inplace=False)\n",
              "          )\n",
              "        )\n",
              "        (16): BertLayer(\n",
              "          (attention): BertAttention(\n",
              "            (self): BertSelfAttention(\n",
              "              (query): Linear(in_features=1024, out_features=1024, bias=True)\n",
              "              (key): Linear(in_features=1024, out_features=1024, bias=True)\n",
              "              (value): Linear(in_features=1024, out_features=1024, bias=True)\n",
              "              (dropout): Dropout(p=0.1, inplace=False)\n",
              "            )\n",
              "            (output): BertSelfOutput(\n",
              "              (dense): Linear(in_features=1024, out_features=1024, bias=True)\n",
              "              (LayerNorm): LayerNorm((1024,), eps=1e-12, elementwise_affine=True)\n",
              "              (dropout): Dropout(p=0.1, inplace=False)\n",
              "            )\n",
              "          )\n",
              "          (intermediate): BertIntermediate(\n",
              "            (dense): Linear(in_features=1024, out_features=4096, bias=True)\n",
              "          )\n",
              "          (output): BertOutput(\n",
              "            (dense): Linear(in_features=4096, out_features=1024, bias=True)\n",
              "            (LayerNorm): LayerNorm((1024,), eps=1e-12, elementwise_affine=True)\n",
              "            (dropout): Dropout(p=0.1, inplace=False)\n",
              "          )\n",
              "        )\n",
              "        (17): BertLayer(\n",
              "          (attention): BertAttention(\n",
              "            (self): BertSelfAttention(\n",
              "              (query): Linear(in_features=1024, out_features=1024, bias=True)\n",
              "              (key): Linear(in_features=1024, out_features=1024, bias=True)\n",
              "              (value): Linear(in_features=1024, out_features=1024, bias=True)\n",
              "              (dropout): Dropout(p=0.1, inplace=False)\n",
              "            )\n",
              "            (output): BertSelfOutput(\n",
              "              (dense): Linear(in_features=1024, out_features=1024, bias=True)\n",
              "              (LayerNorm): LayerNorm((1024,), eps=1e-12, elementwise_affine=True)\n",
              "              (dropout): Dropout(p=0.1, inplace=False)\n",
              "            )\n",
              "          )\n",
              "          (intermediate): BertIntermediate(\n",
              "            (dense): Linear(in_features=1024, out_features=4096, bias=True)\n",
              "          )\n",
              "          (output): BertOutput(\n",
              "            (dense): Linear(in_features=4096, out_features=1024, bias=True)\n",
              "            (LayerNorm): LayerNorm((1024,), eps=1e-12, elementwise_affine=True)\n",
              "            (dropout): Dropout(p=0.1, inplace=False)\n",
              "          )\n",
              "        )\n",
              "        (18): BertLayer(\n",
              "          (attention): BertAttention(\n",
              "            (self): BertSelfAttention(\n",
              "              (query): Linear(in_features=1024, out_features=1024, bias=True)\n",
              "              (key): Linear(in_features=1024, out_features=1024, bias=True)\n",
              "              (value): Linear(in_features=1024, out_features=1024, bias=True)\n",
              "              (dropout): Dropout(p=0.1, inplace=False)\n",
              "            )\n",
              "            (output): BertSelfOutput(\n",
              "              (dense): Linear(in_features=1024, out_features=1024, bias=True)\n",
              "              (LayerNorm): LayerNorm((1024,), eps=1e-12, elementwise_affine=True)\n",
              "              (dropout): Dropout(p=0.1, inplace=False)\n",
              "            )\n",
              "          )\n",
              "          (intermediate): BertIntermediate(\n",
              "            (dense): Linear(in_features=1024, out_features=4096, bias=True)\n",
              "          )\n",
              "          (output): BertOutput(\n",
              "            (dense): Linear(in_features=4096, out_features=1024, bias=True)\n",
              "            (LayerNorm): LayerNorm((1024,), eps=1e-12, elementwise_affine=True)\n",
              "            (dropout): Dropout(p=0.1, inplace=False)\n",
              "          )\n",
              "        )\n",
              "        (19): BertLayer(\n",
              "          (attention): BertAttention(\n",
              "            (self): BertSelfAttention(\n",
              "              (query): Linear(in_features=1024, out_features=1024, bias=True)\n",
              "              (key): Linear(in_features=1024, out_features=1024, bias=True)\n",
              "              (value): Linear(in_features=1024, out_features=1024, bias=True)\n",
              "              (dropout): Dropout(p=0.1, inplace=False)\n",
              "            )\n",
              "            (output): BertSelfOutput(\n",
              "              (dense): Linear(in_features=1024, out_features=1024, bias=True)\n",
              "              (LayerNorm): LayerNorm((1024,), eps=1e-12, elementwise_affine=True)\n",
              "              (dropout): Dropout(p=0.1, inplace=False)\n",
              "            )\n",
              "          )\n",
              "          (intermediate): BertIntermediate(\n",
              "            (dense): Linear(in_features=1024, out_features=4096, bias=True)\n",
              "          )\n",
              "          (output): BertOutput(\n",
              "            (dense): Linear(in_features=4096, out_features=1024, bias=True)\n",
              "            (LayerNorm): LayerNorm((1024,), eps=1e-12, elementwise_affine=True)\n",
              "            (dropout): Dropout(p=0.1, inplace=False)\n",
              "          )\n",
              "        )\n",
              "        (20): BertLayer(\n",
              "          (attention): BertAttention(\n",
              "            (self): BertSelfAttention(\n",
              "              (query): Linear(in_features=1024, out_features=1024, bias=True)\n",
              "              (key): Linear(in_features=1024, out_features=1024, bias=True)\n",
              "              (value): Linear(in_features=1024, out_features=1024, bias=True)\n",
              "              (dropout): Dropout(p=0.1, inplace=False)\n",
              "            )\n",
              "            (output): BertSelfOutput(\n",
              "              (dense): Linear(in_features=1024, out_features=1024, bias=True)\n",
              "              (LayerNorm): LayerNorm((1024,), eps=1e-12, elementwise_affine=True)\n",
              "              (dropout): Dropout(p=0.1, inplace=False)\n",
              "            )\n",
              "          )\n",
              "          (intermediate): BertIntermediate(\n",
              "            (dense): Linear(in_features=1024, out_features=4096, bias=True)\n",
              "          )\n",
              "          (output): BertOutput(\n",
              "            (dense): Linear(in_features=4096, out_features=1024, bias=True)\n",
              "            (LayerNorm): LayerNorm((1024,), eps=1e-12, elementwise_affine=True)\n",
              "            (dropout): Dropout(p=0.1, inplace=False)\n",
              "          )\n",
              "        )\n",
              "        (21): BertLayer(\n",
              "          (attention): BertAttention(\n",
              "            (self): BertSelfAttention(\n",
              "              (query): Linear(in_features=1024, out_features=1024, bias=True)\n",
              "              (key): Linear(in_features=1024, out_features=1024, bias=True)\n",
              "              (value): Linear(in_features=1024, out_features=1024, bias=True)\n",
              "              (dropout): Dropout(p=0.1, inplace=False)\n",
              "            )\n",
              "            (output): BertSelfOutput(\n",
              "              (dense): Linear(in_features=1024, out_features=1024, bias=True)\n",
              "              (LayerNorm): LayerNorm((1024,), eps=1e-12, elementwise_affine=True)\n",
              "              (dropout): Dropout(p=0.1, inplace=False)\n",
              "            )\n",
              "          )\n",
              "          (intermediate): BertIntermediate(\n",
              "            (dense): Linear(in_features=1024, out_features=4096, bias=True)\n",
              "          )\n",
              "          (output): BertOutput(\n",
              "            (dense): Linear(in_features=4096, out_features=1024, bias=True)\n",
              "            (LayerNorm): LayerNorm((1024,), eps=1e-12, elementwise_affine=True)\n",
              "            (dropout): Dropout(p=0.1, inplace=False)\n",
              "          )\n",
              "        )\n",
              "        (22): BertLayer(\n",
              "          (attention): BertAttention(\n",
              "            (self): BertSelfAttention(\n",
              "              (query): Linear(in_features=1024, out_features=1024, bias=True)\n",
              "              (key): Linear(in_features=1024, out_features=1024, bias=True)\n",
              "              (value): Linear(in_features=1024, out_features=1024, bias=True)\n",
              "              (dropout): Dropout(p=0.1, inplace=False)\n",
              "            )\n",
              "            (output): BertSelfOutput(\n",
              "              (dense): Linear(in_features=1024, out_features=1024, bias=True)\n",
              "              (LayerNorm): LayerNorm((1024,), eps=1e-12, elementwise_affine=True)\n",
              "              (dropout): Dropout(p=0.1, inplace=False)\n",
              "            )\n",
              "          )\n",
              "          (intermediate): BertIntermediate(\n",
              "            (dense): Linear(in_features=1024, out_features=4096, bias=True)\n",
              "          )\n",
              "          (output): BertOutput(\n",
              "            (dense): Linear(in_features=4096, out_features=1024, bias=True)\n",
              "            (LayerNorm): LayerNorm((1024,), eps=1e-12, elementwise_affine=True)\n",
              "            (dropout): Dropout(p=0.1, inplace=False)\n",
              "          )\n",
              "        )\n",
              "        (23): BertLayer(\n",
              "          (attention): BertAttention(\n",
              "            (self): BertSelfAttention(\n",
              "              (query): Linear(in_features=1024, out_features=1024, bias=True)\n",
              "              (key): Linear(in_features=1024, out_features=1024, bias=True)\n",
              "              (value): Linear(in_features=1024, out_features=1024, bias=True)\n",
              "              (dropout): Dropout(p=0.1, inplace=False)\n",
              "            )\n",
              "            (output): BertSelfOutput(\n",
              "              (dense): Linear(in_features=1024, out_features=1024, bias=True)\n",
              "              (LayerNorm): LayerNorm((1024,), eps=1e-12, elementwise_affine=True)\n",
              "              (dropout): Dropout(p=0.1, inplace=False)\n",
              "            )\n",
              "          )\n",
              "          (intermediate): BertIntermediate(\n",
              "            (dense): Linear(in_features=1024, out_features=4096, bias=True)\n",
              "          )\n",
              "          (output): BertOutput(\n",
              "            (dense): Linear(in_features=4096, out_features=1024, bias=True)\n",
              "            (LayerNorm): LayerNorm((1024,), eps=1e-12, elementwise_affine=True)\n",
              "            (dropout): Dropout(p=0.1, inplace=False)\n",
              "          )\n",
              "        )\n",
              "      )\n",
              "    )\n",
              "  )\n",
              "  (cls): BertOnlyMLMHead(\n",
              "    (predictions): BertLMPredictionHead(\n",
              "      (transform): BertPredictionHeadTransform(\n",
              "        (dense): Linear(in_features=1024, out_features=1024, bias=True)\n",
              "        (LayerNorm): LayerNorm((1024,), eps=1e-12, elementwise_affine=True)\n",
              "      )\n",
              "      (decoder): Linear(in_features=1024, out_features=30522, bias=True)\n",
              "    )\n",
              "  )\n",
              ")"
            ]
          },
          "metadata": {
            "tags": []
          },
          "execution_count": 29
        }
      ]
    },
    {
      "cell_type": "code",
      "metadata": {
        "colab": {
          "base_uri": "https://localhost:8080/"
        },
        "id": "IF6vYgEATd57",
        "outputId": "71848573-d933-45b7-c71e-2303818c9bfa"
      },
      "source": [
        "!nvidia-smi"
      ],
      "execution_count": null,
      "outputs": [
        {
          "output_type": "stream",
          "text": [
            "Sun Jan 17 10:43:19 2021       \n",
            "+-----------------------------------------------------------------------------+\n",
            "| NVIDIA-SMI 460.27.04    Driver Version: 418.67       CUDA Version: 10.1     |\n",
            "|-------------------------------+----------------------+----------------------+\n",
            "| GPU  Name        Persistence-M| Bus-Id        Disp.A | Volatile Uncorr. ECC |\n",
            "| Fan  Temp  Perf  Pwr:Usage/Cap|         Memory-Usage | GPU-Util  Compute M. |\n",
            "|                               |                      |               MIG M. |\n",
            "|===============================+======================+======================|\n",
            "|   0  Tesla P100-PCIE...  Off  | 00000000:00:04.0 Off |                    0 |\n",
            "| N/A   36C    P0    32W / 250W |   2199MiB / 16280MiB |      0%      Default |\n",
            "|                               |                      |                 ERR! |\n",
            "+-------------------------------+----------------------+----------------------+\n",
            "                                                                               \n",
            "+-----------------------------------------------------------------------------+\n",
            "| Processes:                                                                  |\n",
            "|  GPU   GI   CI        PID   Type   Process name                  GPU Memory |\n",
            "|        ID   ID                                                   Usage      |\n",
            "|=============================================================================|\n",
            "|  No running processes found                                                 |\n",
            "+-----------------------------------------------------------------------------+\n"
          ],
          "name": "stdout"
        }
      ]
    },
    {
      "cell_type": "markdown",
      "metadata": {
        "id": "0nEqBECwWTi3"
      },
      "source": [
        "TRAIN Loop Snippet : "
      ]
    },
    {
      "cell_type": "code",
      "metadata": {
        "colab": {
          "base_uri": "https://localhost:8080/"
        },
        "id": "tCG51UtIWSDY",
        "outputId": "b7a32ad2-9796-458e-e502-851c15d16ffb"
      },
      "source": [
        "correct_ans = 0\n",
        "wrong_list = []\n",
        "total_ans = 0\n",
        "\n",
        "for _ in trange(int(num_train_epochs), desc=\"Epoch\"):\n",
        "    tr_loss = 0\n",
        "    nb_tr_examples, nb_tr_steps = 0, 0\n",
        "    \n",
        "    for step, batch in enumerate(tqdm(train_dataloader, desc=\"Iteration\")):\n",
        "        batch = tuple(t.to(device) for t in batch)\n",
        "        input_ids, input_mask, segment_ids, label, lm_label_ids = batch\n",
        "\n",
        "        outputs = model(input_ids, attention_mask=input_mask, labels=lm_label_ids, token_type_ids = segment_ids)   #TOkens with labels set to -100 are ignored             \n",
        "        loss = outputs.loss\n",
        "\n",
        "        if n_gpu > 1:\n",
        "            loss = loss.mean() # mean() to average on multi-gpu.\n",
        "        if fp16 and loss_scale != 1.0:\n",
        "            # rescale loss for fp16 training\n",
        "            # see https://docs.nvidia.com/deeplearning/sdk/mixed-precision-training/index.html\n",
        "            loss = loss * loss_scale\n",
        "        if gradient_accumulation_steps > 1:\n",
        "            loss = loss / gradient_accumulation_steps\n",
        "\n",
        "        loss.backward()\n",
        "\n",
        "        tr_loss += loss.item()\n",
        "        nb_tr_steps += 1\n",
        "        if (step + 1) % gradient_accumulation_steps == 0:\n",
        "            if fp16 or optimize_on_cpu:\n",
        "                if fp16 and loss_scale != 1.0:\n",
        "                    # scale down gradients for fp16 training\n",
        "                    for param in model.parameters():\n",
        "                        if param.grad is not None:\n",
        "                            param.grad.data = param.grad.data / loss_scale\n",
        "                is_nan = set_optimizer_params_grad(param_optimizer, model.named_parameters(), test_nan=True)\n",
        "                if is_nan:\n",
        "                    logger.info(\"FP16 TRAINING: Nan in gradients, reducing loss scaling\")\n",
        "                    loss_scale = loss_scale / 2\n",
        "                    model.zero_grad()\n",
        "                    continue\n",
        "                optimizer.step()\n",
        "                copy_optimizer_params_to_model(model.named_parameters(), param_optimizer)\n",
        "            else:\n",
        "                optimizer.step()\n",
        "\n",
        "            train_loss = tr_loss / nb_tr_steps\n",
        "            print(\"\\tTraining loss : \", train_loss)\n",
        "\n",
        "            model.zero_grad()\n",
        "            global_step += 1\n",
        "            \n",
        "          \n",
        "torch.save({\n",
        "    'model': model.state_dict()\n",
        "}, 'saved_file_3.txt')\n",
        "   \n"
      ],
      "execution_count": 30,
      "outputs": [
        {
          "output_type": "stream",
          "text": [
            "Epoch:   0%|          | 0/3 [00:00<?, ?it/s]\n",
            "Iteration:   0%|          | 0/807 [00:00<?, ?it/s]\u001b[A\n",
            "Iteration:   0%|          | 1/807 [00:00<08:07,  1.65it/s]\u001b[A\n",
            "Iteration:   0%|          | 2/807 [00:01<07:59,  1.68it/s]\u001b[A\n",
            "Iteration:   0%|          | 3/807 [00:01<07:56,  1.69it/s]\u001b[A\n",
            "Iteration:   0%|          | 4/807 [00:02<08:23,  1.60it/s]\u001b[A"
          ],
          "name": "stderr"
        },
        {
          "output_type": "stream",
          "text": [
            "\tTraining loss :  1.2155051082372665\n"
          ],
          "name": "stdout"
        },
        {
          "output_type": "stream",
          "text": [
            "\n",
            "Iteration:   1%|          | 5/807 [00:03<08:09,  1.64it/s]\u001b[A\n",
            "Iteration:   1%|          | 6/807 [00:03<08:03,  1.66it/s]\u001b[A\n",
            "Iteration:   1%|          | 7/807 [00:04<07:55,  1.68it/s]\u001b[A\n",
            "Iteration:   1%|          | 8/807 [00:04<08:21,  1.59it/s]\u001b[A"
          ],
          "name": "stderr"
        },
        {
          "output_type": "stream",
          "text": [
            "\tTraining loss :  1.2125826105475426\n"
          ],
          "name": "stdout"
        },
        {
          "output_type": "stream",
          "text": [
            "\n",
            "Iteration:   1%|          | 9/807 [00:05<08:07,  1.64it/s]\u001b[A\n",
            "Iteration:   1%|          | 10/807 [00:06<08:01,  1.65it/s]\u001b[A\n",
            "Iteration:   1%|▏         | 11/807 [00:06<07:55,  1.68it/s]\u001b[A\n",
            "Iteration:   1%|▏         | 12/807 [00:07<08:20,  1.59it/s]\u001b[A"
          ],
          "name": "stderr"
        },
        {
          "output_type": "stream",
          "text": [
            "\tTraining loss :  1.1888723820447922\n"
          ],
          "name": "stdout"
        },
        {
          "output_type": "stream",
          "text": [
            "\n",
            "Iteration:   2%|▏         | 13/807 [00:07<08:07,  1.63it/s]\u001b[A\n",
            "Iteration:   2%|▏         | 14/807 [00:08<08:01,  1.65it/s]\u001b[A\n",
            "Iteration:   2%|▏         | 15/807 [00:09<07:54,  1.67it/s]\u001b[A\n",
            "Iteration:   2%|▏         | 16/807 [00:09<08:19,  1.58it/s]\u001b[A"
          ],
          "name": "stderr"
        },
        {
          "output_type": "stream",
          "text": [
            "\tTraining loss :  1.2709757946431637\n"
          ],
          "name": "stdout"
        },
        {
          "output_type": "stream",
          "text": [
            "\n",
            "Iteration:   2%|▏         | 17/807 [00:10<08:06,  1.62it/s]\u001b[A\n",
            "Iteration:   2%|▏         | 18/807 [00:10<07:59,  1.65it/s]\u001b[A\n",
            "Iteration:   2%|▏         | 19/807 [00:11<07:53,  1.66it/s]\u001b[A\n",
            "Iteration:   2%|▏         | 20/807 [00:12<08:18,  1.58it/s]\u001b[A"
          ],
          "name": "stderr"
        },
        {
          "output_type": "stream",
          "text": [
            "\tTraining loss :  1.2403174459934234\n"
          ],
          "name": "stdout"
        },
        {
          "output_type": "stream",
          "text": [
            "\n",
            "Iteration:   3%|▎         | 21/807 [00:12<08:06,  1.62it/s]\u001b[A\n",
            "Iteration:   3%|▎         | 22/807 [00:13<08:00,  1.63it/s]\u001b[A\n",
            "Iteration:   3%|▎         | 23/807 [00:14<07:53,  1.66it/s]\u001b[A\n",
            "Iteration:   3%|▎         | 24/807 [00:14<08:19,  1.57it/s]\u001b[A"
          ],
          "name": "stderr"
        },
        {
          "output_type": "stream",
          "text": [
            "\tTraining loss :  1.2348821262518566\n"
          ],
          "name": "stdout"
        },
        {
          "output_type": "stream",
          "text": [
            "\n",
            "Iteration:   3%|▎         | 25/807 [00:15<08:05,  1.61it/s]\u001b[A\n",
            "Iteration:   3%|▎         | 26/807 [00:15<07:59,  1.63it/s]\u001b[A\n",
            "Iteration:   3%|▎         | 27/807 [00:16<07:52,  1.65it/s]\u001b[A\n",
            "Iteration:   3%|▎         | 28/807 [00:17<08:17,  1.56it/s]\u001b[A"
          ],
          "name": "stderr"
        },
        {
          "output_type": "stream",
          "text": [
            "\tTraining loss :  1.2009027600288391\n"
          ],
          "name": "stdout"
        },
        {
          "output_type": "stream",
          "text": [
            "\n",
            "Iteration:   4%|▎         | 29/807 [00:17<08:03,  1.61it/s]\u001b[A\n",
            "Iteration:   4%|▎         | 30/807 [00:18<07:59,  1.62it/s]\u001b[A\n",
            "Iteration:   4%|▍         | 31/807 [00:19<07:52,  1.64it/s]\u001b[A\n",
            "Iteration:   4%|▍         | 32/807 [00:19<08:16,  1.56it/s]\u001b[A"
          ],
          "name": "stderr"
        },
        {
          "output_type": "stream",
          "text": [
            "\tTraining loss :  1.1947109065949917\n"
          ],
          "name": "stdout"
        },
        {
          "output_type": "stream",
          "text": [
            "\n",
            "Iteration:   4%|▍         | 33/807 [00:20<08:04,  1.60it/s]\u001b[A\n",
            "Iteration:   4%|▍         | 34/807 [00:20<07:58,  1.61it/s]\u001b[A\n",
            "Iteration:   4%|▍         | 35/807 [00:21<07:50,  1.64it/s]\u001b[A\n",
            "Iteration:   4%|▍         | 36/807 [00:22<08:16,  1.55it/s]\u001b[A"
          ],
          "name": "stderr"
        },
        {
          "output_type": "stream",
          "text": [
            "\tTraining loss :  1.2086400936047237\n"
          ],
          "name": "stdout"
        },
        {
          "output_type": "stream",
          "text": [
            "\n",
            "Iteration:   5%|▍         | 37/807 [00:22<08:02,  1.59it/s]\u001b[A\n",
            "Iteration:   5%|▍         | 38/807 [00:23<07:58,  1.61it/s]\u001b[A\n",
            "Iteration:   5%|▍         | 39/807 [00:24<07:50,  1.63it/s]\u001b[A\n",
            "Iteration:   5%|▍         | 40/807 [00:24<08:15,  1.55it/s]\u001b[A"
          ],
          "name": "stderr"
        },
        {
          "output_type": "stream",
          "text": [
            "\tTraining loss :  1.202427753061056\n"
          ],
          "name": "stdout"
        },
        {
          "output_type": "stream",
          "text": [
            "\n",
            "Iteration:   5%|▌         | 41/807 [00:25<08:01,  1.59it/s]\u001b[A\n",
            "Iteration:   5%|▌         | 42/807 [00:25<07:54,  1.61it/s]\u001b[A\n",
            "Iteration:   5%|▌         | 43/807 [00:26<07:45,  1.64it/s]\u001b[A\n",
            "Iteration:   5%|▌         | 44/807 [00:27<08:09,  1.56it/s]\u001b[A"
          ],
          "name": "stderr"
        },
        {
          "output_type": "stream",
          "text": [
            "\tTraining loss :  1.2112522714517333\n"
          ],
          "name": "stdout"
        },
        {
          "output_type": "stream",
          "text": [
            "\n",
            "Iteration:   6%|▌         | 45/807 [00:27<07:56,  1.60it/s]\u001b[A\n",
            "Iteration:   6%|▌         | 46/807 [00:28<07:50,  1.62it/s]\u001b[A\n",
            "Iteration:   6%|▌         | 47/807 [00:29<07:42,  1.64it/s]\u001b[A\n",
            "Iteration:   6%|▌         | 48/807 [00:29<08:07,  1.56it/s]\u001b[A"
          ],
          "name": "stderr"
        },
        {
          "output_type": "stream",
          "text": [
            "\tTraining loss :  1.2163500276704629\n"
          ],
          "name": "stdout"
        },
        {
          "output_type": "stream",
          "text": [
            "\n",
            "Iteration:   6%|▌         | 49/807 [00:30<07:55,  1.60it/s]\u001b[A\n",
            "Iteration:   6%|▌         | 50/807 [00:30<07:49,  1.61it/s]\u001b[A\n",
            "Iteration:   6%|▋         | 51/807 [00:31<07:43,  1.63it/s]\u001b[A\n",
            "Iteration:   6%|▋         | 52/807 [00:32<08:07,  1.55it/s]\u001b[A"
          ],
          "name": "stderr"
        },
        {
          "output_type": "stream",
          "text": [
            "\tTraining loss :  1.226617225087606\n"
          ],
          "name": "stdout"
        },
        {
          "output_type": "stream",
          "text": [
            "\n",
            "Iteration:   7%|▋         | 53/807 [00:32<07:53,  1.59it/s]\u001b[A\n",
            "Iteration:   7%|▋         | 54/807 [00:33<07:48,  1.61it/s]\u001b[A\n",
            "Iteration:   7%|▋         | 55/807 [00:34<07:39,  1.64it/s]\u001b[A\n",
            "Iteration:   7%|▋         | 56/807 [00:34<08:04,  1.55it/s]\u001b[A"
          ],
          "name": "stderr"
        },
        {
          "output_type": "stream",
          "text": [
            "\tTraining loss :  1.2171208315661974\n"
          ],
          "name": "stdout"
        },
        {
          "output_type": "stream",
          "text": [
            "\n",
            "Iteration:   7%|▋         | 57/807 [00:35<07:55,  1.58it/s]\u001b[A\n",
            "Iteration:   7%|▋         | 58/807 [00:35<07:49,  1.60it/s]\u001b[A\n",
            "Iteration:   7%|▋         | 59/807 [00:36<07:41,  1.62it/s]\u001b[A\n",
            "Iteration:   7%|▋         | 60/807 [00:37<08:04,  1.54it/s]\u001b[A"
          ],
          "name": "stderr"
        },
        {
          "output_type": "stream",
          "text": [
            "\tTraining loss :  1.2115328361590703\n"
          ],
          "name": "stdout"
        },
        {
          "output_type": "stream",
          "text": [
            "\n",
            "Iteration:   8%|▊         | 61/807 [00:37<07:53,  1.58it/s]\u001b[A\n",
            "Iteration:   8%|▊         | 62/807 [00:38<07:47,  1.59it/s]\u001b[A\n",
            "Iteration:   8%|▊         | 63/807 [00:39<07:39,  1.62it/s]\u001b[A\n",
            "Iteration:   8%|▊         | 64/807 [00:39<08:03,  1.54it/s]\u001b[A"
          ],
          "name": "stderr"
        },
        {
          "output_type": "stream",
          "text": [
            "\tTraining loss :  1.2025420106947422\n"
          ],
          "name": "stdout"
        },
        {
          "output_type": "stream",
          "text": [
            "\n",
            "Iteration:   8%|▊         | 65/807 [00:40<07:51,  1.57it/s]\u001b[A\n",
            "Iteration:   8%|▊         | 66/807 [00:41<07:45,  1.59it/s]\u001b[A\n",
            "Iteration:   8%|▊         | 67/807 [00:41<07:36,  1.62it/s]\u001b[A\n",
            "Iteration:   8%|▊         | 68/807 [00:42<08:00,  1.54it/s]\u001b[A"
          ],
          "name": "stderr"
        },
        {
          "output_type": "stream",
          "text": [
            "\tTraining loss :  1.1985693100620718\n"
          ],
          "name": "stdout"
        },
        {
          "output_type": "stream",
          "text": [
            "\n",
            "Iteration:   9%|▊         | 69/807 [00:42<07:49,  1.57it/s]\u001b[A\n",
            "Iteration:   9%|▊         | 70/807 [00:43<07:42,  1.59it/s]\u001b[A\n",
            "Iteration:   9%|▉         | 71/807 [00:44<07:35,  1.62it/s]\u001b[A\n",
            "Iteration:   9%|▉         | 72/807 [00:44<07:58,  1.54it/s]\u001b[A"
          ],
          "name": "stderr"
        },
        {
          "output_type": "stream",
          "text": [
            "\tTraining loss :  1.2082208792368572\n"
          ],
          "name": "stdout"
        },
        {
          "output_type": "stream",
          "text": [
            "\n",
            "Iteration:   9%|▉         | 73/807 [00:45<07:47,  1.57it/s]\u001b[A\n",
            "Iteration:   9%|▉         | 74/807 [00:46<07:41,  1.59it/s]\u001b[A\n",
            "Iteration:   9%|▉         | 75/807 [00:46<07:34,  1.61it/s]\u001b[A\n",
            "Iteration:   9%|▉         | 76/807 [00:47<07:57,  1.53it/s]\u001b[A"
          ],
          "name": "stderr"
        },
        {
          "output_type": "stream",
          "text": [
            "\tTraining loss :  1.2182007416298515\n"
          ],
          "name": "stdout"
        },
        {
          "output_type": "stream",
          "text": [
            "\n",
            "Iteration:  10%|▉         | 77/807 [00:48<07:46,  1.56it/s]\u001b[A\n",
            "Iteration:  10%|▉         | 78/807 [00:48<07:40,  1.58it/s]\u001b[A\n",
            "Iteration:  10%|▉         | 79/807 [00:49<07:33,  1.60it/s]\u001b[A\n",
            "Iteration:  10%|▉         | 80/807 [00:49<07:57,  1.52it/s]\u001b[A"
          ],
          "name": "stderr"
        },
        {
          "output_type": "stream",
          "text": [
            "\tTraining loss :  1.220736588537693\n"
          ],
          "name": "stdout"
        },
        {
          "output_type": "stream",
          "text": [
            "\n",
            "Iteration:  10%|█         | 81/807 [00:50<07:44,  1.56it/s]\u001b[A\n",
            "Iteration:  10%|█         | 82/807 [00:51<07:40,  1.58it/s]\u001b[A\n",
            "Iteration:  10%|█         | 83/807 [00:51<07:33,  1.60it/s]\u001b[A\n",
            "Iteration:  10%|█         | 84/807 [00:52<07:54,  1.52it/s]\u001b[A"
          ],
          "name": "stderr"
        },
        {
          "output_type": "stream",
          "text": [
            "\tTraining loss :  1.2282079756259918\n"
          ],
          "name": "stdout"
        },
        {
          "output_type": "stream",
          "text": [
            "\n",
            "Iteration:  11%|█         | 85/807 [00:53<07:44,  1.55it/s]\u001b[A\n",
            "Iteration:  11%|█         | 86/807 [00:53<07:37,  1.58it/s]\u001b[A\n",
            "Iteration:  11%|█         | 87/807 [00:54<07:31,  1.60it/s]\u001b[A\n",
            "Iteration:  11%|█         | 88/807 [00:55<07:54,  1.52it/s]\u001b[A"
          ],
          "name": "stderr"
        },
        {
          "output_type": "stream",
          "text": [
            "\tTraining loss :  1.2310641035437584\n"
          ],
          "name": "stdout"
        },
        {
          "output_type": "stream",
          "text": [
            "\n",
            "Iteration:  11%|█         | 89/807 [00:55<07:43,  1.55it/s]\u001b[A\n",
            "Iteration:  11%|█         | 90/807 [00:56<07:38,  1.56it/s]\u001b[A\n",
            "Iteration:  11%|█▏        | 91/807 [00:56<07:30,  1.59it/s]\u001b[A\n",
            "Iteration:  11%|█▏        | 92/807 [00:57<07:52,  1.51it/s]\u001b[A"
          ],
          "name": "stderr"
        },
        {
          "output_type": "stream",
          "text": [
            "\tTraining loss :  1.2419702741114989\n"
          ],
          "name": "stdout"
        },
        {
          "output_type": "stream",
          "text": [
            "\n",
            "Iteration:  12%|█▏        | 93/807 [00:58<07:41,  1.55it/s]\u001b[A\n",
            "Iteration:  12%|█▏        | 94/807 [00:58<07:35,  1.57it/s]\u001b[A\n",
            "Iteration:  12%|█▏        | 95/807 [00:59<07:29,  1.58it/s]\u001b[A\n",
            "Iteration:  12%|█▏        | 96/807 [01:00<07:50,  1.51it/s]\u001b[A"
          ],
          "name": "stderr"
        },
        {
          "output_type": "stream",
          "text": [
            "\tTraining loss :  1.2377210191140573\n"
          ],
          "name": "stdout"
        },
        {
          "output_type": "stream",
          "text": [
            "\n",
            "Iteration:  12%|█▏        | 97/807 [01:00<07:38,  1.55it/s]\u001b[A\n",
            "Iteration:  12%|█▏        | 98/807 [01:01<07:32,  1.57it/s]\u001b[A\n",
            "Iteration:  12%|█▏        | 99/807 [01:02<07:27,  1.58it/s]\u001b[A\n",
            "Iteration:  12%|█▏        | 100/807 [01:02<07:48,  1.51it/s]\u001b[A"
          ],
          "name": "stderr"
        },
        {
          "output_type": "stream",
          "text": [
            "\tTraining loss :  1.2394172763824463\n"
          ],
          "name": "stdout"
        },
        {
          "output_type": "stream",
          "text": [
            "\n",
            "Iteration:  13%|█▎        | 101/807 [01:03<07:39,  1.54it/s]\u001b[A\n",
            "Iteration:  13%|█▎        | 102/807 [01:04<07:33,  1.55it/s]\u001b[A\n",
            "Iteration:  13%|█▎        | 103/807 [01:04<07:27,  1.57it/s]\u001b[A\n",
            "Iteration:  13%|█▎        | 104/807 [01:05<07:48,  1.50it/s]\u001b[A"
          ],
          "name": "stderr"
        },
        {
          "output_type": "stream",
          "text": [
            "\tTraining loss :  1.2472910651793847\n"
          ],
          "name": "stdout"
        },
        {
          "output_type": "stream",
          "text": [
            "\n",
            "Iteration:  13%|█▎        | 105/807 [01:06<07:36,  1.54it/s]\u001b[A\n",
            "Iteration:  13%|█▎        | 106/807 [01:06<07:32,  1.55it/s]\u001b[A\n",
            "Iteration:  13%|█▎        | 107/807 [01:07<07:26,  1.57it/s]\u001b[A\n",
            "Iteration:  13%|█▎        | 108/807 [01:08<07:45,  1.50it/s]\u001b[A"
          ],
          "name": "stderr"
        },
        {
          "output_type": "stream",
          "text": [
            "\tTraining loss :  1.2351303503469184\n"
          ],
          "name": "stdout"
        },
        {
          "output_type": "stream",
          "text": [
            "\n",
            "Iteration:  14%|█▎        | 109/807 [01:08<07:36,  1.53it/s]\u001b[A\n",
            "Iteration:  14%|█▎        | 110/807 [01:09<07:29,  1.55it/s]\u001b[A\n",
            "Iteration:  14%|█▍        | 111/807 [01:09<07:23,  1.57it/s]\u001b[A\n",
            "Iteration:  14%|█▍        | 112/807 [01:10<07:44,  1.50it/s]\u001b[A"
          ],
          "name": "stderr"
        },
        {
          "output_type": "stream",
          "text": [
            "\tTraining loss :  1.229411795469267\n"
          ],
          "name": "stdout"
        },
        {
          "output_type": "stream",
          "text": [
            "\n",
            "Iteration:  14%|█▍        | 113/807 [01:11<07:33,  1.53it/s]\u001b[A\n",
            "Iteration:  14%|█▍        | 114/807 [01:11<07:28,  1.54it/s]\u001b[A\n",
            "Iteration:  14%|█▍        | 115/807 [01:12<07:22,  1.56it/s]\u001b[A\n",
            "Iteration:  14%|█▍        | 116/807 [01:13<07:42,  1.49it/s]\u001b[A"
          ],
          "name": "stderr"
        },
        {
          "output_type": "stream",
          "text": [
            "\tTraining loss :  1.216185236028556\n"
          ],
          "name": "stdout"
        },
        {
          "output_type": "stream",
          "text": [
            "\n",
            "Iteration:  14%|█▍        | 117/807 [01:13<07:32,  1.53it/s]\u001b[A\n",
            "Iteration:  15%|█▍        | 118/807 [01:14<07:26,  1.54it/s]\u001b[A\n",
            "Iteration:  15%|█▍        | 119/807 [01:15<07:21,  1.56it/s]\u001b[A\n",
            "Iteration:  15%|█▍        | 120/807 [01:15<07:40,  1.49it/s]\u001b[A"
          ],
          "name": "stderr"
        },
        {
          "output_type": "stream",
          "text": [
            "\tTraining loss :  1.2294888533651829\n"
          ],
          "name": "stdout"
        },
        {
          "output_type": "stream",
          "text": [
            "\n",
            "Iteration:  15%|█▍        | 121/807 [01:16<07:30,  1.52it/s]\u001b[A\n",
            "Iteration:  15%|█▌        | 122/807 [01:17<07:24,  1.54it/s]\u001b[A\n",
            "Iteration:  15%|█▌        | 123/807 [01:17<07:19,  1.56it/s]\u001b[A\n",
            "Iteration:  15%|█▌        | 124/807 [01:18<07:38,  1.49it/s]\u001b[A"
          ],
          "name": "stderr"
        },
        {
          "output_type": "stream",
          "text": [
            "\tTraining loss :  1.2259388986614443\n"
          ],
          "name": "stdout"
        },
        {
          "output_type": "stream",
          "text": [
            "\n",
            "Iteration:  15%|█▌        | 125/807 [01:19<07:29,  1.52it/s]\u001b[A\n",
            "Iteration:  16%|█▌        | 126/807 [01:19<07:23,  1.54it/s]\u001b[A\n",
            "Iteration:  16%|█▌        | 127/807 [01:20<07:16,  1.56it/s]\u001b[A\n",
            "Iteration:  16%|█▌        | 128/807 [01:21<07:38,  1.48it/s]\u001b[A"
          ],
          "name": "stderr"
        },
        {
          "output_type": "stream",
          "text": [
            "\tTraining loss :  1.232675202889368\n"
          ],
          "name": "stdout"
        },
        {
          "output_type": "stream",
          "text": [
            "\n",
            "Iteration:  16%|█▌        | 129/807 [01:21<07:27,  1.51it/s]\u001b[A\n",
            "Iteration:  16%|█▌        | 130/807 [01:22<07:22,  1.53it/s]\u001b[A\n",
            "Iteration:  16%|█▌        | 131/807 [01:23<07:17,  1.55it/s]\u001b[A\n",
            "Iteration:  16%|█▋        | 132/807 [01:23<07:37,  1.47it/s]\u001b[A"
          ],
          "name": "stderr"
        },
        {
          "output_type": "stream",
          "text": [
            "\tTraining loss :  1.234329283011682\n"
          ],
          "name": "stdout"
        },
        {
          "output_type": "stream",
          "text": [
            "\n",
            "Iteration:  16%|█▋        | 133/807 [01:24<07:27,  1.51it/s]\u001b[A\n",
            "Iteration:  17%|█▋        | 134/807 [01:25<07:20,  1.53it/s]\u001b[A\n",
            "Iteration:  17%|█▋        | 135/807 [01:25<07:15,  1.54it/s]\u001b[A\n",
            "Iteration:  17%|█▋        | 136/807 [01:26<07:34,  1.48it/s]\u001b[A"
          ],
          "name": "stderr"
        },
        {
          "output_type": "stream",
          "text": [
            "\tTraining loss :  1.228623680989532\n"
          ],
          "name": "stdout"
        },
        {
          "output_type": "stream",
          "text": [
            "\n",
            "Iteration:  17%|█▋        | 137/807 [01:27<07:24,  1.51it/s]\u001b[A\n",
            "Iteration:  17%|█▋        | 138/807 [01:27<07:19,  1.52it/s]\u001b[A\n",
            "Iteration:  17%|█▋        | 139/807 [01:28<07:13,  1.54it/s]\u001b[A\n",
            "Iteration:  17%|█▋        | 140/807 [01:29<07:32,  1.47it/s]\u001b[A"
          ],
          "name": "stderr"
        },
        {
          "output_type": "stream",
          "text": [
            "\tTraining loss :  1.2285093816263335\n"
          ],
          "name": "stdout"
        },
        {
          "output_type": "stream",
          "text": [
            "\n",
            "Iteration:  17%|█▋        | 141/807 [01:29<07:22,  1.51it/s]\u001b[A\n",
            "Iteration:  18%|█▊        | 142/807 [01:30<07:17,  1.52it/s]\u001b[A\n",
            "Iteration:  18%|█▊        | 143/807 [01:31<07:11,  1.54it/s]\u001b[A\n",
            "Iteration:  18%|█▊        | 144/807 [01:31<07:31,  1.47it/s]\u001b[A"
          ],
          "name": "stderr"
        },
        {
          "output_type": "stream",
          "text": [
            "\tTraining loss :  1.228830077374975\n"
          ],
          "name": "stdout"
        },
        {
          "output_type": "stream",
          "text": [
            "\n",
            "Iteration:  18%|█▊        | 145/807 [01:32<07:21,  1.50it/s]\u001b[A\n",
            "Iteration:  18%|█▊        | 146/807 [01:33<07:15,  1.52it/s]\u001b[A\n",
            "Iteration:  18%|█▊        | 147/807 [01:33<07:10,  1.53it/s]\u001b[A\n",
            "Iteration:  18%|█▊        | 148/807 [01:34<07:30,  1.46it/s]\u001b[A"
          ],
          "name": "stderr"
        },
        {
          "output_type": "stream",
          "text": [
            "\tTraining loss :  1.2273981166449752\n"
          ],
          "name": "stdout"
        },
        {
          "output_type": "stream",
          "text": [
            "\n",
            "Iteration:  18%|█▊        | 149/807 [01:35<07:19,  1.50it/s]\u001b[A\n",
            "Iteration:  19%|█▊        | 150/807 [01:35<07:14,  1.51it/s]\u001b[A\n",
            "Iteration:  19%|█▊        | 151/807 [01:36<07:08,  1.53it/s]\u001b[A\n",
            "Iteration:  19%|█▉        | 152/807 [01:37<07:28,  1.46it/s]\u001b[A"
          ],
          "name": "stderr"
        },
        {
          "output_type": "stream",
          "text": [
            "\tTraining loss :  1.222596027153103\n"
          ],
          "name": "stdout"
        },
        {
          "output_type": "stream",
          "text": [
            "\n",
            "Iteration:  19%|█▉        | 153/807 [01:37<07:17,  1.50it/s]\u001b[A\n",
            "Iteration:  19%|█▉        | 154/807 [01:38<07:10,  1.52it/s]\u001b[A\n",
            "Iteration:  19%|█▉        | 155/807 [01:38<07:03,  1.54it/s]\u001b[A\n",
            "Iteration:  19%|█▉        | 156/807 [01:39<07:22,  1.47it/s]\u001b[A"
          ],
          "name": "stderr"
        },
        {
          "output_type": "stream",
          "text": [
            "\tTraining loss :  1.2267922329214902\n"
          ],
          "name": "stdout"
        },
        {
          "output_type": "stream",
          "text": [
            "\n",
            "Iteration:  19%|█▉        | 157/807 [01:40<07:12,  1.50it/s]\u001b[A\n",
            "Iteration:  20%|█▉        | 158/807 [01:41<07:06,  1.52it/s]\u001b[A\n",
            "Iteration:  20%|█▉        | 159/807 [01:41<07:00,  1.54it/s]\u001b[A\n",
            "Iteration:  20%|█▉        | 160/807 [01:42<07:18,  1.48it/s]\u001b[A"
          ],
          "name": "stderr"
        },
        {
          "output_type": "stream",
          "text": [
            "\tTraining loss :  1.234203147701919\n"
          ],
          "name": "stdout"
        },
        {
          "output_type": "stream",
          "text": [
            "\n",
            "Iteration:  20%|█▉        | 161/807 [01:43<07:09,  1.50it/s]\u001b[A\n",
            "Iteration:  20%|██        | 162/807 [01:43<07:03,  1.52it/s]\u001b[A\n",
            "Iteration:  20%|██        | 163/807 [01:44<06:58,  1.54it/s]\u001b[A\n",
            "Iteration:  20%|██        | 164/807 [01:45<07:16,  1.47it/s]\u001b[A"
          ],
          "name": "stderr"
        },
        {
          "output_type": "stream",
          "text": [
            "\tTraining loss :  1.242255404773282\n"
          ],
          "name": "stdout"
        },
        {
          "output_type": "stream",
          "text": [
            "\n",
            "Iteration:  20%|██        | 165/807 [01:45<07:07,  1.50it/s]\u001b[A\n",
            "Iteration:  21%|██        | 166/807 [01:46<07:01,  1.52it/s]\u001b[A\n",
            "Iteration:  21%|██        | 167/807 [01:46<06:57,  1.53it/s]\u001b[A\n",
            "Iteration:  21%|██        | 168/807 [01:47<07:15,  1.47it/s]\u001b[A"
          ],
          "name": "stderr"
        },
        {
          "output_type": "stream",
          "text": [
            "\tTraining loss :  1.247684990188905\n"
          ],
          "name": "stdout"
        },
        {
          "output_type": "stream",
          "text": [
            "\n",
            "Iteration:  21%|██        | 169/807 [01:48<07:04,  1.50it/s]\u001b[A\n",
            "Iteration:  21%|██        | 170/807 [01:48<06:59,  1.52it/s]\u001b[A\n",
            "Iteration:  21%|██        | 171/807 [01:49<06:53,  1.54it/s]\u001b[A\n",
            "Iteration:  21%|██▏       | 172/807 [01:50<07:11,  1.47it/s]\u001b[A"
          ],
          "name": "stderr"
        },
        {
          "output_type": "stream",
          "text": [
            "\tTraining loss :  1.2485425976473232\n"
          ],
          "name": "stdout"
        },
        {
          "output_type": "stream",
          "text": [
            "\n",
            "Iteration:  21%|██▏       | 173/807 [01:50<07:03,  1.50it/s]\u001b[A\n",
            "Iteration:  22%|██▏       | 174/807 [01:51<06:57,  1.51it/s]\u001b[A\n",
            "Iteration:  22%|██▏       | 175/807 [01:52<06:53,  1.53it/s]\u001b[A\n",
            "Iteration:  22%|██▏       | 176/807 [01:53<07:12,  1.46it/s]\u001b[A"
          ],
          "name": "stderr"
        },
        {
          "output_type": "stream",
          "text": [
            "\tTraining loss :  1.2457677909935063\n"
          ],
          "name": "stdout"
        },
        {
          "output_type": "stream",
          "text": [
            "\n",
            "Iteration:  22%|██▏       | 177/807 [01:53<07:01,  1.49it/s]\u001b[A\n",
            "Iteration:  22%|██▏       | 178/807 [01:54<06:56,  1.51it/s]\u001b[A\n",
            "Iteration:  22%|██▏       | 179/807 [01:54<06:51,  1.53it/s]\u001b[A\n",
            "Iteration:  22%|██▏       | 180/807 [01:55<07:08,  1.46it/s]\u001b[A"
          ],
          "name": "stderr"
        },
        {
          "output_type": "stream",
          "text": [
            "\tTraining loss :  1.246821788781219\n"
          ],
          "name": "stdout"
        },
        {
          "output_type": "stream",
          "text": [
            "\n",
            "Iteration:  22%|██▏       | 181/807 [01:56<06:59,  1.49it/s]\u001b[A\n",
            "Iteration:  23%|██▎       | 182/807 [01:56<06:54,  1.51it/s]\u001b[A\n",
            "Iteration:  23%|██▎       | 183/807 [01:57<06:49,  1.52it/s]\u001b[A\n",
            "Iteration:  23%|██▎       | 184/807 [01:58<07:06,  1.46it/s]\u001b[A"
          ],
          "name": "stderr"
        },
        {
          "output_type": "stream",
          "text": [
            "\tTraining loss :  1.2476519389968852\n"
          ],
          "name": "stdout"
        },
        {
          "output_type": "stream",
          "text": [
            "\n",
            "Iteration:  23%|██▎       | 185/807 [01:59<06:57,  1.49it/s]\u001b[A\n",
            "Iteration:  23%|██▎       | 186/807 [01:59<06:51,  1.51it/s]\u001b[A\n",
            "Iteration:  23%|██▎       | 187/807 [02:00<06:47,  1.52it/s]\u001b[A\n",
            "Iteration:  23%|██▎       | 188/807 [02:01<07:04,  1.46it/s]\u001b[A"
          ],
          "name": "stderr"
        },
        {
          "output_type": "stream",
          "text": [
            "\tTraining loss :  1.2460570524030543\n"
          ],
          "name": "stdout"
        },
        {
          "output_type": "stream",
          "text": [
            "\n",
            "Iteration:  23%|██▎       | 189/807 [02:01<06:55,  1.49it/s]\u001b[A\n",
            "Iteration:  24%|██▎       | 190/807 [02:02<06:49,  1.51it/s]\u001b[A\n",
            "Iteration:  24%|██▎       | 191/807 [02:02<06:44,  1.52it/s]\u001b[A\n",
            "Iteration:  24%|██▍       | 192/807 [02:03<07:01,  1.46it/s]\u001b[A"
          ],
          "name": "stderr"
        },
        {
          "output_type": "stream",
          "text": [
            "\tTraining loss :  1.2502404797511797\n"
          ],
          "name": "stdout"
        },
        {
          "output_type": "stream",
          "text": [
            "\n",
            "Iteration:  24%|██▍       | 193/807 [02:04<06:52,  1.49it/s]\u001b[A\n",
            "Iteration:  24%|██▍       | 194/807 [02:05<06:46,  1.51it/s]\u001b[A\n",
            "Iteration:  24%|██▍       | 195/807 [02:05<06:42,  1.52it/s]\u001b[A\n",
            "Iteration:  24%|██▍       | 196/807 [02:06<06:59,  1.45it/s]\u001b[A"
          ],
          "name": "stderr"
        },
        {
          "output_type": "stream",
          "text": [
            "\tTraining loss :  1.2465069435384808\n"
          ],
          "name": "stdout"
        },
        {
          "output_type": "stream",
          "text": [
            "\n",
            "Iteration:  24%|██▍       | 197/807 [02:07<06:51,  1.48it/s]\u001b[A\n",
            "Iteration:  25%|██▍       | 198/807 [02:07<06:45,  1.50it/s]\u001b[A\n",
            "Iteration:  25%|██▍       | 199/807 [02:08<06:41,  1.52it/s]\u001b[A\n",
            "Iteration:  25%|██▍       | 200/807 [02:09<06:58,  1.45it/s]\u001b[A"
          ],
          "name": "stderr"
        },
        {
          "output_type": "stream",
          "text": [
            "\tTraining loss :  1.2502489419281482\n"
          ],
          "name": "stdout"
        },
        {
          "output_type": "stream",
          "text": [
            "\n",
            "Iteration:  25%|██▍       | 201/807 [02:09<06:49,  1.48it/s]\u001b[A\n",
            "Iteration:  25%|██▌       | 202/807 [02:10<06:44,  1.50it/s]\u001b[A\n",
            "Iteration:  25%|██▌       | 203/807 [02:11<06:39,  1.51it/s]\u001b[A\n",
            "Iteration:  25%|██▌       | 204/807 [02:11<06:56,  1.45it/s]\u001b[A"
          ],
          "name": "stderr"
        },
        {
          "output_type": "stream",
          "text": [
            "\tTraining loss :  1.2523224670805184\n"
          ],
          "name": "stdout"
        },
        {
          "output_type": "stream",
          "text": [
            "\n",
            "Iteration:  25%|██▌       | 205/807 [02:12<06:47,  1.48it/s]\u001b[A\n",
            "Iteration:  26%|██▌       | 206/807 [02:13<06:42,  1.49it/s]\u001b[A\n",
            "Iteration:  26%|██▌       | 207/807 [02:13<06:37,  1.51it/s]\u001b[A\n",
            "Iteration:  26%|██▌       | 208/807 [02:14<06:54,  1.45it/s]\u001b[A"
          ],
          "name": "stderr"
        },
        {
          "output_type": "stream",
          "text": [
            "\tTraining loss :  1.2548125318896313\n"
          ],
          "name": "stdout"
        },
        {
          "output_type": "stream",
          "text": [
            "\n",
            "Iteration:  26%|██▌       | 209/807 [02:15<06:45,  1.47it/s]\u001b[A\n",
            "Iteration:  26%|██▌       | 210/807 [02:15<06:39,  1.49it/s]\u001b[A\n",
            "Iteration:  26%|██▌       | 211/807 [02:16<06:35,  1.51it/s]\u001b[A\n",
            "Iteration:  26%|██▋       | 212/807 [02:17<06:52,  1.44it/s]\u001b[A"
          ],
          "name": "stderr"
        },
        {
          "output_type": "stream",
          "text": [
            "\tTraining loss :  1.2486887645890128\n"
          ],
          "name": "stdout"
        },
        {
          "output_type": "stream",
          "text": [
            "\n",
            "Iteration:  26%|██▋       | 213/807 [02:17<06:44,  1.47it/s]\u001b[A\n",
            "Iteration:  27%|██▋       | 214/807 [02:18<06:38,  1.49it/s]\u001b[A\n",
            "Iteration:  27%|██▋       | 215/807 [02:19<06:33,  1.50it/s]\u001b[A\n",
            "Iteration:  27%|██▋       | 216/807 [02:19<06:50,  1.44it/s]\u001b[A"
          ],
          "name": "stderr"
        },
        {
          "output_type": "stream",
          "text": [
            "\tTraining loss :  1.255165211442444\n"
          ],
          "name": "stdout"
        },
        {
          "output_type": "stream",
          "text": [
            "\n",
            "Iteration:  27%|██▋       | 217/807 [02:20<06:41,  1.47it/s]\u001b[A\n",
            "Iteration:  27%|██▋       | 218/807 [02:21<06:35,  1.49it/s]\u001b[A\n",
            "Iteration:  27%|██▋       | 219/807 [02:21<06:31,  1.50it/s]\u001b[A\n",
            "Iteration:  27%|██▋       | 220/807 [02:22<06:48,  1.44it/s]\u001b[A"
          ],
          "name": "stderr"
        },
        {
          "output_type": "stream",
          "text": [
            "\tTraining loss :  1.2553552406755362\n"
          ],
          "name": "stdout"
        },
        {
          "output_type": "stream",
          "text": [
            "\n",
            "Iteration:  27%|██▋       | 221/807 [02:23<06:40,  1.46it/s]\u001b[A\n",
            "Iteration:  28%|██▊       | 222/807 [02:23<06:34,  1.48it/s]\u001b[A\n",
            "Iteration:  28%|██▊       | 223/807 [02:24<06:28,  1.50it/s]\u001b[A\n",
            "Iteration:  28%|██▊       | 224/807 [02:25<06:45,  1.44it/s]\u001b[A"
          ],
          "name": "stderr"
        },
        {
          "output_type": "stream",
          "text": [
            "\tTraining loss :  1.2471176938020758\n"
          ],
          "name": "stdout"
        },
        {
          "output_type": "stream",
          "text": [
            "\n",
            "Iteration:  28%|██▊       | 225/807 [02:26<06:37,  1.46it/s]\u001b[A\n",
            "Iteration:  28%|██▊       | 226/807 [02:26<06:30,  1.49it/s]\u001b[A\n",
            "Iteration:  28%|██▊       | 227/807 [02:27<06:26,  1.50it/s]\u001b[A\n",
            "Iteration:  28%|██▊       | 228/807 [02:28<06:42,  1.44it/s]\u001b[A"
          ],
          "name": "stderr"
        },
        {
          "output_type": "stream",
          "text": [
            "\tTraining loss :  1.2501469289785938\n"
          ],
          "name": "stdout"
        },
        {
          "output_type": "stream",
          "text": [
            "\n",
            "Iteration:  28%|██▊       | 229/807 [02:28<06:33,  1.47it/s]\u001b[A\n",
            "Iteration:  29%|██▊       | 230/807 [02:29<06:27,  1.49it/s]\u001b[A\n",
            "Iteration:  29%|██▊       | 231/807 [02:30<06:22,  1.51it/s]\u001b[A\n",
            "Iteration:  29%|██▊       | 232/807 [02:30<06:38,  1.44it/s]\u001b[A"
          ],
          "name": "stderr"
        },
        {
          "output_type": "stream",
          "text": [
            "\tTraining loss :  1.248784115987605\n"
          ],
          "name": "stdout"
        },
        {
          "output_type": "stream",
          "text": [
            "\n",
            "Iteration:  29%|██▉       | 233/807 [02:31<06:31,  1.47it/s]\u001b[A\n",
            "Iteration:  29%|██▉       | 234/807 [02:32<06:25,  1.49it/s]\u001b[A\n",
            "Iteration:  29%|██▉       | 235/807 [02:32<06:20,  1.50it/s]\u001b[A\n",
            "Iteration:  29%|██▉       | 236/807 [02:33<06:36,  1.44it/s]\u001b[A"
          ],
          "name": "stderr"
        },
        {
          "output_type": "stream",
          "text": [
            "\tTraining loss :  1.250043026597823\n"
          ],
          "name": "stdout"
        },
        {
          "output_type": "stream",
          "text": [
            "\n",
            "Iteration:  29%|██▉       | 237/807 [02:34<06:28,  1.47it/s]\u001b[A\n",
            "Iteration:  29%|██▉       | 238/807 [02:34<06:23,  1.48it/s]\u001b[A\n",
            "Iteration:  30%|██▉       | 239/807 [02:35<06:19,  1.50it/s]\u001b[A\n",
            "Iteration:  30%|██▉       | 240/807 [02:36<06:35,  1.43it/s]\u001b[A"
          ],
          "name": "stderr"
        },
        {
          "output_type": "stream",
          "text": [
            "\tTraining loss :  1.2522980661441883\n"
          ],
          "name": "stdout"
        },
        {
          "output_type": "stream",
          "text": [
            "\n",
            "Iteration:  30%|██▉       | 241/807 [02:36<06:28,  1.46it/s]\u001b[A\n",
            "Iteration:  30%|██▉       | 242/807 [02:37<06:21,  1.48it/s]\u001b[A\n",
            "Iteration:  30%|███       | 243/807 [02:38<06:17,  1.50it/s]\u001b[A\n",
            "Iteration:  30%|███       | 244/807 [02:38<06:33,  1.43it/s]\u001b[A"
          ],
          "name": "stderr"
        },
        {
          "output_type": "stream",
          "text": [
            "\tTraining loss :  1.2627543920620543\n"
          ],
          "name": "stdout"
        },
        {
          "output_type": "stream",
          "text": [
            "\n",
            "Iteration:  30%|███       | 245/807 [02:39<06:23,  1.47it/s]\u001b[A\n",
            "Iteration:  30%|███       | 246/807 [02:40<06:18,  1.48it/s]\u001b[A\n",
            "Iteration:  31%|███       | 247/807 [02:40<06:13,  1.50it/s]\u001b[A\n",
            "Iteration:  31%|███       | 248/807 [02:41<06:29,  1.44it/s]\u001b[A"
          ],
          "name": "stderr"
        },
        {
          "output_type": "stream",
          "text": [
            "\tTraining loss :  1.257175593006034\n"
          ],
          "name": "stdout"
        },
        {
          "output_type": "stream",
          "text": [
            "\n",
            "Iteration:  31%|███       | 249/807 [02:42<06:21,  1.46it/s]\u001b[A\n",
            "Iteration:  31%|███       | 250/807 [02:42<06:15,  1.48it/s]\u001b[A\n",
            "Iteration:  31%|███       | 251/807 [02:43<06:11,  1.50it/s]\u001b[A\n",
            "Iteration:  31%|███       | 252/807 [02:44<06:26,  1.44it/s]\u001b[A"
          ],
          "name": "stderr"
        },
        {
          "output_type": "stream",
          "text": [
            "\tTraining loss :  1.2575453807200705\n"
          ],
          "name": "stdout"
        },
        {
          "output_type": "stream",
          "text": [
            "\n",
            "Iteration:  31%|███▏      | 253/807 [02:45<06:17,  1.47it/s]\u001b[A\n",
            "Iteration:  31%|███▏      | 254/807 [02:45<06:12,  1.48it/s]\u001b[A\n",
            "Iteration:  32%|███▏      | 255/807 [02:46<06:07,  1.50it/s]\u001b[A\n",
            "Iteration:  32%|███▏      | 256/807 [02:47<06:23,  1.44it/s]\u001b[A"
          ],
          "name": "stderr"
        },
        {
          "output_type": "stream",
          "text": [
            "\tTraining loss :  1.2595393775263801\n"
          ],
          "name": "stdout"
        },
        {
          "output_type": "stream",
          "text": [
            "\n",
            "Iteration:  32%|███▏      | 257/807 [02:47<06:14,  1.47it/s]\u001b[A\n",
            "Iteration:  32%|███▏      | 258/807 [02:48<06:09,  1.49it/s]\u001b[A\n",
            "Iteration:  32%|███▏      | 259/807 [02:49<06:05,  1.50it/s]\u001b[A\n",
            "Iteration:  32%|███▏      | 260/807 [02:49<06:20,  1.44it/s]\u001b[A"
          ],
          "name": "stderr"
        },
        {
          "output_type": "stream",
          "text": [
            "\tTraining loss :  1.2611575100284356\n"
          ],
          "name": "stdout"
        },
        {
          "output_type": "stream",
          "text": [
            "\n",
            "Iteration:  32%|███▏      | 261/807 [02:50<06:11,  1.47it/s]\u001b[A\n",
            "Iteration:  32%|███▏      | 262/807 [02:51<06:06,  1.49it/s]\u001b[A\n",
            "Iteration:  33%|███▎      | 263/807 [02:51<06:01,  1.50it/s]\u001b[A\n",
            "Iteration:  33%|███▎      | 264/807 [02:52<06:16,  1.44it/s]\u001b[A"
          ],
          "name": "stderr"
        },
        {
          "output_type": "stream",
          "text": [
            "\tTraining loss :  1.2665173967905117\n"
          ],
          "name": "stdout"
        },
        {
          "output_type": "stream",
          "text": [
            "\n",
            "Iteration:  33%|███▎      | 265/807 [02:53<06:08,  1.47it/s]\u001b[A\n",
            "Iteration:  33%|███▎      | 266/807 [02:53<06:03,  1.49it/s]\u001b[A\n",
            "Iteration:  33%|███▎      | 267/807 [02:54<05:58,  1.51it/s]\u001b[A\n",
            "Iteration:  33%|███▎      | 268/807 [02:55<06:14,  1.44it/s]\u001b[A"
          ],
          "name": "stderr"
        },
        {
          "output_type": "stream",
          "text": [
            "\tTraining loss :  1.2682404852847555\n"
          ],
          "name": "stdout"
        },
        {
          "output_type": "stream",
          "text": [
            "\n",
            "Iteration:  33%|███▎      | 269/807 [02:55<06:05,  1.47it/s]\u001b[A\n",
            "Iteration:  33%|███▎      | 270/807 [02:56<06:00,  1.49it/s]\u001b[A\n",
            "Iteration:  34%|███▎      | 271/807 [02:57<05:55,  1.51it/s]\u001b[A\n",
            "Iteration:  34%|███▎      | 272/807 [02:57<06:11,  1.44it/s]\u001b[A"
          ],
          "name": "stderr"
        },
        {
          "output_type": "stream",
          "text": [
            "\tTraining loss :  1.271383798407281\n"
          ],
          "name": "stdout"
        },
        {
          "output_type": "stream",
          "text": [
            "\n",
            "Iteration:  34%|███▍      | 273/807 [02:58<06:02,  1.47it/s]\u001b[A\n",
            "Iteration:  34%|███▍      | 274/807 [02:59<05:57,  1.49it/s]\u001b[A\n",
            "Iteration:  34%|███▍      | 275/807 [02:59<05:53,  1.50it/s]\u001b[A\n",
            "Iteration:  34%|███▍      | 276/807 [03:00<06:09,  1.44it/s]\u001b[A"
          ],
          "name": "stderr"
        },
        {
          "output_type": "stream",
          "text": [
            "\tTraining loss :  1.2708002325633299\n"
          ],
          "name": "stdout"
        },
        {
          "output_type": "stream",
          "text": [
            "\n",
            "Iteration:  34%|███▍      | 277/807 [03:01<06:01,  1.47it/s]\u001b[A\n",
            "Iteration:  34%|███▍      | 278/807 [03:01<05:56,  1.49it/s]\u001b[A\n",
            "Iteration:  35%|███▍      | 279/807 [03:02<05:52,  1.50it/s]\u001b[A\n",
            "Iteration:  35%|███▍      | 280/807 [03:03<06:06,  1.44it/s]\u001b[A"
          ],
          "name": "stderr"
        },
        {
          "output_type": "stream",
          "text": [
            "\tTraining loss :  1.2731627218425274\n"
          ],
          "name": "stdout"
        },
        {
          "output_type": "stream",
          "text": [
            "\n",
            "Iteration:  35%|███▍      | 281/807 [03:04<05:57,  1.47it/s]\u001b[A\n",
            "Iteration:  35%|███▍      | 282/807 [03:04<05:52,  1.49it/s]\u001b[A\n",
            "Iteration:  35%|███▌      | 283/807 [03:05<05:48,  1.50it/s]\u001b[A\n",
            "Iteration:  35%|███▌      | 284/807 [03:06<06:02,  1.44it/s]\u001b[A"
          ],
          "name": "stderr"
        },
        {
          "output_type": "stream",
          "text": [
            "\tTraining loss :  1.2780622035055094\n"
          ],
          "name": "stdout"
        },
        {
          "output_type": "stream",
          "text": [
            "\n",
            "Iteration:  35%|███▌      | 285/807 [03:06<05:53,  1.48it/s]\u001b[A\n",
            "Iteration:  35%|███▌      | 286/807 [03:07<05:49,  1.49it/s]\u001b[A\n",
            "Iteration:  36%|███▌      | 287/807 [03:08<05:45,  1.51it/s]\u001b[A\n",
            "Iteration:  36%|███▌      | 288/807 [03:08<05:59,  1.44it/s]\u001b[A"
          ],
          "name": "stderr"
        },
        {
          "output_type": "stream",
          "text": [
            "\tTraining loss :  1.2788292365148664\n"
          ],
          "name": "stdout"
        },
        {
          "output_type": "stream",
          "text": [
            "\n",
            "Iteration:  36%|███▌      | 289/807 [03:09<05:52,  1.47it/s]\u001b[A\n",
            "Iteration:  36%|███▌      | 290/807 [03:10<05:46,  1.49it/s]\u001b[A\n",
            "Iteration:  36%|███▌      | 291/807 [03:10<05:42,  1.51it/s]\u001b[A\n",
            "Iteration:  36%|███▌      | 292/807 [03:11<05:56,  1.44it/s]\u001b[A"
          ],
          "name": "stderr"
        },
        {
          "output_type": "stream",
          "text": [
            "\tTraining loss :  1.2773253579866397\n"
          ],
          "name": "stdout"
        },
        {
          "output_type": "stream",
          "text": [
            "\n",
            "Iteration:  36%|███▋      | 293/807 [03:12<05:48,  1.47it/s]\u001b[A\n",
            "Iteration:  36%|███▋      | 294/807 [03:12<05:43,  1.49it/s]\u001b[A\n",
            "Iteration:  37%|███▋      | 295/807 [03:13<05:39,  1.51it/s]\u001b[A\n",
            "Iteration:  37%|███▋      | 296/807 [03:14<05:54,  1.44it/s]\u001b[A"
          ],
          "name": "stderr"
        },
        {
          "output_type": "stream",
          "text": [
            "\tTraining loss :  1.2751381188832425\n"
          ],
          "name": "stdout"
        },
        {
          "output_type": "stream",
          "text": [
            "\n",
            "Iteration:  37%|███▋      | 297/807 [03:14<05:45,  1.47it/s]\u001b[A\n",
            "Iteration:  37%|███▋      | 298/807 [03:15<05:41,  1.49it/s]\u001b[A\n",
            "Iteration:  37%|███▋      | 299/807 [03:16<05:36,  1.51it/s]\u001b[A\n",
            "Iteration:  37%|███▋      | 300/807 [03:16<05:50,  1.45it/s]\u001b[A"
          ],
          "name": "stderr"
        },
        {
          "output_type": "stream",
          "text": [
            "\tTraining loss :  1.277715658644835\n"
          ],
          "name": "stdout"
        },
        {
          "output_type": "stream",
          "text": [
            "\n",
            "Iteration:  37%|███▋      | 301/807 [03:17<05:43,  1.48it/s]\u001b[A\n",
            "Iteration:  37%|███▋      | 302/807 [03:18<05:38,  1.49it/s]\u001b[A\n",
            "Iteration:  38%|███▊      | 303/807 [03:18<05:34,  1.51it/s]\u001b[A\n",
            "Iteration:  38%|███▊      | 304/807 [03:19<05:48,  1.44it/s]\u001b[A"
          ],
          "name": "stderr"
        },
        {
          "output_type": "stream",
          "text": [
            "\tTraining loss :  1.2767518914647793\n"
          ],
          "name": "stdout"
        },
        {
          "output_type": "stream",
          "text": [
            "\n",
            "Iteration:  38%|███▊      | 305/807 [03:20<05:40,  1.48it/s]\u001b[A\n",
            "Iteration:  38%|███▊      | 306/807 [03:20<05:35,  1.49it/s]\u001b[A\n",
            "Iteration:  38%|███▊      | 307/807 [03:21<05:31,  1.51it/s]\u001b[A\n",
            "Iteration:  38%|███▊      | 308/807 [03:22<05:45,  1.44it/s]\u001b[A"
          ],
          "name": "stderr"
        },
        {
          "output_type": "stream",
          "text": [
            "\tTraining loss :  1.277021935330583\n"
          ],
          "name": "stdout"
        },
        {
          "output_type": "stream",
          "text": [
            "\n",
            "Iteration:  38%|███▊      | 309/807 [03:22<05:37,  1.48it/s]\u001b[A\n",
            "Iteration:  38%|███▊      | 310/807 [03:23<05:33,  1.49it/s]\u001b[A\n",
            "Iteration:  39%|███▊      | 311/807 [03:24<05:28,  1.51it/s]\u001b[A\n",
            "Iteration:  39%|███▊      | 312/807 [03:25<05:42,  1.45it/s]\u001b[A"
          ],
          "name": "stderr"
        },
        {
          "output_type": "stream",
          "text": [
            "\tTraining loss :  1.2801503253479798\n"
          ],
          "name": "stdout"
        },
        {
          "output_type": "stream",
          "text": [
            "\n",
            "Iteration:  39%|███▉      | 313/807 [03:25<05:34,  1.48it/s]\u001b[A\n",
            "Iteration:  39%|███▉      | 314/807 [03:26<05:30,  1.49it/s]\u001b[A\n",
            "Iteration:  39%|███▉      | 315/807 [03:26<05:26,  1.51it/s]\u001b[A\n",
            "Iteration:  39%|███▉      | 316/807 [03:27<05:39,  1.44it/s]\u001b[A"
          ],
          "name": "stderr"
        },
        {
          "output_type": "stream",
          "text": [
            "\tTraining loss :  1.284926526814322\n"
          ],
          "name": "stdout"
        },
        {
          "output_type": "stream",
          "text": [
            "\n",
            "Iteration:  39%|███▉      | 317/807 [03:28<05:32,  1.47it/s]\u001b[A\n",
            "Iteration:  39%|███▉      | 318/807 [03:29<05:28,  1.49it/s]\u001b[A\n",
            "Iteration:  40%|███▉      | 319/807 [03:29<05:23,  1.51it/s]\u001b[A\n",
            "Iteration:  40%|███▉      | 320/807 [03:30<05:37,  1.44it/s]\u001b[A"
          ],
          "name": "stderr"
        },
        {
          "output_type": "stream",
          "text": [
            "\tTraining loss :  1.2854827190749347\n"
          ],
          "name": "stdout"
        },
        {
          "output_type": "stream",
          "text": [
            "\n",
            "Iteration:  40%|███▉      | 321/807 [03:31<05:29,  1.47it/s]\u001b[A\n",
            "Iteration:  40%|███▉      | 322/807 [03:31<05:24,  1.49it/s]\u001b[A\n",
            "Iteration:  40%|████      | 323/807 [03:32<05:21,  1.51it/s]\u001b[A\n",
            "Iteration:  40%|████      | 324/807 [03:33<05:34,  1.44it/s]\u001b[A"
          ],
          "name": "stderr"
        },
        {
          "output_type": "stream",
          "text": [
            "\tTraining loss :  1.2889550691585483\n"
          ],
          "name": "stdout"
        },
        {
          "output_type": "stream",
          "text": [
            "\n",
            "Iteration:  40%|████      | 325/807 [03:33<05:26,  1.47it/s]\u001b[A\n",
            "Iteration:  40%|████      | 326/807 [03:34<05:22,  1.49it/s]\u001b[A\n",
            "Iteration:  41%|████      | 327/807 [03:35<05:18,  1.51it/s]\u001b[A\n",
            "Iteration:  41%|████      | 328/807 [03:35<05:31,  1.45it/s]\u001b[A"
          ],
          "name": "stderr"
        },
        {
          "output_type": "stream",
          "text": [
            "\tTraining loss :  1.288343272467212\n"
          ],
          "name": "stdout"
        },
        {
          "output_type": "stream",
          "text": [
            "\n",
            "Iteration:  41%|████      | 329/807 [03:36<05:23,  1.48it/s]\u001b[A\n",
            "Iteration:  41%|████      | 330/807 [03:37<05:19,  1.49it/s]\u001b[A\n",
            "Iteration:  41%|████      | 331/807 [03:37<05:15,  1.51it/s]\u001b[A\n",
            "Iteration:  41%|████      | 332/807 [03:38<05:28,  1.45it/s]\u001b[A"
          ],
          "name": "stderr"
        },
        {
          "output_type": "stream",
          "text": [
            "\tTraining loss :  1.2909418275377837\n"
          ],
          "name": "stdout"
        },
        {
          "output_type": "stream",
          "text": [
            "\n",
            "Iteration:  41%|████▏     | 333/807 [03:39<05:21,  1.47it/s]\u001b[A\n",
            "Iteration:  41%|████▏     | 334/807 [03:39<05:16,  1.49it/s]\u001b[A\n",
            "Iteration:  42%|████▏     | 335/807 [03:40<05:13,  1.51it/s]\u001b[A\n",
            "Iteration:  42%|████▏     | 336/807 [03:41<05:26,  1.44it/s]\u001b[A"
          ],
          "name": "stderr"
        },
        {
          "output_type": "stream",
          "text": [
            "\tTraining loss :  1.2924543313149894\n"
          ],
          "name": "stdout"
        },
        {
          "output_type": "stream",
          "text": [
            "\n",
            "Iteration:  42%|████▏     | 337/807 [03:41<05:18,  1.47it/s]\u001b[A\n",
            "Iteration:  42%|████▏     | 338/807 [03:42<05:13,  1.49it/s]\u001b[A\n",
            "Iteration:  42%|████▏     | 339/807 [03:43<05:09,  1.51it/s]\u001b[A\n",
            "Iteration:  42%|████▏     | 340/807 [03:43<05:22,  1.45it/s]\u001b[A"
          ],
          "name": "stderr"
        },
        {
          "output_type": "stream",
          "text": [
            "\tTraining loss :  1.296933683490052\n"
          ],
          "name": "stdout"
        },
        {
          "output_type": "stream",
          "text": [
            "\n",
            "Iteration:  42%|████▏     | 341/807 [03:44<05:16,  1.47it/s]\u001b[A\n",
            "Iteration:  42%|████▏     | 342/807 [03:45<05:11,  1.49it/s]\u001b[A\n",
            "Iteration:  43%|████▎     | 343/807 [03:45<05:07,  1.51it/s]\u001b[A\n",
            "Iteration:  43%|████▎     | 344/807 [03:46<05:20,  1.45it/s]\u001b[A"
          ],
          "name": "stderr"
        },
        {
          "output_type": "stream",
          "text": [
            "\tTraining loss :  1.299053453342166\n"
          ],
          "name": "stdout"
        },
        {
          "output_type": "stream",
          "text": [
            "\n",
            "Iteration:  43%|████▎     | 345/807 [03:47<05:13,  1.47it/s]\u001b[A\n",
            "Iteration:  43%|████▎     | 346/807 [03:47<05:08,  1.49it/s]\u001b[A\n",
            "Iteration:  43%|████▎     | 347/807 [03:48<05:04,  1.51it/s]\u001b[A\n",
            "Iteration:  43%|████▎     | 348/807 [03:49<05:17,  1.45it/s]\u001b[A"
          ],
          "name": "stderr"
        },
        {
          "output_type": "stream",
          "text": [
            "\tTraining loss :  1.2993887607222316\n"
          ],
          "name": "stdout"
        },
        {
          "output_type": "stream",
          "text": [
            "\n",
            "Iteration:  43%|████▎     | 349/807 [03:50<05:10,  1.47it/s]\u001b[A\n",
            "Iteration:  43%|████▎     | 350/807 [03:50<05:06,  1.49it/s]\u001b[A\n",
            "Iteration:  43%|████▎     | 351/807 [03:51<05:02,  1.51it/s]\u001b[A\n",
            "Iteration:  44%|████▎     | 352/807 [03:52<05:14,  1.45it/s]\u001b[A"
          ],
          "name": "stderr"
        },
        {
          "output_type": "stream",
          "text": [
            "\tTraining loss :  1.3000634772364388\n"
          ],
          "name": "stdout"
        },
        {
          "output_type": "stream",
          "text": [
            "\n",
            "Iteration:  44%|████▎     | 353/807 [03:52<05:07,  1.48it/s]\u001b[A\n",
            "Iteration:  44%|████▍     | 354/807 [03:53<05:04,  1.49it/s]\u001b[A\n",
            "Iteration:  44%|████▍     | 355/807 [03:54<05:00,  1.51it/s]\u001b[A\n",
            "Iteration:  44%|████▍     | 356/807 [03:54<05:12,  1.44it/s]\u001b[A"
          ],
          "name": "stderr"
        },
        {
          "output_type": "stream",
          "text": [
            "\tTraining loss :  1.2993638218286332\n"
          ],
          "name": "stdout"
        },
        {
          "output_type": "stream",
          "text": [
            "\n",
            "Iteration:  44%|████▍     | 357/807 [03:55<05:04,  1.48it/s]\u001b[A\n",
            "Iteration:  44%|████▍     | 358/807 [03:56<05:00,  1.49it/s]\u001b[A\n",
            "Iteration:  44%|████▍     | 359/807 [03:56<04:56,  1.51it/s]\u001b[A\n",
            "Iteration:  45%|████▍     | 360/807 [03:57<05:09,  1.45it/s]\u001b[A"
          ],
          "name": "stderr"
        },
        {
          "output_type": "stream",
          "text": [
            "\tTraining loss :  1.299513978179958\n"
          ],
          "name": "stdout"
        },
        {
          "output_type": "stream",
          "text": [
            "\n",
            "Iteration:  45%|████▍     | 361/807 [03:58<05:02,  1.47it/s]\u001b[A\n",
            "Iteration:  45%|████▍     | 362/807 [03:58<04:58,  1.49it/s]\u001b[A\n",
            "Iteration:  45%|████▍     | 363/807 [03:59<04:54,  1.51it/s]\u001b[A\n",
            "Iteration:  45%|████▌     | 364/807 [04:00<05:06,  1.45it/s]\u001b[A"
          ],
          "name": "stderr"
        },
        {
          "output_type": "stream",
          "text": [
            "\tTraining loss :  1.3016190952160855\n"
          ],
          "name": "stdout"
        },
        {
          "output_type": "stream",
          "text": [
            "\n",
            "Iteration:  45%|████▌     | 365/807 [04:00<04:59,  1.48it/s]\u001b[A\n",
            "Iteration:  45%|████▌     | 366/807 [04:01<04:55,  1.49it/s]\u001b[A\n",
            "Iteration:  45%|████▌     | 367/807 [04:02<04:51,  1.51it/s]\u001b[A\n",
            "Iteration:  46%|████▌     | 368/807 [04:02<05:03,  1.45it/s]\u001b[A"
          ],
          "name": "stderr"
        },
        {
          "output_type": "stream",
          "text": [
            "\tTraining loss :  1.2998838469224132\n"
          ],
          "name": "stdout"
        },
        {
          "output_type": "stream",
          "text": [
            "\n",
            "Iteration:  46%|████▌     | 369/807 [04:03<04:56,  1.48it/s]\u001b[A\n",
            "Iteration:  46%|████▌     | 370/807 [04:04<04:52,  1.50it/s]\u001b[A\n",
            "Iteration:  46%|████▌     | 371/807 [04:04<04:48,  1.51it/s]\u001b[A\n",
            "Iteration:  46%|████▌     | 372/807 [04:05<05:00,  1.45it/s]\u001b[A"
          ],
          "name": "stderr"
        },
        {
          "output_type": "stream",
          "text": [
            "\tTraining loss :  1.2991408092841026\n"
          ],
          "name": "stdout"
        },
        {
          "output_type": "stream",
          "text": [
            "\n",
            "Iteration:  46%|████▌     | 373/807 [04:06<04:54,  1.47it/s]\u001b[A\n",
            "Iteration:  46%|████▋     | 374/807 [04:06<04:50,  1.49it/s]\u001b[A\n",
            "Iteration:  46%|████▋     | 375/807 [04:07<04:46,  1.51it/s]\u001b[A\n",
            "Iteration:  47%|████▋     | 376/807 [04:08<04:58,  1.44it/s]\u001b[A"
          ],
          "name": "stderr"
        },
        {
          "output_type": "stream",
          "text": [
            "\tTraining loss :  1.2961726856834077\n"
          ],
          "name": "stdout"
        },
        {
          "output_type": "stream",
          "text": [
            "\n",
            "Iteration:  47%|████▋     | 377/807 [04:08<04:50,  1.48it/s]\u001b[A\n",
            "Iteration:  47%|████▋     | 378/807 [04:09<04:47,  1.49it/s]\u001b[A\n",
            "Iteration:  47%|████▋     | 379/807 [04:10<04:43,  1.51it/s]\u001b[A\n",
            "Iteration:  47%|████▋     | 380/807 [04:10<04:54,  1.45it/s]\u001b[A"
          ],
          "name": "stderr"
        },
        {
          "output_type": "stream",
          "text": [
            "\tTraining loss :  1.297082958017525\n"
          ],
          "name": "stdout"
        },
        {
          "output_type": "stream",
          "text": [
            "\n",
            "Iteration:  47%|████▋     | 381/807 [04:11<04:49,  1.47it/s]\u001b[A\n",
            "Iteration:  47%|████▋     | 382/807 [04:12<04:44,  1.49it/s]\u001b[A\n",
            "Iteration:  47%|████▋     | 383/807 [04:12<04:41,  1.50it/s]\u001b[A\n",
            "Iteration:  48%|████▊     | 384/807 [04:13<04:54,  1.43it/s]\u001b[A"
          ],
          "name": "stderr"
        },
        {
          "output_type": "stream",
          "text": [
            "\tTraining loss :  1.3002140114549547\n"
          ],
          "name": "stdout"
        },
        {
          "output_type": "stream",
          "text": [
            "\n",
            "Iteration:  48%|████▊     | 385/807 [04:14<04:47,  1.47it/s]\u001b[A\n",
            "Iteration:  48%|████▊     | 386/807 [04:14<04:42,  1.49it/s]\u001b[A\n",
            "Iteration:  48%|████▊     | 387/807 [04:15<04:38,  1.51it/s]\u001b[A\n",
            "Iteration:  48%|████▊     | 388/807 [04:16<04:50,  1.44it/s]\u001b[A"
          ],
          "name": "stderr"
        },
        {
          "output_type": "stream",
          "text": [
            "\tTraining loss :  1.3019306557541042\n"
          ],
          "name": "stdout"
        },
        {
          "output_type": "stream",
          "text": [
            "\n",
            "Iteration:  48%|████▊     | 389/807 [04:17<04:44,  1.47it/s]\u001b[A\n",
            "Iteration:  48%|████▊     | 390/807 [04:17<04:40,  1.49it/s]\u001b[A\n",
            "Iteration:  48%|████▊     | 391/807 [04:18<04:36,  1.50it/s]\u001b[A\n",
            "Iteration:  49%|████▊     | 392/807 [04:19<04:47,  1.44it/s]\u001b[A"
          ],
          "name": "stderr"
        },
        {
          "output_type": "stream",
          "text": [
            "\tTraining loss :  1.304338136725888\n"
          ],
          "name": "stdout"
        },
        {
          "output_type": "stream",
          "text": [
            "\n",
            "Iteration:  49%|████▊     | 393/807 [04:19<04:41,  1.47it/s]\u001b[A\n",
            "Iteration:  49%|████▉     | 394/807 [04:20<04:37,  1.49it/s]\u001b[A\n",
            "Iteration:  49%|████▉     | 395/807 [04:21<04:33,  1.51it/s]\u001b[A\n",
            "Iteration:  49%|████▉     | 396/807 [04:21<04:44,  1.44it/s]\u001b[A"
          ],
          "name": "stderr"
        },
        {
          "output_type": "stream",
          "text": [
            "\tTraining loss :  1.304596677497782\n"
          ],
          "name": "stdout"
        },
        {
          "output_type": "stream",
          "text": [
            "\n",
            "Iteration:  49%|████▉     | 397/807 [04:22<04:38,  1.47it/s]\u001b[A\n",
            "Iteration:  49%|████▉     | 398/807 [04:23<04:34,  1.49it/s]\u001b[A\n",
            "Iteration:  49%|████▉     | 399/807 [04:23<04:31,  1.50it/s]\u001b[A\n",
            "Iteration:  50%|████▉     | 400/807 [04:24<04:42,  1.44it/s]\u001b[A"
          ],
          "name": "stderr"
        },
        {
          "output_type": "stream",
          "text": [
            "\tTraining loss :  1.30475710503757\n"
          ],
          "name": "stdout"
        },
        {
          "output_type": "stream",
          "text": [
            "\n",
            "Iteration:  50%|████▉     | 401/807 [04:25<04:36,  1.47it/s]\u001b[A\n",
            "Iteration:  50%|████▉     | 402/807 [04:25<04:32,  1.48it/s]\u001b[A\n",
            "Iteration:  50%|████▉     | 403/807 [04:26<04:28,  1.50it/s]\u001b[A\n",
            "Iteration:  50%|█████     | 404/807 [04:27<04:40,  1.44it/s]\u001b[A"
          ],
          "name": "stderr"
        },
        {
          "output_type": "stream",
          "text": [
            "\tTraining loss :  1.3065515209985252\n"
          ],
          "name": "stdout"
        },
        {
          "output_type": "stream",
          "text": [
            "\n",
            "Iteration:  50%|█████     | 405/807 [04:27<04:34,  1.47it/s]\u001b[A\n",
            "Iteration:  50%|█████     | 406/807 [04:28<04:29,  1.49it/s]\u001b[A\n",
            "Iteration:  50%|█████     | 407/807 [04:29<04:26,  1.50it/s]\u001b[A\n",
            "Iteration:  51%|█████     | 408/807 [04:29<04:36,  1.44it/s]\u001b[A"
          ],
          "name": "stderr"
        },
        {
          "output_type": "stream",
          "text": [
            "\tTraining loss :  1.3060112407832754\n"
          ],
          "name": "stdout"
        },
        {
          "output_type": "stream",
          "text": [
            "\n",
            "Iteration:  51%|█████     | 409/807 [04:30<04:30,  1.47it/s]\u001b[A\n",
            "Iteration:  51%|█████     | 410/807 [04:31<04:26,  1.49it/s]\u001b[A\n",
            "Iteration:  51%|█████     | 411/807 [04:31<04:23,  1.50it/s]\u001b[A\n",
            "Iteration:  51%|█████     | 412/807 [04:32<04:34,  1.44it/s]\u001b[A"
          ],
          "name": "stderr"
        },
        {
          "output_type": "stream",
          "text": [
            "\tTraining loss :  1.3098608312531583\n"
          ],
          "name": "stdout"
        },
        {
          "output_type": "stream",
          "text": [
            "\n",
            "Iteration:  51%|█████     | 413/807 [04:33<04:28,  1.47it/s]\u001b[A\n",
            "Iteration:  51%|█████▏    | 414/807 [04:33<04:23,  1.49it/s]\u001b[A\n",
            "Iteration:  51%|█████▏    | 415/807 [04:34<04:20,  1.51it/s]\u001b[A\n",
            "Iteration:  52%|█████▏    | 416/807 [04:35<04:30,  1.44it/s]\u001b[A"
          ],
          "name": "stderr"
        },
        {
          "output_type": "stream",
          "text": [
            "\tTraining loss :  1.3098132596709406\n"
          ],
          "name": "stdout"
        },
        {
          "output_type": "stream",
          "text": [
            "\n",
            "Iteration:  52%|█████▏    | 417/807 [04:36<04:24,  1.47it/s]\u001b[A\n",
            "Iteration:  52%|█████▏    | 418/807 [04:36<04:20,  1.49it/s]\u001b[A\n",
            "Iteration:  52%|█████▏    | 419/807 [04:37<04:18,  1.50it/s]\u001b[A\n",
            "Iteration:  52%|█████▏    | 420/807 [04:38<04:29,  1.44it/s]\u001b[A"
          ],
          "name": "stderr"
        },
        {
          "output_type": "stream",
          "text": [
            "\tTraining loss :  1.3088253740043867\n"
          ],
          "name": "stdout"
        },
        {
          "output_type": "stream",
          "text": [
            "\n",
            "Iteration:  52%|█████▏    | 421/807 [04:38<04:23,  1.47it/s]\u001b[A\n",
            "Iteration:  52%|█████▏    | 422/807 [04:39<04:18,  1.49it/s]\u001b[A\n",
            "Iteration:  52%|█████▏    | 423/807 [04:40<04:14,  1.51it/s]\u001b[A\n",
            "Iteration:  53%|█████▎    | 424/807 [04:40<04:25,  1.44it/s]\u001b[A"
          ],
          "name": "stderr"
        },
        {
          "output_type": "stream",
          "text": [
            "\tTraining loss :  1.3081911982933305\n"
          ],
          "name": "stdout"
        },
        {
          "output_type": "stream",
          "text": [
            "\n",
            "Iteration:  53%|█████▎    | 425/807 [04:41<04:20,  1.47it/s]\u001b[A\n",
            "Iteration:  53%|█████▎    | 426/807 [04:42<04:16,  1.49it/s]\u001b[A\n",
            "Iteration:  53%|█████▎    | 427/807 [04:42<04:13,  1.50it/s]\u001b[A\n",
            "Iteration:  53%|█████▎    | 428/807 [04:43<04:23,  1.44it/s]\u001b[A"
          ],
          "name": "stderr"
        },
        {
          "output_type": "stream",
          "text": [
            "\tTraining loss :  1.3067789006038246\n"
          ],
          "name": "stdout"
        },
        {
          "output_type": "stream",
          "text": [
            "\n",
            "Iteration:  53%|█████▎    | 429/807 [04:44<04:18,  1.46it/s]\u001b[A\n",
            "Iteration:  53%|█████▎    | 430/807 [04:44<04:13,  1.48it/s]\u001b[A\n",
            "Iteration:  53%|█████▎    | 431/807 [04:45<04:11,  1.50it/s]\u001b[A\n",
            "Iteration:  54%|█████▎    | 432/807 [04:46<04:21,  1.43it/s]\u001b[A"
          ],
          "name": "stderr"
        },
        {
          "output_type": "stream",
          "text": [
            "\tTraining loss :  1.3089536718886208\n"
          ],
          "name": "stdout"
        },
        {
          "output_type": "stream",
          "text": [
            "\n",
            "Iteration:  54%|█████▎    | 433/807 [04:46<04:15,  1.46it/s]\u001b[A\n",
            "Iteration:  54%|█████▍    | 434/807 [04:47<04:11,  1.48it/s]\u001b[A\n",
            "Iteration:  54%|█████▍    | 435/807 [04:48<04:08,  1.50it/s]\u001b[A\n",
            "Iteration:  54%|█████▍    | 436/807 [04:48<04:18,  1.44it/s]\u001b[A"
          ],
          "name": "stderr"
        },
        {
          "output_type": "stream",
          "text": [
            "\tTraining loss :  1.3107218688370985\n"
          ],
          "name": "stdout"
        },
        {
          "output_type": "stream",
          "text": [
            "\n",
            "Iteration:  54%|█████▍    | 437/807 [04:49<04:12,  1.46it/s]\u001b[A\n",
            "Iteration:  54%|█████▍    | 438/807 [04:50<04:08,  1.48it/s]\u001b[A\n",
            "Iteration:  54%|█████▍    | 439/807 [04:50<04:05,  1.50it/s]\u001b[A\n",
            "Iteration:  55%|█████▍    | 440/807 [04:51<04:15,  1.44it/s]\u001b[A"
          ],
          "name": "stderr"
        },
        {
          "output_type": "stream",
          "text": [
            "\tTraining loss :  1.310832037234848\n"
          ],
          "name": "stdout"
        },
        {
          "output_type": "stream",
          "text": [
            "\n",
            "Iteration:  55%|█████▍    | 441/807 [04:52<04:09,  1.47it/s]\u001b[A\n",
            "Iteration:  55%|█████▍    | 442/807 [04:52<04:05,  1.49it/s]\u001b[A\n",
            "Iteration:  55%|█████▍    | 443/807 [04:53<04:02,  1.50it/s]\u001b[A\n",
            "Iteration:  55%|█████▌    | 444/807 [04:54<04:12,  1.44it/s]\u001b[A"
          ],
          "name": "stderr"
        },
        {
          "output_type": "stream",
          "text": [
            "\tTraining loss :  1.3088924670675854\n"
          ],
          "name": "stdout"
        },
        {
          "output_type": "stream",
          "text": [
            "\n",
            "Iteration:  55%|█████▌    | 445/807 [04:55<04:07,  1.46it/s]\u001b[A\n",
            "Iteration:  55%|█████▌    | 446/807 [04:55<04:03,  1.48it/s]\u001b[A\n",
            "Iteration:  55%|█████▌    | 447/807 [04:56<04:00,  1.50it/s]\u001b[A\n",
            "Iteration:  56%|█████▌    | 448/807 [04:57<04:09,  1.44it/s]\u001b[A"
          ],
          "name": "stderr"
        },
        {
          "output_type": "stream",
          "text": [
            "\tTraining loss :  1.3112478773109615\n"
          ],
          "name": "stdout"
        },
        {
          "output_type": "stream",
          "text": [
            "\n",
            "Iteration:  56%|█████▌    | 449/807 [04:57<04:03,  1.47it/s]\u001b[A\n",
            "Iteration:  56%|█████▌    | 450/807 [04:58<03:59,  1.49it/s]\u001b[A\n",
            "Iteration:  56%|█████▌    | 451/807 [04:59<03:56,  1.50it/s]\u001b[A\n",
            "Iteration:  56%|█████▌    | 452/807 [04:59<04:07,  1.43it/s]\u001b[A"
          ],
          "name": "stderr"
        },
        {
          "output_type": "stream",
          "text": [
            "\tTraining loss :  1.3087904465805114\n"
          ],
          "name": "stdout"
        },
        {
          "output_type": "stream",
          "text": [
            "\n",
            "Iteration:  56%|█████▌    | 453/807 [05:00<04:02,  1.46it/s]\u001b[A\n",
            "Iteration:  56%|█████▋    | 454/807 [05:01<03:58,  1.48it/s]\u001b[A\n",
            "Iteration:  56%|█████▋    | 455/807 [05:01<03:54,  1.50it/s]\u001b[A\n",
            "Iteration:  57%|█████▋    | 456/807 [05:02<04:03,  1.44it/s]\u001b[A"
          ],
          "name": "stderr"
        },
        {
          "output_type": "stream",
          "text": [
            "\tTraining loss :  1.3064086145084155\n"
          ],
          "name": "stdout"
        },
        {
          "output_type": "stream",
          "text": [
            "\n",
            "Iteration:  57%|█████▋    | 457/807 [05:03<03:58,  1.46it/s]\u001b[A\n",
            "Iteration:  57%|█████▋    | 458/807 [05:03<03:55,  1.48it/s]\u001b[A\n",
            "Iteration:  57%|█████▋    | 459/807 [05:04<03:51,  1.50it/s]\u001b[A\n",
            "Iteration:  57%|█████▋    | 460/807 [05:05<04:00,  1.44it/s]\u001b[A"
          ],
          "name": "stderr"
        },
        {
          "output_type": "stream",
          "text": [
            "\tTraining loss :  1.3053269355841306\n"
          ],
          "name": "stdout"
        },
        {
          "output_type": "stream",
          "text": [
            "\n",
            "Iteration:  57%|█████▋    | 461/807 [05:05<03:55,  1.47it/s]\u001b[A\n",
            "Iteration:  57%|█████▋    | 462/807 [05:06<03:51,  1.49it/s]\u001b[A\n",
            "Iteration:  57%|█████▋    | 463/807 [05:07<03:49,  1.50it/s]\u001b[A\n",
            "Iteration:  57%|█████▋    | 464/807 [05:07<03:58,  1.44it/s]\u001b[A"
          ],
          "name": "stderr"
        },
        {
          "output_type": "stream",
          "text": [
            "\tTraining loss :  1.3044010922955027\n"
          ],
          "name": "stdout"
        },
        {
          "output_type": "stream",
          "text": [
            "\n",
            "Iteration:  58%|█████▊    | 465/807 [05:08<03:53,  1.46it/s]\u001b[A\n",
            "Iteration:  58%|█████▊    | 466/807 [05:09<03:50,  1.48it/s]\u001b[A\n",
            "Iteration:  58%|█████▊    | 467/807 [05:09<03:47,  1.50it/s]\u001b[A\n",
            "Iteration:  58%|█████▊    | 468/807 [05:10<03:55,  1.44it/s]\u001b[A"
          ],
          "name": "stderr"
        },
        {
          "output_type": "stream",
          "text": [
            "\tTraining loss :  1.3024411893680565\n"
          ],
          "name": "stdout"
        },
        {
          "output_type": "stream",
          "text": [
            "\n",
            "Iteration:  58%|█████▊    | 469/807 [05:11<03:50,  1.46it/s]\u001b[A\n",
            "Iteration:  58%|█████▊    | 470/807 [05:12<03:46,  1.49it/s]\u001b[A\n",
            "Iteration:  58%|█████▊    | 471/807 [05:12<03:44,  1.50it/s]\u001b[A\n",
            "Iteration:  58%|█████▊    | 472/807 [05:13<03:53,  1.43it/s]\u001b[A"
          ],
          "name": "stderr"
        },
        {
          "output_type": "stream",
          "text": [
            "\tTraining loss :  1.3046137735373893\n"
          ],
          "name": "stdout"
        },
        {
          "output_type": "stream",
          "text": [
            "\n",
            "Iteration:  59%|█████▊    | 473/807 [05:14<03:47,  1.47it/s]\u001b[A\n",
            "Iteration:  59%|█████▊    | 474/807 [05:14<03:44,  1.49it/s]\u001b[A\n",
            "Iteration:  59%|█████▉    | 475/807 [05:15<03:40,  1.50it/s]\u001b[A\n",
            "Iteration:  59%|█████▉    | 476/807 [05:16<03:50,  1.43it/s]\u001b[A"
          ],
          "name": "stderr"
        },
        {
          "output_type": "stream",
          "text": [
            "\tTraining loss :  1.3062209859490395\n"
          ],
          "name": "stdout"
        },
        {
          "output_type": "stream",
          "text": [
            "\n",
            "Iteration:  59%|█████▉    | 477/807 [05:16<03:45,  1.47it/s]\u001b[A\n",
            "Iteration:  59%|█████▉    | 478/807 [05:17<03:41,  1.48it/s]\u001b[A\n",
            "Iteration:  59%|█████▉    | 479/807 [05:18<03:38,  1.50it/s]\u001b[A\n",
            "Iteration:  59%|█████▉    | 480/807 [05:18<03:48,  1.43it/s]\u001b[A"
          ],
          "name": "stderr"
        },
        {
          "output_type": "stream",
          "text": [
            "\tTraining loss :  1.307753138927122\n"
          ],
          "name": "stdout"
        },
        {
          "output_type": "stream",
          "text": [
            "\n",
            "Iteration:  60%|█████▉    | 481/807 [05:19<03:42,  1.46it/s]\u001b[A\n",
            "Iteration:  60%|█████▉    | 482/807 [05:20<03:39,  1.48it/s]\u001b[A\n",
            "Iteration:  60%|█████▉    | 483/807 [05:20<03:35,  1.50it/s]\u001b[A\n",
            "Iteration:  60%|█████▉    | 484/807 [05:21<03:44,  1.44it/s]\u001b[A"
          ],
          "name": "stderr"
        },
        {
          "output_type": "stream",
          "text": [
            "\tTraining loss :  1.3076278980482707\n"
          ],
          "name": "stdout"
        },
        {
          "output_type": "stream",
          "text": [
            "\n",
            "Iteration:  60%|██████    | 485/807 [05:22<03:40,  1.46it/s]\u001b[A\n",
            "Iteration:  60%|██████    | 486/807 [05:22<03:36,  1.48it/s]\u001b[A\n",
            "Iteration:  60%|██████    | 487/807 [05:23<03:33,  1.50it/s]\u001b[A\n",
            "Iteration:  60%|██████    | 488/807 [05:24<03:42,  1.43it/s]\u001b[A"
          ],
          "name": "stderr"
        },
        {
          "output_type": "stream",
          "text": [
            "\tTraining loss :  1.3064379950405145\n"
          ],
          "name": "stdout"
        },
        {
          "output_type": "stream",
          "text": [
            "\n",
            "Iteration:  61%|██████    | 489/807 [05:24<03:37,  1.47it/s]\u001b[A\n",
            "Iteration:  61%|██████    | 490/807 [05:25<03:34,  1.48it/s]\u001b[A\n",
            "Iteration:  61%|██████    | 491/807 [05:26<03:30,  1.50it/s]\u001b[A\n",
            "Iteration:  61%|██████    | 492/807 [05:27<03:39,  1.44it/s]\u001b[A"
          ],
          "name": "stderr"
        },
        {
          "output_type": "stream",
          "text": [
            "\tTraining loss :  1.3087108609516447\n"
          ],
          "name": "stdout"
        },
        {
          "output_type": "stream",
          "text": [
            "\n",
            "Iteration:  61%|██████    | 493/807 [05:27<03:34,  1.46it/s]\u001b[A\n",
            "Iteration:  61%|██████    | 494/807 [05:28<03:30,  1.48it/s]\u001b[A\n",
            "Iteration:  61%|██████▏   | 495/807 [05:28<03:28,  1.50it/s]\u001b[A\n",
            "Iteration:  61%|██████▏   | 496/807 [05:29<03:36,  1.44it/s]\u001b[A"
          ],
          "name": "stderr"
        },
        {
          "output_type": "stream",
          "text": [
            "\tTraining loss :  1.3078261788694128\n"
          ],
          "name": "stdout"
        },
        {
          "output_type": "stream",
          "text": [
            "\n",
            "Iteration:  62%|██████▏   | 497/807 [05:30<03:31,  1.47it/s]\u001b[A\n",
            "Iteration:  62%|██████▏   | 498/807 [05:31<03:28,  1.49it/s]\u001b[A\n",
            "Iteration:  62%|██████▏   | 499/807 [05:31<03:25,  1.50it/s]\u001b[A\n",
            "Iteration:  62%|██████▏   | 500/807 [05:32<03:33,  1.44it/s]\u001b[A"
          ],
          "name": "stderr"
        },
        {
          "output_type": "stream",
          "text": [
            "\tTraining loss :  1.3073180736899377\n"
          ],
          "name": "stdout"
        },
        {
          "output_type": "stream",
          "text": [
            "\n",
            "Iteration:  62%|██████▏   | 501/807 [05:33<03:28,  1.47it/s]\u001b[A\n",
            "Iteration:  62%|██████▏   | 502/807 [05:33<03:25,  1.48it/s]\u001b[A\n",
            "Iteration:  62%|██████▏   | 503/807 [05:34<03:22,  1.50it/s]\u001b[A\n",
            "Iteration:  62%|██████▏   | 504/807 [05:35<03:30,  1.44it/s]\u001b[A"
          ],
          "name": "stderr"
        },
        {
          "output_type": "stream",
          "text": [
            "\tTraining loss :  1.3069738223557434\n"
          ],
          "name": "stdout"
        },
        {
          "output_type": "stream",
          "text": [
            "\n",
            "Iteration:  63%|██████▎   | 505/807 [05:35<03:26,  1.46it/s]\u001b[A\n",
            "Iteration:  63%|██████▎   | 506/807 [05:36<03:22,  1.48it/s]\u001b[A\n",
            "Iteration:  63%|██████▎   | 507/807 [05:37<03:20,  1.50it/s]\u001b[A\n",
            "Iteration:  63%|██████▎   | 508/807 [05:37<03:28,  1.44it/s]\u001b[A"
          ],
          "name": "stderr"
        },
        {
          "output_type": "stream",
          "text": [
            "\tTraining loss :  1.3046328648924828\n"
          ],
          "name": "stdout"
        },
        {
          "output_type": "stream",
          "text": [
            "\n",
            "Iteration:  63%|██████▎   | 509/807 [05:38<03:23,  1.46it/s]\u001b[A\n",
            "Iteration:  63%|██████▎   | 510/807 [05:39<03:20,  1.48it/s]\u001b[A\n",
            "Iteration:  63%|██████▎   | 511/807 [05:39<03:17,  1.50it/s]\u001b[A\n",
            "Iteration:  63%|██████▎   | 512/807 [05:40<03:24,  1.44it/s]\u001b[A"
          ],
          "name": "stderr"
        },
        {
          "output_type": "stream",
          "text": [
            "\tTraining loss :  1.3040741281001829\n"
          ],
          "name": "stdout"
        },
        {
          "output_type": "stream",
          "text": [
            "\n",
            "Iteration:  64%|██████▎   | 513/807 [05:41<03:20,  1.46it/s]\u001b[A\n",
            "Iteration:  64%|██████▎   | 514/807 [05:41<03:17,  1.49it/s]\u001b[A\n",
            "Iteration:  64%|██████▍   | 515/807 [05:42<03:14,  1.50it/s]\u001b[A\n",
            "Iteration:  64%|██████▍   | 516/807 [05:43<03:21,  1.44it/s]\u001b[A"
          ],
          "name": "stderr"
        },
        {
          "output_type": "stream",
          "text": [
            "\tTraining loss :  1.3052274841786355\n"
          ],
          "name": "stdout"
        },
        {
          "output_type": "stream",
          "text": [
            "\n",
            "Iteration:  64%|██████▍   | 517/807 [05:43<03:17,  1.47it/s]\u001b[A\n",
            "Iteration:  64%|██████▍   | 518/807 [05:44<03:14,  1.49it/s]\u001b[A\n",
            "Iteration:  64%|██████▍   | 519/807 [05:45<03:12,  1.50it/s]\u001b[A\n",
            "Iteration:  64%|██████▍   | 520/807 [05:46<03:20,  1.43it/s]\u001b[A"
          ],
          "name": "stderr"
        },
        {
          "output_type": "stream",
          "text": [
            "\tTraining loss :  1.3042912784104164\n"
          ],
          "name": "stdout"
        },
        {
          "output_type": "stream",
          "text": [
            "\n",
            "Iteration:  65%|██████▍   | 521/807 [05:46<03:15,  1.46it/s]\u001b[A\n",
            "Iteration:  65%|██████▍   | 522/807 [05:47<03:11,  1.48it/s]\u001b[A\n",
            "Iteration:  65%|██████▍   | 523/807 [05:48<03:09,  1.50it/s]\u001b[A\n",
            "Iteration:  65%|██████▍   | 524/807 [05:48<03:16,  1.44it/s]\u001b[A"
          ],
          "name": "stderr"
        },
        {
          "output_type": "stream",
          "text": [
            "\tTraining loss :  1.3019455353381069\n"
          ],
          "name": "stdout"
        },
        {
          "output_type": "stream",
          "text": [
            "\n",
            "Iteration:  65%|██████▌   | 525/807 [05:49<03:12,  1.47it/s]\u001b[A\n",
            "Iteration:  65%|██████▌   | 526/807 [05:50<03:09,  1.49it/s]\u001b[A\n",
            "Iteration:  65%|██████▌   | 527/807 [05:50<03:06,  1.50it/s]\u001b[A\n",
            "Iteration:  65%|██████▌   | 528/807 [05:51<03:13,  1.44it/s]\u001b[A"
          ],
          "name": "stderr"
        },
        {
          "output_type": "stream",
          "text": [
            "\tTraining loss :  1.3026760688446688\n"
          ],
          "name": "stdout"
        },
        {
          "output_type": "stream",
          "text": [
            "\n",
            "Iteration:  66%|██████▌   | 529/807 [05:52<03:10,  1.46it/s]\u001b[A\n",
            "Iteration:  66%|██████▌   | 530/807 [05:52<03:06,  1.48it/s]\u001b[A\n",
            "Iteration:  66%|██████▌   | 531/807 [05:53<03:04,  1.50it/s]\u001b[A\n",
            "Iteration:  66%|██████▌   | 532/807 [05:54<03:11,  1.44it/s]\u001b[A"
          ],
          "name": "stderr"
        },
        {
          "output_type": "stream",
          "text": [
            "\tTraining loss :  1.3036313980705756\n"
          ],
          "name": "stdout"
        },
        {
          "output_type": "stream",
          "text": [
            "\n",
            "Iteration:  66%|██████▌   | 533/807 [05:54<03:06,  1.47it/s]\u001b[A\n",
            "Iteration:  66%|██████▌   | 534/807 [05:55<03:03,  1.49it/s]\u001b[A\n",
            "Iteration:  66%|██████▋   | 535/807 [05:56<03:00,  1.50it/s]\u001b[A\n",
            "Iteration:  66%|██████▋   | 536/807 [05:56<03:08,  1.44it/s]\u001b[A"
          ],
          "name": "stderr"
        },
        {
          "output_type": "stream",
          "text": [
            "\tTraining loss :  1.3013628829659811\n"
          ],
          "name": "stdout"
        },
        {
          "output_type": "stream",
          "text": [
            "\n",
            "Iteration:  67%|██████▋   | 537/807 [05:57<03:03,  1.47it/s]\u001b[A\n",
            "Iteration:  67%|██████▋   | 538/807 [05:58<03:01,  1.49it/s]\u001b[A\n",
            "Iteration:  67%|██████▋   | 539/807 [05:58<02:58,  1.50it/s]\u001b[A\n",
            "Iteration:  67%|██████▋   | 540/807 [05:59<03:05,  1.44it/s]\u001b[A"
          ],
          "name": "stderr"
        },
        {
          "output_type": "stream",
          "text": [
            "\tTraining loss :  1.3019562494423655\n"
          ],
          "name": "stdout"
        },
        {
          "output_type": "stream",
          "text": [
            "\n",
            "Iteration:  67%|██████▋   | 541/807 [06:00<03:00,  1.47it/s]\u001b[A\n",
            "Iteration:  67%|██████▋   | 542/807 [06:00<02:58,  1.49it/s]\u001b[A\n",
            "Iteration:  67%|██████▋   | 543/807 [06:01<02:55,  1.50it/s]\u001b[A\n",
            "Iteration:  67%|██████▋   | 544/807 [06:02<03:02,  1.44it/s]\u001b[A"
          ],
          "name": "stderr"
        },
        {
          "output_type": "stream",
          "text": [
            "\tTraining loss :  1.2996331702589112\n"
          ],
          "name": "stdout"
        },
        {
          "output_type": "stream",
          "text": [
            "\n",
            "Iteration:  68%|██████▊   | 545/807 [06:03<02:58,  1.47it/s]\u001b[A\n",
            "Iteration:  68%|██████▊   | 546/807 [06:03<02:55,  1.49it/s]\u001b[A\n",
            "Iteration:  68%|██████▊   | 547/807 [06:04<02:52,  1.51it/s]\u001b[A\n",
            "Iteration:  68%|██████▊   | 548/807 [06:05<02:59,  1.44it/s]\u001b[A"
          ],
          "name": "stderr"
        },
        {
          "output_type": "stream",
          "text": [
            "\tTraining loss :  1.3018323415278519\n"
          ],
          "name": "stdout"
        },
        {
          "output_type": "stream",
          "text": [
            "\n",
            "Iteration:  68%|██████▊   | 549/807 [06:05<02:55,  1.47it/s]\u001b[A\n",
            "Iteration:  68%|██████▊   | 550/807 [06:06<02:53,  1.48it/s]\u001b[A\n",
            "Iteration:  68%|██████▊   | 551/807 [06:07<02:50,  1.50it/s]\u001b[A\n",
            "Iteration:  68%|██████▊   | 552/807 [06:07<02:57,  1.44it/s]\u001b[A"
          ],
          "name": "stderr"
        },
        {
          "output_type": "stream",
          "text": [
            "\tTraining loss :  1.301722236679516\n"
          ],
          "name": "stdout"
        },
        {
          "output_type": "stream",
          "text": [
            "\n",
            "Iteration:  69%|██████▊   | 553/807 [06:08<02:53,  1.47it/s]\u001b[A\n",
            "Iteration:  69%|██████▊   | 554/807 [06:09<02:50,  1.49it/s]\u001b[A\n",
            "Iteration:  69%|██████▉   | 555/807 [06:09<02:47,  1.50it/s]\u001b[A\n",
            "Iteration:  69%|██████▉   | 556/807 [06:10<02:54,  1.44it/s]\u001b[A"
          ],
          "name": "stderr"
        },
        {
          "output_type": "stream",
          "text": [
            "\tTraining loss :  1.3005384196587604\n"
          ],
          "name": "stdout"
        },
        {
          "output_type": "stream",
          "text": [
            "\n",
            "Iteration:  69%|██████▉   | 557/807 [06:11<02:50,  1.46it/s]\u001b[A\n",
            "Iteration:  69%|██████▉   | 558/807 [06:11<02:47,  1.49it/s]\u001b[A\n",
            "Iteration:  69%|██████▉   | 559/807 [06:12<02:45,  1.50it/s]\u001b[A\n",
            "Iteration:  69%|██████▉   | 560/807 [06:13<02:51,  1.44it/s]\u001b[A"
          ],
          "name": "stderr"
        },
        {
          "output_type": "stream",
          "text": [
            "\tTraining loss :  1.2991594186318771\n"
          ],
          "name": "stdout"
        },
        {
          "output_type": "stream",
          "text": [
            "\n",
            "Iteration:  70%|██████▉   | 561/807 [06:13<02:47,  1.47it/s]\u001b[A\n",
            "Iteration:  70%|██████▉   | 562/807 [06:14<02:44,  1.48it/s]\u001b[A\n",
            "Iteration:  70%|██████▉   | 563/807 [06:15<02:42,  1.50it/s]\u001b[A\n",
            "Iteration:  70%|██████▉   | 564/807 [06:15<02:48,  1.44it/s]\u001b[A"
          ],
          "name": "stderr"
        },
        {
          "output_type": "stream",
          "text": [
            "\tTraining loss :  1.298632189895667\n"
          ],
          "name": "stdout"
        },
        {
          "output_type": "stream",
          "text": [
            "\n",
            "Iteration:  70%|███████   | 565/807 [06:16<02:45,  1.47it/s]\u001b[A\n",
            "Iteration:  70%|███████   | 566/807 [06:17<02:41,  1.49it/s]\u001b[A\n",
            "Iteration:  70%|███████   | 567/807 [06:17<02:39,  1.50it/s]\u001b[A\n",
            "Iteration:  70%|███████   | 568/807 [06:18<02:45,  1.44it/s]\u001b[A"
          ],
          "name": "stderr"
        },
        {
          "output_type": "stream",
          "text": [
            "\tTraining loss :  1.2985709135905958\n"
          ],
          "name": "stdout"
        },
        {
          "output_type": "stream",
          "text": [
            "\n",
            "Iteration:  71%|███████   | 569/807 [06:19<02:41,  1.47it/s]\u001b[A\n",
            "Iteration:  71%|███████   | 570/807 [06:19<02:39,  1.49it/s]\u001b[A\n",
            "Iteration:  71%|███████   | 571/807 [06:20<02:37,  1.50it/s]\u001b[A\n",
            "Iteration:  71%|███████   | 572/807 [06:21<02:43,  1.44it/s]\u001b[A"
          ],
          "name": "stderr"
        },
        {
          "output_type": "stream",
          "text": [
            "\tTraining loss :  1.298535056620628\n"
          ],
          "name": "stdout"
        },
        {
          "output_type": "stream",
          "text": [
            "\n",
            "Iteration:  71%|███████   | 573/807 [06:22<02:39,  1.47it/s]\u001b[A\n",
            "Iteration:  71%|███████   | 574/807 [06:22<02:36,  1.49it/s]\u001b[A\n",
            "Iteration:  71%|███████▏  | 575/807 [06:23<02:34,  1.50it/s]\u001b[A\n",
            "Iteration:  71%|███████▏  | 576/807 [06:24<02:40,  1.44it/s]\u001b[A"
          ],
          "name": "stderr"
        },
        {
          "output_type": "stream",
          "text": [
            "\tTraining loss :  1.2986981412913237\n"
          ],
          "name": "stdout"
        },
        {
          "output_type": "stream",
          "text": [
            "\n",
            "Iteration:  71%|███████▏  | 577/807 [06:24<02:36,  1.47it/s]\u001b[A\n",
            "Iteration:  72%|███████▏  | 578/807 [06:25<02:34,  1.49it/s]\u001b[A\n",
            "Iteration:  72%|███████▏  | 579/807 [06:26<02:31,  1.50it/s]\u001b[A\n",
            "Iteration:  72%|███████▏  | 580/807 [06:26<02:37,  1.44it/s]\u001b[A"
          ],
          "name": "stderr"
        },
        {
          "output_type": "stream",
          "text": [
            "\tTraining loss :  1.2991364310013838\n"
          ],
          "name": "stdout"
        },
        {
          "output_type": "stream",
          "text": [
            "\n",
            "Iteration:  72%|███████▏  | 581/807 [06:27<02:34,  1.47it/s]\u001b[A\n",
            "Iteration:  72%|███████▏  | 582/807 [06:28<02:31,  1.49it/s]\u001b[A\n",
            "Iteration:  72%|███████▏  | 583/807 [06:28<02:29,  1.50it/s]\u001b[A\n",
            "Iteration:  72%|███████▏  | 584/807 [06:29<02:34,  1.44it/s]\u001b[A"
          ],
          "name": "stderr"
        },
        {
          "output_type": "stream",
          "text": [
            "\tTraining loss :  1.2996849374309793\n"
          ],
          "name": "stdout"
        },
        {
          "output_type": "stream",
          "text": [
            "\n",
            "Iteration:  72%|███████▏  | 585/807 [06:30<02:31,  1.47it/s]\u001b[A\n",
            "Iteration:  73%|███████▎  | 586/807 [06:30<02:28,  1.49it/s]\u001b[A\n",
            "Iteration:  73%|███████▎  | 587/807 [06:31<02:26,  1.50it/s]\u001b[A\n",
            "Iteration:  73%|███████▎  | 588/807 [06:32<02:32,  1.43it/s]\u001b[A"
          ],
          "name": "stderr"
        },
        {
          "output_type": "stream",
          "text": [
            "\tTraining loss :  1.3007035313718984\n"
          ],
          "name": "stdout"
        },
        {
          "output_type": "stream",
          "text": [
            "\n",
            "Iteration:  73%|███████▎  | 589/807 [06:32<02:28,  1.47it/s]\u001b[A\n",
            "Iteration:  73%|███████▎  | 590/807 [06:33<02:26,  1.48it/s]\u001b[A\n",
            "Iteration:  73%|███████▎  | 591/807 [06:34<02:24,  1.50it/s]\u001b[A\n",
            "Iteration:  73%|███████▎  | 592/807 [06:34<02:29,  1.44it/s]\u001b[A"
          ],
          "name": "stderr"
        },
        {
          "output_type": "stream",
          "text": [
            "\tTraining loss :  1.3029357655527625\n"
          ],
          "name": "stdout"
        },
        {
          "output_type": "stream",
          "text": [
            "\n",
            "Iteration:  73%|███████▎  | 593/807 [06:35<02:25,  1.47it/s]\u001b[A\n",
            "Iteration:  74%|███████▎  | 594/807 [06:36<02:23,  1.49it/s]\u001b[A\n",
            "Iteration:  74%|███████▎  | 595/807 [06:36<02:20,  1.50it/s]\u001b[A\n",
            "Iteration:  74%|███████▍  | 596/807 [06:37<02:26,  1.44it/s]\u001b[A"
          ],
          "name": "stderr"
        },
        {
          "output_type": "stream",
          "text": [
            "\tTraining loss :  1.3024561358678262\n"
          ],
          "name": "stdout"
        },
        {
          "output_type": "stream",
          "text": [
            "\n",
            "Iteration:  74%|███████▍  | 597/807 [06:38<02:22,  1.47it/s]\u001b[A\n",
            "Iteration:  74%|███████▍  | 598/807 [06:38<02:20,  1.49it/s]\u001b[A\n",
            "Iteration:  74%|███████▍  | 599/807 [06:39<02:18,  1.50it/s]\u001b[A\n",
            "Iteration:  74%|███████▍  | 600/807 [06:40<02:23,  1.44it/s]\u001b[A"
          ],
          "name": "stderr"
        },
        {
          "output_type": "stream",
          "text": [
            "\tTraining loss :  1.3031164039671421\n"
          ],
          "name": "stdout"
        },
        {
          "output_type": "stream",
          "text": [
            "\n",
            "Iteration:  74%|███████▍  | 601/807 [06:41<02:20,  1.47it/s]\u001b[A\n",
            "Iteration:  75%|███████▍  | 602/807 [06:41<02:18,  1.49it/s]\u001b[A\n",
            "Iteration:  75%|███████▍  | 603/807 [06:42<02:15,  1.50it/s]\u001b[A\n",
            "Iteration:  75%|███████▍  | 604/807 [06:43<02:20,  1.44it/s]\u001b[A"
          ],
          "name": "stderr"
        },
        {
          "output_type": "stream",
          "text": [
            "\tTraining loss :  1.3034883064051337\n"
          ],
          "name": "stdout"
        },
        {
          "output_type": "stream",
          "text": [
            "\n",
            "Iteration:  75%|███████▍  | 605/807 [06:43<02:17,  1.46it/s]\u001b[A\n",
            "Iteration:  75%|███████▌  | 606/807 [06:44<02:15,  1.49it/s]\u001b[A\n",
            "Iteration:  75%|███████▌  | 607/807 [06:45<02:13,  1.50it/s]\u001b[A\n",
            "Iteration:  75%|███████▌  | 608/807 [06:45<02:18,  1.44it/s]\u001b[A"
          ],
          "name": "stderr"
        },
        {
          "output_type": "stream",
          "text": [
            "\tTraining loss :  1.3042810276444805\n"
          ],
          "name": "stdout"
        },
        {
          "output_type": "stream",
          "text": [
            "\n",
            "Iteration:  75%|███████▌  | 609/807 [06:46<02:14,  1.47it/s]\u001b[A\n",
            "Iteration:  76%|███████▌  | 610/807 [06:47<02:12,  1.49it/s]\u001b[A\n",
            "Iteration:  76%|███████▌  | 611/807 [06:47<02:10,  1.50it/s]\u001b[A\n",
            "Iteration:  76%|███████▌  | 612/807 [06:48<02:15,  1.44it/s]\u001b[A"
          ],
          "name": "stderr"
        },
        {
          "output_type": "stream",
          "text": [
            "\tTraining loss :  1.302703225875602\n"
          ],
          "name": "stdout"
        },
        {
          "output_type": "stream",
          "text": [
            "\n",
            "Iteration:  76%|███████▌  | 613/807 [06:49<02:12,  1.47it/s]\u001b[A\n",
            "Iteration:  76%|███████▌  | 614/807 [06:49<02:09,  1.49it/s]\u001b[A\n",
            "Iteration:  76%|███████▌  | 615/807 [06:50<02:07,  1.50it/s]\u001b[A\n",
            "Iteration:  76%|███████▋  | 616/807 [06:51<02:12,  1.44it/s]\u001b[A"
          ],
          "name": "stderr"
        },
        {
          "output_type": "stream",
          "text": [
            "\tTraining loss :  1.304215836592696\n"
          ],
          "name": "stdout"
        },
        {
          "output_type": "stream",
          "text": [
            "\n",
            "Iteration:  76%|███████▋  | 617/807 [06:51<02:09,  1.47it/s]\u001b[A\n",
            "Iteration:  77%|███████▋  | 618/807 [06:52<02:07,  1.49it/s]\u001b[A\n",
            "Iteration:  77%|███████▋  | 619/807 [06:53<02:05,  1.50it/s]\u001b[A\n",
            "Iteration:  77%|███████▋  | 620/807 [06:53<02:09,  1.44it/s]\u001b[A"
          ],
          "name": "stderr"
        },
        {
          "output_type": "stream",
          "text": [
            "\tTraining loss :  1.304076637712217\n"
          ],
          "name": "stdout"
        },
        {
          "output_type": "stream",
          "text": [
            "\n",
            "Iteration:  77%|███████▋  | 621/807 [06:54<02:06,  1.47it/s]\u001b[A\n",
            "Iteration:  77%|███████▋  | 622/807 [06:55<02:04,  1.49it/s]\u001b[A\n",
            "Iteration:  77%|███████▋  | 623/807 [06:55<02:02,  1.50it/s]\u001b[A\n",
            "Iteration:  77%|███████▋  | 624/807 [06:56<02:07,  1.44it/s]\u001b[A"
          ],
          "name": "stderr"
        },
        {
          "output_type": "stream",
          "text": [
            "\tTraining loss :  1.3035136468421955\n"
          ],
          "name": "stdout"
        },
        {
          "output_type": "stream",
          "text": [
            "\n",
            "Iteration:  77%|███████▋  | 625/807 [06:57<02:03,  1.47it/s]\u001b[A\n",
            "Iteration:  78%|███████▊  | 626/807 [06:57<02:01,  1.49it/s]\u001b[A\n",
            "Iteration:  78%|███████▊  | 627/807 [06:58<01:59,  1.51it/s]\u001b[A\n",
            "Iteration:  78%|███████▊  | 628/807 [06:59<02:04,  1.44it/s]\u001b[A"
          ],
          "name": "stderr"
        },
        {
          "output_type": "stream",
          "text": [
            "\tTraining loss :  1.304751152587924\n"
          ],
          "name": "stdout"
        },
        {
          "output_type": "stream",
          "text": [
            "\n",
            "Iteration:  78%|███████▊  | 629/807 [07:00<02:00,  1.47it/s]\u001b[A\n",
            "Iteration:  78%|███████▊  | 630/807 [07:00<01:58,  1.49it/s]\u001b[A\n",
            "Iteration:  78%|███████▊  | 631/807 [07:01<01:57,  1.50it/s]\u001b[A\n",
            "Iteration:  78%|███████▊  | 632/807 [07:02<02:01,  1.44it/s]\u001b[A"
          ],
          "name": "stderr"
        },
        {
          "output_type": "stream",
          "text": [
            "\tTraining loss :  1.3047903072136113\n"
          ],
          "name": "stdout"
        },
        {
          "output_type": "stream",
          "text": [
            "\n",
            "Iteration:  78%|███████▊  | 633/807 [07:02<01:58,  1.47it/s]\u001b[A\n",
            "Iteration:  79%|███████▊  | 634/807 [07:03<01:56,  1.49it/s]\u001b[A\n",
            "Iteration:  79%|███████▊  | 635/807 [07:04<01:54,  1.50it/s]\u001b[A\n",
            "Iteration:  79%|███████▉  | 636/807 [07:04<01:59,  1.43it/s]\u001b[A"
          ],
          "name": "stderr"
        },
        {
          "output_type": "stream",
          "text": [
            "\tTraining loss :  1.3061610487928181\n"
          ],
          "name": "stdout"
        },
        {
          "output_type": "stream",
          "text": [
            "\n",
            "Iteration:  79%|███████▉  | 637/807 [07:05<01:56,  1.46it/s]\u001b[A\n",
            "Iteration:  79%|███████▉  | 638/807 [07:06<01:53,  1.48it/s]\u001b[A\n",
            "Iteration:  79%|███████▉  | 639/807 [07:06<01:52,  1.50it/s]\u001b[A\n",
            "Iteration:  79%|███████▉  | 640/807 [07:07<01:56,  1.44it/s]\u001b[A"
          ],
          "name": "stderr"
        },
        {
          "output_type": "stream",
          "text": [
            "\tTraining loss :  1.3097304285969584\n"
          ],
          "name": "stdout"
        },
        {
          "output_type": "stream",
          "text": [
            "\n",
            "Iteration:  79%|███████▉  | 641/807 [07:08<01:53,  1.47it/s]\u001b[A\n",
            "Iteration:  80%|███████▉  | 642/807 [07:08<01:50,  1.49it/s]\u001b[A\n",
            "Iteration:  80%|███████▉  | 643/807 [07:09<01:48,  1.51it/s]\u001b[A\n",
            "Iteration:  80%|███████▉  | 644/807 [07:10<01:52,  1.44it/s]\u001b[A"
          ],
          "name": "stderr"
        },
        {
          "output_type": "stream",
          "text": [
            "\tTraining loss :  1.3090532514156763\n"
          ],
          "name": "stdout"
        },
        {
          "output_type": "stream",
          "text": [
            "\n",
            "Iteration:  80%|███████▉  | 645/807 [07:10<01:50,  1.47it/s]\u001b[A\n",
            "Iteration:  80%|████████  | 646/807 [07:11<01:48,  1.48it/s]\u001b[A\n",
            "Iteration:  80%|████████  | 647/807 [07:12<01:46,  1.50it/s]\u001b[A\n",
            "Iteration:  80%|████████  | 648/807 [07:12<01:50,  1.44it/s]\u001b[A"
          ],
          "name": "stderr"
        },
        {
          "output_type": "stream",
          "text": [
            "\tTraining loss :  1.3066897031241729\n"
          ],
          "name": "stdout"
        },
        {
          "output_type": "stream",
          "text": [
            "\n",
            "Iteration:  80%|████████  | 649/807 [07:13<01:47,  1.47it/s]\u001b[A\n",
            "Iteration:  81%|████████  | 650/807 [07:14<01:45,  1.49it/s]\u001b[A\n",
            "Iteration:  81%|████████  | 651/807 [07:14<01:43,  1.50it/s]\u001b[A\n",
            "Iteration:  81%|████████  | 652/807 [07:15<01:47,  1.44it/s]\u001b[A"
          ],
          "name": "stderr"
        },
        {
          "output_type": "stream",
          "text": [
            "\tTraining loss :  1.3060539494171464\n"
          ],
          "name": "stdout"
        },
        {
          "output_type": "stream",
          "text": [
            "\n",
            "Iteration:  81%|████████  | 653/807 [07:16<01:44,  1.47it/s]\u001b[A\n",
            "Iteration:  81%|████████  | 654/807 [07:16<01:42,  1.49it/s]\u001b[A\n",
            "Iteration:  81%|████████  | 655/807 [07:17<01:41,  1.50it/s]\u001b[A\n",
            "Iteration:  81%|████████▏ | 656/807 [07:18<01:45,  1.44it/s]\u001b[A"
          ],
          "name": "stderr"
        },
        {
          "output_type": "stream",
          "text": [
            "\tTraining loss :  1.304644179189714\n"
          ],
          "name": "stdout"
        },
        {
          "output_type": "stream",
          "text": [
            "\n",
            "Iteration:  81%|████████▏ | 657/807 [07:19<01:42,  1.47it/s]\u001b[A\n",
            "Iteration:  82%|████████▏ | 658/807 [07:19<01:40,  1.48it/s]\u001b[A\n",
            "Iteration:  82%|████████▏ | 659/807 [07:20<01:38,  1.50it/s]\u001b[A\n",
            "Iteration:  82%|████████▏ | 660/807 [07:21<01:42,  1.44it/s]\u001b[A"
          ],
          "name": "stderr"
        },
        {
          "output_type": "stream",
          "text": [
            "\tTraining loss :  1.3046763905521594\n"
          ],
          "name": "stdout"
        },
        {
          "output_type": "stream",
          "text": [
            "\n",
            "Iteration:  82%|████████▏ | 661/807 [07:21<01:39,  1.47it/s]\u001b[A\n",
            "Iteration:  82%|████████▏ | 662/807 [07:22<01:37,  1.49it/s]\u001b[A\n",
            "Iteration:  82%|████████▏ | 663/807 [07:23<01:35,  1.50it/s]\u001b[A\n",
            "Iteration:  82%|████████▏ | 664/807 [07:23<01:39,  1.44it/s]\u001b[A"
          ],
          "name": "stderr"
        },
        {
          "output_type": "stream",
          "text": [
            "\tTraining loss :  1.3048058584422233\n"
          ],
          "name": "stdout"
        },
        {
          "output_type": "stream",
          "text": [
            "\n",
            "Iteration:  82%|████████▏ | 665/807 [07:24<01:36,  1.47it/s]\u001b[A\n",
            "Iteration:  83%|████████▎ | 666/807 [07:25<01:34,  1.49it/s]\u001b[A\n",
            "Iteration:  83%|████████▎ | 667/807 [07:25<01:33,  1.50it/s]\u001b[A\n",
            "Iteration:  83%|████████▎ | 668/807 [07:26<01:36,  1.44it/s]\u001b[A"
          ],
          "name": "stderr"
        },
        {
          "output_type": "stream",
          "text": [
            "\tTraining loss :  1.3064971656767195\n"
          ],
          "name": "stdout"
        },
        {
          "output_type": "stream",
          "text": [
            "\n",
            "Iteration:  83%|████████▎ | 669/807 [07:27<01:33,  1.47it/s]\u001b[A\n",
            "Iteration:  83%|████████▎ | 670/807 [07:27<01:31,  1.49it/s]\u001b[A\n",
            "Iteration:  83%|████████▎ | 671/807 [07:28<01:30,  1.50it/s]\u001b[A\n",
            "Iteration:  83%|████████▎ | 672/807 [07:29<01:33,  1.44it/s]\u001b[A"
          ],
          "name": "stderr"
        },
        {
          "output_type": "stream",
          "text": [
            "\tTraining loss :  1.3050265458989\n"
          ],
          "name": "stdout"
        },
        {
          "output_type": "stream",
          "text": [
            "\n",
            "Iteration:  83%|████████▎ | 673/807 [07:29<01:30,  1.47it/s]\u001b[A\n",
            "Iteration:  84%|████████▎ | 674/807 [07:30<01:29,  1.49it/s]\u001b[A\n",
            "Iteration:  84%|████████▎ | 675/807 [07:31<01:27,  1.50it/s]\u001b[A\n",
            "Iteration:  84%|████████▍ | 676/807 [07:31<01:31,  1.44it/s]\u001b[A"
          ],
          "name": "stderr"
        },
        {
          "output_type": "stream",
          "text": [
            "\tTraining loss :  1.3043412504905074\n"
          ],
          "name": "stdout"
        },
        {
          "output_type": "stream",
          "text": [
            "\n",
            "Iteration:  84%|████████▍ | 677/807 [07:32<01:28,  1.47it/s]\u001b[A\n",
            "Iteration:  84%|████████▍ | 678/807 [07:33<01:27,  1.48it/s]\u001b[A\n",
            "Iteration:  84%|████████▍ | 679/807 [07:33<01:25,  1.50it/s]\u001b[A\n",
            "Iteration:  84%|████████▍ | 680/807 [07:34<01:28,  1.44it/s]\u001b[A"
          ],
          "name": "stderr"
        },
        {
          "output_type": "stream",
          "text": [
            "\tTraining loss :  1.3046663683565225\n"
          ],
          "name": "stdout"
        },
        {
          "output_type": "stream",
          "text": [
            "\n",
            "Iteration:  84%|████████▍ | 681/807 [07:35<01:25,  1.47it/s]\u001b[A\n",
            "Iteration:  85%|████████▍ | 682/807 [07:35<01:24,  1.49it/s]\u001b[A\n",
            "Iteration:  85%|████████▍ | 683/807 [07:36<01:22,  1.50it/s]\u001b[A\n",
            "Iteration:  85%|████████▍ | 684/807 [07:37<01:25,  1.44it/s]\u001b[A"
          ],
          "name": "stderr"
        },
        {
          "output_type": "stream",
          "text": [
            "\tTraining loss :  1.30283712177423\n"
          ],
          "name": "stdout"
        },
        {
          "output_type": "stream",
          "text": [
            "\n",
            "Iteration:  85%|████████▍ | 685/807 [07:38<01:22,  1.47it/s]\u001b[A\n",
            "Iteration:  85%|████████▌ | 686/807 [07:38<01:21,  1.49it/s]\u001b[A\n",
            "Iteration:  85%|████████▌ | 687/807 [07:39<01:19,  1.51it/s]\u001b[A\n",
            "Iteration:  85%|████████▌ | 688/807 [07:40<01:22,  1.44it/s]\u001b[A"
          ],
          "name": "stderr"
        },
        {
          "output_type": "stream",
          "text": [
            "\tTraining loss :  1.3047762472009243\n"
          ],
          "name": "stdout"
        },
        {
          "output_type": "stream",
          "text": [
            "\n",
            "Iteration:  85%|████████▌ | 689/807 [07:40<01:20,  1.47it/s]\u001b[A\n",
            "Iteration:  86%|████████▌ | 690/807 [07:41<01:18,  1.49it/s]\u001b[A\n",
            "Iteration:  86%|████████▌ | 691/807 [07:42<01:16,  1.51it/s]\u001b[A\n",
            "Iteration:  86%|████████▌ | 692/807 [07:42<01:19,  1.44it/s]\u001b[A"
          ],
          "name": "stderr"
        },
        {
          "output_type": "stream",
          "text": [
            "\tTraining loss :  1.3066203808250454\n"
          ],
          "name": "stdout"
        },
        {
          "output_type": "stream",
          "text": [
            "\n",
            "Iteration:  86%|████████▌ | 693/807 [07:43<01:17,  1.47it/s]\u001b[A\n",
            "Iteration:  86%|████████▌ | 694/807 [07:44<01:15,  1.49it/s]\u001b[A\n",
            "Iteration:  86%|████████▌ | 695/807 [07:44<01:14,  1.51it/s]\u001b[A\n",
            "Iteration:  86%|████████▌ | 696/807 [07:45<01:16,  1.44it/s]\u001b[A"
          ],
          "name": "stderr"
        },
        {
          "output_type": "stream",
          "text": [
            "\tTraining loss :  1.3070627847022709\n"
          ],
          "name": "stdout"
        },
        {
          "output_type": "stream",
          "text": [
            "\n",
            "Iteration:  86%|████████▋ | 697/807 [07:46<01:14,  1.47it/s]\u001b[A\n",
            "Iteration:  86%|████████▋ | 698/807 [07:46<01:12,  1.49it/s]\u001b[A\n",
            "Iteration:  87%|████████▋ | 699/807 [07:47<01:11,  1.51it/s]\u001b[A\n",
            "Iteration:  87%|████████▋ | 700/807 [07:48<01:14,  1.45it/s]\u001b[A"
          ],
          "name": "stderr"
        },
        {
          "output_type": "stream",
          "text": [
            "\tTraining loss :  1.3073323682802065\n"
          ],
          "name": "stdout"
        },
        {
          "output_type": "stream",
          "text": [
            "\n",
            "Iteration:  87%|████████▋ | 701/807 [07:48<01:12,  1.47it/s]\u001b[A\n",
            "Iteration:  87%|████████▋ | 702/807 [07:49<01:10,  1.49it/s]\u001b[A\n",
            "Iteration:  87%|████████▋ | 703/807 [07:50<01:09,  1.50it/s]\u001b[A\n",
            "Iteration:  87%|████████▋ | 704/807 [07:50<01:11,  1.44it/s]\u001b[A"
          ],
          "name": "stderr"
        },
        {
          "output_type": "stream",
          "text": [
            "\tTraining loss :  1.3063404414040798\n"
          ],
          "name": "stdout"
        },
        {
          "output_type": "stream",
          "text": [
            "\n",
            "Iteration:  87%|████████▋ | 705/807 [07:51<01:09,  1.47it/s]\u001b[A\n",
            "Iteration:  87%|████████▋ | 706/807 [07:52<01:07,  1.49it/s]\u001b[A\n",
            "Iteration:  88%|████████▊ | 707/807 [07:52<01:06,  1.51it/s]\u001b[A\n",
            "Iteration:  88%|████████▊ | 708/807 [07:53<01:08,  1.44it/s]\u001b[A"
          ],
          "name": "stderr"
        },
        {
          "output_type": "stream",
          "text": [
            "\tTraining loss :  1.3067170988115888\n"
          ],
          "name": "stdout"
        },
        {
          "output_type": "stream",
          "text": [
            "\n",
            "Iteration:  88%|████████▊ | 709/807 [07:54<01:06,  1.47it/s]\u001b[A\n",
            "Iteration:  88%|████████▊ | 710/807 [07:54<01:05,  1.49it/s]\u001b[A\n",
            "Iteration:  88%|████████▊ | 711/807 [07:55<01:03,  1.51it/s]\u001b[A\n",
            "Iteration:  88%|████████▊ | 712/807 [07:56<01:05,  1.45it/s]\u001b[A"
          ],
          "name": "stderr"
        },
        {
          "output_type": "stream",
          "text": [
            "\tTraining loss :  1.3063643594387542\n"
          ],
          "name": "stdout"
        },
        {
          "output_type": "stream",
          "text": [
            "\n",
            "Iteration:  88%|████████▊ | 713/807 [07:56<01:03,  1.47it/s]\u001b[A\n",
            "Iteration:  88%|████████▊ | 714/807 [07:57<01:02,  1.49it/s]\u001b[A\n",
            "Iteration:  89%|████████▊ | 715/807 [07:58<01:01,  1.51it/s]\u001b[A\n",
            "Iteration:  89%|████████▊ | 716/807 [07:58<01:03,  1.44it/s]\u001b[A"
          ],
          "name": "stderr"
        },
        {
          "output_type": "stream",
          "text": [
            "\tTraining loss :  1.3067084446382922\n"
          ],
          "name": "stdout"
        },
        {
          "output_type": "stream",
          "text": [
            "\n",
            "Iteration:  89%|████████▉ | 717/807 [07:59<01:01,  1.47it/s]\u001b[A\n",
            "Iteration:  89%|████████▉ | 718/807 [08:00<00:59,  1.49it/s]\u001b[A\n",
            "Iteration:  89%|████████▉ | 719/807 [08:00<00:58,  1.51it/s]\u001b[A\n",
            "Iteration:  89%|████████▉ | 720/807 [08:01<01:00,  1.44it/s]\u001b[A"
          ],
          "name": "stderr"
        },
        {
          "output_type": "stream",
          "text": [
            "\tTraining loss :  1.305165987999903\n"
          ],
          "name": "stdout"
        },
        {
          "output_type": "stream",
          "text": [
            "\n",
            "Iteration:  89%|████████▉ | 721/807 [08:02<00:58,  1.47it/s]\u001b[A\n",
            "Iteration:  89%|████████▉ | 722/807 [08:03<00:56,  1.49it/s]\u001b[A\n",
            "Iteration:  90%|████████▉ | 723/807 [08:03<00:55,  1.51it/s]\u001b[A\n",
            "Iteration:  90%|████████▉ | 724/807 [08:04<00:57,  1.44it/s]\u001b[A"
          ],
          "name": "stderr"
        },
        {
          "output_type": "stream",
          "text": [
            "\tTraining loss :  1.3054499266802935\n"
          ],
          "name": "stdout"
        },
        {
          "output_type": "stream",
          "text": [
            "\n",
            "Iteration:  90%|████████▉ | 725/807 [08:05<00:55,  1.47it/s]\u001b[A\n",
            "Iteration:  90%|████████▉ | 726/807 [08:05<00:54,  1.49it/s]\u001b[A\n",
            "Iteration:  90%|█████████ | 727/807 [08:06<00:53,  1.51it/s]\u001b[A\n",
            "Iteration:  90%|█████████ | 728/807 [08:07<00:54,  1.44it/s]\u001b[A"
          ],
          "name": "stderr"
        },
        {
          "output_type": "stream",
          "text": [
            "\tTraining loss :  1.3056440516733205\n"
          ],
          "name": "stdout"
        },
        {
          "output_type": "stream",
          "text": [
            "\n",
            "Iteration:  90%|█████████ | 729/807 [08:07<00:53,  1.47it/s]\u001b[A\n",
            "Iteration:  90%|█████████ | 730/807 [08:08<00:51,  1.49it/s]\u001b[A\n",
            "Iteration:  91%|█████████ | 731/807 [08:09<00:50,  1.50it/s]\u001b[A\n",
            "Iteration:  91%|█████████ | 732/807 [08:09<00:51,  1.44it/s]\u001b[A"
          ],
          "name": "stderr"
        },
        {
          "output_type": "stream",
          "text": [
            "\tTraining loss :  1.3055588016337385\n"
          ],
          "name": "stdout"
        },
        {
          "output_type": "stream",
          "text": [
            "\n",
            "Iteration:  91%|█████████ | 733/807 [08:10<00:50,  1.47it/s]\u001b[A\n",
            "Iteration:  91%|█████████ | 734/807 [08:11<00:49,  1.49it/s]\u001b[A\n",
            "Iteration:  91%|█████████ | 735/807 [08:11<00:47,  1.50it/s]\u001b[A\n",
            "Iteration:  91%|█████████ | 736/807 [08:12<00:49,  1.44it/s]\u001b[A"
          ],
          "name": "stderr"
        },
        {
          "output_type": "stream",
          "text": [
            "\tTraining loss :  1.3066656615828043\n"
          ],
          "name": "stdout"
        },
        {
          "output_type": "stream",
          "text": [
            "\n",
            "Iteration:  91%|█████████▏| 737/807 [08:13<00:47,  1.47it/s]\u001b[A\n",
            "Iteration:  91%|█████████▏| 738/807 [08:13<00:46,  1.49it/s]\u001b[A\n",
            "Iteration:  92%|█████████▏| 739/807 [08:14<00:45,  1.50it/s]\u001b[A\n",
            "Iteration:  92%|█████████▏| 740/807 [08:15<00:46,  1.44it/s]\u001b[A"
          ],
          "name": "stderr"
        },
        {
          "output_type": "stream",
          "text": [
            "\tTraining loss :  1.3064393275895634\n"
          ],
          "name": "stdout"
        },
        {
          "output_type": "stream",
          "text": [
            "\n",
            "Iteration:  92%|█████████▏| 741/807 [08:15<00:45,  1.46it/s]\u001b[A\n",
            "Iteration:  92%|█████████▏| 742/807 [08:16<00:43,  1.49it/s]\u001b[A\n",
            "Iteration:  92%|█████████▏| 743/807 [08:17<00:42,  1.50it/s]\u001b[A\n",
            "Iteration:  92%|█████████▏| 744/807 [08:17<00:43,  1.44it/s]\u001b[A"
          ],
          "name": "stderr"
        },
        {
          "output_type": "stream",
          "text": [
            "\tTraining loss :  1.305557734342993\n"
          ],
          "name": "stdout"
        },
        {
          "output_type": "stream",
          "text": [
            "\n",
            "Iteration:  92%|█████████▏| 745/807 [08:18<00:42,  1.47it/s]\u001b[A\n",
            "Iteration:  92%|█████████▏| 746/807 [08:19<00:41,  1.49it/s]\u001b[A\n",
            "Iteration:  93%|█████████▎| 747/807 [08:19<00:39,  1.50it/s]\u001b[A\n",
            "Iteration:  93%|█████████▎| 748/807 [08:20<00:40,  1.44it/s]\u001b[A"
          ],
          "name": "stderr"
        },
        {
          "output_type": "stream",
          "text": [
            "\tTraining loss :  1.3046445838190655\n"
          ],
          "name": "stdout"
        },
        {
          "output_type": "stream",
          "text": [
            "\n",
            "Iteration:  93%|█████████▎| 749/807 [08:21<00:39,  1.47it/s]\u001b[A\n",
            "Iteration:  93%|█████████▎| 750/807 [08:21<00:38,  1.49it/s]\u001b[A\n",
            "Iteration:  93%|█████████▎| 751/807 [08:22<00:37,  1.51it/s]\u001b[A\n",
            "Iteration:  93%|█████████▎| 752/807 [08:23<00:38,  1.44it/s]\u001b[A"
          ],
          "name": "stderr"
        },
        {
          "output_type": "stream",
          "text": [
            "\tTraining loss :  1.3056386293486713\n"
          ],
          "name": "stdout"
        },
        {
          "output_type": "stream",
          "text": [
            "\n",
            "Iteration:  93%|█████████▎| 753/807 [08:24<00:36,  1.47it/s]\u001b[A\n",
            "Iteration:  93%|█████████▎| 754/807 [08:24<00:35,  1.49it/s]\u001b[A\n",
            "Iteration:  94%|█████████▎| 755/807 [08:25<00:34,  1.50it/s]\u001b[A\n",
            "Iteration:  94%|█████████▎| 756/807 [08:26<00:35,  1.43it/s]\u001b[A"
          ],
          "name": "stderr"
        },
        {
          "output_type": "stream",
          "text": [
            "\tTraining loss :  1.305751980888465\n"
          ],
          "name": "stdout"
        },
        {
          "output_type": "stream",
          "text": [
            "\n",
            "Iteration:  94%|█████████▍| 757/807 [08:26<00:34,  1.47it/s]\u001b[A\n",
            "Iteration:  94%|█████████▍| 758/807 [08:27<00:32,  1.49it/s]\u001b[A\n",
            "Iteration:  94%|█████████▍| 759/807 [08:28<00:31,  1.50it/s]\u001b[A\n",
            "Iteration:  94%|█████████▍| 760/807 [08:28<00:32,  1.44it/s]\u001b[A"
          ],
          "name": "stderr"
        },
        {
          "output_type": "stream",
          "text": [
            "\tTraining loss :  1.305762274053536\n"
          ],
          "name": "stdout"
        },
        {
          "output_type": "stream",
          "text": [
            "\n",
            "Iteration:  94%|█████████▍| 761/807 [08:29<00:31,  1.47it/s]\u001b[A\n",
            "Iteration:  94%|█████████▍| 762/807 [08:30<00:30,  1.49it/s]\u001b[A\n",
            "Iteration:  95%|█████████▍| 763/807 [08:30<00:29,  1.50it/s]\u001b[A\n",
            "Iteration:  95%|█████████▍| 764/807 [08:31<00:29,  1.44it/s]\u001b[A"
          ],
          "name": "stderr"
        },
        {
          "output_type": "stream",
          "text": [
            "\tTraining loss :  1.3043114075251898\n"
          ],
          "name": "stdout"
        },
        {
          "output_type": "stream",
          "text": [
            "\n",
            "Iteration:  95%|█████████▍| 765/807 [08:32<00:28,  1.47it/s]\u001b[A\n",
            "Iteration:  95%|█████████▍| 766/807 [08:32<00:27,  1.49it/s]\u001b[A\n",
            "Iteration:  95%|█████████▌| 767/807 [08:33<00:26,  1.50it/s]\u001b[A\n",
            "Iteration:  95%|█████████▌| 768/807 [08:34<00:27,  1.44it/s]\u001b[A"
          ],
          "name": "stderr"
        },
        {
          "output_type": "stream",
          "text": [
            "\tTraining loss :  1.304717860223415\n"
          ],
          "name": "stdout"
        },
        {
          "output_type": "stream",
          "text": [
            "\n",
            "Iteration:  95%|█████████▌| 769/807 [08:34<00:25,  1.47it/s]\u001b[A\n",
            "Iteration:  95%|█████████▌| 770/807 [08:35<00:24,  1.49it/s]\u001b[A\n",
            "Iteration:  96%|█████████▌| 771/807 [08:36<00:23,  1.51it/s]\u001b[A\n",
            "Iteration:  96%|█████████▌| 772/807 [08:36<00:24,  1.44it/s]\u001b[A"
          ],
          "name": "stderr"
        },
        {
          "output_type": "stream",
          "text": [
            "\tTraining loss :  1.3039243068796984\n"
          ],
          "name": "stdout"
        },
        {
          "output_type": "stream",
          "text": [
            "\n",
            "Iteration:  96%|█████████▌| 773/807 [08:37<00:23,  1.47it/s]\u001b[A\n",
            "Iteration:  96%|█████████▌| 774/807 [08:38<00:22,  1.48it/s]\u001b[A\n",
            "Iteration:  96%|█████████▌| 775/807 [08:38<00:21,  1.50it/s]\u001b[A\n",
            "Iteration:  96%|█████████▌| 776/807 [08:39<00:21,  1.44it/s]\u001b[A"
          ],
          "name": "stderr"
        },
        {
          "output_type": "stream",
          "text": [
            "\tTraining loss :  1.304222891126404\n"
          ],
          "name": "stdout"
        },
        {
          "output_type": "stream",
          "text": [
            "\n",
            "Iteration:  96%|█████████▋| 777/807 [08:40<00:20,  1.47it/s]\u001b[A\n",
            "Iteration:  96%|█████████▋| 778/807 [08:40<00:19,  1.49it/s]\u001b[A\n",
            "Iteration:  97%|█████████▋| 779/807 [08:41<00:18,  1.50it/s]\u001b[A\n",
            "Iteration:  97%|█████████▋| 780/807 [08:42<00:18,  1.44it/s]\u001b[A"
          ],
          "name": "stderr"
        },
        {
          "output_type": "stream",
          "text": [
            "\tTraining loss :  1.3048981189345703\n"
          ],
          "name": "stdout"
        },
        {
          "output_type": "stream",
          "text": [
            "\n",
            "Iteration:  97%|█████████▋| 781/807 [08:43<00:17,  1.47it/s]\u001b[A\n",
            "Iteration:  97%|█████████▋| 782/807 [08:43<00:16,  1.49it/s]\u001b[A\n",
            "Iteration:  97%|█████████▋| 783/807 [08:44<00:15,  1.50it/s]\u001b[A\n",
            "Iteration:  97%|█████████▋| 784/807 [08:45<00:15,  1.44it/s]\u001b[A"
          ],
          "name": "stderr"
        },
        {
          "output_type": "stream",
          "text": [
            "\tTraining loss :  1.3042407348675995\n"
          ],
          "name": "stdout"
        },
        {
          "output_type": "stream",
          "text": [
            "\n",
            "Iteration:  97%|█████████▋| 785/807 [08:45<00:14,  1.47it/s]\u001b[A\n",
            "Iteration:  97%|█████████▋| 786/807 [08:46<00:14,  1.49it/s]\u001b[A\n",
            "Iteration:  98%|█████████▊| 787/807 [08:47<00:13,  1.51it/s]\u001b[A\n",
            "Iteration:  98%|█████████▊| 788/807 [08:47<00:13,  1.44it/s]\u001b[A"
          ],
          "name": "stderr"
        },
        {
          "output_type": "stream",
          "text": [
            "\tTraining loss :  1.3049224655564666\n"
          ],
          "name": "stdout"
        },
        {
          "output_type": "stream",
          "text": [
            "\n",
            "Iteration:  98%|█████████▊| 789/807 [08:48<00:12,  1.47it/s]\u001b[A\n",
            "Iteration:  98%|█████████▊| 790/807 [08:49<00:11,  1.49it/s]\u001b[A\n",
            "Iteration:  98%|█████████▊| 791/807 [08:49<00:10,  1.51it/s]\u001b[A\n",
            "Iteration:  98%|█████████▊| 792/807 [08:50<00:10,  1.44it/s]\u001b[A"
          ],
          "name": "stderr"
        },
        {
          "output_type": "stream",
          "text": [
            "\tTraining loss :  1.3042586541010275\n"
          ],
          "name": "stdout"
        },
        {
          "output_type": "stream",
          "text": [
            "\n",
            "Iteration:  98%|█████████▊| 793/807 [08:51<00:09,  1.47it/s]\u001b[A\n",
            "Iteration:  98%|█████████▊| 794/807 [08:51<00:08,  1.49it/s]\u001b[A\n",
            "Iteration:  99%|█████████▊| 795/807 [08:52<00:07,  1.50it/s]\u001b[A\n",
            "Iteration:  99%|█████████▊| 796/807 [08:53<00:07,  1.44it/s]\u001b[A"
          ],
          "name": "stderr"
        },
        {
          "output_type": "stream",
          "text": [
            "\tTraining loss :  1.3024060272017317\n"
          ],
          "name": "stdout"
        },
        {
          "output_type": "stream",
          "text": [
            "\n",
            "Iteration:  99%|█████████▉| 797/807 [08:53<00:06,  1.47it/s]\u001b[A\n",
            "Iteration:  99%|█████████▉| 798/807 [08:54<00:06,  1.49it/s]\u001b[A\n",
            "Iteration:  99%|█████████▉| 799/807 [08:55<00:05,  1.51it/s]\u001b[A\n",
            "Iteration:  99%|█████████▉| 800/807 [08:55<00:04,  1.44it/s]\u001b[A"
          ],
          "name": "stderr"
        },
        {
          "output_type": "stream",
          "text": [
            "\tTraining loss :  1.3042149573192001\n"
          ],
          "name": "stdout"
        },
        {
          "output_type": "stream",
          "text": [
            "\n",
            "Iteration:  99%|█████████▉| 801/807 [08:56<00:04,  1.47it/s]\u001b[A\n",
            "Iteration:  99%|█████████▉| 802/807 [08:57<00:03,  1.49it/s]\u001b[A\n",
            "Iteration: 100%|█████████▉| 803/807 [08:57<00:02,  1.50it/s]\u001b[A\n",
            "Iteration: 100%|█████████▉| 804/807 [08:58<00:02,  1.44it/s]\u001b[A"
          ],
          "name": "stderr"
        },
        {
          "output_type": "stream",
          "text": [
            "\tTraining loss :  1.3041421616477753\n"
          ],
          "name": "stdout"
        },
        {
          "output_type": "stream",
          "text": [
            "\n",
            "Iteration: 100%|█████████▉| 805/807 [08:59<00:01,  1.47it/s]\u001b[A\n",
            "Iteration: 100%|█████████▉| 806/807 [08:59<00:00,  1.49it/s]\u001b[A\n",
            "Iteration: 100%|██████████| 807/807 [09:00<00:00,  1.49it/s]\n",
            "Epoch:  33%|███▎      | 1/3 [09:00<18:00, 540.47s/it]\n",
            "Iteration:   0%|          | 0/807 [00:00<?, ?it/s]\u001b[A\n",
            "Iteration:   0%|          | 1/807 [00:00<08:36,  1.56it/s]\u001b[A\n",
            "Iteration:   0%|          | 2/807 [00:01<08:38,  1.55it/s]\u001b[A\n",
            "Iteration:   0%|          | 3/807 [00:01<08:37,  1.55it/s]\u001b[A\n",
            "Iteration:   0%|          | 4/807 [00:02<09:05,  1.47it/s]\u001b[A"
          ],
          "name": "stderr"
        },
        {
          "output_type": "stream",
          "text": [
            "\tTraining loss :  1.374334454536438\n"
          ],
          "name": "stdout"
        },
        {
          "output_type": "stream",
          "text": [
            "\n",
            "Iteration:   1%|          | 5/807 [00:03<08:57,  1.49it/s]\u001b[A\n",
            "Iteration:   1%|          | 6/807 [00:03<08:52,  1.50it/s]\u001b[A\n",
            "Iteration:   1%|          | 7/807 [00:04<08:48,  1.51it/s]\u001b[A\n",
            "Iteration:   1%|          | 8/807 [00:05<09:12,  1.45it/s]\u001b[A"
          ],
          "name": "stderr"
        },
        {
          "output_type": "stream",
          "text": [
            "\tTraining loss :  1.299004688858986\n"
          ],
          "name": "stdout"
        },
        {
          "output_type": "stream",
          "text": [
            "\n",
            "Iteration:   1%|          | 9/807 [00:06<09:00,  1.48it/s]\u001b[A\n",
            "Iteration:   1%|          | 10/807 [00:06<08:54,  1.49it/s]\u001b[A\n",
            "Iteration:   1%|▏         | 11/807 [00:07<08:47,  1.51it/s]\u001b[A\n",
            "Iteration:   1%|▏         | 12/807 [00:08<09:11,  1.44it/s]\u001b[A"
          ],
          "name": "stderr"
        },
        {
          "output_type": "stream",
          "text": [
            "\tTraining loss :  1.2840800732374191\n"
          ],
          "name": "stdout"
        },
        {
          "output_type": "stream",
          "text": [
            "\n",
            "Iteration:   2%|▏         | 13/807 [00:08<09:00,  1.47it/s]\u001b[A\n",
            "Iteration:   2%|▏         | 14/807 [00:09<08:52,  1.49it/s]\u001b[A\n",
            "Iteration:   2%|▏         | 15/807 [00:10<08:46,  1.50it/s]\u001b[A\n",
            "Iteration:   2%|▏         | 16/807 [00:10<09:08,  1.44it/s]\u001b[A"
          ],
          "name": "stderr"
        },
        {
          "output_type": "stream",
          "text": [
            "\tTraining loss :  1.3466557078063488\n"
          ],
          "name": "stdout"
        },
        {
          "output_type": "stream",
          "text": [
            "\n",
            "Iteration:   2%|▏         | 17/807 [00:11<08:57,  1.47it/s]\u001b[A\n",
            "Iteration:   2%|▏         | 18/807 [00:12<08:49,  1.49it/s]\u001b[A\n",
            "Iteration:   2%|▏         | 19/807 [00:12<08:42,  1.51it/s]\u001b[A\n",
            "Iteration:   2%|▏         | 20/807 [00:13<09:06,  1.44it/s]\u001b[A"
          ],
          "name": "stderr"
        },
        {
          "output_type": "stream",
          "text": [
            "\tTraining loss :  1.379822090268135\n"
          ],
          "name": "stdout"
        },
        {
          "output_type": "stream",
          "text": [
            "\n",
            "Iteration:   3%|▎         | 21/807 [00:14<08:55,  1.47it/s]\u001b[A\n",
            "Iteration:   3%|▎         | 22/807 [00:14<08:48,  1.49it/s]\u001b[A\n",
            "Iteration:   3%|▎         | 23/807 [00:15<08:40,  1.51it/s]\u001b[A\n",
            "Iteration:   3%|▎         | 24/807 [00:16<09:02,  1.44it/s]\u001b[A"
          ],
          "name": "stderr"
        },
        {
          "output_type": "stream",
          "text": [
            "\tTraining loss :  1.3836836392680805\n"
          ],
          "name": "stdout"
        },
        {
          "output_type": "stream",
          "text": [
            "\n",
            "Iteration:   3%|▎         | 25/807 [00:16<08:50,  1.47it/s]\u001b[A\n",
            "Iteration:   3%|▎         | 26/807 [00:17<08:43,  1.49it/s]\u001b[A\n",
            "Iteration:   3%|▎         | 27/807 [00:18<08:37,  1.51it/s]\u001b[A\n",
            "Iteration:   3%|▎         | 28/807 [00:18<09:00,  1.44it/s]\u001b[A"
          ],
          "name": "stderr"
        },
        {
          "output_type": "stream",
          "text": [
            "\tTraining loss :  1.399184837937355\n"
          ],
          "name": "stdout"
        },
        {
          "output_type": "stream",
          "text": [
            "\n",
            "Iteration:   4%|▎         | 29/807 [00:19<08:47,  1.47it/s]\u001b[A\n",
            "Iteration:   4%|▎         | 30/807 [00:20<08:41,  1.49it/s]\u001b[A\n",
            "Iteration:   4%|▍         | 31/807 [00:20<08:35,  1.51it/s]\u001b[A\n",
            "Iteration:   4%|▍         | 32/807 [00:21<08:57,  1.44it/s]\u001b[A"
          ],
          "name": "stderr"
        },
        {
          "output_type": "stream",
          "text": [
            "\tTraining loss :  1.4125563260167837\n"
          ],
          "name": "stdout"
        },
        {
          "output_type": "stream",
          "text": [
            "\n",
            "Iteration:   4%|▍         | 33/807 [00:22<08:46,  1.47it/s]\u001b[A\n",
            "Iteration:   4%|▍         | 34/807 [00:22<08:38,  1.49it/s]\u001b[A\n",
            "Iteration:   4%|▍         | 35/807 [00:23<08:32,  1.51it/s]\u001b[A\n",
            "Iteration:   4%|▍         | 36/807 [00:24<08:54,  1.44it/s]\u001b[A"
          ],
          "name": "stderr"
        },
        {
          "output_type": "stream",
          "text": [
            "\tTraining loss :  1.4049747834602992\n"
          ],
          "name": "stdout"
        },
        {
          "output_type": "stream",
          "text": [
            "\n",
            "Iteration:   5%|▍         | 37/807 [00:25<08:42,  1.47it/s]\u001b[A\n",
            "Iteration:   5%|▍         | 38/807 [00:25<08:35,  1.49it/s]\u001b[A\n",
            "Iteration:   5%|▍         | 39/807 [00:26<08:29,  1.51it/s]\u001b[A\n",
            "Iteration:   5%|▍         | 40/807 [00:27<08:50,  1.45it/s]\u001b[A"
          ],
          "name": "stderr"
        },
        {
          "output_type": "stream",
          "text": [
            "\tTraining loss :  1.3896342858672142\n"
          ],
          "name": "stdout"
        },
        {
          "output_type": "stream",
          "text": [
            "\n",
            "Iteration:   5%|▌         | 41/807 [00:27<08:41,  1.47it/s]\u001b[A\n",
            "Iteration:   5%|▌         | 42/807 [00:28<08:33,  1.49it/s]\u001b[A\n",
            "Iteration:   5%|▌         | 43/807 [00:29<08:28,  1.50it/s]\u001b[A\n",
            "Iteration:   5%|▌         | 44/807 [00:29<08:50,  1.44it/s]\u001b[A"
          ],
          "name": "stderr"
        },
        {
          "output_type": "stream",
          "text": [
            "\tTraining loss :  1.3551710708574816\n"
          ],
          "name": "stdout"
        },
        {
          "output_type": "stream",
          "text": [
            "\n",
            "Iteration:   6%|▌         | 45/807 [00:30<08:38,  1.47it/s]\u001b[A\n",
            "Iteration:   6%|▌         | 46/807 [00:31<08:33,  1.48it/s]\u001b[A\n",
            "Iteration:   6%|▌         | 47/807 [00:31<08:25,  1.50it/s]\u001b[A\n",
            "Iteration:   6%|▌         | 48/807 [00:32<08:46,  1.44it/s]\u001b[A"
          ],
          "name": "stderr"
        },
        {
          "output_type": "stream",
          "text": [
            "\tTraining loss :  1.3524086140096188\n"
          ],
          "name": "stdout"
        },
        {
          "output_type": "stream",
          "text": [
            "\n",
            "Iteration:   6%|▌         | 49/807 [00:33<08:35,  1.47it/s]\u001b[A\n",
            "Iteration:   6%|▌         | 50/807 [00:33<08:28,  1.49it/s]\u001b[A\n",
            "Iteration:   6%|▋         | 51/807 [00:34<08:22,  1.50it/s]\u001b[A\n",
            "Iteration:   6%|▋         | 52/807 [00:35<08:43,  1.44it/s]\u001b[A"
          ],
          "name": "stderr"
        },
        {
          "output_type": "stream",
          "text": [
            "\tTraining loss :  1.3449684599271188\n"
          ],
          "name": "stdout"
        },
        {
          "output_type": "stream",
          "text": [
            "\n",
            "Iteration:   7%|▋         | 53/807 [00:35<08:32,  1.47it/s]\u001b[A\n",
            "Iteration:   7%|▋         | 54/807 [00:36<08:25,  1.49it/s]\u001b[A\n",
            "Iteration:   7%|▋         | 55/807 [00:37<08:19,  1.51it/s]\u001b[A\n",
            "Iteration:   7%|▋         | 56/807 [00:37<08:40,  1.44it/s]\u001b[A"
          ],
          "name": "stderr"
        },
        {
          "output_type": "stream",
          "text": [
            "\tTraining loss :  1.3366932006818908\n"
          ],
          "name": "stdout"
        },
        {
          "output_type": "stream",
          "text": [
            "\n",
            "Iteration:   7%|▋         | 57/807 [00:38<08:29,  1.47it/s]\u001b[A\n",
            "Iteration:   7%|▋         | 58/807 [00:39<08:22,  1.49it/s]\u001b[A\n",
            "Iteration:   7%|▋         | 59/807 [00:39<08:17,  1.50it/s]\u001b[A\n",
            "Iteration:   7%|▋         | 60/807 [00:40<08:39,  1.44it/s]\u001b[A"
          ],
          "name": "stderr"
        },
        {
          "output_type": "stream",
          "text": [
            "\tTraining loss :  1.327210729320844\n"
          ],
          "name": "stdout"
        },
        {
          "output_type": "stream",
          "text": [
            "\n",
            "Iteration:   8%|▊         | 61/807 [00:41<08:28,  1.47it/s]\u001b[A\n",
            "Iteration:   8%|▊         | 62/807 [00:41<08:20,  1.49it/s]\u001b[A\n",
            "Iteration:   8%|▊         | 63/807 [00:42<08:13,  1.51it/s]\u001b[A\n",
            "Iteration:   8%|▊         | 64/807 [00:43<08:35,  1.44it/s]\u001b[A"
          ],
          "name": "stderr"
        },
        {
          "output_type": "stream",
          "text": [
            "\tTraining loss :  1.329697129316628\n"
          ],
          "name": "stdout"
        },
        {
          "output_type": "stream",
          "text": [
            "\n",
            "Iteration:   8%|▊         | 65/807 [00:44<08:25,  1.47it/s]\u001b[A\n",
            "Iteration:   8%|▊         | 66/807 [00:44<08:18,  1.49it/s]\u001b[A\n",
            "Iteration:   8%|▊         | 67/807 [00:45<08:12,  1.50it/s]\u001b[A\n",
            "Iteration:   8%|▊         | 68/807 [00:46<08:32,  1.44it/s]\u001b[A"
          ],
          "name": "stderr"
        },
        {
          "output_type": "stream",
          "text": [
            "\tTraining loss :  1.31881243604071\n"
          ],
          "name": "stdout"
        },
        {
          "output_type": "stream",
          "text": [
            "\n",
            "Iteration:   9%|▊         | 69/807 [00:46<08:22,  1.47it/s]\u001b[A\n",
            "Iteration:   9%|▊         | 70/807 [00:47<08:15,  1.49it/s]\u001b[A\n",
            "Iteration:   9%|▉         | 71/807 [00:48<08:10,  1.50it/s]\u001b[A\n",
            "Iteration:   9%|▉         | 72/807 [00:48<08:29,  1.44it/s]\u001b[A"
          ],
          "name": "stderr"
        },
        {
          "output_type": "stream",
          "text": [
            "\tTraining loss :  1.307939608891805\n"
          ],
          "name": "stdout"
        },
        {
          "output_type": "stream",
          "text": [
            "\n",
            "Iteration:   9%|▉         | 73/807 [00:49<08:19,  1.47it/s]\u001b[A\n",
            "Iteration:   9%|▉         | 74/807 [00:50<08:12,  1.49it/s]\u001b[A\n",
            "Iteration:   9%|▉         | 75/807 [00:50<08:07,  1.50it/s]\u001b[A\n",
            "Iteration:   9%|▉         | 76/807 [00:51<08:28,  1.44it/s]\u001b[A"
          ],
          "name": "stderr"
        },
        {
          "output_type": "stream",
          "text": [
            "\tTraining loss :  1.3187855866394544\n"
          ],
          "name": "stdout"
        },
        {
          "output_type": "stream",
          "text": [
            "\n",
            "Iteration:  10%|▉         | 77/807 [00:52<08:18,  1.47it/s]\u001b[A\n",
            "Iteration:  10%|▉         | 78/807 [00:52<08:10,  1.49it/s]\u001b[A\n",
            "Iteration:  10%|▉         | 79/807 [00:53<08:04,  1.50it/s]\u001b[A\n",
            "Iteration:  10%|▉         | 80/807 [00:54<08:25,  1.44it/s]\u001b[A"
          ],
          "name": "stderr"
        },
        {
          "output_type": "stream",
          "text": [
            "\tTraining loss :  1.3091867364943028\n"
          ],
          "name": "stdout"
        },
        {
          "output_type": "stream",
          "text": [
            "\n",
            "Iteration:  10%|█         | 81/807 [00:54<08:15,  1.47it/s]\u001b[A\n",
            "Iteration:  10%|█         | 82/807 [00:55<08:08,  1.48it/s]\u001b[A\n",
            "Iteration:  10%|█         | 83/807 [00:56<08:01,  1.50it/s]\u001b[A\n",
            "Iteration:  10%|█         | 84/807 [00:56<08:21,  1.44it/s]\u001b[A"
          ],
          "name": "stderr"
        },
        {
          "output_type": "stream",
          "text": [
            "\tTraining loss :  1.3089082971924828\n"
          ],
          "name": "stdout"
        },
        {
          "output_type": "stream",
          "text": [
            "\n",
            "Iteration:  11%|█         | 85/807 [00:57<08:11,  1.47it/s]\u001b[A\n",
            "Iteration:  11%|█         | 86/807 [00:58<08:03,  1.49it/s]\u001b[A\n",
            "Iteration:  11%|█         | 87/807 [00:58<07:57,  1.51it/s]\u001b[A\n",
            "Iteration:  11%|█         | 88/807 [00:59<08:17,  1.44it/s]\u001b[A"
          ],
          "name": "stderr"
        },
        {
          "output_type": "stream",
          "text": [
            "\tTraining loss :  1.3108083741231398\n"
          ],
          "name": "stdout"
        },
        {
          "output_type": "stream",
          "text": [
            "\n",
            "Iteration:  11%|█         | 89/807 [01:00<08:06,  1.48it/s]\u001b[A\n",
            "Iteration:  11%|█         | 90/807 [01:00<08:01,  1.49it/s]\u001b[A\n",
            "Iteration:  11%|█▏        | 91/807 [01:01<07:55,  1.51it/s]\u001b[A\n",
            "Iteration:  11%|█▏        | 92/807 [01:02<08:16,  1.44it/s]\u001b[A"
          ],
          "name": "stderr"
        },
        {
          "output_type": "stream",
          "text": [
            "\tTraining loss :  1.3010121098031169\n"
          ],
          "name": "stdout"
        },
        {
          "output_type": "stream",
          "text": [
            "\n",
            "Iteration:  12%|█▏        | 93/807 [01:02<08:05,  1.47it/s]\u001b[A\n",
            "Iteration:  12%|█▏        | 94/807 [01:03<07:58,  1.49it/s]\u001b[A\n",
            "Iteration:  12%|█▏        | 95/807 [01:04<07:53,  1.51it/s]\u001b[A\n",
            "Iteration:  12%|█▏        | 96/807 [01:05<08:13,  1.44it/s]\u001b[A"
          ],
          "name": "stderr"
        },
        {
          "output_type": "stream",
          "text": [
            "\tTraining loss :  1.2992429938167334\n"
          ],
          "name": "stdout"
        },
        {
          "output_type": "stream",
          "text": [
            "\n",
            "Iteration:  12%|█▏        | 97/807 [01:05<08:02,  1.47it/s]\u001b[A\n",
            "Iteration:  12%|█▏        | 98/807 [01:06<07:56,  1.49it/s]\u001b[A\n",
            "Iteration:  12%|█▏        | 99/807 [01:06<07:51,  1.50it/s]\u001b[A\n",
            "Iteration:  12%|█▏        | 100/807 [01:07<08:13,  1.43it/s]\u001b[A"
          ],
          "name": "stderr"
        },
        {
          "output_type": "stream",
          "text": [
            "\tTraining loss :  1.295921276807785\n"
          ],
          "name": "stdout"
        },
        {
          "output_type": "stream",
          "text": [
            "\n",
            "Iteration:  13%|█▎        | 101/807 [01:08<08:01,  1.47it/s]\u001b[A\n",
            "Iteration:  13%|█▎        | 102/807 [01:09<07:54,  1.48it/s]\u001b[A\n",
            "Iteration:  13%|█▎        | 103/807 [01:09<07:48,  1.50it/s]\u001b[A\n",
            "Iteration:  13%|█▎        | 104/807 [01:10<08:09,  1.44it/s]\u001b[A"
          ],
          "name": "stderr"
        },
        {
          "output_type": "stream",
          "text": [
            "\tTraining loss :  1.2962170048401906\n"
          ],
          "name": "stdout"
        },
        {
          "output_type": "stream",
          "text": [
            "\n",
            "Iteration:  13%|█▎        | 105/807 [01:11<07:58,  1.47it/s]\u001b[A\n",
            "Iteration:  13%|█▎        | 106/807 [01:11<07:51,  1.49it/s]\u001b[A\n",
            "Iteration:  13%|█▎        | 107/807 [01:12<07:46,  1.50it/s]\u001b[A\n",
            "Iteration:  13%|█▎        | 108/807 [01:13<08:06,  1.44it/s]\u001b[A"
          ],
          "name": "stderr"
        },
        {
          "output_type": "stream",
          "text": [
            "\tTraining loss :  1.30764142120326\n"
          ],
          "name": "stdout"
        },
        {
          "output_type": "stream",
          "text": [
            "\n",
            "Iteration:  14%|█▎        | 109/807 [01:13<07:55,  1.47it/s]\u001b[A\n",
            "Iteration:  14%|█▎        | 110/807 [01:14<07:48,  1.49it/s]\u001b[A\n",
            "Iteration:  14%|█▍        | 111/807 [01:15<07:43,  1.50it/s]\u001b[A\n",
            "Iteration:  14%|█▍        | 112/807 [01:15<08:02,  1.44it/s]\u001b[A"
          ],
          "name": "stderr"
        },
        {
          "output_type": "stream",
          "text": [
            "\tTraining loss :  1.318561889231205\n"
          ],
          "name": "stdout"
        },
        {
          "output_type": "stream",
          "text": [
            "\n",
            "Iteration:  14%|█▍        | 113/807 [01:16<07:52,  1.47it/s]\u001b[A\n",
            "Iteration:  14%|█▍        | 114/807 [01:17<07:45,  1.49it/s]\u001b[A\n",
            "Iteration:  14%|█▍        | 115/807 [01:17<07:41,  1.50it/s]\u001b[A\n",
            "Iteration:  14%|█▍        | 116/807 [01:18<08:02,  1.43it/s]\u001b[A"
          ],
          "name": "stderr"
        },
        {
          "output_type": "stream",
          "text": [
            "\tTraining loss :  1.3101489687788075\n"
          ],
          "name": "stdout"
        },
        {
          "output_type": "stream",
          "text": [
            "\n",
            "Iteration:  14%|█▍        | 117/807 [01:19<07:51,  1.46it/s]\u001b[A\n",
            "Iteration:  15%|█▍        | 118/807 [01:19<07:44,  1.48it/s]\u001b[A\n",
            "Iteration:  15%|█▍        | 119/807 [01:20<07:37,  1.50it/s]\u001b[A\n",
            "Iteration:  15%|█▍        | 120/807 [01:21<07:58,  1.44it/s]\u001b[A"
          ],
          "name": "stderr"
        },
        {
          "output_type": "stream",
          "text": [
            "\tTraining loss :  1.324732001622518\n"
          ],
          "name": "stdout"
        },
        {
          "output_type": "stream",
          "text": [
            "\n",
            "Iteration:  15%|█▍        | 121/807 [01:21<07:47,  1.47it/s]\u001b[A\n",
            "Iteration:  15%|█▌        | 122/807 [01:22<07:40,  1.49it/s]\u001b[A\n",
            "Iteration:  15%|█▌        | 123/807 [01:23<07:35,  1.50it/s]\u001b[A\n",
            "Iteration:  15%|█▌        | 124/807 [01:24<07:54,  1.44it/s]\u001b[A"
          ],
          "name": "stderr"
        },
        {
          "output_type": "stream",
          "text": [
            "\tTraining loss :  1.3228356136429695\n"
          ],
          "name": "stdout"
        },
        {
          "output_type": "stream",
          "text": [
            "\n",
            "Iteration:  15%|█▌        | 125/807 [01:24<07:46,  1.46it/s]\u001b[A\n",
            "Iteration:  16%|█▌        | 126/807 [01:25<07:39,  1.48it/s]\u001b[A\n",
            "Iteration:  16%|█▌        | 127/807 [01:26<07:33,  1.50it/s]\u001b[A\n",
            "Iteration:  16%|█▌        | 128/807 [01:26<07:51,  1.44it/s]\u001b[A"
          ],
          "name": "stderr"
        },
        {
          "output_type": "stream",
          "text": [
            "\tTraining loss :  1.3161124694161117\n"
          ],
          "name": "stdout"
        },
        {
          "output_type": "stream",
          "text": [
            "\n",
            "Iteration:  16%|█▌        | 129/807 [01:27<07:43,  1.46it/s]\u001b[A\n",
            "Iteration:  16%|█▌        | 130/807 [01:28<07:35,  1.49it/s]\u001b[A\n",
            "Iteration:  16%|█▌        | 131/807 [01:28<07:30,  1.50it/s]\u001b[A\n",
            "Iteration:  16%|█▋        | 132/807 [01:29<07:49,  1.44it/s]\u001b[A"
          ],
          "name": "stderr"
        },
        {
          "output_type": "stream",
          "text": [
            "\tTraining loss :  1.3188920693867134\n"
          ],
          "name": "stdout"
        },
        {
          "output_type": "stream",
          "text": [
            "\n",
            "Iteration:  16%|█▋        | 133/807 [01:30<07:37,  1.47it/s]\u001b[A\n",
            "Iteration:  17%|█▋        | 134/807 [01:30<07:32,  1.49it/s]\u001b[A\n",
            "Iteration:  17%|█▋        | 135/807 [01:31<07:26,  1.50it/s]\u001b[A\n",
            "Iteration:  17%|█▋        | 136/807 [01:32<07:45,  1.44it/s]\u001b[A"
          ],
          "name": "stderr"
        },
        {
          "output_type": "stream",
          "text": [
            "\tTraining loss :  1.3069545341765179\n"
          ],
          "name": "stdout"
        },
        {
          "output_type": "stream",
          "text": [
            "\n",
            "Iteration:  17%|█▋        | 137/807 [01:32<07:38,  1.46it/s]\u001b[A\n",
            "Iteration:  17%|█▋        | 138/807 [01:33<07:31,  1.48it/s]\u001b[A\n",
            "Iteration:  17%|█▋        | 139/807 [01:34<07:25,  1.50it/s]\u001b[A\n",
            "Iteration:  17%|█▋        | 140/807 [01:34<07:44,  1.44it/s]\u001b[A"
          ],
          "name": "stderr"
        },
        {
          "output_type": "stream",
          "text": [
            "\tTraining loss :  1.302760939512934\n"
          ],
          "name": "stdout"
        },
        {
          "output_type": "stream",
          "text": [
            "\n",
            "Iteration:  17%|█▋        | 141/807 [01:35<07:33,  1.47it/s]\u001b[A\n",
            "Iteration:  18%|█▊        | 142/807 [01:36<07:27,  1.48it/s]\u001b[A\n",
            "Iteration:  18%|█▊        | 143/807 [01:36<07:22,  1.50it/s]\u001b[A\n",
            "Iteration:  18%|█▊        | 144/807 [01:37<07:41,  1.44it/s]\u001b[A"
          ],
          "name": "stderr"
        },
        {
          "output_type": "stream",
          "text": [
            "\tTraining loss :  1.2991142272949219\n"
          ],
          "name": "stdout"
        },
        {
          "output_type": "stream",
          "text": [
            "\n",
            "Iteration:  18%|█▊        | 145/807 [01:38<07:31,  1.47it/s]\u001b[A\n",
            "Iteration:  18%|█▊        | 146/807 [01:38<07:24,  1.49it/s]\u001b[A\n",
            "Iteration:  18%|█▊        | 147/807 [01:39<07:18,  1.50it/s]\u001b[A\n",
            "Iteration:  18%|█▊        | 148/807 [01:40<07:37,  1.44it/s]\u001b[A"
          ],
          "name": "stderr"
        },
        {
          "output_type": "stream",
          "text": [
            "\tTraining loss :  1.29531255163051\n"
          ],
          "name": "stdout"
        },
        {
          "output_type": "stream",
          "text": [
            "\n",
            "Iteration:  18%|█▊        | 149/807 [01:41<07:28,  1.47it/s]\u001b[A\n",
            "Iteration:  19%|█▊        | 150/807 [01:41<07:22,  1.48it/s]\u001b[A\n",
            "Iteration:  19%|█▊        | 151/807 [01:42<07:17,  1.50it/s]\u001b[A\n",
            "Iteration:  19%|█▉        | 152/807 [01:43<07:35,  1.44it/s]\u001b[A"
          ],
          "name": "stderr"
        },
        {
          "output_type": "stream",
          "text": [
            "\tTraining loss :  1.2893357716108624\n"
          ],
          "name": "stdout"
        },
        {
          "output_type": "stream",
          "text": [
            "\n",
            "Iteration:  19%|█▉        | 153/807 [01:43<07:25,  1.47it/s]\u001b[A\n",
            "Iteration:  19%|█▉        | 154/807 [01:44<07:19,  1.49it/s]\u001b[A\n",
            "Iteration:  19%|█▉        | 155/807 [01:45<07:13,  1.50it/s]\u001b[A\n",
            "Iteration:  19%|█▉        | 156/807 [01:45<07:31,  1.44it/s]\u001b[A"
          ],
          "name": "stderr"
        },
        {
          "output_type": "stream",
          "text": [
            "\tTraining loss :  1.2933053855712597\n"
          ],
          "name": "stdout"
        },
        {
          "output_type": "stream",
          "text": [
            "\n",
            "Iteration:  19%|█▉        | 157/807 [01:46<07:24,  1.46it/s]\u001b[A\n",
            "Iteration:  20%|█▉        | 158/807 [01:47<07:16,  1.49it/s]\u001b[A\n",
            "Iteration:  20%|█▉        | 159/807 [01:47<07:11,  1.50it/s]\u001b[A\n",
            "Iteration:  20%|█▉        | 160/807 [01:48<07:30,  1.44it/s]\u001b[A"
          ],
          "name": "stderr"
        },
        {
          "output_type": "stream",
          "text": [
            "\tTraining loss :  1.2986445538699627\n"
          ],
          "name": "stdout"
        },
        {
          "output_type": "stream",
          "text": [
            "\n",
            "Iteration:  20%|█▉        | 161/807 [01:49<07:20,  1.47it/s]\u001b[A\n",
            "Iteration:  20%|██        | 162/807 [01:49<07:15,  1.48it/s]\u001b[A\n",
            "Iteration:  20%|██        | 163/807 [01:50<07:10,  1.50it/s]\u001b[A\n",
            "Iteration:  20%|██        | 164/807 [01:51<07:28,  1.43it/s]\u001b[A"
          ],
          "name": "stderr"
        },
        {
          "output_type": "stream",
          "text": [
            "\tTraining loss :  1.288180288745136\n"
          ],
          "name": "stdout"
        },
        {
          "output_type": "stream",
          "text": [
            "\n",
            "Iteration:  20%|██        | 165/807 [01:51<07:18,  1.46it/s]\u001b[A\n",
            "Iteration:  21%|██        | 166/807 [01:52<07:12,  1.48it/s]\u001b[A\n",
            "Iteration:  21%|██        | 167/807 [01:53<07:08,  1.50it/s]\u001b[A\n",
            "Iteration:  21%|██        | 168/807 [01:53<07:25,  1.43it/s]\u001b[A"
          ],
          "name": "stderr"
        },
        {
          "output_type": "stream",
          "text": [
            "\tTraining loss :  1.287109334553991\n"
          ],
          "name": "stdout"
        },
        {
          "output_type": "stream",
          "text": [
            "\n",
            "Iteration:  21%|██        | 169/807 [01:54<07:15,  1.46it/s]\u001b[A\n",
            "Iteration:  21%|██        | 170/807 [01:55<07:09,  1.48it/s]\u001b[A\n",
            "Iteration:  21%|██        | 171/807 [01:55<07:04,  1.50it/s]\u001b[A\n",
            "Iteration:  21%|██▏       | 172/807 [01:56<07:20,  1.44it/s]\u001b[A"
          ],
          "name": "stderr"
        },
        {
          "output_type": "stream",
          "text": [
            "\tTraining loss :  1.2884319403836892\n"
          ],
          "name": "stdout"
        },
        {
          "output_type": "stream",
          "text": [
            "\n",
            "Iteration:  21%|██▏       | 173/807 [01:57<07:11,  1.47it/s]\u001b[A\n",
            "Iteration:  22%|██▏       | 174/807 [01:57<07:05,  1.49it/s]\u001b[A\n",
            "Iteration:  22%|██▏       | 175/807 [01:58<07:01,  1.50it/s]\u001b[A\n",
            "Iteration:  22%|██▏       | 176/807 [01:59<07:19,  1.44it/s]\u001b[A"
          ],
          "name": "stderr"
        },
        {
          "output_type": "stream",
          "text": [
            "\tTraining loss :  1.286596917970614\n"
          ],
          "name": "stdout"
        },
        {
          "output_type": "stream",
          "text": [
            "\n",
            "Iteration:  22%|██▏       | 177/807 [02:00<07:10,  1.46it/s]\u001b[A\n",
            "Iteration:  22%|██▏       | 178/807 [02:00<07:04,  1.48it/s]\u001b[A\n",
            "Iteration:  22%|██▏       | 179/807 [02:01<06:58,  1.50it/s]\u001b[A\n",
            "Iteration:  22%|██▏       | 180/807 [02:02<07:17,  1.43it/s]\u001b[A"
          ],
          "name": "stderr"
        },
        {
          "output_type": "stream",
          "text": [
            "\tTraining loss :  1.2847520305050744\n"
          ],
          "name": "stdout"
        },
        {
          "output_type": "stream",
          "text": [
            "\n",
            "Iteration:  22%|██▏       | 181/807 [02:02<07:07,  1.46it/s]\u001b[A\n",
            "Iteration:  23%|██▎       | 182/807 [02:03<07:01,  1.48it/s]\u001b[A\n",
            "Iteration:  23%|██▎       | 183/807 [02:04<06:57,  1.50it/s]\u001b[A\n",
            "Iteration:  23%|██▎       | 184/807 [02:04<07:13,  1.44it/s]\u001b[A"
          ],
          "name": "stderr"
        },
        {
          "output_type": "stream",
          "text": [
            "\tTraining loss :  1.285230025001194\n"
          ],
          "name": "stdout"
        },
        {
          "output_type": "stream",
          "text": [
            "\n",
            "Iteration:  23%|██▎       | 185/807 [02:05<07:04,  1.47it/s]\u001b[A\n",
            "Iteration:  23%|██▎       | 186/807 [02:06<06:58,  1.48it/s]\u001b[A\n",
            "Iteration:  23%|██▎       | 187/807 [02:06<06:53,  1.50it/s]\u001b[A\n",
            "Iteration:  23%|██▎       | 188/807 [02:07<07:11,  1.43it/s]\u001b[A"
          ],
          "name": "stderr"
        },
        {
          "output_type": "stream",
          "text": [
            "\tTraining loss :  1.2859097288009969\n"
          ],
          "name": "stdout"
        },
        {
          "output_type": "stream",
          "text": [
            "\n",
            "Iteration:  23%|██▎       | 189/807 [02:08<07:01,  1.46it/s]\u001b[A\n",
            "Iteration:  24%|██▎       | 190/807 [02:08<06:56,  1.48it/s]\u001b[A\n",
            "Iteration:  24%|██▎       | 191/807 [02:09<06:51,  1.50it/s]\u001b[A\n",
            "Iteration:  24%|██▍       | 192/807 [02:10<07:07,  1.44it/s]\u001b[A"
          ],
          "name": "stderr"
        },
        {
          "output_type": "stream",
          "text": [
            "\tTraining loss :  1.2874476692328851\n"
          ],
          "name": "stdout"
        },
        {
          "output_type": "stream",
          "text": [
            "\n",
            "Iteration:  24%|██▍       | 193/807 [02:10<06:58,  1.47it/s]\u001b[A\n",
            "Iteration:  24%|██▍       | 194/807 [02:11<06:52,  1.49it/s]\u001b[A\n",
            "Iteration:  24%|██▍       | 195/807 [02:12<06:48,  1.50it/s]\u001b[A\n",
            "Iteration:  24%|██▍       | 196/807 [02:12<07:05,  1.44it/s]\u001b[A"
          ],
          "name": "stderr"
        },
        {
          "output_type": "stream",
          "text": [
            "\tTraining loss :  1.2931619037170798\n"
          ],
          "name": "stdout"
        },
        {
          "output_type": "stream",
          "text": [
            "\n",
            "Iteration:  24%|██▍       | 197/807 [02:13<06:56,  1.46it/s]\u001b[A\n",
            "Iteration:  25%|██▍       | 198/807 [02:14<06:50,  1.48it/s]\u001b[A\n",
            "Iteration:  25%|██▍       | 199/807 [02:14<06:46,  1.50it/s]\u001b[A\n",
            "Iteration:  25%|██▍       | 200/807 [02:15<07:03,  1.43it/s]\u001b[A"
          ],
          "name": "stderr"
        },
        {
          "output_type": "stream",
          "text": [
            "\tTraining loss :  1.2938475823402404\n"
          ],
          "name": "stdout"
        },
        {
          "output_type": "stream",
          "text": [
            "\n",
            "Iteration:  25%|██▍       | 201/807 [02:16<06:54,  1.46it/s]\u001b[A\n",
            "Iteration:  25%|██▌       | 202/807 [02:17<06:48,  1.48it/s]\u001b[A\n",
            "Iteration:  25%|██▌       | 203/807 [02:17<06:43,  1.50it/s]\u001b[A\n",
            "Iteration:  25%|██▌       | 204/807 [02:18<07:00,  1.43it/s]\u001b[A"
          ],
          "name": "stderr"
        },
        {
          "output_type": "stream",
          "text": [
            "\tTraining loss :  1.2880240570680768\n"
          ],
          "name": "stdout"
        },
        {
          "output_type": "stream",
          "text": [
            "\n",
            "Iteration:  25%|██▌       | 205/807 [02:19<06:52,  1.46it/s]\u001b[A\n",
            "Iteration:  26%|██▌       | 206/807 [02:19<06:45,  1.48it/s]\u001b[A\n",
            "Iteration:  26%|██▌       | 207/807 [02:20<06:40,  1.50it/s]\u001b[A\n",
            "Iteration:  26%|██▌       | 208/807 [02:21<06:56,  1.44it/s]\u001b[A"
          ],
          "name": "stderr"
        },
        {
          "output_type": "stream",
          "text": [
            "\tTraining loss :  1.287132185525619\n"
          ],
          "name": "stdout"
        },
        {
          "output_type": "stream",
          "text": [
            "\n",
            "Iteration:  26%|██▌       | 209/807 [02:21<06:47,  1.47it/s]\u001b[A\n",
            "Iteration:  26%|██▌       | 210/807 [02:22<06:42,  1.48it/s]\u001b[A\n",
            "Iteration:  26%|██▌       | 211/807 [02:23<06:37,  1.50it/s]\u001b[A\n",
            "Iteration:  26%|██▋       | 212/807 [02:23<06:53,  1.44it/s]\u001b[A"
          ],
          "name": "stderr"
        },
        {
          "output_type": "stream",
          "text": [
            "\tTraining loss :  1.2809563754302151\n"
          ],
          "name": "stdout"
        },
        {
          "output_type": "stream",
          "text": [
            "\n",
            "Iteration:  26%|██▋       | 213/807 [02:24<06:45,  1.47it/s]\u001b[A\n",
            "Iteration:  27%|██▋       | 214/807 [02:25<06:39,  1.48it/s]\u001b[A\n",
            "Iteration:  27%|██▋       | 215/807 [02:25<06:34,  1.50it/s]\u001b[A\n",
            "Iteration:  27%|██▋       | 216/807 [02:26<06:51,  1.44it/s]\u001b[A"
          ],
          "name": "stderr"
        },
        {
          "output_type": "stream",
          "text": [
            "\tTraining loss :  1.2832343785299196\n"
          ],
          "name": "stdout"
        },
        {
          "output_type": "stream",
          "text": [
            "\n",
            "Iteration:  27%|██▋       | 217/807 [02:27<06:42,  1.47it/s]\u001b[A\n",
            "Iteration:  27%|██▋       | 218/807 [02:27<06:36,  1.48it/s]\u001b[A\n",
            "Iteration:  27%|██▋       | 219/807 [02:28<06:31,  1.50it/s]\u001b[A\n",
            "Iteration:  27%|██▋       | 220/807 [02:29<06:47,  1.44it/s]\u001b[A"
          ],
          "name": "stderr"
        },
        {
          "output_type": "stream",
          "text": [
            "\tTraining loss :  1.285697939991951\n"
          ],
          "name": "stdout"
        },
        {
          "output_type": "stream",
          "text": [
            "\n",
            "Iteration:  27%|██▋       | 221/807 [02:29<06:38,  1.47it/s]\u001b[A\n",
            "Iteration:  28%|██▊       | 222/807 [02:30<06:33,  1.49it/s]\u001b[A\n",
            "Iteration:  28%|██▊       | 223/807 [02:31<06:28,  1.51it/s]\u001b[A\n",
            "Iteration:  28%|██▊       | 224/807 [02:32<06:43,  1.44it/s]\u001b[A"
          ],
          "name": "stderr"
        },
        {
          "output_type": "stream",
          "text": [
            "\tTraining loss :  1.2881723985608136\n"
          ],
          "name": "stdout"
        },
        {
          "output_type": "stream",
          "text": [
            "\n",
            "Iteration:  28%|██▊       | 225/807 [02:32<06:37,  1.47it/s]\u001b[A\n",
            "Iteration:  28%|██▊       | 226/807 [02:33<06:30,  1.49it/s]\u001b[A\n",
            "Iteration:  28%|██▊       | 227/807 [02:33<06:25,  1.50it/s]\u001b[A\n",
            "Iteration:  28%|██▊       | 228/807 [02:34<06:41,  1.44it/s]\u001b[A"
          ],
          "name": "stderr"
        },
        {
          "output_type": "stream",
          "text": [
            "\tTraining loss :  1.2857769061076014\n"
          ],
          "name": "stdout"
        },
        {
          "output_type": "stream",
          "text": [
            "\n",
            "Iteration:  28%|██▊       | 229/807 [02:35<06:32,  1.47it/s]\u001b[A\n",
            "Iteration:  29%|██▊       | 230/807 [02:36<06:26,  1.49it/s]\u001b[A\n",
            "Iteration:  29%|██▊       | 231/807 [02:36<06:23,  1.50it/s]\u001b[A\n",
            "Iteration:  29%|██▊       | 232/807 [02:37<06:40,  1.44it/s]\u001b[A"
          ],
          "name": "stderr"
        },
        {
          "output_type": "stream",
          "text": [
            "\tTraining loss :  1.287159308020411\n"
          ],
          "name": "stdout"
        },
        {
          "output_type": "stream",
          "text": [
            "\n",
            "Iteration:  29%|██▉       | 233/807 [02:38<06:31,  1.47it/s]\u001b[A\n",
            "Iteration:  29%|██▉       | 234/807 [02:38<06:26,  1.48it/s]\u001b[A\n",
            "Iteration:  29%|██▉       | 235/807 [02:39<06:22,  1.50it/s]\u001b[A\n",
            "Iteration:  29%|██▉       | 236/807 [02:40<06:39,  1.43it/s]\u001b[A"
          ],
          "name": "stderr"
        },
        {
          "output_type": "stream",
          "text": [
            "\tTraining loss :  1.2865247910810729\n"
          ],
          "name": "stdout"
        },
        {
          "output_type": "stream",
          "text": [
            "\n",
            "Iteration:  29%|██▉       | 237/807 [02:40<06:30,  1.46it/s]\u001b[A\n",
            "Iteration:  29%|██▉       | 238/807 [02:41<06:23,  1.48it/s]\u001b[A\n",
            "Iteration:  30%|██▉       | 239/807 [02:42<06:18,  1.50it/s]\u001b[A\n",
            "Iteration:  30%|██▉       | 240/807 [02:42<06:34,  1.44it/s]\u001b[A"
          ],
          "name": "stderr"
        },
        {
          "output_type": "stream",
          "text": [
            "\tTraining loss :  1.2827481356759867\n"
          ],
          "name": "stdout"
        },
        {
          "output_type": "stream",
          "text": [
            "\n",
            "Iteration:  30%|██▉       | 241/807 [02:43<06:25,  1.47it/s]\u001b[A\n",
            "Iteration:  30%|██▉       | 242/807 [02:44<06:21,  1.48it/s]\u001b[A\n",
            "Iteration:  30%|███       | 243/807 [02:44<06:16,  1.50it/s]\u001b[A\n",
            "Iteration:  30%|███       | 244/807 [02:45<06:33,  1.43it/s]\u001b[A"
          ],
          "name": "stderr"
        },
        {
          "output_type": "stream",
          "text": [
            "\tTraining loss :  1.2817059594099638\n"
          ],
          "name": "stdout"
        },
        {
          "output_type": "stream",
          "text": [
            "\n",
            "Iteration:  30%|███       | 245/807 [02:46<06:24,  1.46it/s]\u001b[A\n",
            "Iteration:  30%|███       | 246/807 [02:46<06:19,  1.48it/s]\u001b[A\n",
            "Iteration:  31%|███       | 247/807 [02:47<06:14,  1.50it/s]\u001b[A\n",
            "Iteration:  31%|███       | 248/807 [02:48<06:29,  1.43it/s]\u001b[A"
          ],
          "name": "stderr"
        },
        {
          "output_type": "stream",
          "text": [
            "\tTraining loss :  1.2771932321690744\n"
          ],
          "name": "stdout"
        },
        {
          "output_type": "stream",
          "text": [
            "\n",
            "Iteration:  31%|███       | 249/807 [02:49<06:21,  1.46it/s]\u001b[A\n",
            "Iteration:  31%|███       | 250/807 [02:49<06:16,  1.48it/s]\u001b[A\n",
            "Iteration:  31%|███       | 251/807 [02:50<06:10,  1.50it/s]\u001b[A\n",
            "Iteration:  31%|███       | 252/807 [02:51<06:25,  1.44it/s]\u001b[A"
          ],
          "name": "stderr"
        },
        {
          "output_type": "stream",
          "text": [
            "\tTraining loss :  1.276786487017359\n"
          ],
          "name": "stdout"
        },
        {
          "output_type": "stream",
          "text": [
            "\n",
            "Iteration:  31%|███▏      | 253/807 [02:51<06:18,  1.46it/s]\u001b[A\n",
            "Iteration:  31%|███▏      | 254/807 [02:52<06:12,  1.48it/s]\u001b[A\n",
            "Iteration:  32%|███▏      | 255/807 [02:53<06:08,  1.50it/s]\u001b[A\n",
            "Iteration:  32%|███▏      | 256/807 [02:53<06:24,  1.43it/s]\u001b[A"
          ],
          "name": "stderr"
        },
        {
          "output_type": "stream",
          "text": [
            "\tTraining loss :  1.2728599673137069\n"
          ],
          "name": "stdout"
        },
        {
          "output_type": "stream",
          "text": [
            "\n",
            "Iteration:  32%|███▏      | 257/807 [02:54<06:15,  1.46it/s]\u001b[A\n",
            "Iteration:  32%|███▏      | 258/807 [02:55<06:09,  1.48it/s]\u001b[A\n",
            "Iteration:  32%|███▏      | 259/807 [02:55<06:04,  1.50it/s]\u001b[A\n",
            "Iteration:  32%|███▏      | 260/807 [02:56<06:19,  1.44it/s]\u001b[A"
          ],
          "name": "stderr"
        },
        {
          "output_type": "stream",
          "text": [
            "\tTraining loss :  1.2735126245480317\n"
          ],
          "name": "stdout"
        },
        {
          "output_type": "stream",
          "text": [
            "\n",
            "Iteration:  32%|███▏      | 261/807 [02:57<06:12,  1.47it/s]\u001b[A\n",
            "Iteration:  32%|███▏      | 262/807 [02:57<06:07,  1.48it/s]\u001b[A\n",
            "Iteration:  33%|███▎      | 263/807 [02:58<06:02,  1.50it/s]\u001b[A\n",
            "Iteration:  33%|███▎      | 264/807 [02:59<06:17,  1.44it/s]\u001b[A"
          ],
          "name": "stderr"
        },
        {
          "output_type": "stream",
          "text": [
            "\tTraining loss :  1.2710392874750225\n"
          ],
          "name": "stdout"
        },
        {
          "output_type": "stream",
          "text": [
            "\n",
            "Iteration:  33%|███▎      | 265/807 [02:59<06:10,  1.46it/s]\u001b[A\n",
            "Iteration:  33%|███▎      | 266/807 [03:00<06:04,  1.48it/s]\u001b[A\n",
            "Iteration:  33%|███▎      | 267/807 [03:01<05:59,  1.50it/s]\u001b[A\n",
            "Iteration:  33%|███▎      | 268/807 [03:01<06:14,  1.44it/s]\u001b[A"
          ],
          "name": "stderr"
        },
        {
          "output_type": "stream",
          "text": [
            "\tTraining loss :  1.271642758552708\n"
          ],
          "name": "stdout"
        },
        {
          "output_type": "stream",
          "text": [
            "\n",
            "Iteration:  33%|███▎      | 269/807 [03:02<06:07,  1.47it/s]\u001b[A\n",
            "Iteration:  33%|███▎      | 270/807 [03:03<06:01,  1.49it/s]\u001b[A\n",
            "Iteration:  34%|███▎      | 271/807 [03:03<05:56,  1.50it/s]\u001b[A\n",
            "Iteration:  34%|███▎      | 272/807 [03:04<06:11,  1.44it/s]\u001b[A"
          ],
          "name": "stderr"
        },
        {
          "output_type": "stream",
          "text": [
            "\tTraining loss :  1.2695029800867332\n"
          ],
          "name": "stdout"
        },
        {
          "output_type": "stream",
          "text": [
            "\n",
            "Iteration:  34%|███▍      | 273/807 [03:05<06:03,  1.47it/s]\u001b[A\n",
            "Iteration:  34%|███▍      | 274/807 [03:05<05:59,  1.48it/s]\u001b[A\n",
            "Iteration:  34%|███▍      | 275/807 [03:06<05:55,  1.50it/s]\u001b[A\n",
            "Iteration:  34%|███▍      | 276/807 [03:07<06:10,  1.43it/s]\u001b[A"
          ],
          "name": "stderr"
        },
        {
          "output_type": "stream",
          "text": [
            "\tTraining loss :  1.2643089091432267\n"
          ],
          "name": "stdout"
        },
        {
          "output_type": "stream",
          "text": [
            "\n",
            "Iteration:  34%|███▍      | 277/807 [03:08<06:02,  1.46it/s]\u001b[A\n",
            "Iteration:  34%|███▍      | 278/807 [03:08<05:56,  1.48it/s]\u001b[A\n",
            "Iteration:  35%|███▍      | 279/807 [03:09<05:53,  1.50it/s]\u001b[A\n",
            "Iteration:  35%|███▍      | 280/807 [03:10<06:07,  1.44it/s]\u001b[A"
          ],
          "name": "stderr"
        },
        {
          "output_type": "stream",
          "text": [
            "\tTraining loss :  1.2712461914334978\n"
          ],
          "name": "stdout"
        },
        {
          "output_type": "stream",
          "text": [
            "\n",
            "Iteration:  35%|███▍      | 281/807 [03:10<05:58,  1.47it/s]\u001b[A\n",
            "Iteration:  35%|███▍      | 282/807 [03:11<05:53,  1.49it/s]\u001b[A\n",
            "Iteration:  35%|███▌      | 283/807 [03:12<05:50,  1.50it/s]\u001b[A\n",
            "Iteration:  35%|███▌      | 284/807 [03:12<06:05,  1.43it/s]\u001b[A"
          ],
          "name": "stderr"
        },
        {
          "output_type": "stream",
          "text": [
            "\tTraining loss :  1.2748640146054013\n"
          ],
          "name": "stdout"
        },
        {
          "output_type": "stream",
          "text": [
            "\n",
            "Iteration:  35%|███▌      | 285/807 [03:13<05:57,  1.46it/s]\u001b[A\n",
            "Iteration:  35%|███▌      | 286/807 [03:14<05:52,  1.48it/s]\u001b[A\n",
            "Iteration:  36%|███▌      | 287/807 [03:14<05:49,  1.49it/s]\u001b[A\n",
            "Iteration:  36%|███▌      | 288/807 [03:15<06:03,  1.43it/s]\u001b[A"
          ],
          "name": "stderr"
        },
        {
          "output_type": "stream",
          "text": [
            "\tTraining loss :  1.2783266703287761\n"
          ],
          "name": "stdout"
        },
        {
          "output_type": "stream",
          "text": [
            "\n",
            "Iteration:  36%|███▌      | 289/807 [03:16<05:54,  1.46it/s]\u001b[A\n",
            "Iteration:  36%|███▌      | 290/807 [03:16<05:49,  1.48it/s]\u001b[A\n",
            "Iteration:  36%|███▌      | 291/807 [03:17<05:45,  1.49it/s]\u001b[A\n",
            "Iteration:  36%|███▌      | 292/807 [03:18<06:00,  1.43it/s]\u001b[A"
          ],
          "name": "stderr"
        },
        {
          "output_type": "stream",
          "text": [
            "\tTraining loss :  1.280749058070248\n"
          ],
          "name": "stdout"
        },
        {
          "output_type": "stream",
          "text": [
            "\n",
            "Iteration:  36%|███▋      | 293/807 [03:18<05:51,  1.46it/s]\u001b[A\n",
            "Iteration:  36%|███▋      | 294/807 [03:19<05:46,  1.48it/s]\u001b[A\n",
            "Iteration:  37%|███▋      | 295/807 [03:20<05:41,  1.50it/s]\u001b[A\n",
            "Iteration:  37%|███▋      | 296/807 [03:21<05:55,  1.44it/s]\u001b[A"
          ],
          "name": "stderr"
        },
        {
          "output_type": "stream",
          "text": [
            "\tTraining loss :  1.283514547992397\n"
          ],
          "name": "stdout"
        },
        {
          "output_type": "stream",
          "text": [
            "\n",
            "Iteration:  37%|███▋      | 297/807 [03:21<05:47,  1.47it/s]\u001b[A\n",
            "Iteration:  37%|███▋      | 298/807 [03:22<05:42,  1.49it/s]\u001b[A\n",
            "Iteration:  37%|███▋      | 299/807 [03:22<05:37,  1.50it/s]\u001b[A\n",
            "Iteration:  37%|███▋      | 300/807 [03:23<05:51,  1.44it/s]\u001b[A"
          ],
          "name": "stderr"
        },
        {
          "output_type": "stream",
          "text": [
            "\tTraining loss :  1.2868869936466216\n"
          ],
          "name": "stdout"
        },
        {
          "output_type": "stream",
          "text": [
            "\n",
            "Iteration:  37%|███▋      | 301/807 [03:24<05:43,  1.47it/s]\u001b[A\n",
            "Iteration:  37%|███▋      | 302/807 [03:25<05:38,  1.49it/s]\u001b[A\n",
            "Iteration:  38%|███▊      | 303/807 [03:25<05:35,  1.50it/s]\u001b[A\n",
            "Iteration:  38%|███▊      | 304/807 [03:26<05:49,  1.44it/s]\u001b[A"
          ],
          "name": "stderr"
        },
        {
          "output_type": "stream",
          "text": [
            "\tTraining loss :  1.2925326549693157\n"
          ],
          "name": "stdout"
        },
        {
          "output_type": "stream",
          "text": [
            "\n",
            "Iteration:  38%|███▊      | 305/807 [03:27<05:41,  1.47it/s]\u001b[A\n",
            "Iteration:  38%|███▊      | 306/807 [03:27<05:37,  1.48it/s]\u001b[A\n",
            "Iteration:  38%|███▊      | 307/807 [03:28<05:32,  1.50it/s]\u001b[A\n",
            "Iteration:  38%|███▊      | 308/807 [03:29<05:46,  1.44it/s]\u001b[A"
          ],
          "name": "stderr"
        },
        {
          "output_type": "stream",
          "text": [
            "\tTraining loss :  1.296292010065797\n"
          ],
          "name": "stdout"
        },
        {
          "output_type": "stream",
          "text": [
            "\n",
            "Iteration:  38%|███▊      | 309/807 [03:29<05:40,  1.46it/s]\u001b[A\n",
            "Iteration:  38%|███▊      | 310/807 [03:30<05:34,  1.48it/s]\u001b[A\n",
            "Iteration:  39%|███▊      | 311/807 [03:31<05:30,  1.50it/s]\u001b[A\n",
            "Iteration:  39%|███▊      | 312/807 [03:31<05:43,  1.44it/s]\u001b[A"
          ],
          "name": "stderr"
        },
        {
          "output_type": "stream",
          "text": [
            "\tTraining loss :  1.2955558181573184\n"
          ],
          "name": "stdout"
        },
        {
          "output_type": "stream",
          "text": [
            "\n",
            "Iteration:  39%|███▉      | 313/807 [03:32<05:36,  1.47it/s]\u001b[A\n",
            "Iteration:  39%|███▉      | 314/807 [03:33<05:32,  1.48it/s]\u001b[A\n",
            "Iteration:  39%|███▉      | 315/807 [03:33<05:27,  1.50it/s]\u001b[A\n",
            "Iteration:  39%|███▉      | 316/807 [03:34<05:40,  1.44it/s]\u001b[A"
          ],
          "name": "stderr"
        },
        {
          "output_type": "stream",
          "text": [
            "\tTraining loss :  1.296055841295025\n"
          ],
          "name": "stdout"
        },
        {
          "output_type": "stream",
          "text": [
            "\n",
            "Iteration:  39%|███▉      | 317/807 [03:35<05:33,  1.47it/s]\u001b[A\n",
            "Iteration:  39%|███▉      | 318/807 [03:35<05:28,  1.49it/s]\u001b[A\n",
            "Iteration:  40%|███▉      | 319/807 [03:36<05:24,  1.50it/s]\u001b[A\n",
            "Iteration:  40%|███▉      | 320/807 [03:37<05:38,  1.44it/s]\u001b[A"
          ],
          "name": "stderr"
        },
        {
          "output_type": "stream",
          "text": [
            "\tTraining loss :  1.2950250865891575\n"
          ],
          "name": "stdout"
        },
        {
          "output_type": "stream",
          "text": [
            "\n",
            "Iteration:  40%|███▉      | 321/807 [03:37<05:30,  1.47it/s]\u001b[A\n",
            "Iteration:  40%|███▉      | 322/807 [03:38<05:26,  1.49it/s]\u001b[A\n",
            "Iteration:  40%|████      | 323/807 [03:39<05:21,  1.51it/s]\u001b[A\n",
            "Iteration:  40%|████      | 324/807 [03:40<05:35,  1.44it/s]\u001b[A"
          ],
          "name": "stderr"
        },
        {
          "output_type": "stream",
          "text": [
            "\tTraining loss :  1.2926316309122392\n"
          ],
          "name": "stdout"
        },
        {
          "output_type": "stream",
          "text": [
            "\n",
            "Iteration:  40%|████      | 325/807 [03:40<05:28,  1.47it/s]\u001b[A\n",
            "Iteration:  40%|████      | 326/807 [03:41<05:23,  1.49it/s]\u001b[A\n",
            "Iteration:  41%|████      | 327/807 [03:41<05:19,  1.50it/s]\u001b[A\n",
            "Iteration:  41%|████      | 328/807 [03:42<05:33,  1.44it/s]\u001b[A"
          ],
          "name": "stderr"
        },
        {
          "output_type": "stream",
          "text": [
            "\tTraining loss :  1.2937780698625052\n"
          ],
          "name": "stdout"
        },
        {
          "output_type": "stream",
          "text": [
            "\n",
            "Iteration:  41%|████      | 329/807 [03:43<05:26,  1.46it/s]\u001b[A\n",
            "Iteration:  41%|████      | 330/807 [03:44<05:21,  1.48it/s]\u001b[A\n",
            "Iteration:  41%|████      | 331/807 [03:44<05:16,  1.50it/s]\u001b[A\n",
            "Iteration:  41%|████      | 332/807 [03:45<05:30,  1.44it/s]\u001b[A"
          ],
          "name": "stderr"
        },
        {
          "output_type": "stream",
          "text": [
            "\tTraining loss :  1.2941569908555732\n"
          ],
          "name": "stdout"
        },
        {
          "output_type": "stream",
          "text": [
            "\n",
            "Iteration:  41%|████▏     | 333/807 [03:46<05:23,  1.47it/s]\u001b[A\n",
            "Iteration:  41%|████▏     | 334/807 [03:46<05:18,  1.49it/s]\u001b[A\n",
            "Iteration:  42%|████▏     | 335/807 [03:47<05:13,  1.50it/s]\u001b[A\n",
            "Iteration:  42%|████▏     | 336/807 [03:48<05:26,  1.44it/s]\u001b[A"
          ],
          "name": "stderr"
        },
        {
          "output_type": "stream",
          "text": [
            "\tTraining loss :  1.2935667807857196\n"
          ],
          "name": "stdout"
        },
        {
          "output_type": "stream",
          "text": [
            "\n",
            "Iteration:  42%|████▏     | 337/807 [03:48<05:19,  1.47it/s]\u001b[A\n",
            "Iteration:  42%|████▏     | 338/807 [03:49<05:14,  1.49it/s]\u001b[A\n",
            "Iteration:  42%|████▏     | 339/807 [03:50<05:11,  1.50it/s]\u001b[A\n",
            "Iteration:  42%|████▏     | 340/807 [03:50<05:25,  1.44it/s]\u001b[A"
          ],
          "name": "stderr"
        },
        {
          "output_type": "stream",
          "text": [
            "\tTraining loss :  1.2941507851376253\n"
          ],
          "name": "stdout"
        },
        {
          "output_type": "stream",
          "text": [
            "\n",
            "Iteration:  42%|████▏     | 341/807 [03:51<05:18,  1.46it/s]\u001b[A\n",
            "Iteration:  42%|████▏     | 342/807 [03:52<05:13,  1.49it/s]\u001b[A\n",
            "Iteration:  43%|████▎     | 343/807 [03:52<05:09,  1.50it/s]\u001b[A\n",
            "Iteration:  43%|████▎     | 344/807 [03:53<05:21,  1.44it/s]\u001b[A"
          ],
          "name": "stderr"
        },
        {
          "output_type": "stream",
          "text": [
            "\tTraining loss :  1.2928640163222025\n"
          ],
          "name": "stdout"
        },
        {
          "output_type": "stream",
          "text": [
            "\n",
            "Iteration:  43%|████▎     | 345/807 [03:54<05:14,  1.47it/s]\u001b[A\n",
            "Iteration:  43%|████▎     | 346/807 [03:54<05:10,  1.49it/s]\u001b[A\n",
            "Iteration:  43%|████▎     | 347/807 [03:55<05:06,  1.50it/s]\u001b[A\n",
            "Iteration:  43%|████▎     | 348/807 [03:56<05:18,  1.44it/s]\u001b[A"
          ],
          "name": "stderr"
        },
        {
          "output_type": "stream",
          "text": [
            "\tTraining loss :  1.293772379899847\n"
          ],
          "name": "stdout"
        },
        {
          "output_type": "stream",
          "text": [
            "\n",
            "Iteration:  43%|████▎     | 349/807 [03:56<05:11,  1.47it/s]\u001b[A\n",
            "Iteration:  43%|████▎     | 350/807 [03:57<05:06,  1.49it/s]\u001b[A\n",
            "Iteration:  43%|████▎     | 351/807 [03:58<05:03,  1.50it/s]\u001b[A\n",
            "Iteration:  44%|████▎     | 352/807 [03:59<05:16,  1.44it/s]\u001b[A"
          ],
          "name": "stderr"
        },
        {
          "output_type": "stream",
          "text": [
            "\tTraining loss :  1.2947874570434743\n"
          ],
          "name": "stdout"
        },
        {
          "output_type": "stream",
          "text": [
            "\n",
            "Iteration:  44%|████▎     | 353/807 [03:59<05:09,  1.47it/s]\u001b[A\n",
            "Iteration:  44%|████▍     | 354/807 [04:00<05:04,  1.49it/s]\u001b[A\n",
            "Iteration:  44%|████▍     | 355/807 [04:00<05:00,  1.50it/s]\u001b[A\n",
            "Iteration:  44%|████▍     | 356/807 [04:01<05:12,  1.44it/s]\u001b[A"
          ],
          "name": "stderr"
        },
        {
          "output_type": "stream",
          "text": [
            "\tTraining loss :  1.2972335447086376\n"
          ],
          "name": "stdout"
        },
        {
          "output_type": "stream",
          "text": [
            "\n",
            "Iteration:  44%|████▍     | 357/807 [04:02<05:05,  1.47it/s]\u001b[A\n",
            "Iteration:  44%|████▍     | 358/807 [04:03<05:01,  1.49it/s]\u001b[A\n",
            "Iteration:  44%|████▍     | 359/807 [04:03<04:57,  1.50it/s]\u001b[A\n",
            "Iteration:  45%|████▍     | 360/807 [04:04<05:09,  1.44it/s]\u001b[A"
          ],
          "name": "stderr"
        },
        {
          "output_type": "stream",
          "text": [
            "\tTraining loss :  1.2992416987816493\n"
          ],
          "name": "stdout"
        },
        {
          "output_type": "stream",
          "text": [
            "\n",
            "Iteration:  45%|████▍     | 361/807 [04:05<05:02,  1.47it/s]\u001b[A\n",
            "Iteration:  45%|████▍     | 362/807 [04:05<04:58,  1.49it/s]\u001b[A\n",
            "Iteration:  45%|████▍     | 363/807 [04:06<04:55,  1.50it/s]\u001b[A\n",
            "Iteration:  45%|████▌     | 364/807 [04:07<05:06,  1.44it/s]\u001b[A"
          ],
          "name": "stderr"
        },
        {
          "output_type": "stream",
          "text": [
            "\tTraining loss :  1.297722129540129\n"
          ],
          "name": "stdout"
        },
        {
          "output_type": "stream",
          "text": [
            "\n",
            "Iteration:  45%|████▌     | 365/807 [04:07<05:00,  1.47it/s]\u001b[A\n",
            "Iteration:  45%|████▌     | 366/807 [04:08<04:56,  1.49it/s]\u001b[A\n",
            "Iteration:  45%|████▌     | 367/807 [04:09<04:51,  1.51it/s]\u001b[A\n",
            "Iteration:  46%|████▌     | 368/807 [04:09<05:04,  1.44it/s]\u001b[A"
          ],
          "name": "stderr"
        },
        {
          "output_type": "stream",
          "text": [
            "\tTraining loss :  1.301251016071309\n"
          ],
          "name": "stdout"
        },
        {
          "output_type": "stream",
          "text": [
            "\n",
            "Iteration:  46%|████▌     | 369/807 [04:10<04:58,  1.47it/s]\u001b[A\n",
            "Iteration:  46%|████▌     | 370/807 [04:11<04:54,  1.49it/s]\u001b[A\n",
            "Iteration:  46%|████▌     | 371/807 [04:11<04:50,  1.50it/s]\u001b[A\n",
            "Iteration:  46%|████▌     | 372/807 [04:12<05:02,  1.44it/s]\u001b[A"
          ],
          "name": "stderr"
        },
        {
          "output_type": "stream",
          "text": [
            "\tTraining loss :  1.2991036072533617\n"
          ],
          "name": "stdout"
        },
        {
          "output_type": "stream",
          "text": [
            "\n",
            "Iteration:  46%|████▌     | 373/807 [04:13<04:55,  1.47it/s]\u001b[A\n",
            "Iteration:  46%|████▋     | 374/807 [04:13<04:51,  1.49it/s]\u001b[A\n",
            "Iteration:  46%|████▋     | 375/807 [04:14<04:47,  1.50it/s]\u001b[A\n",
            "Iteration:  47%|████▋     | 376/807 [04:15<04:58,  1.44it/s]\u001b[A"
          ],
          "name": "stderr"
        },
        {
          "output_type": "stream",
          "text": [
            "\tTraining loss :  1.2971883500193029\n"
          ],
          "name": "stdout"
        },
        {
          "output_type": "stream",
          "text": [
            "\n",
            "Iteration:  47%|████▋     | 377/807 [04:15<04:52,  1.47it/s]\u001b[A\n",
            "Iteration:  47%|████▋     | 378/807 [04:16<04:47,  1.49it/s]\u001b[A\n",
            "Iteration:  47%|████▋     | 379/807 [04:17<04:44,  1.51it/s]\u001b[A\n",
            "Iteration:  47%|████▋     | 380/807 [04:17<04:55,  1.44it/s]\u001b[A"
          ],
          "name": "stderr"
        },
        {
          "output_type": "stream",
          "text": [
            "\tTraining loss :  1.2952917880133579\n"
          ],
          "name": "stdout"
        },
        {
          "output_type": "stream",
          "text": [
            "\n",
            "Iteration:  47%|████▋     | 381/807 [04:18<04:49,  1.47it/s]\u001b[A\n",
            "Iteration:  47%|████▋     | 382/807 [04:19<04:44,  1.49it/s]\u001b[A\n",
            "Iteration:  47%|████▋     | 383/807 [04:19<04:41,  1.50it/s]\u001b[A\n",
            "Iteration:  48%|████▊     | 384/807 [04:20<04:54,  1.44it/s]\u001b[A"
          ],
          "name": "stderr"
        },
        {
          "output_type": "stream",
          "text": [
            "\tTraining loss :  1.297637466341257\n"
          ],
          "name": "stdout"
        },
        {
          "output_type": "stream",
          "text": [
            "\n",
            "Iteration:  48%|████▊     | 385/807 [04:21<04:47,  1.47it/s]\u001b[A\n",
            "Iteration:  48%|████▊     | 386/807 [04:22<04:44,  1.48it/s]\u001b[A\n",
            "Iteration:  48%|████▊     | 387/807 [04:22<04:39,  1.50it/s]\u001b[A\n",
            "Iteration:  48%|████▊     | 388/807 [04:23<04:51,  1.44it/s]\u001b[A"
          ],
          "name": "stderr"
        },
        {
          "output_type": "stream",
          "text": [
            "\tTraining loss :  1.2956429787517822\n"
          ],
          "name": "stdout"
        },
        {
          "output_type": "stream",
          "text": [
            "\n",
            "Iteration:  48%|████▊     | 389/807 [04:24<04:44,  1.47it/s]\u001b[A\n",
            "Iteration:  48%|████▊     | 390/807 [04:24<04:40,  1.49it/s]\u001b[A\n",
            "Iteration:  48%|████▊     | 391/807 [04:25<04:36,  1.51it/s]\u001b[A\n",
            "Iteration:  49%|████▊     | 392/807 [04:26<04:48,  1.44it/s]\u001b[A"
          ],
          "name": "stderr"
        },
        {
          "output_type": "stream",
          "text": [
            "\tTraining loss :  1.2986570721378132\n"
          ],
          "name": "stdout"
        },
        {
          "output_type": "stream",
          "text": [
            "\n",
            "Iteration:  49%|████▊     | 393/807 [04:26<04:42,  1.47it/s]\u001b[A\n",
            "Iteration:  49%|████▉     | 394/807 [04:27<04:37,  1.49it/s]\u001b[A\n",
            "Iteration:  49%|████▉     | 395/807 [04:28<04:33,  1.50it/s]\u001b[A\n",
            "Iteration:  49%|████▉     | 396/807 [04:28<04:44,  1.44it/s]\u001b[A"
          ],
          "name": "stderr"
        },
        {
          "output_type": "stream",
          "text": [
            "\tTraining loss :  1.299667829515958\n"
          ],
          "name": "stdout"
        },
        {
          "output_type": "stream",
          "text": [
            "\n",
            "Iteration:  49%|████▉     | 397/807 [04:29<04:38,  1.47it/s]\u001b[A\n",
            "Iteration:  49%|████▉     | 398/807 [04:30<04:34,  1.49it/s]\u001b[A\n",
            "Iteration:  49%|████▉     | 399/807 [04:30<04:31,  1.50it/s]\u001b[A\n",
            "Iteration:  50%|████▉     | 400/807 [04:31<04:43,  1.44it/s]\u001b[A"
          ],
          "name": "stderr"
        },
        {
          "output_type": "stream",
          "text": [
            "\tTraining loss :  1.299700707346201\n"
          ],
          "name": "stdout"
        },
        {
          "output_type": "stream",
          "text": [
            "\n",
            "Iteration:  50%|████▉     | 401/807 [04:32<04:36,  1.47it/s]\u001b[A\n",
            "Iteration:  50%|████▉     | 402/807 [04:32<04:31,  1.49it/s]\u001b[A\n",
            "Iteration:  50%|████▉     | 403/807 [04:33<04:28,  1.51it/s]\u001b[A\n",
            "Iteration:  50%|█████     | 404/807 [04:34<04:38,  1.45it/s]\u001b[A"
          ],
          "name": "stderr"
        },
        {
          "output_type": "stream",
          "text": [
            "\tTraining loss :  1.3024053955727284\n"
          ],
          "name": "stdout"
        },
        {
          "output_type": "stream",
          "text": [
            "\n",
            "Iteration:  50%|█████     | 405/807 [04:34<04:33,  1.47it/s]\u001b[A\n",
            "Iteration:  50%|█████     | 406/807 [04:35<04:29,  1.49it/s]\u001b[A\n",
            "Iteration:  50%|█████     | 407/807 [04:36<04:26,  1.50it/s]\u001b[A\n",
            "Iteration:  51%|█████     | 408/807 [04:36<04:36,  1.44it/s]\u001b[A"
          ],
          "name": "stderr"
        },
        {
          "output_type": "stream",
          "text": [
            "\tTraining loss :  1.3013264395150483\n"
          ],
          "name": "stdout"
        },
        {
          "output_type": "stream",
          "text": [
            "\n",
            "Iteration:  51%|█████     | 409/807 [04:37<04:31,  1.47it/s]\u001b[A\n",
            "Iteration:  51%|█████     | 410/807 [04:38<04:27,  1.49it/s]\u001b[A\n",
            "Iteration:  51%|█████     | 411/807 [04:38<04:23,  1.50it/s]\u001b[A\n",
            "Iteration:  51%|█████     | 412/807 [04:39<04:33,  1.44it/s]\u001b[A"
          ],
          "name": "stderr"
        },
        {
          "output_type": "stream",
          "text": [
            "\tTraining loss :  1.298086120954995\n"
          ],
          "name": "stdout"
        },
        {
          "output_type": "stream",
          "text": [
            "\n",
            "Iteration:  51%|█████     | 413/807 [04:40<04:28,  1.46it/s]\u001b[A\n",
            "Iteration:  51%|█████▏    | 414/807 [04:40<04:24,  1.49it/s]\u001b[A\n",
            "Iteration:  51%|█████▏    | 415/807 [04:41<04:20,  1.50it/s]\u001b[A\n",
            "Iteration:  52%|█████▏    | 416/807 [04:42<04:31,  1.44it/s]\u001b[A"
          ],
          "name": "stderr"
        },
        {
          "output_type": "stream",
          "text": [
            "\tTraining loss :  1.297999110359412\n"
          ],
          "name": "stdout"
        },
        {
          "output_type": "stream",
          "text": [
            "\n",
            "Iteration:  52%|█████▏    | 417/807 [04:43<04:24,  1.47it/s]\u001b[A\n",
            "Iteration:  52%|█████▏    | 418/807 [04:43<04:21,  1.49it/s]\u001b[A\n",
            "Iteration:  52%|█████▏    | 419/807 [04:44<04:17,  1.51it/s]\u001b[A\n",
            "Iteration:  52%|█████▏    | 420/807 [04:45<04:28,  1.44it/s]\u001b[A"
          ],
          "name": "stderr"
        },
        {
          "output_type": "stream",
          "text": [
            "\tTraining loss :  1.3001887639363607\n"
          ],
          "name": "stdout"
        },
        {
          "output_type": "stream",
          "text": [
            "\n",
            "Iteration:  52%|█████▏    | 421/807 [04:45<04:23,  1.46it/s]\u001b[A\n",
            "Iteration:  52%|█████▏    | 422/807 [04:46<04:18,  1.49it/s]\u001b[A\n",
            "Iteration:  52%|█████▏    | 423/807 [04:47<04:15,  1.50it/s]\u001b[A\n",
            "Iteration:  53%|█████▎    | 424/807 [04:47<04:25,  1.44it/s]\u001b[A"
          ],
          "name": "stderr"
        },
        {
          "output_type": "stream",
          "text": [
            "\tTraining loss :  1.2999979164802804\n"
          ],
          "name": "stdout"
        },
        {
          "output_type": "stream",
          "text": [
            "\n",
            "Iteration:  53%|█████▎    | 425/807 [04:48<04:19,  1.47it/s]\u001b[A\n",
            "Iteration:  53%|█████▎    | 426/807 [04:49<04:15,  1.49it/s]\u001b[A\n",
            "Iteration:  53%|█████▎    | 427/807 [04:49<04:12,  1.51it/s]\u001b[A\n",
            "Iteration:  53%|█████▎    | 428/807 [04:50<04:22,  1.44it/s]\u001b[A"
          ],
          "name": "stderr"
        },
        {
          "output_type": "stream",
          "text": [
            "\tTraining loss :  1.3026104942660466\n"
          ],
          "name": "stdout"
        },
        {
          "output_type": "stream",
          "text": [
            "\n",
            "Iteration:  53%|█████▎    | 429/807 [04:51<04:16,  1.47it/s]\u001b[A\n",
            "Iteration:  53%|█████▎    | 430/807 [04:51<04:12,  1.49it/s]\u001b[A\n",
            "Iteration:  53%|█████▎    | 431/807 [04:52<04:09,  1.51it/s]\u001b[A\n",
            "Iteration:  54%|█████▎    | 432/807 [04:53<04:20,  1.44it/s]\u001b[A"
          ],
          "name": "stderr"
        },
        {
          "output_type": "stream",
          "text": [
            "\tTraining loss :  1.3016499412004594\n"
          ],
          "name": "stdout"
        },
        {
          "output_type": "stream",
          "text": [
            "\n",
            "Iteration:  54%|█████▎    | 433/807 [04:53<04:13,  1.48it/s]\u001b[A\n",
            "Iteration:  54%|█████▍    | 434/807 [04:54<04:10,  1.49it/s]\u001b[A\n",
            "Iteration:  54%|█████▍    | 435/807 [04:55<04:06,  1.51it/s]\u001b[A\n",
            "Iteration:  54%|█████▍    | 436/807 [04:55<04:17,  1.44it/s]\u001b[A"
          ],
          "name": "stderr"
        },
        {
          "output_type": "stream",
          "text": [
            "\tTraining loss :  1.3006149079274694\n"
          ],
          "name": "stdout"
        },
        {
          "output_type": "stream",
          "text": [
            "\n",
            "Iteration:  54%|█████▍    | 437/807 [04:56<04:12,  1.47it/s]\u001b[A\n",
            "Iteration:  54%|█████▍    | 438/807 [04:57<04:08,  1.49it/s]\u001b[A\n",
            "Iteration:  54%|█████▍    | 439/807 [04:57<04:05,  1.50it/s]\u001b[A\n",
            "Iteration:  55%|█████▍    | 440/807 [04:58<04:15,  1.44it/s]\u001b[A"
          ],
          "name": "stderr"
        },
        {
          "output_type": "stream",
          "text": [
            "\tTraining loss :  1.2999270249496806\n"
          ],
          "name": "stdout"
        },
        {
          "output_type": "stream",
          "text": [
            "\n",
            "Iteration:  55%|█████▍    | 441/807 [04:59<04:08,  1.47it/s]\u001b[A\n",
            "Iteration:  55%|█████▍    | 442/807 [04:59<04:05,  1.49it/s]\u001b[A\n",
            "Iteration:  55%|█████▍    | 443/807 [05:00<04:01,  1.50it/s]\u001b[A\n",
            "Iteration:  55%|█████▌    | 444/807 [05:01<04:12,  1.44it/s]\u001b[A"
          ],
          "name": "stderr"
        },
        {
          "output_type": "stream",
          "text": [
            "\tTraining loss :  1.297108188003033\n"
          ],
          "name": "stdout"
        },
        {
          "output_type": "stream",
          "text": [
            "\n",
            "Iteration:  55%|█████▌    | 445/807 [05:02<04:05,  1.47it/s]\u001b[A\n",
            "Iteration:  55%|█████▌    | 446/807 [05:02<04:02,  1.49it/s]\u001b[A\n",
            "Iteration:  55%|█████▌    | 447/807 [05:03<03:58,  1.51it/s]\u001b[A\n",
            "Iteration:  56%|█████▌    | 448/807 [05:04<04:09,  1.44it/s]\u001b[A"
          ],
          "name": "stderr"
        },
        {
          "output_type": "stream",
          "text": [
            "\tTraining loss :  1.2992560069209762\n"
          ],
          "name": "stdout"
        },
        {
          "output_type": "stream",
          "text": [
            "\n",
            "Iteration:  56%|█████▌    | 449/807 [05:04<04:04,  1.47it/s]\u001b[A\n",
            "Iteration:  56%|█████▌    | 450/807 [05:05<04:00,  1.49it/s]\u001b[A\n",
            "Iteration:  56%|█████▌    | 451/807 [05:06<03:57,  1.50it/s]\u001b[A\n",
            "Iteration:  56%|█████▌    | 452/807 [05:06<04:06,  1.44it/s]\u001b[A"
          ],
          "name": "stderr"
        },
        {
          "output_type": "stream",
          "text": [
            "\tTraining loss :  1.2987627658696301\n"
          ],
          "name": "stdout"
        },
        {
          "output_type": "stream",
          "text": [
            "\n",
            "Iteration:  56%|█████▌    | 453/807 [05:07<04:01,  1.46it/s]\u001b[A\n",
            "Iteration:  56%|█████▋    | 454/807 [05:08<03:57,  1.48it/s]\u001b[A\n",
            "Iteration:  56%|█████▋    | 455/807 [05:08<03:54,  1.50it/s]\u001b[A\n",
            "Iteration:  57%|█████▋    | 456/807 [05:09<04:03,  1.44it/s]\u001b[A"
          ],
          "name": "stderr"
        },
        {
          "output_type": "stream",
          "text": [
            "\tTraining loss :  1.2981121563597728\n"
          ],
          "name": "stdout"
        },
        {
          "output_type": "stream",
          "text": [
            "\n",
            "Iteration:  57%|█████▋    | 457/807 [05:10<03:59,  1.46it/s]\u001b[A\n",
            "Iteration:  57%|█████▋    | 458/807 [05:10<03:54,  1.49it/s]\u001b[A\n",
            "Iteration:  57%|█████▋    | 459/807 [05:11<03:51,  1.50it/s]\u001b[A\n",
            "Iteration:  57%|█████▋    | 460/807 [05:12<04:01,  1.44it/s]\u001b[A"
          ],
          "name": "stderr"
        },
        {
          "output_type": "stream",
          "text": [
            "\tTraining loss :  1.296143171320791\n"
          ],
          "name": "stdout"
        },
        {
          "output_type": "stream",
          "text": [
            "\n",
            "Iteration:  57%|█████▋    | 461/807 [05:12<03:56,  1.46it/s]\u001b[A\n",
            "Iteration:  57%|█████▋    | 462/807 [05:13<03:52,  1.49it/s]\u001b[A\n",
            "Iteration:  57%|█████▋    | 463/807 [05:14<03:49,  1.50it/s]\u001b[A\n",
            "Iteration:  57%|█████▋    | 464/807 [05:14<03:59,  1.43it/s]\u001b[A"
          ],
          "name": "stderr"
        },
        {
          "output_type": "stream",
          "text": [
            "\tTraining loss :  1.2953948463345397\n"
          ],
          "name": "stdout"
        },
        {
          "output_type": "stream",
          "text": [
            "\n",
            "Iteration:  58%|█████▊    | 465/807 [05:15<03:53,  1.46it/s]\u001b[A\n",
            "Iteration:  58%|█████▊    | 466/807 [05:16<03:49,  1.49it/s]\u001b[A\n",
            "Iteration:  58%|█████▊    | 467/807 [05:16<03:46,  1.50it/s]\u001b[A\n",
            "Iteration:  58%|█████▊    | 468/807 [05:17<03:56,  1.44it/s]\u001b[A"
          ],
          "name": "stderr"
        },
        {
          "output_type": "stream",
          "text": [
            "\tTraining loss :  1.2944708545493264\n"
          ],
          "name": "stdout"
        },
        {
          "output_type": "stream",
          "text": [
            "\n",
            "Iteration:  58%|█████▊    | 469/807 [05:18<03:50,  1.47it/s]\u001b[A\n",
            "Iteration:  58%|█████▊    | 470/807 [05:18<03:47,  1.48it/s]\u001b[A\n",
            "Iteration:  58%|█████▊    | 471/807 [05:19<03:43,  1.50it/s]\u001b[A\n",
            "Iteration:  58%|█████▊    | 472/807 [05:20<03:52,  1.44it/s]\u001b[A"
          ],
          "name": "stderr"
        },
        {
          "output_type": "stream",
          "text": [
            "\tTraining loss :  1.2967595415095152\n"
          ],
          "name": "stdout"
        },
        {
          "output_type": "stream",
          "text": [
            "\n",
            "Iteration:  59%|█████▊    | 473/807 [05:21<03:47,  1.47it/s]\u001b[A\n",
            "Iteration:  59%|█████▊    | 474/807 [05:21<03:43,  1.49it/s]\u001b[A\n",
            "Iteration:  59%|█████▉    | 475/807 [05:22<03:40,  1.51it/s]\u001b[A\n",
            "Iteration:  59%|█████▉    | 476/807 [05:23<03:49,  1.44it/s]\u001b[A"
          ],
          "name": "stderr"
        },
        {
          "output_type": "stream",
          "text": [
            "\tTraining loss :  1.2954304641535301\n"
          ],
          "name": "stdout"
        },
        {
          "output_type": "stream",
          "text": [
            "\n",
            "Iteration:  59%|█████▉    | 477/807 [05:23<03:45,  1.46it/s]\u001b[A\n",
            "Iteration:  59%|█████▉    | 478/807 [05:24<03:41,  1.49it/s]\u001b[A\n",
            "Iteration:  59%|█████▉    | 479/807 [05:25<03:38,  1.50it/s]\u001b[A\n",
            "Iteration:  59%|█████▉    | 480/807 [05:25<03:46,  1.44it/s]\u001b[A"
          ],
          "name": "stderr"
        },
        {
          "output_type": "stream",
          "text": [
            "\tTraining loss :  1.2984121022125086\n"
          ],
          "name": "stdout"
        },
        {
          "output_type": "stream",
          "text": [
            "\n",
            "Iteration:  60%|█████▉    | 481/807 [05:26<03:42,  1.47it/s]\u001b[A\n",
            "Iteration:  60%|█████▉    | 482/807 [05:27<03:38,  1.49it/s]\u001b[A\n",
            "Iteration:  60%|█████▉    | 483/807 [05:27<03:35,  1.50it/s]\u001b[A\n",
            "Iteration:  60%|█████▉    | 484/807 [05:28<03:44,  1.44it/s]\u001b[A"
          ],
          "name": "stderr"
        },
        {
          "output_type": "stream",
          "text": [
            "\tTraining loss :  1.297309165651148\n"
          ],
          "name": "stdout"
        },
        {
          "output_type": "stream",
          "text": [
            "\n",
            "Iteration:  60%|██████    | 485/807 [05:29<03:38,  1.47it/s]\u001b[A\n",
            "Iteration:  60%|██████    | 486/807 [05:29<03:36,  1.48it/s]\u001b[A\n",
            "Iteration:  60%|██████    | 487/807 [05:30<03:32,  1.50it/s]\u001b[A\n",
            "Iteration:  60%|██████    | 488/807 [05:31<03:41,  1.44it/s]\u001b[A"
          ],
          "name": "stderr"
        },
        {
          "output_type": "stream",
          "text": [
            "\tTraining loss :  1.2964128842119311\n"
          ],
          "name": "stdout"
        },
        {
          "output_type": "stream",
          "text": [
            "\n",
            "Iteration:  61%|██████    | 489/807 [05:31<03:36,  1.47it/s]\u001b[A\n",
            "Iteration:  61%|██████    | 490/807 [05:32<03:34,  1.48it/s]\u001b[A\n",
            "Iteration:  61%|██████    | 491/807 [05:33<03:31,  1.49it/s]\u001b[A\n",
            "Iteration:  61%|██████    | 492/807 [05:33<03:39,  1.43it/s]\u001b[A"
          ],
          "name": "stderr"
        },
        {
          "output_type": "stream",
          "text": [
            "\tTraining loss :  1.2954925414992542\n"
          ],
          "name": "stdout"
        },
        {
          "output_type": "stream",
          "text": [
            "\n",
            "Iteration:  61%|██████    | 493/807 [05:34<03:33,  1.47it/s]\u001b[A\n",
            "Iteration:  61%|██████    | 494/807 [05:35<03:31,  1.48it/s]\u001b[A\n",
            "Iteration:  61%|██████▏   | 495/807 [05:35<03:27,  1.50it/s]\u001b[A\n",
            "Iteration:  61%|██████▏   | 496/807 [05:36<03:36,  1.43it/s]\u001b[A"
          ],
          "name": "stderr"
        },
        {
          "output_type": "stream",
          "text": [
            "\tTraining loss :  1.297160200293987\n"
          ],
          "name": "stdout"
        },
        {
          "output_type": "stream",
          "text": [
            "\n",
            "Iteration:  62%|██████▏   | 497/807 [05:37<03:31,  1.46it/s]\u001b[A\n",
            "Iteration:  62%|██████▏   | 498/807 [05:37<03:28,  1.48it/s]\u001b[A\n",
            "Iteration:  62%|██████▏   | 499/807 [05:38<03:25,  1.50it/s]\u001b[A\n",
            "Iteration:  62%|██████▏   | 500/807 [05:39<03:33,  1.44it/s]\u001b[A"
          ],
          "name": "stderr"
        },
        {
          "output_type": "stream",
          "text": [
            "\tTraining loss :  1.294829437494278\n"
          ],
          "name": "stdout"
        },
        {
          "output_type": "stream",
          "text": [
            "\n",
            "Iteration:  62%|██████▏   | 501/807 [05:40<03:28,  1.46it/s]\u001b[A\n",
            "Iteration:  62%|██████▏   | 502/807 [05:40<03:25,  1.49it/s]\u001b[A\n",
            "Iteration:  62%|██████▏   | 503/807 [05:41<03:22,  1.50it/s]\u001b[A\n",
            "Iteration:  62%|██████▏   | 504/807 [05:42<03:30,  1.44it/s]\u001b[A"
          ],
          "name": "stderr"
        },
        {
          "output_type": "stream",
          "text": [
            "\tTraining loss :  1.2944377346171274\n"
          ],
          "name": "stdout"
        },
        {
          "output_type": "stream",
          "text": [
            "\n",
            "Iteration:  63%|██████▎   | 505/807 [05:42<03:25,  1.47it/s]\u001b[A\n",
            "Iteration:  63%|██████▎   | 506/807 [05:43<03:22,  1.49it/s]\u001b[A\n",
            "Iteration:  63%|██████▎   | 507/807 [05:44<03:19,  1.50it/s]\u001b[A\n",
            "Iteration:  63%|██████▎   | 508/807 [05:44<03:27,  1.44it/s]\u001b[A"
          ],
          "name": "stderr"
        },
        {
          "output_type": "stream",
          "text": [
            "\tTraining loss :  1.2963841104601312\n"
          ],
          "name": "stdout"
        },
        {
          "output_type": "stream",
          "text": [
            "\n",
            "Iteration:  63%|██████▎   | 509/807 [05:45<03:23,  1.47it/s]\u001b[A\n",
            "Iteration:  63%|██████▎   | 510/807 [05:46<03:19,  1.49it/s]\u001b[A\n",
            "Iteration:  63%|██████▎   | 511/807 [05:46<03:16,  1.50it/s]\u001b[A\n",
            "Iteration:  63%|██████▎   | 512/807 [05:47<03:24,  1.44it/s]\u001b[A"
          ],
          "name": "stderr"
        },
        {
          "output_type": "stream",
          "text": [
            "\tTraining loss :  1.29842051374726\n"
          ],
          "name": "stdout"
        },
        {
          "output_type": "stream",
          "text": [
            "\n",
            "Iteration:  64%|██████▎   | 513/807 [05:48<03:19,  1.47it/s]\u001b[A\n",
            "Iteration:  64%|██████▎   | 514/807 [05:48<03:17,  1.49it/s]\u001b[A\n",
            "Iteration:  64%|██████▍   | 515/807 [05:49<03:14,  1.50it/s]\u001b[A\n",
            "Iteration:  64%|██████▍   | 516/807 [05:50<03:21,  1.44it/s]\u001b[A"
          ],
          "name": "stderr"
        },
        {
          "output_type": "stream",
          "text": [
            "\tTraining loss :  1.2979795408341313\n"
          ],
          "name": "stdout"
        },
        {
          "output_type": "stream",
          "text": [
            "\n",
            "Iteration:  64%|██████▍   | 517/807 [05:50<03:17,  1.47it/s]\u001b[A\n",
            "Iteration:  64%|██████▍   | 518/807 [05:51<03:14,  1.49it/s]\u001b[A\n",
            "Iteration:  64%|██████▍   | 519/807 [05:52<03:11,  1.51it/s]\u001b[A\n",
            "Iteration:  64%|██████▍   | 520/807 [05:52<03:19,  1.44it/s]\u001b[A"
          ],
          "name": "stderr"
        },
        {
          "output_type": "stream",
          "text": [
            "\tTraining loss :  1.3003057752664273\n"
          ],
          "name": "stdout"
        },
        {
          "output_type": "stream",
          "text": [
            "\n",
            "Iteration:  65%|██████▍   | 521/807 [05:53<03:14,  1.47it/s]\u001b[A\n",
            "Iteration:  65%|██████▍   | 522/807 [05:54<03:11,  1.49it/s]\u001b[A\n",
            "Iteration:  65%|██████▍   | 523/807 [05:54<03:09,  1.50it/s]\u001b[A\n",
            "Iteration:  65%|██████▍   | 524/807 [05:55<03:16,  1.44it/s]\u001b[A"
          ],
          "name": "stderr"
        },
        {
          "output_type": "stream",
          "text": [
            "\tTraining loss :  1.2986273720064236\n"
          ],
          "name": "stdout"
        },
        {
          "output_type": "stream",
          "text": [
            "\n",
            "Iteration:  65%|██████▌   | 525/807 [05:56<03:11,  1.47it/s]\u001b[A\n",
            "Iteration:  65%|██████▌   | 526/807 [05:56<03:09,  1.49it/s]\u001b[A\n",
            "Iteration:  65%|██████▌   | 527/807 [05:57<03:06,  1.51it/s]\u001b[A\n",
            "Iteration:  65%|██████▌   | 528/807 [05:58<03:13,  1.44it/s]\u001b[A"
          ],
          "name": "stderr"
        },
        {
          "output_type": "stream",
          "text": [
            "\tTraining loss :  1.2979472296481782\n"
          ],
          "name": "stdout"
        },
        {
          "output_type": "stream",
          "text": [
            "\n",
            "Iteration:  66%|██████▌   | 529/807 [05:59<03:09,  1.47it/s]\u001b[A\n",
            "Iteration:  66%|██████▌   | 530/807 [05:59<03:06,  1.49it/s]\u001b[A\n",
            "Iteration:  66%|██████▌   | 531/807 [06:00<03:03,  1.50it/s]\u001b[A\n",
            "Iteration:  66%|██████▌   | 532/807 [06:01<03:11,  1.44it/s]\u001b[A"
          ],
          "name": "stderr"
        },
        {
          "output_type": "stream",
          "text": [
            "\tTraining loss :  1.2960283963527894\n"
          ],
          "name": "stdout"
        },
        {
          "output_type": "stream",
          "text": [
            "\n",
            "Iteration:  66%|██████▌   | 533/807 [06:01<03:06,  1.47it/s]\u001b[A\n",
            "Iteration:  66%|██████▌   | 534/807 [06:02<03:03,  1.49it/s]\u001b[A\n",
            "Iteration:  66%|██████▋   | 535/807 [06:03<03:01,  1.50it/s]\u001b[A\n",
            "Iteration:  66%|██████▋   | 536/807 [06:03<03:08,  1.44it/s]\u001b[A"
          ],
          "name": "stderr"
        },
        {
          "output_type": "stream",
          "text": [
            "\tTraining loss :  1.29778835855758\n"
          ],
          "name": "stdout"
        },
        {
          "output_type": "stream",
          "text": [
            "\n",
            "Iteration:  67%|██████▋   | 537/807 [06:04<03:03,  1.47it/s]\u001b[A\n",
            "Iteration:  67%|██████▋   | 538/807 [06:05<03:00,  1.49it/s]\u001b[A\n",
            "Iteration:  67%|██████▋   | 539/807 [06:05<02:58,  1.50it/s]\u001b[A\n",
            "Iteration:  67%|██████▋   | 540/807 [06:06<03:04,  1.44it/s]\u001b[A"
          ],
          "name": "stderr"
        },
        {
          "output_type": "stream",
          "text": [
            "\tTraining loss :  1.2981731014119253\n"
          ],
          "name": "stdout"
        },
        {
          "output_type": "stream",
          "text": [
            "\n",
            "Iteration:  67%|██████▋   | 541/807 [06:07<03:01,  1.47it/s]\u001b[A\n",
            "Iteration:  67%|██████▋   | 542/807 [06:07<02:58,  1.49it/s]\u001b[A\n",
            "Iteration:  67%|██████▋   | 543/807 [06:08<02:56,  1.50it/s]\u001b[A\n",
            "Iteration:  67%|██████▋   | 544/807 [06:09<03:02,  1.44it/s]\u001b[A"
          ],
          "name": "stderr"
        },
        {
          "output_type": "stream",
          "text": [
            "\tTraining loss :  1.2978483468075008\n"
          ],
          "name": "stdout"
        },
        {
          "output_type": "stream",
          "text": [
            "\n",
            "Iteration:  68%|██████▊   | 545/807 [06:09<02:58,  1.47it/s]\u001b[A\n",
            "Iteration:  68%|██████▊   | 546/807 [06:10<02:55,  1.49it/s]\u001b[A\n",
            "Iteration:  68%|██████▊   | 547/807 [06:11<02:53,  1.50it/s]\u001b[A\n",
            "Iteration:  68%|██████▊   | 548/807 [06:11<03:00,  1.43it/s]\u001b[A"
          ],
          "name": "stderr"
        },
        {
          "output_type": "stream",
          "text": [
            "\tTraining loss :  1.2985589727215523\n"
          ],
          "name": "stdout"
        },
        {
          "output_type": "stream",
          "text": [
            "\n",
            "Iteration:  68%|██████▊   | 549/807 [06:12<02:56,  1.47it/s]\u001b[A\n",
            "Iteration:  68%|██████▊   | 550/807 [06:13<02:52,  1.49it/s]\u001b[A\n",
            "Iteration:  68%|██████▊   | 551/807 [06:13<02:50,  1.50it/s]\u001b[A\n",
            "Iteration:  68%|██████▊   | 552/807 [06:14<02:57,  1.44it/s]\u001b[A"
          ],
          "name": "stderr"
        },
        {
          "output_type": "stream",
          "text": [
            "\tTraining loss :  1.296534919436427\n"
          ],
          "name": "stdout"
        },
        {
          "output_type": "stream",
          "text": [
            "\n",
            "Iteration:  69%|██████▊   | 553/807 [06:15<02:52,  1.47it/s]\u001b[A\n",
            "Iteration:  69%|██████▊   | 554/807 [06:15<02:50,  1.48it/s]\u001b[A\n",
            "Iteration:  69%|██████▉   | 555/807 [06:16<02:47,  1.50it/s]\u001b[A\n",
            "Iteration:  69%|██████▉   | 556/807 [06:17<02:54,  1.44it/s]\u001b[A"
          ],
          "name": "stderr"
        },
        {
          "output_type": "stream",
          "text": [
            "\tTraining loss :  1.2973557794265609\n"
          ],
          "name": "stdout"
        },
        {
          "output_type": "stream",
          "text": [
            "\n",
            "Iteration:  69%|██████▉   | 557/807 [06:18<02:50,  1.47it/s]\u001b[A\n",
            "Iteration:  69%|██████▉   | 558/807 [06:18<02:47,  1.49it/s]\u001b[A\n",
            "Iteration:  69%|██████▉   | 559/807 [06:19<02:45,  1.50it/s]\u001b[A\n",
            "Iteration:  69%|██████▉   | 560/807 [06:20<02:51,  1.44it/s]\u001b[A"
          ],
          "name": "stderr"
        },
        {
          "output_type": "stream",
          "text": [
            "\tTraining loss :  1.2990356822099005\n"
          ],
          "name": "stdout"
        },
        {
          "output_type": "stream",
          "text": [
            "\n",
            "Iteration:  70%|██████▉   | 561/807 [06:20<02:47,  1.47it/s]\u001b[A\n",
            "Iteration:  70%|██████▉   | 562/807 [06:21<02:44,  1.49it/s]\u001b[A\n",
            "Iteration:  70%|██████▉   | 563/807 [06:22<02:42,  1.51it/s]\u001b[A\n",
            "Iteration:  70%|██████▉   | 564/807 [06:22<02:48,  1.44it/s]\u001b[A"
          ],
          "name": "stderr"
        },
        {
          "output_type": "stream",
          "text": [
            "\tTraining loss :  1.2983483475573518\n"
          ],
          "name": "stdout"
        },
        {
          "output_type": "stream",
          "text": [
            "\n",
            "Iteration:  70%|███████   | 565/807 [06:23<02:44,  1.47it/s]\u001b[A\n",
            "Iteration:  70%|███████   | 566/807 [06:24<02:42,  1.48it/s]\u001b[A\n",
            "Iteration:  70%|███████   | 567/807 [06:24<02:40,  1.50it/s]\u001b[A\n",
            "Iteration:  70%|███████   | 568/807 [06:25<02:46,  1.44it/s]\u001b[A"
          ],
          "name": "stderr"
        },
        {
          "output_type": "stream",
          "text": [
            "\tTraining loss :  1.2977846609035009\n"
          ],
          "name": "stdout"
        },
        {
          "output_type": "stream",
          "text": [
            "\n",
            "Iteration:  71%|███████   | 569/807 [06:26<02:41,  1.47it/s]\u001b[A\n",
            "Iteration:  71%|███████   | 570/807 [06:26<02:39,  1.49it/s]\u001b[A\n",
            "Iteration:  71%|███████   | 571/807 [06:27<02:36,  1.51it/s]\u001b[A\n",
            "Iteration:  71%|███████   | 572/807 [06:28<02:43,  1.44it/s]\u001b[A"
          ],
          "name": "stderr"
        },
        {
          "output_type": "stream",
          "text": [
            "\tTraining loss :  1.3017596106429201\n"
          ],
          "name": "stdout"
        },
        {
          "output_type": "stream",
          "text": [
            "\n",
            "Iteration:  71%|███████   | 573/807 [06:28<02:38,  1.48it/s]\u001b[A\n",
            "Iteration:  71%|███████   | 574/807 [06:29<02:36,  1.49it/s]\u001b[A\n",
            "Iteration:  71%|███████▏  | 575/807 [06:30<02:34,  1.50it/s]\u001b[A\n",
            "Iteration:  71%|███████▏  | 576/807 [06:30<02:40,  1.44it/s]\u001b[A"
          ],
          "name": "stderr"
        },
        {
          "output_type": "stream",
          "text": [
            "\tTraining loss :  1.30220093143483\n"
          ],
          "name": "stdout"
        },
        {
          "output_type": "stream",
          "text": [
            "\n",
            "Iteration:  71%|███████▏  | 577/807 [06:31<02:37,  1.46it/s]\u001b[A\n",
            "Iteration:  72%|███████▏  | 578/807 [06:32<02:34,  1.48it/s]\u001b[A\n",
            "Iteration:  72%|███████▏  | 579/807 [06:32<02:32,  1.50it/s]\u001b[A\n",
            "Iteration:  72%|███████▏  | 580/807 [06:33<02:38,  1.43it/s]\u001b[A"
          ],
          "name": "stderr"
        },
        {
          "output_type": "stream",
          "text": [
            "\tTraining loss :  1.3025569620831259\n"
          ],
          "name": "stdout"
        },
        {
          "output_type": "stream",
          "text": [
            "\n",
            "Iteration:  72%|███████▏  | 581/807 [06:34<02:34,  1.46it/s]\u001b[A\n",
            "Iteration:  72%|███████▏  | 582/807 [06:34<02:31,  1.48it/s]\u001b[A\n",
            "Iteration:  72%|███████▏  | 583/807 [06:35<02:29,  1.50it/s]\u001b[A\n",
            "Iteration:  72%|███████▏  | 584/807 [06:36<02:35,  1.44it/s]\u001b[A"
          ],
          "name": "stderr"
        },
        {
          "output_type": "stream",
          "text": [
            "\tTraining loss :  1.302002865668029\n"
          ],
          "name": "stdout"
        },
        {
          "output_type": "stream",
          "text": [
            "\n",
            "Iteration:  72%|███████▏  | 585/807 [06:37<02:31,  1.46it/s]\u001b[A\n",
            "Iteration:  73%|███████▎  | 586/807 [06:37<02:29,  1.48it/s]\u001b[A\n",
            "Iteration:  73%|███████▎  | 587/807 [06:38<02:26,  1.50it/s]\u001b[A\n",
            "Iteration:  73%|███████▎  | 588/807 [06:39<02:32,  1.44it/s]\u001b[A"
          ],
          "name": "stderr"
        },
        {
          "output_type": "stream",
          "text": [
            "\tTraining loss :  1.2998678422704035\n"
          ],
          "name": "stdout"
        },
        {
          "output_type": "stream",
          "text": [
            "\n",
            "Iteration:  73%|███████▎  | 589/807 [06:39<02:29,  1.46it/s]\u001b[A\n",
            "Iteration:  73%|███████▎  | 590/807 [06:40<02:26,  1.48it/s]\u001b[A\n",
            "Iteration:  73%|███████▎  | 591/807 [06:41<02:24,  1.50it/s]\u001b[A\n",
            "Iteration:  73%|███████▎  | 592/807 [06:41<02:29,  1.43it/s]\u001b[A"
          ],
          "name": "stderr"
        },
        {
          "output_type": "stream",
          "text": [
            "\tTraining loss :  1.2984696725333058\n"
          ],
          "name": "stdout"
        },
        {
          "output_type": "stream",
          "text": [
            "\n",
            "Iteration:  73%|███████▎  | 593/807 [06:42<02:26,  1.46it/s]\u001b[A\n",
            "Iteration:  74%|███████▎  | 594/807 [06:43<02:23,  1.48it/s]\u001b[A\n",
            "Iteration:  74%|███████▎  | 595/807 [06:43<02:21,  1.50it/s]\u001b[A\n",
            "Iteration:  74%|███████▍  | 596/807 [06:44<02:26,  1.44it/s]\u001b[A"
          ],
          "name": "stderr"
        },
        {
          "output_type": "stream",
          "text": [
            "\tTraining loss :  1.297079113305815\n"
          ],
          "name": "stdout"
        },
        {
          "output_type": "stream",
          "text": [
            "\n",
            "Iteration:  74%|███████▍  | 597/807 [06:45<02:23,  1.47it/s]\u001b[A\n",
            "Iteration:  74%|███████▍  | 598/807 [06:45<02:20,  1.49it/s]\u001b[A\n",
            "Iteration:  74%|███████▍  | 599/807 [06:46<02:18,  1.51it/s]\u001b[A\n",
            "Iteration:  74%|███████▍  | 600/807 [06:47<02:23,  1.44it/s]\u001b[A"
          ],
          "name": "stderr"
        },
        {
          "output_type": "stream",
          "text": [
            "\tTraining loss :  1.3005430410305658\n"
          ],
          "name": "stdout"
        },
        {
          "output_type": "stream",
          "text": [
            "\n",
            "Iteration:  74%|███████▍  | 601/807 [06:47<02:20,  1.47it/s]\u001b[A\n",
            "Iteration:  75%|███████▍  | 602/807 [06:48<02:17,  1.49it/s]\u001b[A\n",
            "Iteration:  75%|███████▍  | 603/807 [06:49<02:15,  1.50it/s]\u001b[A\n",
            "Iteration:  75%|███████▍  | 604/807 [06:49<02:21,  1.44it/s]\u001b[A"
          ],
          "name": "stderr"
        },
        {
          "output_type": "stream",
          "text": [
            "\tTraining loss :  1.3003386284736609\n"
          ],
          "name": "stdout"
        },
        {
          "output_type": "stream",
          "text": [
            "\n",
            "Iteration:  75%|███████▍  | 605/807 [06:50<02:17,  1.47it/s]\u001b[A\n",
            "Iteration:  75%|███████▌  | 606/807 [06:51<02:15,  1.48it/s]\u001b[A\n",
            "Iteration:  75%|███████▌  | 607/807 [06:51<02:13,  1.50it/s]\u001b[A\n",
            "Iteration:  75%|███████▌  | 608/807 [06:52<02:18,  1.44it/s]\u001b[A"
          ],
          "name": "stderr"
        },
        {
          "output_type": "stream",
          "text": [
            "\tTraining loss :  1.2988351766804331\n"
          ],
          "name": "stdout"
        },
        {
          "output_type": "stream",
          "text": [
            "\n",
            "Iteration:  75%|███████▌  | 609/807 [06:53<02:15,  1.47it/s]\u001b[A\n",
            "Iteration:  76%|███████▌  | 610/807 [06:54<02:13,  1.48it/s]\u001b[A\n",
            "Iteration:  76%|███████▌  | 611/807 [06:54<02:11,  1.49it/s]\u001b[A\n",
            "Iteration:  76%|███████▌  | 612/807 [06:55<02:15,  1.43it/s]\u001b[A"
          ],
          "name": "stderr"
        },
        {
          "output_type": "stream",
          "text": [
            "\tTraining loss :  1.2977500547186223\n"
          ],
          "name": "stdout"
        },
        {
          "output_type": "stream",
          "text": [
            "\n",
            "Iteration:  76%|███████▌  | 613/807 [06:56<02:12,  1.46it/s]\u001b[A\n",
            "Iteration:  76%|███████▌  | 614/807 [06:56<02:10,  1.48it/s]\u001b[A\n",
            "Iteration:  76%|███████▌  | 615/807 [06:57<02:08,  1.50it/s]\u001b[A\n",
            "Iteration:  76%|███████▋  | 616/807 [06:58<02:12,  1.44it/s]\u001b[A"
          ],
          "name": "stderr"
        },
        {
          "output_type": "stream",
          "text": [
            "\tTraining loss :  1.299682885698684\n"
          ],
          "name": "stdout"
        },
        {
          "output_type": "stream",
          "text": [
            "\n",
            "Iteration:  76%|███████▋  | 617/807 [06:58<02:09,  1.47it/s]\u001b[A\n",
            "Iteration:  77%|███████▋  | 618/807 [06:59<02:07,  1.49it/s]\u001b[A\n",
            "Iteration:  77%|███████▋  | 619/807 [07:00<02:04,  1.50it/s]\u001b[A\n",
            "Iteration:  77%|███████▋  | 620/807 [07:00<02:09,  1.44it/s]\u001b[A"
          ],
          "name": "stderr"
        },
        {
          "output_type": "stream",
          "text": [
            "\tTraining loss :  1.3001870360105268\n"
          ],
          "name": "stdout"
        },
        {
          "output_type": "stream",
          "text": [
            "\n",
            "Iteration:  77%|███████▋  | 621/807 [07:01<02:07,  1.46it/s]\u001b[A\n",
            "Iteration:  77%|███████▋  | 622/807 [07:02<02:04,  1.49it/s]\u001b[A\n",
            "Iteration:  77%|███████▋  | 623/807 [07:02<02:02,  1.50it/s]\u001b[A\n",
            "Iteration:  77%|███████▋  | 624/807 [07:03<02:07,  1.44it/s]\u001b[A"
          ],
          "name": "stderr"
        },
        {
          "output_type": "stream",
          "text": [
            "\tTraining loss :  1.299029556222451\n"
          ],
          "name": "stdout"
        },
        {
          "output_type": "stream",
          "text": [
            "\n",
            "Iteration:  77%|███████▋  | 625/807 [07:04<02:04,  1.47it/s]\u001b[A\n",
            "Iteration:  78%|███████▊  | 626/807 [07:04<02:01,  1.49it/s]\u001b[A\n",
            "Iteration:  78%|███████▊  | 627/807 [07:05<01:59,  1.50it/s]\u001b[A\n",
            "Iteration:  78%|███████▊  | 628/807 [07:06<02:04,  1.44it/s]\u001b[A"
          ],
          "name": "stderr"
        },
        {
          "output_type": "stream",
          "text": [
            "\tTraining loss :  1.2971796461731007\n"
          ],
          "name": "stdout"
        },
        {
          "output_type": "stream",
          "text": [
            "\n",
            "Iteration:  78%|███████▊  | 629/807 [07:06<02:01,  1.47it/s]\u001b[A\n",
            "Iteration:  78%|███████▊  | 630/807 [07:07<01:59,  1.48it/s]\u001b[A\n",
            "Iteration:  78%|███████▊  | 631/807 [07:08<01:57,  1.50it/s]\u001b[A\n",
            "Iteration:  78%|███████▊  | 632/807 [07:09<02:01,  1.44it/s]\u001b[A"
          ],
          "name": "stderr"
        },
        {
          "output_type": "stream",
          "text": [
            "\tTraining loss :  1.2946489715500722\n"
          ],
          "name": "stdout"
        },
        {
          "output_type": "stream",
          "text": [
            "\n",
            "Iteration:  78%|███████▊  | 633/807 [07:09<01:58,  1.47it/s]\u001b[A\n",
            "Iteration:  79%|███████▊  | 634/807 [07:10<01:56,  1.49it/s]\u001b[A\n",
            "Iteration:  79%|███████▊  | 635/807 [07:10<01:54,  1.50it/s]\u001b[A\n",
            "Iteration:  79%|███████▉  | 636/807 [07:11<01:58,  1.44it/s]\u001b[A"
          ],
          "name": "stderr"
        },
        {
          "output_type": "stream",
          "text": [
            "\tTraining loss :  1.295888955863017\n"
          ],
          "name": "stdout"
        },
        {
          "output_type": "stream",
          "text": [
            "\n",
            "Iteration:  79%|███████▉  | 637/807 [07:12<01:55,  1.47it/s]\u001b[A\n",
            "Iteration:  79%|███████▉  | 638/807 [07:13<01:54,  1.48it/s]\u001b[A\n",
            "Iteration:  79%|███████▉  | 639/807 [07:13<01:52,  1.50it/s]\u001b[A\n",
            "Iteration:  79%|███████▉  | 640/807 [07:14<01:56,  1.43it/s]\u001b[A"
          ],
          "name": "stderr"
        },
        {
          "output_type": "stream",
          "text": [
            "\tTraining loss :  1.2971913545392453\n"
          ],
          "name": "stdout"
        },
        {
          "output_type": "stream",
          "text": [
            "\n",
            "Iteration:  79%|███████▉  | 641/807 [07:15<01:53,  1.47it/s]\u001b[A\n",
            "Iteration:  80%|███████▉  | 642/807 [07:15<01:51,  1.48it/s]\u001b[A\n",
            "Iteration:  80%|███████▉  | 643/807 [07:16<01:49,  1.50it/s]\u001b[A\n",
            "Iteration:  80%|███████▉  | 644/807 [07:17<01:53,  1.44it/s]\u001b[A"
          ],
          "name": "stderr"
        },
        {
          "output_type": "stream",
          "text": [
            "\tTraining loss :  1.2972114622037603\n"
          ],
          "name": "stdout"
        },
        {
          "output_type": "stream",
          "text": [
            "\n",
            "Iteration:  80%|███████▉  | 645/807 [07:17<01:50,  1.46it/s]\u001b[A\n",
            "Iteration:  80%|████████  | 646/807 [07:18<01:48,  1.48it/s]\u001b[A\n",
            "Iteration:  80%|████████  | 647/807 [07:19<01:47,  1.49it/s]\u001b[A\n",
            "Iteration:  80%|████████  | 648/807 [07:19<01:50,  1.43it/s]\u001b[A"
          ],
          "name": "stderr"
        },
        {
          "output_type": "stream",
          "text": [
            "\tTraining loss :  1.2975540027758221\n"
          ],
          "name": "stdout"
        },
        {
          "output_type": "stream",
          "text": [
            "\n",
            "Iteration:  80%|████████  | 649/807 [07:20<01:47,  1.46it/s]\u001b[A\n",
            "Iteration:  81%|████████  | 650/807 [07:21<01:45,  1.48it/s]\u001b[A\n",
            "Iteration:  81%|████████  | 651/807 [07:21<01:43,  1.50it/s]\u001b[A\n",
            "Iteration:  81%|████████  | 652/807 [07:22<01:47,  1.44it/s]\u001b[A"
          ],
          "name": "stderr"
        },
        {
          "output_type": "stream",
          "text": [
            "\tTraining loss :  1.2993573176166031\n"
          ],
          "name": "stdout"
        },
        {
          "output_type": "stream",
          "text": [
            "\n",
            "Iteration:  81%|████████  | 653/807 [07:23<01:44,  1.47it/s]\u001b[A\n",
            "Iteration:  81%|████████  | 654/807 [07:23<01:42,  1.49it/s]\u001b[A\n",
            "Iteration:  81%|████████  | 655/807 [07:24<01:41,  1.50it/s]\u001b[A\n",
            "Iteration:  81%|████████▏ | 656/807 [07:25<01:44,  1.44it/s]\u001b[A"
          ],
          "name": "stderr"
        },
        {
          "output_type": "stream",
          "text": [
            "\tTraining loss :  1.3001957674760645\n"
          ],
          "name": "stdout"
        },
        {
          "output_type": "stream",
          "text": [
            "\n",
            "Iteration:  81%|████████▏ | 657/807 [07:25<01:42,  1.47it/s]\u001b[A\n",
            "Iteration:  82%|████████▏ | 658/807 [07:26<01:39,  1.49it/s]\u001b[A\n",
            "Iteration:  82%|████████▏ | 659/807 [07:27<01:38,  1.50it/s]\u001b[A\n",
            "Iteration:  82%|████████▏ | 660/807 [07:28<01:41,  1.44it/s]\u001b[A"
          ],
          "name": "stderr"
        },
        {
          "output_type": "stream",
          "text": [
            "\tTraining loss :  1.3028668359373554\n"
          ],
          "name": "stdout"
        },
        {
          "output_type": "stream",
          "text": [
            "\n",
            "Iteration:  82%|████████▏ | 661/807 [07:28<01:39,  1.46it/s]\u001b[A\n",
            "Iteration:  82%|████████▏ | 662/807 [07:29<01:37,  1.48it/s]\u001b[A\n",
            "Iteration:  82%|████████▏ | 663/807 [07:29<01:35,  1.50it/s]\u001b[A\n",
            "Iteration:  82%|████████▏ | 664/807 [07:30<01:39,  1.44it/s]\u001b[A"
          ],
          "name": "stderr"
        },
        {
          "output_type": "stream",
          "text": [
            "\tTraining loss :  1.302823136100568\n"
          ],
          "name": "stdout"
        },
        {
          "output_type": "stream",
          "text": [
            "\n",
            "Iteration:  82%|████████▏ | 665/807 [07:31<01:36,  1.47it/s]\u001b[A\n",
            "Iteration:  83%|████████▎ | 666/807 [07:32<01:34,  1.48it/s]\u001b[A\n",
            "Iteration:  83%|████████▎ | 667/807 [07:32<01:33,  1.50it/s]\u001b[A\n",
            "Iteration:  83%|████████▎ | 668/807 [07:33<01:36,  1.44it/s]\u001b[A"
          ],
          "name": "stderr"
        },
        {
          "output_type": "stream",
          "text": [
            "\tTraining loss :  1.3032117033611514\n"
          ],
          "name": "stdout"
        },
        {
          "output_type": "stream",
          "text": [
            "\n",
            "Iteration:  83%|████████▎ | 669/807 [07:34<01:34,  1.46it/s]\u001b[A\n",
            "Iteration:  83%|████████▎ | 670/807 [07:34<01:32,  1.49it/s]\u001b[A\n",
            "Iteration:  83%|████████▎ | 671/807 [07:35<01:30,  1.50it/s]\u001b[A\n",
            "Iteration:  83%|████████▎ | 672/807 [07:36<01:33,  1.44it/s]\u001b[A"
          ],
          "name": "stderr"
        },
        {
          "output_type": "stream",
          "text": [
            "\tTraining loss :  1.3023494371168671\n"
          ],
          "name": "stdout"
        },
        {
          "output_type": "stream",
          "text": [
            "\n",
            "Iteration:  83%|████████▎ | 673/807 [07:36<01:31,  1.47it/s]\u001b[A\n",
            "Iteration:  84%|████████▎ | 674/807 [07:37<01:29,  1.48it/s]\u001b[A\n",
            "Iteration:  84%|████████▎ | 675/807 [07:38<01:27,  1.50it/s]\u001b[A\n",
            "Iteration:  84%|████████▍ | 676/807 [07:38<01:30,  1.44it/s]\u001b[A"
          ],
          "name": "stderr"
        },
        {
          "output_type": "stream",
          "text": [
            "\tTraining loss :  1.3036723183633308\n"
          ],
          "name": "stdout"
        },
        {
          "output_type": "stream",
          "text": [
            "\n",
            "Iteration:  84%|████████▍ | 677/807 [07:39<01:28,  1.47it/s]\u001b[A\n",
            "Iteration:  84%|████████▍ | 678/807 [07:40<01:26,  1.49it/s]\u001b[A\n",
            "Iteration:  84%|████████▍ | 679/807 [07:40<01:25,  1.50it/s]\u001b[A\n",
            "Iteration:  84%|████████▍ | 680/807 [07:41<01:28,  1.43it/s]\u001b[A"
          ],
          "name": "stderr"
        },
        {
          "output_type": "stream",
          "text": [
            "\tTraining loss :  1.3030056063743198\n"
          ],
          "name": "stdout"
        },
        {
          "output_type": "stream",
          "text": [
            "\n",
            "Iteration:  84%|████████▍ | 681/807 [07:42<01:25,  1.47it/s]\u001b[A\n",
            "Iteration:  85%|████████▍ | 682/807 [07:42<01:24,  1.48it/s]\u001b[A\n",
            "Iteration:  85%|████████▍ | 683/807 [07:43<01:22,  1.50it/s]\u001b[A\n",
            "Iteration:  85%|████████▍ | 684/807 [07:44<01:25,  1.44it/s]\u001b[A"
          ],
          "name": "stderr"
        },
        {
          "output_type": "stream",
          "text": [
            "\tTraining loss :  1.3036931042957027\n"
          ],
          "name": "stdout"
        },
        {
          "output_type": "stream",
          "text": [
            "\n",
            "Iteration:  85%|████████▍ | 685/807 [07:44<01:23,  1.47it/s]\u001b[A\n",
            "Iteration:  85%|████████▌ | 686/807 [07:45<01:21,  1.49it/s]\u001b[A\n",
            "Iteration:  85%|████████▌ | 687/807 [07:46<01:19,  1.51it/s]\u001b[A\n",
            "Iteration:  85%|████████▌ | 688/807 [07:47<01:22,  1.44it/s]\u001b[A"
          ],
          "name": "stderr"
        },
        {
          "output_type": "stream",
          "text": [
            "\tTraining loss :  1.3018383640189504\n"
          ],
          "name": "stdout"
        },
        {
          "output_type": "stream",
          "text": [
            "\n",
            "Iteration:  85%|████████▌ | 689/807 [07:47<01:20,  1.47it/s]\u001b[A\n",
            "Iteration:  86%|████████▌ | 690/807 [07:48<01:18,  1.49it/s]\u001b[A\n",
            "Iteration:  86%|████████▌ | 691/807 [07:48<01:17,  1.50it/s]\u001b[A\n",
            "Iteration:  86%|████████▌ | 692/807 [07:49<01:19,  1.44it/s]\u001b[A"
          ],
          "name": "stderr"
        },
        {
          "output_type": "stream",
          "text": [
            "\tTraining loss :  1.3015232391095575\n"
          ],
          "name": "stdout"
        },
        {
          "output_type": "stream",
          "text": [
            "\n",
            "Iteration:  86%|████████▌ | 693/807 [07:50<01:17,  1.47it/s]\u001b[A\n",
            "Iteration:  86%|████████▌ | 694/807 [07:51<01:15,  1.49it/s]\u001b[A\n",
            "Iteration:  86%|████████▌ | 695/807 [07:51<01:14,  1.50it/s]\u001b[A\n",
            "Iteration:  86%|████████▌ | 696/807 [07:52<01:17,  1.44it/s]\u001b[A"
          ],
          "name": "stderr"
        },
        {
          "output_type": "stream",
          "text": [
            "\tTraining loss :  1.3002365160433726\n"
          ],
          "name": "stdout"
        },
        {
          "output_type": "stream",
          "text": [
            "\n",
            "Iteration:  86%|████████▋ | 697/807 [07:53<01:15,  1.47it/s]\u001b[A\n",
            "Iteration:  86%|████████▋ | 698/807 [07:53<01:13,  1.49it/s]\u001b[A\n",
            "Iteration:  87%|████████▋ | 699/807 [07:54<01:11,  1.50it/s]\u001b[A\n",
            "Iteration:  87%|████████▋ | 700/807 [07:55<01:14,  1.44it/s]\u001b[A"
          ],
          "name": "stderr"
        },
        {
          "output_type": "stream",
          "text": [
            "\tTraining loss :  1.3013974088430404\n"
          ],
          "name": "stdout"
        },
        {
          "output_type": "stream",
          "text": [
            "\n",
            "Iteration:  87%|████████▋ | 701/807 [07:55<01:12,  1.47it/s]\u001b[A\n",
            "Iteration:  87%|████████▋ | 702/807 [07:56<01:10,  1.48it/s]\u001b[A\n",
            "Iteration:  87%|████████▋ | 703/807 [07:57<01:09,  1.50it/s]\u001b[A\n",
            "Iteration:  87%|████████▋ | 704/807 [07:57<01:11,  1.43it/s]\u001b[A"
          ],
          "name": "stderr"
        },
        {
          "output_type": "stream",
          "text": [
            "\tTraining loss :  1.3024567710235715\n"
          ],
          "name": "stdout"
        },
        {
          "output_type": "stream",
          "text": [
            "\n",
            "Iteration:  87%|████████▋ | 705/807 [07:58<01:09,  1.46it/s]\u001b[A\n",
            "Iteration:  87%|████████▋ | 706/807 [07:59<01:08,  1.48it/s]\u001b[A\n",
            "Iteration:  88%|████████▊ | 707/807 [07:59<01:06,  1.50it/s]\u001b[A\n",
            "Iteration:  88%|████████▊ | 708/807 [08:00<01:08,  1.44it/s]\u001b[A"
          ],
          "name": "stderr"
        },
        {
          "output_type": "stream",
          "text": [
            "\tTraining loss :  1.3012715245539186\n"
          ],
          "name": "stdout"
        },
        {
          "output_type": "stream",
          "text": [
            "\n",
            "Iteration:  88%|████████▊ | 709/807 [08:01<01:06,  1.47it/s]\u001b[A\n",
            "Iteration:  88%|████████▊ | 710/807 [08:01<01:05,  1.49it/s]\u001b[A\n",
            "Iteration:  88%|████████▊ | 711/807 [08:02<01:03,  1.51it/s]\u001b[A\n",
            "Iteration:  88%|████████▊ | 712/807 [08:03<01:05,  1.44it/s]\u001b[A"
          ],
          "name": "stderr"
        },
        {
          "output_type": "stream",
          "text": [
            "\tTraining loss :  1.3002214405811234\n"
          ],
          "name": "stdout"
        },
        {
          "output_type": "stream",
          "text": [
            "\n",
            "Iteration:  88%|████████▊ | 713/807 [08:03<01:04,  1.47it/s]\u001b[A\n",
            "Iteration:  88%|████████▊ | 714/807 [08:04<01:02,  1.49it/s]\u001b[A\n",
            "Iteration:  89%|████████▊ | 715/807 [08:05<01:01,  1.50it/s]\u001b[A\n",
            "Iteration:  89%|████████▊ | 716/807 [08:06<01:03,  1.44it/s]\u001b[A"
          ],
          "name": "stderr"
        },
        {
          "output_type": "stream",
          "text": [
            "\tTraining loss :  1.2994822157994328\n"
          ],
          "name": "stdout"
        },
        {
          "output_type": "stream",
          "text": [
            "\n",
            "Iteration:  89%|████████▉ | 717/807 [08:06<01:01,  1.47it/s]\u001b[A\n",
            "Iteration:  89%|████████▉ | 718/807 [08:07<00:59,  1.48it/s]\u001b[A\n",
            "Iteration:  89%|████████▉ | 719/807 [08:08<00:58,  1.50it/s]\u001b[A\n",
            "Iteration:  89%|████████▉ | 720/807 [08:08<01:00,  1.44it/s]\u001b[A"
          ],
          "name": "stderr"
        },
        {
          "output_type": "stream",
          "text": [
            "\tTraining loss :  1.2985251187450355\n"
          ],
          "name": "stdout"
        },
        {
          "output_type": "stream",
          "text": [
            "\n",
            "Iteration:  89%|████████▉ | 721/807 [08:09<00:58,  1.47it/s]\u001b[A\n",
            "Iteration:  89%|████████▉ | 722/807 [08:10<00:57,  1.49it/s]\u001b[A\n",
            "Iteration:  90%|████████▉ | 723/807 [08:10<00:55,  1.50it/s]\u001b[A\n",
            "Iteration:  90%|████████▉ | 724/807 [08:11<00:57,  1.44it/s]\u001b[A"
          ],
          "name": "stderr"
        },
        {
          "output_type": "stream",
          "text": [
            "\tTraining loss :  1.296929307775932\n"
          ],
          "name": "stdout"
        },
        {
          "output_type": "stream",
          "text": [
            "\n",
            "Iteration:  90%|████████▉ | 725/807 [08:12<00:55,  1.47it/s]\u001b[A\n",
            "Iteration:  90%|████████▉ | 726/807 [08:12<00:54,  1.49it/s]\u001b[A\n",
            "Iteration:  90%|█████████ | 727/807 [08:13<00:53,  1.50it/s]\u001b[A\n",
            "Iteration:  90%|█████████ | 728/807 [08:14<00:55,  1.43it/s]\u001b[A"
          ],
          "name": "stderr"
        },
        {
          "output_type": "stream",
          "text": [
            "\tTraining loss :  1.2970956995018892\n"
          ],
          "name": "stdout"
        },
        {
          "output_type": "stream",
          "text": [
            "\n",
            "Iteration:  90%|█████████ | 729/807 [08:14<00:53,  1.47it/s]\u001b[A\n",
            "Iteration:  90%|█████████ | 730/807 [08:15<00:51,  1.49it/s]\u001b[A\n",
            "Iteration:  91%|█████████ | 731/807 [08:16<00:50,  1.50it/s]\u001b[A\n",
            "Iteration:  91%|█████████ | 732/807 [08:16<00:52,  1.44it/s]\u001b[A"
          ],
          "name": "stderr"
        },
        {
          "output_type": "stream",
          "text": [
            "\tTraining loss :  1.2967320696496574\n"
          ],
          "name": "stdout"
        },
        {
          "output_type": "stream",
          "text": [
            "\n",
            "Iteration:  91%|█████████ | 733/807 [08:17<00:50,  1.47it/s]\u001b[A\n",
            "Iteration:  91%|█████████ | 734/807 [08:18<00:49,  1.49it/s]\u001b[A\n",
            "Iteration:  91%|█████████ | 735/807 [08:18<00:47,  1.51it/s]\u001b[A\n",
            "Iteration:  91%|█████████ | 736/807 [08:19<00:49,  1.44it/s]\u001b[A"
          ],
          "name": "stderr"
        },
        {
          "output_type": "stream",
          "text": [
            "\tTraining loss :  1.2975676026924148\n"
          ],
          "name": "stdout"
        },
        {
          "output_type": "stream",
          "text": [
            "\n",
            "Iteration:  91%|█████████▏| 737/807 [08:20<00:47,  1.47it/s]\u001b[A\n",
            "Iteration:  91%|█████████▏| 738/807 [08:20<00:46,  1.49it/s]\u001b[A\n",
            "Iteration:  92%|█████████▏| 739/807 [08:21<00:45,  1.51it/s]\u001b[A\n",
            "Iteration:  92%|█████████▏| 740/807 [08:22<00:46,  1.44it/s]\u001b[A"
          ],
          "name": "stderr"
        },
        {
          "output_type": "stream",
          "text": [
            "\tTraining loss :  1.296214960112765\n"
          ],
          "name": "stdout"
        },
        {
          "output_type": "stream",
          "text": [
            "\n",
            "Iteration:  92%|█████████▏| 741/807 [08:22<00:44,  1.47it/s]\u001b[A\n",
            "Iteration:  92%|█████████▏| 742/807 [08:23<00:43,  1.49it/s]\u001b[A\n",
            "Iteration:  92%|█████████▏| 743/807 [08:24<00:42,  1.50it/s]\u001b[A\n",
            "Iteration:  92%|█████████▏| 744/807 [08:25<00:43,  1.44it/s]\u001b[A"
          ],
          "name": "stderr"
        },
        {
          "output_type": "stream",
          "text": [
            "\tTraining loss :  1.2958450891397975\n"
          ],
          "name": "stdout"
        },
        {
          "output_type": "stream",
          "text": [
            "\n",
            "Iteration:  92%|█████████▏| 745/807 [08:25<00:42,  1.47it/s]\u001b[A\n",
            "Iteration:  92%|█████████▏| 746/807 [08:26<00:40,  1.49it/s]\u001b[A\n",
            "Iteration:  93%|█████████▎| 747/807 [08:26<00:39,  1.50it/s]\u001b[A\n",
            "Iteration:  93%|█████████▎| 748/807 [08:27<00:41,  1.44it/s]\u001b[A"
          ],
          "name": "stderr"
        },
        {
          "output_type": "stream",
          "text": [
            "\tTraining loss :  1.2945141676355174\n"
          ],
          "name": "stdout"
        },
        {
          "output_type": "stream",
          "text": [
            "\n",
            "Iteration:  93%|█████████▎| 749/807 [08:28<00:39,  1.47it/s]\u001b[A\n",
            "Iteration:  93%|█████████▎| 750/807 [08:29<00:38,  1.49it/s]\u001b[A\n",
            "Iteration:  93%|█████████▎| 751/807 [08:29<00:37,  1.50it/s]\u001b[A\n",
            "Iteration:  93%|█████████▎| 752/807 [08:30<00:38,  1.44it/s]\u001b[A"
          ],
          "name": "stderr"
        },
        {
          "output_type": "stream",
          "text": [
            "\tTraining loss :  1.2931898804975952\n"
          ],
          "name": "stdout"
        },
        {
          "output_type": "stream",
          "text": [
            "\n",
            "Iteration:  93%|█████████▎| 753/807 [08:31<00:36,  1.47it/s]\u001b[A\n",
            "Iteration:  93%|█████████▎| 754/807 [08:31<00:35,  1.48it/s]\u001b[A\n",
            "Iteration:  94%|█████████▎| 755/807 [08:32<00:34,  1.50it/s]\u001b[A\n",
            "Iteration:  94%|█████████▎| 756/807 [08:33<00:35,  1.44it/s]\u001b[A"
          ],
          "name": "stderr"
        },
        {
          "output_type": "stream",
          "text": [
            "\tTraining loss :  1.292885025697095\n"
          ],
          "name": "stdout"
        },
        {
          "output_type": "stream",
          "text": [
            "\n",
            "Iteration:  94%|█████████▍| 757/807 [08:33<00:34,  1.47it/s]\u001b[A\n",
            "Iteration:  94%|█████████▍| 758/807 [08:34<00:33,  1.48it/s]\u001b[A\n",
            "Iteration:  94%|█████████▍| 759/807 [08:35<00:31,  1.50it/s]\u001b[A\n",
            "Iteration:  94%|█████████▍| 760/807 [08:35<00:32,  1.44it/s]\u001b[A"
          ],
          "name": "stderr"
        },
        {
          "output_type": "stream",
          "text": [
            "\tTraining loss :  1.293486438338694\n"
          ],
          "name": "stdout"
        },
        {
          "output_type": "stream",
          "text": [
            "\n",
            "Iteration:  94%|█████████▍| 761/807 [08:36<00:31,  1.47it/s]\u001b[A\n",
            "Iteration:  94%|█████████▍| 762/807 [08:37<00:30,  1.49it/s]\u001b[A\n",
            "Iteration:  95%|█████████▍| 763/807 [08:37<00:29,  1.50it/s]\u001b[A\n",
            "Iteration:  95%|█████████▍| 764/807 [08:38<00:29,  1.44it/s]\u001b[A"
          ],
          "name": "stderr"
        },
        {
          "output_type": "stream",
          "text": [
            "\tTraining loss :  1.2969358629347143\n"
          ],
          "name": "stdout"
        },
        {
          "output_type": "stream",
          "text": [
            "\n",
            "Iteration:  95%|█████████▍| 765/807 [08:39<00:28,  1.46it/s]\u001b[A\n",
            "Iteration:  95%|█████████▍| 766/807 [08:39<00:27,  1.49it/s]\u001b[A\n",
            "Iteration:  95%|█████████▌| 767/807 [08:40<00:26,  1.50it/s]\u001b[A\n",
            "Iteration:  95%|█████████▌| 768/807 [08:41<00:27,  1.44it/s]\u001b[A"
          ],
          "name": "stderr"
        },
        {
          "output_type": "stream",
          "text": [
            "\tTraining loss :  1.297736757939371\n"
          ],
          "name": "stdout"
        },
        {
          "output_type": "stream",
          "text": [
            "\n",
            "Iteration:  95%|█████████▌| 769/807 [08:41<00:25,  1.47it/s]\u001b[A\n",
            "Iteration:  95%|█████████▌| 770/807 [08:42<00:24,  1.49it/s]\u001b[A\n",
            "Iteration:  96%|█████████▌| 771/807 [08:43<00:23,  1.50it/s]\u001b[A\n",
            "Iteration:  96%|█████████▌| 772/807 [08:44<00:24,  1.44it/s]\u001b[A"
          ],
          "name": "stderr"
        },
        {
          "output_type": "stream",
          "text": [
            "\tTraining loss :  1.299036274186379\n"
          ],
          "name": "stdout"
        },
        {
          "output_type": "stream",
          "text": [
            "\n",
            "Iteration:  96%|█████████▌| 773/807 [08:44<00:23,  1.47it/s]\u001b[A\n",
            "Iteration:  96%|█████████▌| 774/807 [08:45<00:22,  1.49it/s]\u001b[A\n",
            "Iteration:  96%|█████████▌| 775/807 [08:45<00:21,  1.51it/s]\u001b[A\n",
            "Iteration:  96%|█████████▌| 776/807 [08:46<00:21,  1.45it/s]\u001b[A"
          ],
          "name": "stderr"
        },
        {
          "output_type": "stream",
          "text": [
            "\tTraining loss :  1.2984787534115856\n"
          ],
          "name": "stdout"
        },
        {
          "output_type": "stream",
          "text": [
            "\n",
            "Iteration:  96%|█████████▋| 777/807 [08:47<00:20,  1.48it/s]\u001b[A\n",
            "Iteration:  96%|█████████▋| 778/807 [08:48<00:19,  1.49it/s]\u001b[A\n",
            "Iteration:  97%|█████████▋| 779/807 [08:48<00:18,  1.50it/s]\u001b[A\n",
            "Iteration:  97%|█████████▋| 780/807 [08:49<00:18,  1.44it/s]\u001b[A"
          ],
          "name": "stderr"
        },
        {
          "output_type": "stream",
          "text": [
            "\tTraining loss :  1.2972133515354916\n"
          ],
          "name": "stdout"
        },
        {
          "output_type": "stream",
          "text": [
            "\n",
            "Iteration:  97%|█████████▋| 781/807 [08:50<00:17,  1.47it/s]\u001b[A\n",
            "Iteration:  97%|█████████▋| 782/807 [08:50<00:16,  1.49it/s]\u001b[A\n",
            "Iteration:  97%|█████████▋| 783/807 [08:51<00:15,  1.51it/s]\u001b[A\n",
            "Iteration:  97%|█████████▋| 784/807 [08:52<00:15,  1.44it/s]\u001b[A"
          ],
          "name": "stderr"
        },
        {
          "output_type": "stream",
          "text": [
            "\tTraining loss :  1.2983263085919374\n"
          ],
          "name": "stdout"
        },
        {
          "output_type": "stream",
          "text": [
            "\n",
            "Iteration:  97%|█████████▋| 785/807 [08:52<00:14,  1.47it/s]\u001b[A\n",
            "Iteration:  97%|█████████▋| 786/807 [08:53<00:14,  1.49it/s]\u001b[A\n",
            "Iteration:  98%|█████████▊| 787/807 [08:54<00:13,  1.50it/s]\u001b[A\n",
            "Iteration:  98%|█████████▊| 788/807 [08:54<00:13,  1.44it/s]\u001b[A"
          ],
          "name": "stderr"
        },
        {
          "output_type": "stream",
          "text": [
            "\tTraining loss :  1.2969120155055511\n"
          ],
          "name": "stdout"
        },
        {
          "output_type": "stream",
          "text": [
            "\n",
            "Iteration:  98%|█████████▊| 789/807 [08:55<00:12,  1.46it/s]\u001b[A\n",
            "Iteration:  98%|█████████▊| 790/807 [08:56<00:11,  1.49it/s]\u001b[A\n",
            "Iteration:  98%|█████████▊| 791/807 [08:56<00:10,  1.50it/s]\u001b[A\n",
            "Iteration:  98%|█████████▊| 792/807 [08:57<00:10,  1.44it/s]\u001b[A"
          ],
          "name": "stderr"
        },
        {
          "output_type": "stream",
          "text": [
            "\tTraining loss :  1.2972370151693773\n"
          ],
          "name": "stdout"
        },
        {
          "output_type": "stream",
          "text": [
            "\n",
            "Iteration:  98%|█████████▊| 793/807 [08:58<00:09,  1.47it/s]\u001b[A\n",
            "Iteration:  98%|█████████▊| 794/807 [08:58<00:08,  1.49it/s]\u001b[A\n",
            "Iteration:  99%|█████████▊| 795/807 [08:59<00:07,  1.51it/s]\u001b[A\n",
            "Iteration:  99%|█████████▊| 796/807 [09:00<00:07,  1.44it/s]\u001b[A"
          ],
          "name": "stderr"
        },
        {
          "output_type": "stream",
          "text": [
            "\tTraining loss :  1.2960586851490803\n"
          ],
          "name": "stdout"
        },
        {
          "output_type": "stream",
          "text": [
            "\n",
            "Iteration:  99%|█████████▉| 797/807 [09:00<00:06,  1.47it/s]\u001b[A\n",
            "Iteration:  99%|█████████▉| 798/807 [09:01<00:06,  1.49it/s]\u001b[A\n",
            "Iteration:  99%|█████████▉| 799/807 [09:02<00:05,  1.50it/s]\u001b[A\n",
            "Iteration:  99%|█████████▉| 800/807 [09:03<00:04,  1.44it/s]\u001b[A"
          ],
          "name": "stderr"
        },
        {
          "output_type": "stream",
          "text": [
            "\tTraining loss :  1.2995129146799445\n"
          ],
          "name": "stdout"
        },
        {
          "output_type": "stream",
          "text": [
            "\n",
            "Iteration:  99%|█████████▉| 801/807 [09:03<00:04,  1.47it/s]\u001b[A\n",
            "Iteration:  99%|█████████▉| 802/807 [09:04<00:03,  1.49it/s]\u001b[A\n",
            "Iteration: 100%|█████████▉| 803/807 [09:04<00:02,  1.50it/s]\u001b[A\n",
            "Iteration: 100%|█████████▉| 804/807 [09:05<00:02,  1.44it/s]\u001b[A"
          ],
          "name": "stderr"
        },
        {
          "output_type": "stream",
          "text": [
            "\tTraining loss :  1.2994454139426572\n"
          ],
          "name": "stdout"
        },
        {
          "output_type": "stream",
          "text": [
            "\n",
            "Iteration: 100%|█████████▉| 805/807 [09:06<00:01,  1.46it/s]\u001b[A\n",
            "Iteration: 100%|█████████▉| 806/807 [09:07<00:00,  1.48it/s]\u001b[A\n",
            "Iteration: 100%|██████████| 807/807 [09:07<00:00,  1.47it/s]\n",
            "Epoch:  67%|██████▋   | 2/3 [18:08<09:02, 542.59s/it]\n",
            "Iteration:   0%|          | 0/807 [00:00<?, ?it/s]\u001b[A\n",
            "Iteration:   0%|          | 1/807 [00:00<08:41,  1.54it/s]\u001b[A\n",
            "Iteration:   0%|          | 2/807 [00:01<08:41,  1.54it/s]\u001b[A\n",
            "Iteration:   0%|          | 3/807 [00:01<08:40,  1.54it/s]\u001b[A\n",
            "Iteration:   0%|          | 4/807 [00:02<09:08,  1.46it/s]\u001b[A"
          ],
          "name": "stderr"
        },
        {
          "output_type": "stream",
          "text": [
            "\tTraining loss :  1.937175691127777\n"
          ],
          "name": "stdout"
        },
        {
          "output_type": "stream",
          "text": [
            "\n",
            "Iteration:   1%|          | 5/807 [00:03<09:00,  1.49it/s]\u001b[A\n",
            "Iteration:   1%|          | 6/807 [00:04<08:54,  1.50it/s]\u001b[A\n",
            "Iteration:   1%|          | 7/807 [00:04<08:49,  1.51it/s]\u001b[A\n",
            "Iteration:   1%|          | 8/807 [00:05<09:11,  1.45it/s]\u001b[A"
          ],
          "name": "stderr"
        },
        {
          "output_type": "stream",
          "text": [
            "\tTraining loss :  1.582140825688839\n"
          ],
          "name": "stdout"
        },
        {
          "output_type": "stream",
          "text": [
            "\n",
            "Iteration:   1%|          | 9/807 [00:06<09:00,  1.48it/s]\u001b[A\n",
            "Iteration:   1%|          | 10/807 [00:06<08:53,  1.49it/s]\u001b[A\n",
            "Iteration:   1%|▏         | 11/807 [00:07<08:49,  1.50it/s]\u001b[A\n",
            "Iteration:   1%|▏         | 12/807 [00:08<09:15,  1.43it/s]\u001b[A"
          ],
          "name": "stderr"
        },
        {
          "output_type": "stream",
          "text": [
            "\tTraining loss :  1.4924138536055882\n"
          ],
          "name": "stdout"
        },
        {
          "output_type": "stream",
          "text": [
            "\n",
            "Iteration:   2%|▏         | 13/807 [00:08<09:05,  1.46it/s]\u001b[A\n",
            "Iteration:   2%|▏         | 14/807 [00:09<08:56,  1.48it/s]\u001b[A\n",
            "Iteration:   2%|▏         | 15/807 [00:10<08:49,  1.50it/s]\u001b[A\n",
            "Iteration:   2%|▏         | 16/807 [00:10<09:10,  1.44it/s]\u001b[A"
          ],
          "name": "stderr"
        },
        {
          "output_type": "stream",
          "text": [
            "\tTraining loss :  1.470871690660715\n"
          ],
          "name": "stdout"
        },
        {
          "output_type": "stream",
          "text": [
            "\n",
            "Iteration:   2%|▏         | 17/807 [00:11<08:59,  1.46it/s]\u001b[A\n",
            "Iteration:   2%|▏         | 18/807 [00:12<08:52,  1.48it/s]\u001b[A\n",
            "Iteration:   2%|▏         | 19/807 [00:12<08:44,  1.50it/s]\u001b[A\n",
            "Iteration:   2%|▏         | 20/807 [00:13<09:06,  1.44it/s]\u001b[A"
          ],
          "name": "stderr"
        },
        {
          "output_type": "stream",
          "text": [
            "\tTraining loss :  1.4113427072763443\n"
          ],
          "name": "stdout"
        },
        {
          "output_type": "stream",
          "text": [
            "\n",
            "Iteration:   3%|▎         | 21/807 [00:14<08:56,  1.46it/s]\u001b[A\n",
            "Iteration:   3%|▎         | 22/807 [00:14<08:48,  1.49it/s]\u001b[A\n",
            "Iteration:   3%|▎         | 23/807 [00:15<08:41,  1.50it/s]\u001b[A\n",
            "Iteration:   3%|▎         | 24/807 [00:16<09:02,  1.44it/s]\u001b[A"
          ],
          "name": "stderr"
        },
        {
          "output_type": "stream",
          "text": [
            "\tTraining loss :  1.3812228664755821\n"
          ],
          "name": "stdout"
        },
        {
          "output_type": "stream",
          "text": [
            "\n",
            "Iteration:   3%|▎         | 25/807 [00:16<08:51,  1.47it/s]\u001b[A\n",
            "Iteration:   3%|▎         | 26/807 [00:17<08:44,  1.49it/s]\u001b[A\n",
            "Iteration:   3%|▎         | 27/807 [00:18<08:39,  1.50it/s]\u001b[A\n",
            "Iteration:   3%|▎         | 28/807 [00:19<09:01,  1.44it/s]\u001b[A"
          ],
          "name": "stderr"
        },
        {
          "output_type": "stream",
          "text": [
            "\tTraining loss :  1.346449343221528\n"
          ],
          "name": "stdout"
        },
        {
          "output_type": "stream",
          "text": [
            "\n",
            "Iteration:   4%|▎         | 29/807 [00:19<08:50,  1.47it/s]\u001b[A\n",
            "Iteration:   4%|▎         | 30/807 [00:20<08:44,  1.48it/s]\u001b[A\n",
            "Iteration:   4%|▍         | 31/807 [00:20<08:37,  1.50it/s]\u001b[A\n",
            "Iteration:   4%|▍         | 32/807 [00:21<08:59,  1.44it/s]\u001b[A"
          ],
          "name": "stderr"
        },
        {
          "output_type": "stream",
          "text": [
            "\tTraining loss :  1.350021967664361\n"
          ],
          "name": "stdout"
        },
        {
          "output_type": "stream",
          "text": [
            "\n",
            "Iteration:   4%|▍         | 33/807 [00:22<08:49,  1.46it/s]\u001b[A\n",
            "Iteration:   4%|▍         | 34/807 [00:23<08:41,  1.48it/s]\u001b[A\n",
            "Iteration:   4%|▍         | 35/807 [00:23<08:36,  1.50it/s]\u001b[A\n",
            "Iteration:   4%|▍         | 36/807 [00:24<08:57,  1.43it/s]\u001b[A"
          ],
          "name": "stderr"
        },
        {
          "output_type": "stream",
          "text": [
            "\tTraining loss :  1.3507117943631277\n"
          ],
          "name": "stdout"
        },
        {
          "output_type": "stream",
          "text": [
            "\n",
            "Iteration:   5%|▍         | 37/807 [00:25<08:44,  1.47it/s]\u001b[A\n",
            "Iteration:   5%|▍         | 38/807 [00:25<08:38,  1.48it/s]\u001b[A\n",
            "Iteration:   5%|▍         | 39/807 [00:26<08:31,  1.50it/s]\u001b[A\n",
            "Iteration:   5%|▍         | 40/807 [00:27<08:53,  1.44it/s]\u001b[A"
          ],
          "name": "stderr"
        },
        {
          "output_type": "stream",
          "text": [
            "\tTraining loss :  1.3401042893528938\n"
          ],
          "name": "stdout"
        },
        {
          "output_type": "stream",
          "text": [
            "\n",
            "Iteration:   5%|▌         | 41/807 [00:27<08:42,  1.47it/s]\u001b[A\n",
            "Iteration:   5%|▌         | 42/807 [00:28<08:35,  1.49it/s]\u001b[A\n",
            "Iteration:   5%|▌         | 43/807 [00:29<08:29,  1.50it/s]\u001b[A\n",
            "Iteration:   5%|▌         | 44/807 [00:29<08:53,  1.43it/s]\u001b[A"
          ],
          "name": "stderr"
        },
        {
          "output_type": "stream",
          "text": [
            "\tTraining loss :  1.3653362135995517\n"
          ],
          "name": "stdout"
        },
        {
          "output_type": "stream",
          "text": [
            "\n",
            "Iteration:   6%|▌         | 45/807 [00:30<08:39,  1.47it/s]\u001b[A\n",
            "Iteration:   6%|▌         | 46/807 [00:31<08:33,  1.48it/s]\u001b[A\n",
            "Iteration:   6%|▌         | 47/807 [00:31<08:27,  1.50it/s]\u001b[A\n",
            "Iteration:   6%|▌         | 48/807 [00:32<08:50,  1.43it/s]\u001b[A"
          ],
          "name": "stderr"
        },
        {
          "output_type": "stream",
          "text": [
            "\tTraining loss :  1.3660147450864315\n"
          ],
          "name": "stdout"
        },
        {
          "output_type": "stream",
          "text": [
            "\n",
            "Iteration:   6%|▌         | 49/807 [00:33<08:38,  1.46it/s]\u001b[A\n",
            "Iteration:   6%|▌         | 50/807 [00:33<08:31,  1.48it/s]\u001b[A\n",
            "Iteration:   6%|▋         | 51/807 [00:34<08:24,  1.50it/s]\u001b[A\n",
            "Iteration:   6%|▋         | 52/807 [00:35<08:46,  1.43it/s]\u001b[A"
          ],
          "name": "stderr"
        },
        {
          "output_type": "stream",
          "text": [
            "\tTraining loss :  1.3475929074562514\n"
          ],
          "name": "stdout"
        },
        {
          "output_type": "stream",
          "text": [
            "\n",
            "Iteration:   7%|▋         | 53/807 [00:35<08:34,  1.47it/s]\u001b[A\n",
            "Iteration:   7%|▋         | 54/807 [00:36<08:27,  1.48it/s]\u001b[A\n",
            "Iteration:   7%|▋         | 55/807 [00:37<08:21,  1.50it/s]\u001b[A\n",
            "Iteration:   7%|▋         | 56/807 [00:38<08:43,  1.43it/s]\u001b[A"
          ],
          "name": "stderr"
        },
        {
          "output_type": "stream",
          "text": [
            "\tTraining loss :  1.326062879392079\n"
          ],
          "name": "stdout"
        },
        {
          "output_type": "stream",
          "text": [
            "\n",
            "Iteration:   7%|▋         | 57/807 [00:38<08:33,  1.46it/s]\u001b[A\n",
            "Iteration:   7%|▋         | 58/807 [00:39<08:25,  1.48it/s]\u001b[A\n",
            "Iteration:   7%|▋         | 59/807 [00:40<08:18,  1.50it/s]\u001b[A\n",
            "Iteration:   7%|▋         | 60/807 [00:40<08:40,  1.44it/s]\u001b[A"
          ],
          "name": "stderr"
        },
        {
          "output_type": "stream",
          "text": [
            "\tTraining loss :  1.3355980644623437\n"
          ],
          "name": "stdout"
        },
        {
          "output_type": "stream",
          "text": [
            "\n",
            "Iteration:   8%|▊         | 61/807 [00:41<08:28,  1.47it/s]\u001b[A\n",
            "Iteration:   8%|▊         | 62/807 [00:42<08:21,  1.48it/s]\u001b[A\n",
            "Iteration:   8%|▊         | 63/807 [00:42<08:16,  1.50it/s]\u001b[A\n",
            "Iteration:   8%|▊         | 64/807 [00:43<08:37,  1.44it/s]\u001b[A"
          ],
          "name": "stderr"
        },
        {
          "output_type": "stream",
          "text": [
            "\tTraining loss :  1.3097493192180991\n"
          ],
          "name": "stdout"
        },
        {
          "output_type": "stream",
          "text": [
            "\n",
            "Iteration:   8%|▊         | 65/807 [00:44<08:27,  1.46it/s]\u001b[A\n",
            "Iteration:   8%|▊         | 66/807 [00:44<08:19,  1.48it/s]\u001b[A\n",
            "Iteration:   8%|▊         | 67/807 [00:45<08:14,  1.50it/s]\u001b[A\n",
            "Iteration:   8%|▊         | 68/807 [00:46<08:35,  1.43it/s]\u001b[A"
          ],
          "name": "stderr"
        },
        {
          "output_type": "stream",
          "text": [
            "\tTraining loss :  1.3021893580170238\n"
          ],
          "name": "stdout"
        },
        {
          "output_type": "stream",
          "text": [
            "\n",
            "Iteration:   9%|▊         | 69/807 [00:46<08:24,  1.46it/s]\u001b[A\n",
            "Iteration:   9%|▊         | 70/807 [00:47<08:17,  1.48it/s]\u001b[A\n",
            "Iteration:   9%|▉         | 71/807 [00:48<08:12,  1.49it/s]\u001b[A\n",
            "Iteration:   9%|▉         | 72/807 [00:48<08:32,  1.43it/s]\u001b[A"
          ],
          "name": "stderr"
        },
        {
          "output_type": "stream",
          "text": [
            "\tTraining loss :  1.2937708273530006\n"
          ],
          "name": "stdout"
        },
        {
          "output_type": "stream",
          "text": [
            "\n",
            "Iteration:   9%|▉         | 73/807 [00:49<08:22,  1.46it/s]\u001b[A\n",
            "Iteration:   9%|▉         | 74/807 [00:50<08:16,  1.48it/s]\u001b[A\n",
            "Iteration:   9%|▉         | 75/807 [00:50<08:09,  1.49it/s]\u001b[A\n",
            "Iteration:   9%|▉         | 76/807 [00:51<08:29,  1.44it/s]\u001b[A"
          ],
          "name": "stderr"
        },
        {
          "output_type": "stream",
          "text": [
            "\tTraining loss :  1.2903218120336533\n"
          ],
          "name": "stdout"
        },
        {
          "output_type": "stream",
          "text": [
            "\n",
            "Iteration:  10%|▉         | 77/807 [00:52<08:18,  1.46it/s]\u001b[A\n",
            "Iteration:  10%|▉         | 78/807 [00:52<08:11,  1.48it/s]\u001b[A\n",
            "Iteration:  10%|▉         | 79/807 [00:53<08:04,  1.50it/s]\u001b[A\n",
            "Iteration:  10%|▉         | 80/807 [00:54<08:24,  1.44it/s]\u001b[A"
          ],
          "name": "stderr"
        },
        {
          "output_type": "stream",
          "text": [
            "\tTraining loss :  1.2912701152265071\n"
          ],
          "name": "stdout"
        },
        {
          "output_type": "stream",
          "text": [
            "\n",
            "Iteration:  10%|█         | 81/807 [00:55<08:13,  1.47it/s]\u001b[A\n",
            "Iteration:  10%|█         | 82/807 [00:55<08:07,  1.49it/s]\u001b[A\n",
            "Iteration:  10%|█         | 83/807 [00:56<08:00,  1.51it/s]\u001b[A\n",
            "Iteration:  10%|█         | 84/807 [00:57<08:21,  1.44it/s]\u001b[A"
          ],
          "name": "stderr"
        },
        {
          "output_type": "stream",
          "text": [
            "\tTraining loss :  1.30351561378865\n"
          ],
          "name": "stdout"
        },
        {
          "output_type": "stream",
          "text": [
            "\n",
            "Iteration:  11%|█         | 85/807 [00:57<08:11,  1.47it/s]\u001b[A\n",
            "Iteration:  11%|█         | 86/807 [00:58<08:03,  1.49it/s]\u001b[A\n",
            "Iteration:  11%|█         | 87/807 [00:59<07:58,  1.50it/s]\u001b[A\n",
            "Iteration:  11%|█         | 88/807 [00:59<08:18,  1.44it/s]\u001b[A"
          ],
          "name": "stderr"
        },
        {
          "output_type": "stream",
          "text": [
            "\tTraining loss :  1.2924352471124043\n"
          ],
          "name": "stdout"
        },
        {
          "output_type": "stream",
          "text": [
            "\n",
            "Iteration:  11%|█         | 89/807 [01:00<08:09,  1.47it/s]\u001b[A\n",
            "Iteration:  11%|█         | 90/807 [01:01<08:02,  1.49it/s]\u001b[A\n",
            "Iteration:  11%|█▏        | 91/807 [01:01<07:56,  1.50it/s]\u001b[A\n",
            "Iteration:  11%|█▏        | 92/807 [01:02<08:15,  1.44it/s]\u001b[A"
          ],
          "name": "stderr"
        },
        {
          "output_type": "stream",
          "text": [
            "\tTraining loss :  1.2994794256013373\n"
          ],
          "name": "stdout"
        },
        {
          "output_type": "stream",
          "text": [
            "\n",
            "Iteration:  12%|█▏        | 93/807 [01:03<08:07,  1.46it/s]\u001b[A\n",
            "Iteration:  12%|█▏        | 94/807 [01:03<08:01,  1.48it/s]\u001b[A\n",
            "Iteration:  12%|█▏        | 95/807 [01:04<07:55,  1.50it/s]\u001b[A\n",
            "Iteration:  12%|█▏        | 96/807 [01:05<08:14,  1.44it/s]\u001b[A"
          ],
          "name": "stderr"
        },
        {
          "output_type": "stream",
          "text": [
            "\tTraining loss :  1.3002555376539628\n"
          ],
          "name": "stdout"
        },
        {
          "output_type": "stream",
          "text": [
            "\n",
            "Iteration:  12%|█▏        | 97/807 [01:05<08:03,  1.47it/s]\u001b[A\n",
            "Iteration:  12%|█▏        | 98/807 [01:06<07:56,  1.49it/s]\u001b[A\n",
            "Iteration:  12%|█▏        | 99/807 [01:07<07:50,  1.50it/s]\u001b[A\n",
            "Iteration:  12%|█▏        | 100/807 [01:07<08:11,  1.44it/s]\u001b[A"
          ],
          "name": "stderr"
        },
        {
          "output_type": "stream",
          "text": [
            "\tTraining loss :  1.2966328924894333\n"
          ],
          "name": "stdout"
        },
        {
          "output_type": "stream",
          "text": [
            "\n",
            "Iteration:  13%|█▎        | 101/807 [01:08<08:01,  1.47it/s]\u001b[A\n",
            "Iteration:  13%|█▎        | 102/807 [01:09<07:55,  1.48it/s]\u001b[A\n",
            "Iteration:  13%|█▎        | 103/807 [01:09<07:49,  1.50it/s]\u001b[A\n",
            "Iteration:  13%|█▎        | 104/807 [01:10<08:09,  1.44it/s]\u001b[A"
          ],
          "name": "stderr"
        },
        {
          "output_type": "stream",
          "text": [
            "\tTraining loss :  1.3078075526998594\n"
          ],
          "name": "stdout"
        },
        {
          "output_type": "stream",
          "text": [
            "\n",
            "Iteration:  13%|█▎        | 105/807 [01:11<08:00,  1.46it/s]\u001b[A\n",
            "Iteration:  13%|█▎        | 106/807 [01:11<07:53,  1.48it/s]\u001b[A\n",
            "Iteration:  13%|█▎        | 107/807 [01:12<07:47,  1.50it/s]\u001b[A\n",
            "Iteration:  13%|█▎        | 108/807 [01:13<08:06,  1.44it/s]\u001b[A"
          ],
          "name": "stderr"
        },
        {
          "output_type": "stream",
          "text": [
            "\tTraining loss :  1.3186287587439571\n"
          ],
          "name": "stdout"
        },
        {
          "output_type": "stream",
          "text": [
            "\n",
            "Iteration:  14%|█▎        | 109/807 [01:14<07:57,  1.46it/s]\u001b[A\n",
            "Iteration:  14%|█▎        | 110/807 [01:14<07:50,  1.48it/s]\u001b[A\n",
            "Iteration:  14%|█▍        | 111/807 [01:15<07:43,  1.50it/s]\u001b[A\n",
            "Iteration:  14%|█▍        | 112/807 [01:16<08:03,  1.44it/s]\u001b[A"
          ],
          "name": "stderr"
        },
        {
          "output_type": "stream",
          "text": [
            "\tTraining loss :  1.3152216954955034\n"
          ],
          "name": "stdout"
        },
        {
          "output_type": "stream",
          "text": [
            "\n",
            "Iteration:  14%|█▍        | 113/807 [01:16<07:53,  1.47it/s]\u001b[A\n",
            "Iteration:  14%|█▍        | 114/807 [01:17<07:48,  1.48it/s]\u001b[A\n",
            "Iteration:  14%|█▍        | 115/807 [01:18<07:41,  1.50it/s]\u001b[A\n",
            "Iteration:  14%|█▍        | 116/807 [01:18<08:02,  1.43it/s]\u001b[A"
          ],
          "name": "stderr"
        },
        {
          "output_type": "stream",
          "text": [
            "\tTraining loss :  1.3093722015619278\n"
          ],
          "name": "stdout"
        },
        {
          "output_type": "stream",
          "text": [
            "\n",
            "Iteration:  14%|█▍        | 117/807 [01:19<07:53,  1.46it/s]\u001b[A\n",
            "Iteration:  15%|█▍        | 118/807 [01:20<07:46,  1.48it/s]\u001b[A\n",
            "Iteration:  15%|█▍        | 119/807 [01:20<07:41,  1.49it/s]\u001b[A\n",
            "Iteration:  15%|█▍        | 120/807 [01:21<08:00,  1.43it/s]\u001b[A"
          ],
          "name": "stderr"
        },
        {
          "output_type": "stream",
          "text": [
            "\tTraining loss :  1.315090829630693\n"
          ],
          "name": "stdout"
        },
        {
          "output_type": "stream",
          "text": [
            "\n",
            "Iteration:  15%|█▍        | 121/807 [01:22<07:49,  1.46it/s]\u001b[A\n",
            "Iteration:  15%|█▌        | 122/807 [01:22<07:42,  1.48it/s]\u001b[A\n",
            "Iteration:  15%|█▌        | 123/807 [01:23<07:35,  1.50it/s]\u001b[A\n",
            "Iteration:  15%|█▌        | 124/807 [01:24<07:55,  1.44it/s]\u001b[A"
          ],
          "name": "stderr"
        },
        {
          "output_type": "stream",
          "text": [
            "\tTraining loss :  1.3163178587152111\n"
          ],
          "name": "stdout"
        },
        {
          "output_type": "stream",
          "text": [
            "\n",
            "Iteration:  15%|█▌        | 125/807 [01:24<07:45,  1.47it/s]\u001b[A\n",
            "Iteration:  16%|█▌        | 126/807 [01:25<07:39,  1.48it/s]\u001b[A\n",
            "Iteration:  16%|█▌        | 127/807 [01:26<07:34,  1.50it/s]\u001b[A\n",
            "Iteration:  16%|█▌        | 128/807 [01:27<07:52,  1.44it/s]\u001b[A"
          ],
          "name": "stderr"
        },
        {
          "output_type": "stream",
          "text": [
            "\tTraining loss :  1.3154006353579462\n"
          ],
          "name": "stdout"
        },
        {
          "output_type": "stream",
          "text": [
            "\n",
            "Iteration:  16%|█▌        | 129/807 [01:27<07:40,  1.47it/s]\u001b[A\n",
            "Iteration:  16%|█▌        | 130/807 [01:28<07:35,  1.49it/s]\u001b[A\n",
            "Iteration:  16%|█▌        | 131/807 [01:28<07:28,  1.51it/s]\u001b[A\n",
            "Iteration:  16%|█▋        | 132/807 [01:29<07:50,  1.43it/s]\u001b[A"
          ],
          "name": "stderr"
        },
        {
          "output_type": "stream",
          "text": [
            "\tTraining loss :  1.3092208409851247\n"
          ],
          "name": "stdout"
        },
        {
          "output_type": "stream",
          "text": [
            "\n",
            "Iteration:  16%|█▋        | 133/807 [01:30<07:40,  1.46it/s]\u001b[A\n",
            "Iteration:  17%|█▋        | 134/807 [01:31<07:34,  1.48it/s]\u001b[A\n",
            "Iteration:  17%|█▋        | 135/807 [01:31<07:29,  1.50it/s]\u001b[A\n",
            "Iteration:  17%|█▋        | 136/807 [01:32<07:47,  1.44it/s]\u001b[A"
          ],
          "name": "stderr"
        },
        {
          "output_type": "stream",
          "text": [
            "\tTraining loss :  1.311061204794575\n"
          ],
          "name": "stdout"
        },
        {
          "output_type": "stream",
          "text": [
            "\n",
            "Iteration:  17%|█▋        | 137/807 [01:33<07:37,  1.46it/s]\u001b[A\n",
            "Iteration:  17%|█▋        | 138/807 [01:33<07:29,  1.49it/s]\u001b[A\n",
            "Iteration:  17%|█▋        | 139/807 [01:34<07:24,  1.50it/s]\u001b[A\n",
            "Iteration:  17%|█▋        | 140/807 [01:35<07:44,  1.44it/s]\u001b[A"
          ],
          "name": "stderr"
        },
        {
          "output_type": "stream",
          "text": [
            "\tTraining loss :  1.3052058113472802\n"
          ],
          "name": "stdout"
        },
        {
          "output_type": "stream",
          "text": [
            "\n",
            "Iteration:  17%|█▋        | 141/807 [01:35<07:33,  1.47it/s]\u001b[A\n",
            "Iteration:  18%|█▊        | 142/807 [01:36<07:27,  1.48it/s]\u001b[A\n",
            "Iteration:  18%|█▊        | 143/807 [01:37<07:22,  1.50it/s]\u001b[A\n",
            "Iteration:  18%|█▊        | 144/807 [01:37<07:42,  1.43it/s]\u001b[A"
          ],
          "name": "stderr"
        },
        {
          "output_type": "stream",
          "text": [
            "\tTraining loss :  1.3012823549409707\n"
          ],
          "name": "stdout"
        },
        {
          "output_type": "stream",
          "text": [
            "\n",
            "Iteration:  18%|█▊        | 145/807 [01:38<07:31,  1.47it/s]\u001b[A\n",
            "Iteration:  18%|█▊        | 146/807 [01:39<07:25,  1.48it/s]\u001b[A\n",
            "Iteration:  18%|█▊        | 147/807 [01:39<07:19,  1.50it/s]\u001b[A\n",
            "Iteration:  18%|█▊        | 148/807 [01:40<07:39,  1.44it/s]\u001b[A"
          ],
          "name": "stderr"
        },
        {
          "output_type": "stream",
          "text": [
            "\tTraining loss :  1.3034060311478537\n"
          ],
          "name": "stdout"
        },
        {
          "output_type": "stream",
          "text": [
            "\n",
            "Iteration:  18%|█▊        | 149/807 [01:41<07:28,  1.47it/s]\u001b[A\n",
            "Iteration:  19%|█▊        | 150/807 [01:41<07:22,  1.48it/s]\u001b[A\n",
            "Iteration:  19%|█▊        | 151/807 [01:42<07:16,  1.50it/s]\u001b[A\n",
            "Iteration:  19%|█▉        | 152/807 [01:43<07:35,  1.44it/s]\u001b[A"
          ],
          "name": "stderr"
        },
        {
          "output_type": "stream",
          "text": [
            "\tTraining loss :  1.3068357247271036\n"
          ],
          "name": "stdout"
        },
        {
          "output_type": "stream",
          "text": [
            "\n",
            "Iteration:  19%|█▉        | 153/807 [01:43<07:26,  1.47it/s]\u001b[A\n",
            "Iteration:  19%|█▉        | 154/807 [01:44<07:19,  1.48it/s]\u001b[A\n",
            "Iteration:  19%|█▉        | 155/807 [01:45<07:13,  1.50it/s]\u001b[A\n",
            "Iteration:  19%|█▉        | 156/807 [01:46<07:32,  1.44it/s]\u001b[A"
          ],
          "name": "stderr"
        },
        {
          "output_type": "stream",
          "text": [
            "\tTraining loss :  1.3029233075869389\n"
          ],
          "name": "stdout"
        },
        {
          "output_type": "stream",
          "text": [
            "\n",
            "Iteration:  19%|█▉        | 157/807 [01:46<07:22,  1.47it/s]\u001b[A\n",
            "Iteration:  20%|█▉        | 158/807 [01:47<07:16,  1.49it/s]\u001b[A\n",
            "Iteration:  20%|█▉        | 159/807 [01:47<07:10,  1.50it/s]\u001b[A\n",
            "Iteration:  20%|█▉        | 160/807 [01:48<07:28,  1.44it/s]\u001b[A"
          ],
          "name": "stderr"
        },
        {
          "output_type": "stream",
          "text": [
            "\tTraining loss :  1.30740828178823\n"
          ],
          "name": "stdout"
        },
        {
          "output_type": "stream",
          "text": [
            "\n",
            "Iteration:  20%|█▉        | 161/807 [01:49<07:19,  1.47it/s]\u001b[A\n",
            "Iteration:  20%|██        | 162/807 [01:50<07:13,  1.49it/s]\u001b[A\n",
            "Iteration:  20%|██        | 163/807 [01:50<07:08,  1.50it/s]\u001b[A\n",
            "Iteration:  20%|██        | 164/807 [01:51<07:26,  1.44it/s]\u001b[A"
          ],
          "name": "stderr"
        },
        {
          "output_type": "stream",
          "text": [
            "\tTraining loss :  1.3017029137146183\n"
          ],
          "name": "stdout"
        },
        {
          "output_type": "stream",
          "text": [
            "\n",
            "Iteration:  20%|██        | 165/807 [01:52<07:18,  1.46it/s]\u001b[A\n",
            "Iteration:  21%|██        | 166/807 [01:52<07:11,  1.48it/s]\u001b[A\n",
            "Iteration:  21%|██        | 167/807 [01:53<07:06,  1.50it/s]\u001b[A\n",
            "Iteration:  21%|██        | 168/807 [01:54<07:24,  1.44it/s]\u001b[A"
          ],
          "name": "stderr"
        },
        {
          "output_type": "stream",
          "text": [
            "\tTraining loss :  1.3057546665271123\n"
          ],
          "name": "stdout"
        },
        {
          "output_type": "stream",
          "text": [
            "\n",
            "Iteration:  21%|██        | 169/807 [01:54<07:14,  1.47it/s]\u001b[A\n",
            "Iteration:  21%|██        | 170/807 [01:55<07:09,  1.48it/s]\u001b[A\n",
            "Iteration:  21%|██        | 171/807 [01:56<07:03,  1.50it/s]\u001b[A\n",
            "Iteration:  21%|██▏       | 172/807 [01:56<07:21,  1.44it/s]\u001b[A"
          ],
          "name": "stderr"
        },
        {
          "output_type": "stream",
          "text": [
            "\tTraining loss :  1.3081920763780905\n"
          ],
          "name": "stdout"
        },
        {
          "output_type": "stream",
          "text": [
            "\n",
            "Iteration:  21%|██▏       | 173/807 [01:57<07:12,  1.47it/s]\u001b[A\n",
            "Iteration:  22%|██▏       | 174/807 [01:58<07:05,  1.49it/s]\u001b[A\n",
            "Iteration:  22%|██▏       | 175/807 [01:58<07:00,  1.50it/s]\u001b[A\n",
            "Iteration:  22%|██▏       | 176/807 [01:59<07:17,  1.44it/s]\u001b[A"
          ],
          "name": "stderr"
        },
        {
          "output_type": "stream",
          "text": [
            "\tTraining loss :  1.3039629618552597\n"
          ],
          "name": "stdout"
        },
        {
          "output_type": "stream",
          "text": [
            "\n",
            "Iteration:  22%|██▏       | 177/807 [02:00<07:09,  1.47it/s]\u001b[A\n",
            "Iteration:  22%|██▏       | 178/807 [02:00<07:03,  1.48it/s]\u001b[A\n",
            "Iteration:  22%|██▏       | 179/807 [02:01<06:58,  1.50it/s]\u001b[A\n",
            "Iteration:  22%|██▏       | 180/807 [02:02<07:15,  1.44it/s]\u001b[A"
          ],
          "name": "stderr"
        },
        {
          "output_type": "stream",
          "text": [
            "\tTraining loss :  1.3050311631626552\n"
          ],
          "name": "stdout"
        },
        {
          "output_type": "stream",
          "text": [
            "\n",
            "Iteration:  22%|██▏       | 181/807 [02:02<07:06,  1.47it/s]\u001b[A\n",
            "Iteration:  23%|██▎       | 182/807 [02:03<07:00,  1.49it/s]\u001b[A\n",
            "Iteration:  23%|██▎       | 183/807 [02:04<06:54,  1.51it/s]\u001b[A\n",
            "Iteration:  23%|██▎       | 184/807 [02:05<07:11,  1.44it/s]\u001b[A"
          ],
          "name": "stderr"
        },
        {
          "output_type": "stream",
          "text": [
            "\tTraining loss :  1.308071367766546\n"
          ],
          "name": "stdout"
        },
        {
          "output_type": "stream",
          "text": [
            "\n",
            "Iteration:  23%|██▎       | 185/807 [02:05<07:04,  1.47it/s]\u001b[A\n",
            "Iteration:  23%|██▎       | 186/807 [02:06<06:57,  1.49it/s]\u001b[A\n",
            "Iteration:  23%|██▎       | 187/807 [02:07<06:52,  1.50it/s]\u001b[A\n",
            "Iteration:  23%|██▎       | 188/807 [02:07<07:11,  1.43it/s]\u001b[A"
          ],
          "name": "stderr"
        },
        {
          "output_type": "stream",
          "text": [
            "\tTraining loss :  1.3131266375805468\n"
          ],
          "name": "stdout"
        },
        {
          "output_type": "stream",
          "text": [
            "\n",
            "Iteration:  23%|██▎       | 189/807 [02:08<07:01,  1.47it/s]\u001b[A\n",
            "Iteration:  24%|██▎       | 190/807 [02:09<06:55,  1.49it/s]\u001b[A\n",
            "Iteration:  24%|██▎       | 191/807 [02:09<06:49,  1.50it/s]\u001b[A\n",
            "Iteration:  24%|██▍       | 192/807 [02:10<07:06,  1.44it/s]\u001b[A"
          ],
          "name": "stderr"
        },
        {
          "output_type": "stream",
          "text": [
            "\tTraining loss :  1.3102546253552039\n"
          ],
          "name": "stdout"
        },
        {
          "output_type": "stream",
          "text": [
            "\n",
            "Iteration:  24%|██▍       | 193/807 [02:11<06:56,  1.47it/s]\u001b[A\n",
            "Iteration:  24%|██▍       | 194/807 [02:11<06:50,  1.49it/s]\u001b[A\n",
            "Iteration:  24%|██▍       | 195/807 [02:12<06:46,  1.51it/s]\u001b[A\n",
            "Iteration:  24%|██▍       | 196/807 [02:13<07:02,  1.44it/s]\u001b[A"
          ],
          "name": "stderr"
        },
        {
          "output_type": "stream",
          "text": [
            "\tTraining loss :  1.3109355851703761\n"
          ],
          "name": "stdout"
        },
        {
          "output_type": "stream",
          "text": [
            "\n",
            "Iteration:  24%|██▍       | 197/807 [02:13<06:54,  1.47it/s]\u001b[A\n",
            "Iteration:  25%|██▍       | 198/807 [02:14<06:48,  1.49it/s]\u001b[A\n",
            "Iteration:  25%|██▍       | 199/807 [02:15<06:43,  1.51it/s]\u001b[A\n",
            "Iteration:  25%|██▍       | 200/807 [02:15<07:01,  1.44it/s]\u001b[A"
          ],
          "name": "stderr"
        },
        {
          "output_type": "stream",
          "text": [
            "\tTraining loss :  1.308840953707695\n"
          ],
          "name": "stdout"
        },
        {
          "output_type": "stream",
          "text": [
            "\n",
            "Iteration:  25%|██▍       | 201/807 [02:16<06:52,  1.47it/s]\u001b[A\n",
            "Iteration:  25%|██▌       | 202/807 [02:17<06:47,  1.49it/s]\u001b[A\n",
            "Iteration:  25%|██▌       | 203/807 [02:17<06:42,  1.50it/s]\u001b[A\n",
            "Iteration:  25%|██▌       | 204/807 [02:18<07:00,  1.43it/s]\u001b[A"
          ],
          "name": "stderr"
        },
        {
          "output_type": "stream",
          "text": [
            "\tTraining loss :  1.3098697656509923\n"
          ],
          "name": "stdout"
        },
        {
          "output_type": "stream",
          "text": [
            "\n",
            "Iteration:  25%|██▌       | 205/807 [02:19<06:51,  1.46it/s]\u001b[A\n",
            "Iteration:  26%|██▌       | 206/807 [02:19<06:44,  1.48it/s]\u001b[A\n",
            "Iteration:  26%|██▌       | 207/807 [02:20<06:40,  1.50it/s]\u001b[A\n",
            "Iteration:  26%|██▌       | 208/807 [02:21<06:57,  1.44it/s]\u001b[A"
          ],
          "name": "stderr"
        },
        {
          "output_type": "stream",
          "text": [
            "\tTraining loss :  1.311662155848283\n"
          ],
          "name": "stdout"
        },
        {
          "output_type": "stream",
          "text": [
            "\n",
            "Iteration:  26%|██▌       | 209/807 [02:21<06:48,  1.46it/s]\u001b[A\n",
            "Iteration:  26%|██▌       | 210/807 [02:22<06:42,  1.48it/s]\u001b[A\n",
            "Iteration:  26%|██▌       | 211/807 [02:23<06:37,  1.50it/s]\u001b[A\n",
            "Iteration:  26%|██▋       | 212/807 [02:24<06:53,  1.44it/s]\u001b[A"
          ],
          "name": "stderr"
        },
        {
          "output_type": "stream",
          "text": [
            "\tTraining loss :  1.3066917213628877\n"
          ],
          "name": "stdout"
        },
        {
          "output_type": "stream",
          "text": [
            "\n",
            "Iteration:  26%|██▋       | 213/807 [02:24<06:43,  1.47it/s]\u001b[A\n",
            "Iteration:  27%|██▋       | 214/807 [02:25<06:38,  1.49it/s]\u001b[A\n",
            "Iteration:  27%|██▋       | 215/807 [02:26<06:35,  1.50it/s]\u001b[A\n",
            "Iteration:  27%|██▋       | 216/807 [02:26<06:51,  1.44it/s]\u001b[A"
          ],
          "name": "stderr"
        },
        {
          "output_type": "stream",
          "text": [
            "\tTraining loss :  1.305217347211308\n"
          ],
          "name": "stdout"
        },
        {
          "output_type": "stream",
          "text": [
            "\n",
            "Iteration:  27%|██▋       | 217/807 [02:27<06:42,  1.47it/s]\u001b[A\n",
            "Iteration:  27%|██▋       | 218/807 [02:28<06:36,  1.49it/s]\u001b[A\n",
            "Iteration:  27%|██▋       | 219/807 [02:28<06:30,  1.50it/s]\u001b[A\n",
            "Iteration:  27%|██▋       | 220/807 [02:29<06:48,  1.44it/s]\u001b[A"
          ],
          "name": "stderr"
        },
        {
          "output_type": "stream",
          "text": [
            "\tTraining loss :  1.304536336660385\n"
          ],
          "name": "stdout"
        },
        {
          "output_type": "stream",
          "text": [
            "\n",
            "Iteration:  27%|██▋       | 221/807 [02:30<06:38,  1.47it/s]\u001b[A\n",
            "Iteration:  28%|██▊       | 222/807 [02:30<06:33,  1.49it/s]\u001b[A\n",
            "Iteration:  28%|██▊       | 223/807 [02:31<06:28,  1.50it/s]\u001b[A\n",
            "Iteration:  28%|██▊       | 224/807 [02:32<06:43,  1.44it/s]\u001b[A"
          ],
          "name": "stderr"
        },
        {
          "output_type": "stream",
          "text": [
            "\tTraining loss :  1.3052550389298372\n"
          ],
          "name": "stdout"
        },
        {
          "output_type": "stream",
          "text": [
            "\n",
            "Iteration:  28%|██▊       | 225/807 [02:32<06:35,  1.47it/s]\u001b[A\n",
            "Iteration:  28%|██▊       | 226/807 [02:33<06:30,  1.49it/s]\u001b[A\n",
            "Iteration:  28%|██▊       | 227/807 [02:34<06:26,  1.50it/s]\u001b[A\n",
            "Iteration:  28%|██▊       | 228/807 [02:34<06:41,  1.44it/s]\u001b[A"
          ],
          "name": "stderr"
        },
        {
          "output_type": "stream",
          "text": [
            "\tTraining loss :  1.300987118430305\n"
          ],
          "name": "stdout"
        },
        {
          "output_type": "stream",
          "text": [
            "\n",
            "Iteration:  28%|██▊       | 229/807 [02:35<06:34,  1.46it/s]\u001b[A\n",
            "Iteration:  29%|██▊       | 230/807 [02:36<06:28,  1.48it/s]\u001b[A\n",
            "Iteration:  29%|██▊       | 231/807 [02:36<06:23,  1.50it/s]\u001b[A\n",
            "Iteration:  29%|██▊       | 232/807 [02:37<06:38,  1.44it/s]\u001b[A"
          ],
          "name": "stderr"
        },
        {
          "output_type": "stream",
          "text": [
            "\tTraining loss :  1.3077290363866707\n"
          ],
          "name": "stdout"
        },
        {
          "output_type": "stream",
          "text": [
            "\n",
            "Iteration:  29%|██▉       | 233/807 [02:38<06:31,  1.47it/s]\u001b[A\n",
            "Iteration:  29%|██▉       | 234/807 [02:38<06:25,  1.49it/s]\u001b[A\n",
            "Iteration:  29%|██▉       | 235/807 [02:39<06:20,  1.50it/s]\u001b[A\n",
            "Iteration:  29%|██▉       | 236/807 [02:40<06:37,  1.44it/s]\u001b[A"
          ],
          "name": "stderr"
        },
        {
          "output_type": "stream",
          "text": [
            "\tTraining loss :  1.3048896812281365\n"
          ],
          "name": "stdout"
        },
        {
          "output_type": "stream",
          "text": [
            "\n",
            "Iteration:  29%|██▉       | 237/807 [02:40<06:29,  1.46it/s]\u001b[A\n",
            "Iteration:  29%|██▉       | 238/807 [02:41<06:23,  1.48it/s]\u001b[A\n",
            "Iteration:  30%|██▉       | 239/807 [02:42<06:18,  1.50it/s]\u001b[A\n",
            "Iteration:  30%|██▉       | 240/807 [02:43<06:34,  1.44it/s]\u001b[A"
          ],
          "name": "stderr"
        },
        {
          "output_type": "stream",
          "text": [
            "\tTraining loss :  1.3057503600915272\n"
          ],
          "name": "stdout"
        },
        {
          "output_type": "stream",
          "text": [
            "\n",
            "Iteration:  30%|██▉       | 241/807 [02:43<06:25,  1.47it/s]\u001b[A\n",
            "Iteration:  30%|██▉       | 242/807 [02:44<06:19,  1.49it/s]\u001b[A\n",
            "Iteration:  30%|███       | 243/807 [02:45<06:14,  1.50it/s]\u001b[A\n",
            "Iteration:  30%|███       | 244/807 [02:45<06:30,  1.44it/s]\u001b[A"
          ],
          "name": "stderr"
        },
        {
          "output_type": "stream",
          "text": [
            "\tTraining loss :  1.3032961497541333\n"
          ],
          "name": "stdout"
        },
        {
          "output_type": "stream",
          "text": [
            "\n",
            "Iteration:  30%|███       | 245/807 [02:46<06:21,  1.47it/s]\u001b[A\n",
            "Iteration:  30%|███       | 246/807 [02:47<06:16,  1.49it/s]\u001b[A\n",
            "Iteration:  31%|███       | 247/807 [02:47<06:12,  1.50it/s]\u001b[A\n",
            "Iteration:  31%|███       | 248/807 [02:48<06:29,  1.43it/s]\u001b[A"
          ],
          "name": "stderr"
        },
        {
          "output_type": "stream",
          "text": [
            "\tTraining loss :  1.3025900620606639\n"
          ],
          "name": "stdout"
        },
        {
          "output_type": "stream",
          "text": [
            "\n",
            "Iteration:  31%|███       | 249/807 [02:49<06:20,  1.46it/s]\u001b[A\n",
            "Iteration:  31%|███       | 250/807 [02:49<06:14,  1.49it/s]\u001b[A\n",
            "Iteration:  31%|███       | 251/807 [02:50<06:10,  1.50it/s]\u001b[A\n",
            "Iteration:  31%|███       | 252/807 [02:51<06:27,  1.43it/s]\u001b[A"
          ],
          "name": "stderr"
        },
        {
          "output_type": "stream",
          "text": [
            "\tTraining loss :  1.3024102917739324\n"
          ],
          "name": "stdout"
        },
        {
          "output_type": "stream",
          "text": [
            "\n",
            "Iteration:  31%|███▏      | 253/807 [02:51<06:17,  1.47it/s]\u001b[A\n",
            "Iteration:  31%|███▏      | 254/807 [02:52<06:12,  1.48it/s]\u001b[A\n",
            "Iteration:  32%|███▏      | 255/807 [02:53<06:07,  1.50it/s]\u001b[A\n",
            "Iteration:  32%|███▏      | 256/807 [02:53<06:23,  1.44it/s]\u001b[A"
          ],
          "name": "stderr"
        },
        {
          "output_type": "stream",
          "text": [
            "\tTraining loss :  1.30294622736983\n"
          ],
          "name": "stdout"
        },
        {
          "output_type": "stream",
          "text": [
            "\n",
            "Iteration:  32%|███▏      | 257/807 [02:54<06:15,  1.46it/s]\u001b[A\n",
            "Iteration:  32%|███▏      | 258/807 [02:55<06:09,  1.48it/s]\u001b[A\n",
            "Iteration:  32%|███▏      | 259/807 [02:55<06:04,  1.50it/s]\u001b[A\n",
            "Iteration:  32%|███▏      | 260/807 [02:56<06:19,  1.44it/s]\u001b[A"
          ],
          "name": "stderr"
        },
        {
          "output_type": "stream",
          "text": [
            "\tTraining loss :  1.305425368134792\n"
          ],
          "name": "stdout"
        },
        {
          "output_type": "stream",
          "text": [
            "\n",
            "Iteration:  32%|███▏      | 261/807 [02:57<06:13,  1.46it/s]\u001b[A\n",
            "Iteration:  32%|███▏      | 262/807 [02:57<06:06,  1.49it/s]\u001b[A\n",
            "Iteration:  33%|███▎      | 263/807 [02:58<06:01,  1.50it/s]\u001b[A\n",
            "Iteration:  33%|███▎      | 264/807 [02:59<06:16,  1.44it/s]\u001b[A"
          ],
          "name": "stderr"
        },
        {
          "output_type": "stream",
          "text": [
            "\tTraining loss :  1.3108918544921009\n"
          ],
          "name": "stdout"
        },
        {
          "output_type": "stream",
          "text": [
            "\n",
            "Iteration:  33%|███▎      | 265/807 [02:59<06:09,  1.47it/s]\u001b[A\n",
            "Iteration:  33%|███▎      | 266/807 [03:00<06:03,  1.49it/s]\u001b[A\n",
            "Iteration:  33%|███▎      | 267/807 [03:01<06:00,  1.50it/s]\u001b[A\n",
            "Iteration:  33%|███▎      | 268/807 [03:02<06:15,  1.44it/s]\u001b[A"
          ],
          "name": "stderr"
        },
        {
          "output_type": "stream",
          "text": [
            "\tTraining loss :  1.309884388944996\n"
          ],
          "name": "stdout"
        },
        {
          "output_type": "stream",
          "text": [
            "\n",
            "Iteration:  33%|███▎      | 269/807 [03:02<06:07,  1.46it/s]\u001b[A\n",
            "Iteration:  33%|███▎      | 270/807 [03:03<06:00,  1.49it/s]\u001b[A\n",
            "Iteration:  34%|███▎      | 271/807 [03:04<05:57,  1.50it/s]\u001b[A\n",
            "Iteration:  34%|███▎      | 272/807 [03:04<06:11,  1.44it/s]\u001b[A"
          ],
          "name": "stderr"
        },
        {
          "output_type": "stream",
          "text": [
            "\tTraining loss :  1.3091751529889948\n"
          ],
          "name": "stdout"
        },
        {
          "output_type": "stream",
          "text": [
            "\n",
            "Iteration:  34%|███▍      | 273/807 [03:05<06:04,  1.47it/s]\u001b[A\n",
            "Iteration:  34%|███▍      | 274/807 [03:06<05:59,  1.48it/s]\u001b[A\n",
            "Iteration:  34%|███▍      | 275/807 [03:06<05:54,  1.50it/s]\u001b[A\n",
            "Iteration:  34%|███▍      | 276/807 [03:07<06:08,  1.44it/s]\u001b[A"
          ],
          "name": "stderr"
        },
        {
          "output_type": "stream",
          "text": [
            "\tTraining loss :  1.3077251664970233\n"
          ],
          "name": "stdout"
        },
        {
          "output_type": "stream",
          "text": [
            "\n",
            "Iteration:  34%|███▍      | 277/807 [03:08<06:00,  1.47it/s]\u001b[A\n",
            "Iteration:  34%|███▍      | 278/807 [03:08<05:54,  1.49it/s]\u001b[A\n",
            "Iteration:  35%|███▍      | 279/807 [03:09<05:50,  1.51it/s]\u001b[A\n",
            "Iteration:  35%|███▍      | 280/807 [03:10<06:04,  1.44it/s]\u001b[A"
          ],
          "name": "stderr"
        },
        {
          "output_type": "stream",
          "text": [
            "\tTraining loss :  1.3086120275514466\n"
          ],
          "name": "stdout"
        },
        {
          "output_type": "stream",
          "text": [
            "\n",
            "Iteration:  35%|███▍      | 281/807 [03:10<05:56,  1.47it/s]\u001b[A\n",
            "Iteration:  35%|███▍      | 282/807 [03:11<05:52,  1.49it/s]\u001b[A\n",
            "Iteration:  35%|███▌      | 283/807 [03:12<05:49,  1.50it/s]\u001b[A\n",
            "Iteration:  35%|███▌      | 284/807 [03:12<06:04,  1.43it/s]\u001b[A"
          ],
          "name": "stderr"
        },
        {
          "output_type": "stream",
          "text": [
            "\tTraining loss :  1.3081911945007216\n"
          ],
          "name": "stdout"
        },
        {
          "output_type": "stream",
          "text": [
            "\n",
            "Iteration:  35%|███▌      | 285/807 [03:13<05:56,  1.46it/s]\u001b[A\n",
            "Iteration:  35%|███▌      | 286/807 [03:14<05:50,  1.49it/s]\u001b[A\n",
            "Iteration:  36%|███▌      | 287/807 [03:14<05:45,  1.51it/s]\u001b[A\n",
            "Iteration:  36%|███▌      | 288/807 [03:15<05:59,  1.44it/s]\u001b[A"
          ],
          "name": "stderr"
        },
        {
          "output_type": "stream",
          "text": [
            "\tTraining loss :  1.305001239395804\n"
          ],
          "name": "stdout"
        },
        {
          "output_type": "stream",
          "text": [
            "\n",
            "Iteration:  36%|███▌      | 289/807 [03:16<05:53,  1.47it/s]\u001b[A\n",
            "Iteration:  36%|███▌      | 290/807 [03:16<05:48,  1.49it/s]\u001b[A\n",
            "Iteration:  36%|███▌      | 291/807 [03:17<05:43,  1.50it/s]\u001b[A\n",
            "Iteration:  36%|███▌      | 292/807 [03:18<05:57,  1.44it/s]\u001b[A"
          ],
          "name": "stderr"
        },
        {
          "output_type": "stream",
          "text": [
            "\tTraining loss :  1.3037166213744307\n"
          ],
          "name": "stdout"
        },
        {
          "output_type": "stream",
          "text": [
            "\n",
            "Iteration:  36%|███▋      | 293/807 [03:18<05:50,  1.47it/s]\u001b[A\n",
            "Iteration:  36%|███▋      | 294/807 [03:19<05:45,  1.49it/s]\u001b[A\n",
            "Iteration:  37%|███▋      | 295/807 [03:20<05:40,  1.50it/s]\u001b[A\n",
            "Iteration:  37%|███▋      | 296/807 [03:21<05:54,  1.44it/s]\u001b[A"
          ],
          "name": "stderr"
        },
        {
          "output_type": "stream",
          "text": [
            "\tTraining loss :  1.3028165716174487\n"
          ],
          "name": "stdout"
        },
        {
          "output_type": "stream",
          "text": [
            "\n",
            "Iteration:  37%|███▋      | 297/807 [03:21<05:47,  1.47it/s]\u001b[A\n",
            "Iteration:  37%|███▋      | 298/807 [03:22<05:42,  1.49it/s]\u001b[A\n",
            "Iteration:  37%|███▋      | 299/807 [03:23<05:38,  1.50it/s]\u001b[A\n",
            "Iteration:  37%|███▋      | 300/807 [03:23<05:52,  1.44it/s]\u001b[A"
          ],
          "name": "stderr"
        },
        {
          "output_type": "stream",
          "text": [
            "\tTraining loss :  1.3030320205291113\n"
          ],
          "name": "stdout"
        },
        {
          "output_type": "stream",
          "text": [
            "\n",
            "Iteration:  37%|███▋      | 301/807 [03:24<05:45,  1.46it/s]\u001b[A\n",
            "Iteration:  37%|███▋      | 302/807 [03:25<05:39,  1.49it/s]\u001b[A\n",
            "Iteration:  38%|███▊      | 303/807 [03:25<05:35,  1.50it/s]\u001b[A\n",
            "Iteration:  38%|███▊      | 304/807 [03:26<05:48,  1.44it/s]\u001b[A"
          ],
          "name": "stderr"
        },
        {
          "output_type": "stream",
          "text": [
            "\tTraining loss :  1.3016324839309643\n"
          ],
          "name": "stdout"
        },
        {
          "output_type": "stream",
          "text": [
            "\n",
            "Iteration:  38%|███▊      | 305/807 [03:27<05:42,  1.47it/s]\u001b[A\n",
            "Iteration:  38%|███▊      | 306/807 [03:27<05:37,  1.49it/s]\u001b[A\n",
            "Iteration:  38%|███▊      | 307/807 [03:28<05:33,  1.50it/s]\u001b[A\n",
            "Iteration:  38%|███▊      | 308/807 [03:29<05:47,  1.44it/s]\u001b[A"
          ],
          "name": "stderr"
        },
        {
          "output_type": "stream",
          "text": [
            "\tTraining loss :  1.3015662214972756\n"
          ],
          "name": "stdout"
        },
        {
          "output_type": "stream",
          "text": [
            "\n",
            "Iteration:  38%|███▊      | 309/807 [03:29<05:39,  1.47it/s]\u001b[A\n",
            "Iteration:  38%|███▊      | 310/807 [03:30<05:34,  1.49it/s]\u001b[A\n",
            "Iteration:  39%|███▊      | 311/807 [03:31<05:29,  1.50it/s]\u001b[A\n",
            "Iteration:  39%|███▊      | 312/807 [03:31<05:44,  1.44it/s]\u001b[A"
          ],
          "name": "stderr"
        },
        {
          "output_type": "stream",
          "text": [
            "\tTraining loss :  1.2997554769882789\n"
          ],
          "name": "stdout"
        },
        {
          "output_type": "stream",
          "text": [
            "\n",
            "Iteration:  39%|███▉      | 313/807 [03:32<05:35,  1.47it/s]\u001b[A\n",
            "Iteration:  39%|███▉      | 314/807 [03:33<05:30,  1.49it/s]\u001b[A\n",
            "Iteration:  39%|███▉      | 315/807 [03:33<05:26,  1.51it/s]\u001b[A\n",
            "Iteration:  39%|███▉      | 316/807 [03:34<05:40,  1.44it/s]\u001b[A"
          ],
          "name": "stderr"
        },
        {
          "output_type": "stream",
          "text": [
            "\tTraining loss :  1.2993716627736636\n"
          ],
          "name": "stdout"
        },
        {
          "output_type": "stream",
          "text": [
            "\n",
            "Iteration:  39%|███▉      | 317/807 [03:35<05:32,  1.47it/s]\u001b[A\n",
            "Iteration:  39%|███▉      | 318/807 [03:35<05:28,  1.49it/s]\u001b[A\n",
            "Iteration:  40%|███▉      | 319/807 [03:36<05:24,  1.51it/s]\u001b[A\n",
            "Iteration:  40%|███▉      | 320/807 [03:37<05:37,  1.44it/s]\u001b[A"
          ],
          "name": "stderr"
        },
        {
          "output_type": "stream",
          "text": [
            "\tTraining loss :  1.30121367610991\n"
          ],
          "name": "stdout"
        },
        {
          "output_type": "stream",
          "text": [
            "\n",
            "Iteration:  40%|███▉      | 321/807 [03:37<05:31,  1.46it/s]\u001b[A\n",
            "Iteration:  40%|███▉      | 322/807 [03:38<05:26,  1.49it/s]\u001b[A\n",
            "Iteration:  40%|████      | 323/807 [03:39<05:22,  1.50it/s]\u001b[A\n",
            "Iteration:  40%|████      | 324/807 [03:40<05:35,  1.44it/s]\u001b[A"
          ],
          "name": "stderr"
        },
        {
          "output_type": "stream",
          "text": [
            "\tTraining loss :  1.3052184386753742\n"
          ],
          "name": "stdout"
        },
        {
          "output_type": "stream",
          "text": [
            "\n",
            "Iteration:  40%|████      | 325/807 [03:40<05:27,  1.47it/s]\u001b[A\n",
            "Iteration:  40%|████      | 326/807 [03:41<05:24,  1.48it/s]\u001b[A\n",
            "Iteration:  41%|████      | 327/807 [03:42<05:19,  1.50it/s]\u001b[A\n",
            "Iteration:  41%|████      | 328/807 [03:42<05:32,  1.44it/s]\u001b[A"
          ],
          "name": "stderr"
        },
        {
          "output_type": "stream",
          "text": [
            "\tTraining loss :  1.3076826977293665\n"
          ],
          "name": "stdout"
        },
        {
          "output_type": "stream",
          "text": [
            "\n",
            "Iteration:  41%|████      | 329/807 [03:43<05:26,  1.47it/s]\u001b[A\n",
            "Iteration:  41%|████      | 330/807 [03:44<05:21,  1.48it/s]\u001b[A\n",
            "Iteration:  41%|████      | 331/807 [03:44<05:16,  1.50it/s]\u001b[A\n",
            "Iteration:  41%|████      | 332/807 [03:45<05:30,  1.44it/s]\u001b[A"
          ],
          "name": "stderr"
        },
        {
          "output_type": "stream",
          "text": [
            "\tTraining loss :  1.3120414212525608\n"
          ],
          "name": "stdout"
        },
        {
          "output_type": "stream",
          "text": [
            "\n",
            "Iteration:  41%|████▏     | 333/807 [03:46<05:23,  1.47it/s]\u001b[A\n",
            "Iteration:  41%|████▏     | 334/807 [03:46<05:18,  1.49it/s]\u001b[A\n",
            "Iteration:  42%|████▏     | 335/807 [03:47<05:14,  1.50it/s]\u001b[A\n",
            "Iteration:  42%|████▏     | 336/807 [03:48<05:27,  1.44it/s]\u001b[A"
          ],
          "name": "stderr"
        },
        {
          "output_type": "stream",
          "text": [
            "\tTraining loss :  1.312175877392292\n"
          ],
          "name": "stdout"
        },
        {
          "output_type": "stream",
          "text": [
            "\n",
            "Iteration:  42%|████▏     | 337/807 [03:48<05:20,  1.47it/s]\u001b[A\n",
            "Iteration:  42%|████▏     | 338/807 [03:49<05:15,  1.49it/s]\u001b[A\n",
            "Iteration:  42%|████▏     | 339/807 [03:50<05:11,  1.50it/s]\u001b[A\n",
            "Iteration:  42%|████▏     | 340/807 [03:50<05:23,  1.44it/s]\u001b[A"
          ],
          "name": "stderr"
        },
        {
          "output_type": "stream",
          "text": [
            "\tTraining loss :  1.314834673615063\n"
          ],
          "name": "stdout"
        },
        {
          "output_type": "stream",
          "text": [
            "\n",
            "Iteration:  42%|████▏     | 341/807 [03:51<05:17,  1.47it/s]\u001b[A\n",
            "Iteration:  42%|████▏     | 342/807 [03:52<05:12,  1.49it/s]\u001b[A\n",
            "Iteration:  43%|████▎     | 343/807 [03:52<05:09,  1.50it/s]\u001b[A\n",
            "Iteration:  43%|████▎     | 344/807 [03:53<05:21,  1.44it/s]\u001b[A"
          ],
          "name": "stderr"
        },
        {
          "output_type": "stream",
          "text": [
            "\tTraining loss :  1.3139603631787522\n"
          ],
          "name": "stdout"
        },
        {
          "output_type": "stream",
          "text": [
            "\n",
            "Iteration:  43%|████▎     | 345/807 [03:54<05:14,  1.47it/s]\u001b[A\n",
            "Iteration:  43%|████▎     | 346/807 [03:54<05:10,  1.48it/s]\u001b[A\n",
            "Iteration:  43%|████▎     | 347/807 [03:55<05:05,  1.51it/s]\u001b[A\n",
            "Iteration:  43%|████▎     | 348/807 [03:56<05:18,  1.44it/s]\u001b[A"
          ],
          "name": "stderr"
        },
        {
          "output_type": "stream",
          "text": [
            "\tTraining loss :  1.3140837644366012\n"
          ],
          "name": "stdout"
        },
        {
          "output_type": "stream",
          "text": [
            "\n",
            "Iteration:  43%|████▎     | 349/807 [03:56<05:12,  1.47it/s]\u001b[A\n",
            "Iteration:  43%|████▎     | 350/807 [03:57<05:07,  1.49it/s]\u001b[A\n",
            "Iteration:  43%|████▎     | 351/807 [03:58<05:03,  1.50it/s]\u001b[A\n",
            "Iteration:  44%|████▎     | 352/807 [03:59<05:15,  1.44it/s]\u001b[A"
          ],
          "name": "stderr"
        },
        {
          "output_type": "stream",
          "text": [
            "\tTraining loss :  1.3133791871368885\n"
          ],
          "name": "stdout"
        },
        {
          "output_type": "stream",
          "text": [
            "\n",
            "Iteration:  44%|████▎     | 353/807 [03:59<05:08,  1.47it/s]\u001b[A\n",
            "Iteration:  44%|████▍     | 354/807 [04:00<05:04,  1.49it/s]\u001b[A\n",
            "Iteration:  44%|████▍     | 355/807 [04:00<05:00,  1.50it/s]\u001b[A\n",
            "Iteration:  44%|████▍     | 356/807 [04:01<05:13,  1.44it/s]\u001b[A"
          ],
          "name": "stderr"
        },
        {
          "output_type": "stream",
          "text": [
            "\tTraining loss :  1.3134655108612574\n"
          ],
          "name": "stdout"
        },
        {
          "output_type": "stream",
          "text": [
            "\n",
            "Iteration:  44%|████▍     | 357/807 [04:02<05:06,  1.47it/s]\u001b[A\n",
            "Iteration:  44%|████▍     | 358/807 [04:03<05:02,  1.48it/s]\u001b[A\n",
            "Iteration:  44%|████▍     | 359/807 [04:03<04:58,  1.50it/s]\u001b[A\n",
            "Iteration:  45%|████▍     | 360/807 [04:04<05:11,  1.44it/s]\u001b[A"
          ],
          "name": "stderr"
        },
        {
          "output_type": "stream",
          "text": [
            "\tTraining loss :  1.3182924542162153\n"
          ],
          "name": "stdout"
        },
        {
          "output_type": "stream",
          "text": [
            "\n",
            "Iteration:  45%|████▍     | 361/807 [04:05<05:04,  1.46it/s]\u001b[A\n",
            "Iteration:  45%|████▍     | 362/807 [04:05<04:59,  1.48it/s]\u001b[A\n",
            "Iteration:  45%|████▍     | 363/807 [04:06<04:55,  1.50it/s]\u001b[A\n",
            "Iteration:  45%|████▌     | 364/807 [04:07<05:07,  1.44it/s]\u001b[A"
          ],
          "name": "stderr"
        },
        {
          "output_type": "stream",
          "text": [
            "\tTraining loss :  1.318926370733387\n"
          ],
          "name": "stdout"
        },
        {
          "output_type": "stream",
          "text": [
            "\n",
            "Iteration:  45%|████▌     | 365/807 [04:07<05:00,  1.47it/s]\u001b[A\n",
            "Iteration:  45%|████▌     | 366/807 [04:08<04:56,  1.49it/s]\u001b[A\n",
            "Iteration:  45%|████▌     | 367/807 [04:09<04:53,  1.50it/s]\u001b[A\n",
            "Iteration:  46%|████▌     | 368/807 [04:09<05:05,  1.44it/s]\u001b[A"
          ],
          "name": "stderr"
        },
        {
          "output_type": "stream",
          "text": [
            "\tTraining loss :  1.317583113260891\n"
          ],
          "name": "stdout"
        },
        {
          "output_type": "stream",
          "text": [
            "\n",
            "Iteration:  46%|████▌     | 369/807 [04:10<04:58,  1.47it/s]\u001b[A\n",
            "Iteration:  46%|████▌     | 370/807 [04:11<04:53,  1.49it/s]\u001b[A\n",
            "Iteration:  46%|████▌     | 371/807 [04:11<04:50,  1.50it/s]\u001b[A\n",
            "Iteration:  46%|████▌     | 372/807 [04:12<05:02,  1.44it/s]\u001b[A"
          ],
          "name": "stderr"
        },
        {
          "output_type": "stream",
          "text": [
            "\tTraining loss :  1.3161433034686632\n"
          ],
          "name": "stdout"
        },
        {
          "output_type": "stream",
          "text": [
            "\n",
            "Iteration:  46%|████▌     | 373/807 [04:13<04:55,  1.47it/s]\u001b[A\n",
            "Iteration:  46%|████▋     | 374/807 [04:13<04:50,  1.49it/s]\u001b[A\n",
            "Iteration:  46%|████▋     | 375/807 [04:14<04:47,  1.50it/s]\u001b[A\n",
            "Iteration:  47%|████▋     | 376/807 [04:15<04:59,  1.44it/s]\u001b[A"
          ],
          "name": "stderr"
        },
        {
          "output_type": "stream",
          "text": [
            "\tTraining loss :  1.3130994370960174\n"
          ],
          "name": "stdout"
        },
        {
          "output_type": "stream",
          "text": [
            "\n",
            "Iteration:  47%|████▋     | 377/807 [04:15<04:52,  1.47it/s]\u001b[A\n",
            "Iteration:  47%|████▋     | 378/807 [04:16<04:48,  1.49it/s]\u001b[A\n",
            "Iteration:  47%|████▋     | 379/807 [04:17<04:44,  1.50it/s]\u001b[A\n",
            "Iteration:  47%|████▋     | 380/807 [04:18<04:56,  1.44it/s]\u001b[A"
          ],
          "name": "stderr"
        },
        {
          "output_type": "stream",
          "text": [
            "\tTraining loss :  1.31640560893636\n"
          ],
          "name": "stdout"
        },
        {
          "output_type": "stream",
          "text": [
            "\n",
            "Iteration:  47%|████▋     | 381/807 [04:18<04:49,  1.47it/s]\u001b[A\n",
            "Iteration:  47%|████▋     | 382/807 [04:19<04:46,  1.49it/s]\u001b[A\n",
            "Iteration:  47%|████▋     | 383/807 [04:20<04:41,  1.50it/s]\u001b[A\n",
            "Iteration:  48%|████▊     | 384/807 [04:20<04:53,  1.44it/s]\u001b[A"
          ],
          "name": "stderr"
        },
        {
          "output_type": "stream",
          "text": [
            "\tTraining loss :  1.3145366129465401\n"
          ],
          "name": "stdout"
        },
        {
          "output_type": "stream",
          "text": [
            "\n",
            "Iteration:  48%|████▊     | 385/807 [04:21<04:48,  1.46it/s]\u001b[A\n",
            "Iteration:  48%|████▊     | 386/807 [04:22<04:43,  1.48it/s]\u001b[A\n",
            "Iteration:  48%|████▊     | 387/807 [04:22<04:39,  1.50it/s]\u001b[A\n",
            "Iteration:  48%|████▊     | 388/807 [04:23<04:50,  1.44it/s]\u001b[A"
          ],
          "name": "stderr"
        },
        {
          "output_type": "stream",
          "text": [
            "\tTraining loss :  1.314452104808129\n"
          ],
          "name": "stdout"
        },
        {
          "output_type": "stream",
          "text": [
            "\n",
            "Iteration:  48%|████▊     | 389/807 [04:24<04:44,  1.47it/s]\u001b[A\n",
            "Iteration:  48%|████▊     | 390/807 [04:24<04:40,  1.48it/s]\u001b[A\n",
            "Iteration:  48%|████▊     | 391/807 [04:25<04:38,  1.50it/s]\u001b[A\n",
            "Iteration:  49%|████▊     | 392/807 [04:26<04:49,  1.43it/s]\u001b[A"
          ],
          "name": "stderr"
        },
        {
          "output_type": "stream",
          "text": [
            "\tTraining loss :  1.3132324454431632\n"
          ],
          "name": "stdout"
        },
        {
          "output_type": "stream",
          "text": [
            "\n",
            "Iteration:  49%|████▊     | 393/807 [04:26<04:42,  1.46it/s]\u001b[A\n",
            "Iteration:  49%|████▉     | 394/807 [04:27<04:37,  1.49it/s]\u001b[A\n",
            "Iteration:  49%|████▉     | 395/807 [04:28<04:33,  1.51it/s]\u001b[A\n",
            "Iteration:  49%|████▉     | 396/807 [04:28<04:44,  1.44it/s]\u001b[A"
          ],
          "name": "stderr"
        },
        {
          "output_type": "stream",
          "text": [
            "\tTraining loss :  1.31320368114746\n"
          ],
          "name": "stdout"
        },
        {
          "output_type": "stream",
          "text": [
            "\n",
            "Iteration:  49%|████▉     | 397/807 [04:29<04:39,  1.47it/s]\u001b[A\n",
            "Iteration:  49%|████▉     | 398/807 [04:30<04:35,  1.49it/s]\u001b[A\n",
            "Iteration:  49%|████▉     | 399/807 [04:30<04:31,  1.50it/s]\u001b[A\n",
            "Iteration:  50%|████▉     | 400/807 [04:31<04:42,  1.44it/s]\u001b[A"
          ],
          "name": "stderr"
        },
        {
          "output_type": "stream",
          "text": [
            "\tTraining loss :  1.3147911466658115\n"
          ],
          "name": "stdout"
        },
        {
          "output_type": "stream",
          "text": [
            "\n",
            "Iteration:  50%|████▉     | 401/807 [04:32<04:36,  1.47it/s]\u001b[A\n",
            "Iteration:  50%|████▉     | 402/807 [04:32<04:32,  1.49it/s]\u001b[A\n",
            "Iteration:  50%|████▉     | 403/807 [04:33<04:28,  1.50it/s]\u001b[A\n",
            "Iteration:  50%|█████     | 404/807 [04:34<04:39,  1.44it/s]\u001b[A"
          ],
          "name": "stderr"
        },
        {
          "output_type": "stream",
          "text": [
            "\tTraining loss :  1.312369752785947\n"
          ],
          "name": "stdout"
        },
        {
          "output_type": "stream",
          "text": [
            "\n",
            "Iteration:  50%|█████     | 405/807 [04:34<04:33,  1.47it/s]\u001b[A\n",
            "Iteration:  50%|█████     | 406/807 [04:35<04:28,  1.49it/s]\u001b[A\n",
            "Iteration:  50%|█████     | 407/807 [04:36<04:26,  1.50it/s]\u001b[A\n",
            "Iteration:  51%|█████     | 408/807 [04:37<04:37,  1.44it/s]\u001b[A"
          ],
          "name": "stderr"
        },
        {
          "output_type": "stream",
          "text": [
            "\tTraining loss :  1.309563334227777\n"
          ],
          "name": "stdout"
        },
        {
          "output_type": "stream",
          "text": [
            "\n",
            "Iteration:  51%|█████     | 409/807 [04:37<04:30,  1.47it/s]\u001b[A\n",
            "Iteration:  51%|█████     | 410/807 [04:38<04:27,  1.49it/s]\u001b[A\n",
            "Iteration:  51%|█████     | 411/807 [04:39<04:23,  1.50it/s]\u001b[A\n",
            "Iteration:  51%|█████     | 412/807 [04:39<04:35,  1.43it/s]\u001b[A"
          ],
          "name": "stderr"
        },
        {
          "output_type": "stream",
          "text": [
            "\tTraining loss :  1.3104292792313308\n"
          ],
          "name": "stdout"
        },
        {
          "output_type": "stream",
          "text": [
            "\n",
            "Iteration:  51%|█████     | 413/807 [04:40<04:28,  1.47it/s]\u001b[A\n",
            "Iteration:  51%|█████▏    | 414/807 [04:41<04:24,  1.49it/s]\u001b[A\n",
            "Iteration:  51%|█████▏    | 415/807 [04:41<04:21,  1.50it/s]\u001b[A\n",
            "Iteration:  52%|█████▏    | 416/807 [04:42<04:31,  1.44it/s]\u001b[A"
          ],
          "name": "stderr"
        },
        {
          "output_type": "stream",
          "text": [
            "\tTraining loss :  1.3096718256576703\n"
          ],
          "name": "stdout"
        },
        {
          "output_type": "stream",
          "text": [
            "\n",
            "Iteration:  52%|█████▏    | 417/807 [04:43<04:25,  1.47it/s]\u001b[A\n",
            "Iteration:  52%|█████▏    | 418/807 [04:43<04:22,  1.48it/s]\u001b[A\n",
            "Iteration:  52%|█████▏    | 419/807 [04:44<04:19,  1.50it/s]\u001b[A\n",
            "Iteration:  52%|█████▏    | 420/807 [04:45<04:30,  1.43it/s]\u001b[A"
          ],
          "name": "stderr"
        },
        {
          "output_type": "stream",
          "text": [
            "\tTraining loss :  1.3075896177973065\n"
          ],
          "name": "stdout"
        },
        {
          "output_type": "stream",
          "text": [
            "\n",
            "Iteration:  52%|█████▏    | 421/807 [04:45<04:23,  1.46it/s]\u001b[A\n",
            "Iteration:  52%|█████▏    | 422/807 [04:46<04:19,  1.48it/s]\u001b[A\n",
            "Iteration:  52%|█████▏    | 423/807 [04:47<04:15,  1.50it/s]\u001b[A\n",
            "Iteration:  53%|█████▎    | 424/807 [04:47<04:26,  1.44it/s]\u001b[A"
          ],
          "name": "stderr"
        },
        {
          "output_type": "stream",
          "text": [
            "\tTraining loss :  1.3082526126560174\n"
          ],
          "name": "stdout"
        },
        {
          "output_type": "stream",
          "text": [
            "\n",
            "Iteration:  53%|█████▎    | 425/807 [04:48<04:21,  1.46it/s]\u001b[A\n",
            "Iteration:  53%|█████▎    | 426/807 [04:49<04:17,  1.48it/s]\u001b[A\n",
            "Iteration:  53%|█████▎    | 427/807 [04:49<04:13,  1.50it/s]\u001b[A\n",
            "Iteration:  53%|█████▎    | 428/807 [04:50<04:23,  1.44it/s]\u001b[A"
          ],
          "name": "stderr"
        },
        {
          "output_type": "stream",
          "text": [
            "\tTraining loss :  1.3103290943898886\n"
          ],
          "name": "stdout"
        },
        {
          "output_type": "stream",
          "text": [
            "\n",
            "Iteration:  53%|█████▎    | 429/807 [04:51<04:17,  1.47it/s]\u001b[A\n",
            "Iteration:  53%|█████▎    | 430/807 [04:51<04:13,  1.49it/s]\u001b[A\n",
            "Iteration:  53%|█████▎    | 431/807 [04:52<04:09,  1.51it/s]\u001b[A\n",
            "Iteration:  54%|█████▎    | 432/807 [04:53<04:20,  1.44it/s]\u001b[A"
          ],
          "name": "stderr"
        },
        {
          "output_type": "stream",
          "text": [
            "\tTraining loss :  1.3111834252874057\n"
          ],
          "name": "stdout"
        },
        {
          "output_type": "stream",
          "text": [
            "\n",
            "Iteration:  54%|█████▎    | 433/807 [04:54<04:14,  1.47it/s]\u001b[A\n",
            "Iteration:  54%|█████▍    | 434/807 [04:54<04:11,  1.48it/s]\u001b[A\n",
            "Iteration:  54%|█████▍    | 435/807 [04:55<04:07,  1.51it/s]\u001b[A\n",
            "Iteration:  54%|█████▍    | 436/807 [04:56<04:18,  1.44it/s]\u001b[A"
          ],
          "name": "stderr"
        },
        {
          "output_type": "stream",
          "text": [
            "\tTraining loss :  1.3103088236183202\n"
          ],
          "name": "stdout"
        },
        {
          "output_type": "stream",
          "text": [
            "\n",
            "Iteration:  54%|█████▍    | 437/807 [04:56<04:12,  1.46it/s]\u001b[A\n",
            "Iteration:  54%|█████▍    | 438/807 [04:57<04:08,  1.48it/s]\u001b[A\n",
            "Iteration:  54%|█████▍    | 439/807 [04:58<04:04,  1.51it/s]\u001b[A\n",
            "Iteration:  55%|█████▍    | 440/807 [04:58<04:14,  1.44it/s]\u001b[A"
          ],
          "name": "stderr"
        },
        {
          "output_type": "stream",
          "text": [
            "\tTraining loss :  1.3089460067451\n"
          ],
          "name": "stdout"
        },
        {
          "output_type": "stream",
          "text": [
            "\n",
            "Iteration:  55%|█████▍    | 441/807 [04:59<04:09,  1.47it/s]\u001b[A\n",
            "Iteration:  55%|█████▍    | 442/807 [05:00<04:04,  1.49it/s]\u001b[A\n",
            "Iteration:  55%|█████▍    | 443/807 [05:00<04:01,  1.51it/s]\u001b[A\n",
            "Iteration:  55%|█████▌    | 444/807 [05:01<04:12,  1.44it/s]\u001b[A"
          ],
          "name": "stderr"
        },
        {
          "output_type": "stream",
          "text": [
            "\tTraining loss :  1.3127633207687386\n"
          ],
          "name": "stdout"
        },
        {
          "output_type": "stream",
          "text": [
            "\n",
            "Iteration:  55%|█████▌    | 445/807 [05:02<04:06,  1.47it/s]\u001b[A\n",
            "Iteration:  55%|█████▌    | 446/807 [05:02<04:03,  1.48it/s]\u001b[A\n",
            "Iteration:  55%|█████▌    | 447/807 [05:03<03:59,  1.50it/s]\u001b[A\n",
            "Iteration:  56%|█████▌    | 448/807 [05:04<04:09,  1.44it/s]\u001b[A"
          ],
          "name": "stderr"
        },
        {
          "output_type": "stream",
          "text": [
            "\tTraining loss :  1.3114356996624597\n"
          ],
          "name": "stdout"
        },
        {
          "output_type": "stream",
          "text": [
            "\n",
            "Iteration:  56%|█████▌    | 449/807 [05:04<04:04,  1.47it/s]\u001b[A\n",
            "Iteration:  56%|█████▌    | 450/807 [05:05<04:00,  1.48it/s]\u001b[A\n",
            "Iteration:  56%|█████▌    | 451/807 [05:06<03:57,  1.50it/s]\u001b[A\n",
            "Iteration:  56%|█████▌    | 452/807 [05:06<04:06,  1.44it/s]\u001b[A"
          ],
          "name": "stderr"
        },
        {
          "output_type": "stream",
          "text": [
            "\tTraining loss :  1.312574952247396\n"
          ],
          "name": "stdout"
        },
        {
          "output_type": "stream",
          "text": [
            "\n",
            "Iteration:  56%|█████▌    | 453/807 [05:07<04:01,  1.46it/s]\u001b[A\n",
            "Iteration:  56%|█████▋    | 454/807 [05:08<03:58,  1.48it/s]\u001b[A\n",
            "Iteration:  56%|█████▋    | 455/807 [05:08<03:54,  1.50it/s]\u001b[A\n",
            "Iteration:  57%|█████▋    | 456/807 [05:09<04:04,  1.44it/s]\u001b[A"
          ],
          "name": "stderr"
        },
        {
          "output_type": "stream",
          "text": [
            "\tTraining loss :  1.307813332595846\n"
          ],
          "name": "stdout"
        },
        {
          "output_type": "stream",
          "text": [
            "\n",
            "Iteration:  57%|█████▋    | 457/807 [05:10<03:58,  1.47it/s]\u001b[A\n",
            "Iteration:  57%|█████▋    | 458/807 [05:10<03:55,  1.48it/s]\u001b[A\n",
            "Iteration:  57%|█████▋    | 459/807 [05:11<03:51,  1.50it/s]\u001b[A\n",
            "Iteration:  57%|█████▋    | 460/807 [05:12<04:00,  1.44it/s]\u001b[A"
          ],
          "name": "stderr"
        },
        {
          "output_type": "stream",
          "text": [
            "\tTraining loss :  1.3044269711427066\n"
          ],
          "name": "stdout"
        },
        {
          "output_type": "stream",
          "text": [
            "\n",
            "Iteration:  57%|█████▋    | 461/807 [05:13<03:55,  1.47it/s]\u001b[A\n",
            "Iteration:  57%|█████▋    | 462/807 [05:13<03:51,  1.49it/s]\u001b[A\n",
            "Iteration:  57%|█████▋    | 463/807 [05:14<03:48,  1.51it/s]\u001b[A\n",
            "Iteration:  57%|█████▋    | 464/807 [05:15<03:57,  1.44it/s]\u001b[A"
          ],
          "name": "stderr"
        },
        {
          "output_type": "stream",
          "text": [
            "\tTraining loss :  1.304767231039446\n"
          ],
          "name": "stdout"
        },
        {
          "output_type": "stream",
          "text": [
            "\n",
            "Iteration:  58%|█████▊    | 465/807 [05:15<03:51,  1.47it/s]\u001b[A\n",
            "Iteration:  58%|█████▊    | 466/807 [05:16<03:48,  1.49it/s]\u001b[A\n",
            "Iteration:  58%|█████▊    | 467/807 [05:17<03:46,  1.50it/s]\u001b[A\n",
            "Iteration:  58%|█████▊    | 468/807 [05:17<03:56,  1.44it/s]\u001b[A"
          ],
          "name": "stderr"
        },
        {
          "output_type": "stream",
          "text": [
            "\tTraining loss :  1.307838935436856\n"
          ],
          "name": "stdout"
        },
        {
          "output_type": "stream",
          "text": [
            "\n",
            "Iteration:  58%|█████▊    | 469/807 [05:18<03:50,  1.47it/s]\u001b[A\n",
            "Iteration:  58%|█████▊    | 470/807 [05:19<03:46,  1.49it/s]\u001b[A\n",
            "Iteration:  58%|█████▊    | 471/807 [05:19<03:44,  1.50it/s]\u001b[A\n",
            "Iteration:  58%|█████▊    | 472/807 [05:20<03:52,  1.44it/s]\u001b[A"
          ],
          "name": "stderr"
        },
        {
          "output_type": "stream",
          "text": [
            "\tTraining loss :  1.306618437612966\n"
          ],
          "name": "stdout"
        },
        {
          "output_type": "stream",
          "text": [
            "\n",
            "Iteration:  59%|█████▊    | 473/807 [05:21<03:47,  1.47it/s]\u001b[A\n",
            "Iteration:  59%|█████▊    | 474/807 [05:21<03:43,  1.49it/s]\u001b[A\n",
            "Iteration:  59%|█████▉    | 475/807 [05:22<03:40,  1.50it/s]\u001b[A\n",
            "Iteration:  59%|█████▉    | 476/807 [05:23<03:50,  1.44it/s]\u001b[A"
          ],
          "name": "stderr"
        },
        {
          "output_type": "stream",
          "text": [
            "\tTraining loss :  1.306177832937541\n"
          ],
          "name": "stdout"
        },
        {
          "output_type": "stream",
          "text": [
            "\n",
            "Iteration:  59%|█████▉    | 477/807 [05:23<03:44,  1.47it/s]\u001b[A\n",
            "Iteration:  59%|█████▉    | 478/807 [05:24<03:41,  1.49it/s]\u001b[A\n",
            "Iteration:  59%|█████▉    | 479/807 [05:25<03:38,  1.50it/s]\u001b[A\n",
            "Iteration:  59%|█████▉    | 480/807 [05:25<03:46,  1.44it/s]\u001b[A"
          ],
          "name": "stderr"
        },
        {
          "output_type": "stream",
          "text": [
            "\tTraining loss :  1.306634627468884\n"
          ],
          "name": "stdout"
        },
        {
          "output_type": "stream",
          "text": [
            "\n",
            "Iteration:  60%|█████▉    | 481/807 [05:26<03:42,  1.47it/s]\u001b[A\n",
            "Iteration:  60%|█████▉    | 482/807 [05:27<03:38,  1.49it/s]\u001b[A\n",
            "Iteration:  60%|█████▉    | 483/807 [05:27<03:35,  1.51it/s]\u001b[A\n",
            "Iteration:  60%|█████▉    | 484/807 [05:28<03:44,  1.44it/s]\u001b[A"
          ],
          "name": "stderr"
        },
        {
          "output_type": "stream",
          "text": [
            "\tTraining loss :  1.3075614790162764\n"
          ],
          "name": "stdout"
        },
        {
          "output_type": "stream",
          "text": [
            "\n",
            "Iteration:  60%|██████    | 485/807 [05:29<03:39,  1.47it/s]\u001b[A\n",
            "Iteration:  60%|██████    | 486/807 [05:29<03:36,  1.49it/s]\u001b[A\n",
            "Iteration:  60%|██████    | 487/807 [05:30<03:32,  1.50it/s]\u001b[A\n",
            "Iteration:  60%|██████    | 488/807 [05:31<03:41,  1.44it/s]\u001b[A"
          ],
          "name": "stderr"
        },
        {
          "output_type": "stream",
          "text": [
            "\tTraining loss :  1.3070321516057506\n"
          ],
          "name": "stdout"
        },
        {
          "output_type": "stream",
          "text": [
            "\n",
            "Iteration:  61%|██████    | 489/807 [05:32<03:36,  1.47it/s]\u001b[A\n",
            "Iteration:  61%|██████    | 490/807 [05:32<03:32,  1.49it/s]\u001b[A\n",
            "Iteration:  61%|██████    | 491/807 [05:33<03:30,  1.50it/s]\u001b[A\n",
            "Iteration:  61%|██████    | 492/807 [05:34<03:38,  1.44it/s]\u001b[A"
          ],
          "name": "stderr"
        },
        {
          "output_type": "stream",
          "text": [
            "\tTraining loss :  1.3043866743280637\n"
          ],
          "name": "stdout"
        },
        {
          "output_type": "stream",
          "text": [
            "\n",
            "Iteration:  61%|██████    | 493/807 [05:34<03:33,  1.47it/s]\u001b[A\n",
            "Iteration:  61%|██████    | 494/807 [05:35<03:30,  1.49it/s]\u001b[A\n",
            "Iteration:  61%|██████▏   | 495/807 [05:36<03:27,  1.50it/s]\u001b[A\n",
            "Iteration:  61%|██████▏   | 496/807 [05:36<03:36,  1.44it/s]\u001b[A"
          ],
          "name": "stderr"
        },
        {
          "output_type": "stream",
          "text": [
            "\tTraining loss :  1.3018421389523052\n"
          ],
          "name": "stdout"
        },
        {
          "output_type": "stream",
          "text": [
            "\n",
            "Iteration:  62%|██████▏   | 497/807 [05:37<03:31,  1.47it/s]\u001b[A\n",
            "Iteration:  62%|██████▏   | 498/807 [05:38<03:27,  1.49it/s]\u001b[A\n",
            "Iteration:  62%|██████▏   | 499/807 [05:38<03:25,  1.50it/s]\u001b[A\n",
            "Iteration:  62%|██████▏   | 500/807 [05:39<03:32,  1.44it/s]\u001b[A"
          ],
          "name": "stderr"
        },
        {
          "output_type": "stream",
          "text": [
            "\tTraining loss :  1.3051674807667732\n"
          ],
          "name": "stdout"
        },
        {
          "output_type": "stream",
          "text": [
            "\n",
            "Iteration:  62%|██████▏   | 501/807 [05:40<03:27,  1.47it/s]\u001b[A\n",
            "Iteration:  62%|██████▏   | 502/807 [05:40<03:24,  1.49it/s]\u001b[A\n",
            "Iteration:  62%|██████▏   | 503/807 [05:41<03:22,  1.50it/s]\u001b[A\n",
            "Iteration:  62%|██████▏   | 504/807 [05:42<03:31,  1.43it/s]\u001b[A"
          ],
          "name": "stderr"
        },
        {
          "output_type": "stream",
          "text": [
            "\tTraining loss :  1.304618279553122\n"
          ],
          "name": "stdout"
        },
        {
          "output_type": "stream",
          "text": [
            "\n",
            "Iteration:  63%|██████▎   | 505/807 [05:42<03:26,  1.46it/s]\u001b[A\n",
            "Iteration:  63%|██████▎   | 506/807 [05:43<03:22,  1.48it/s]\u001b[A\n",
            "Iteration:  63%|██████▎   | 507/807 [05:44<03:19,  1.50it/s]\u001b[A\n",
            "Iteration:  63%|██████▎   | 508/807 [05:44<03:28,  1.44it/s]\u001b[A"
          ],
          "name": "stderr"
        },
        {
          "output_type": "stream",
          "text": [
            "\tTraining loss :  1.3049065477148754\n"
          ],
          "name": "stdout"
        },
        {
          "output_type": "stream",
          "text": [
            "\n",
            "Iteration:  63%|██████▎   | 509/807 [05:45<03:23,  1.47it/s]\u001b[A\n",
            "Iteration:  63%|██████▎   | 510/807 [05:46<03:20,  1.48it/s]\u001b[A\n",
            "Iteration:  63%|██████▎   | 511/807 [05:46<03:16,  1.50it/s]\u001b[A\n",
            "Iteration:  63%|██████▎   | 512/807 [05:47<03:24,  1.44it/s]\u001b[A"
          ],
          "name": "stderr"
        },
        {
          "output_type": "stream",
          "text": [
            "\tTraining loss :  1.3035365982796066\n"
          ],
          "name": "stdout"
        },
        {
          "output_type": "stream",
          "text": [
            "\n",
            "Iteration:  64%|██████▎   | 513/807 [05:48<03:19,  1.47it/s]\u001b[A\n",
            "Iteration:  64%|██████▎   | 514/807 [05:48<03:16,  1.49it/s]\u001b[A\n",
            "Iteration:  64%|██████▍   | 515/807 [05:49<03:13,  1.51it/s]\u001b[A\n",
            "Iteration:  64%|██████▍   | 516/807 [05:50<03:21,  1.45it/s]\u001b[A"
          ],
          "name": "stderr"
        },
        {
          "output_type": "stream",
          "text": [
            "\tTraining loss :  1.3033697448613109\n"
          ],
          "name": "stdout"
        },
        {
          "output_type": "stream",
          "text": [
            "\n",
            "Iteration:  64%|██████▍   | 517/807 [05:50<03:16,  1.47it/s]\u001b[A\n",
            "Iteration:  64%|██████▍   | 518/807 [05:51<03:13,  1.49it/s]\u001b[A\n",
            "Iteration:  64%|██████▍   | 519/807 [05:52<03:11,  1.50it/s]\u001b[A\n",
            "Iteration:  64%|██████▍   | 520/807 [05:53<03:19,  1.44it/s]\u001b[A"
          ],
          "name": "stderr"
        },
        {
          "output_type": "stream",
          "text": [
            "\tTraining loss :  1.3007405285078746\n"
          ],
          "name": "stdout"
        },
        {
          "output_type": "stream",
          "text": [
            "\n",
            "Iteration:  65%|██████▍   | 521/807 [05:53<03:14,  1.47it/s]\u001b[A\n",
            "Iteration:  65%|██████▍   | 522/807 [05:54<03:11,  1.49it/s]\u001b[A\n",
            "Iteration:  65%|██████▍   | 523/807 [05:55<03:08,  1.51it/s]\u001b[A\n",
            "Iteration:  65%|██████▍   | 524/807 [05:55<03:16,  1.44it/s]\u001b[A"
          ],
          "name": "stderr"
        },
        {
          "output_type": "stream",
          "text": [
            "\tTraining loss :  1.3008070923103632\n"
          ],
          "name": "stdout"
        },
        {
          "output_type": "stream",
          "text": [
            "\n",
            "Iteration:  65%|██████▌   | 525/807 [05:56<03:11,  1.47it/s]\u001b[A\n",
            "Iteration:  65%|██████▌   | 526/807 [05:57<03:08,  1.49it/s]\u001b[A\n",
            "Iteration:  65%|██████▌   | 527/807 [05:57<03:05,  1.51it/s]\u001b[A\n",
            "Iteration:  65%|██████▌   | 528/807 [05:58<03:13,  1.45it/s]\u001b[A"
          ],
          "name": "stderr"
        },
        {
          "output_type": "stream",
          "text": [
            "\tTraining loss :  1.3004889549743948\n"
          ],
          "name": "stdout"
        },
        {
          "output_type": "stream",
          "text": [
            "\n",
            "Iteration:  66%|██████▌   | 529/807 [05:59<03:08,  1.47it/s]\u001b[A\n",
            "Iteration:  66%|██████▌   | 530/807 [05:59<03:05,  1.49it/s]\u001b[A\n",
            "Iteration:  66%|██████▌   | 531/807 [06:00<03:03,  1.51it/s]\u001b[A\n",
            "Iteration:  66%|██████▌   | 532/807 [06:01<03:10,  1.44it/s]\u001b[A"
          ],
          "name": "stderr"
        },
        {
          "output_type": "stream",
          "text": [
            "\tTraining loss :  1.2987195140773193\n"
          ],
          "name": "stdout"
        },
        {
          "output_type": "stream",
          "text": [
            "\n",
            "Iteration:  66%|██████▌   | 533/807 [06:01<03:05,  1.48it/s]\u001b[A\n",
            "Iteration:  66%|██████▌   | 534/807 [06:02<03:03,  1.49it/s]\u001b[A\n",
            "Iteration:  66%|██████▋   | 535/807 [06:03<03:00,  1.51it/s]\u001b[A\n",
            "Iteration:  66%|██████▋   | 536/807 [06:03<03:08,  1.44it/s]\u001b[A"
          ],
          "name": "stderr"
        },
        {
          "output_type": "stream",
          "text": [
            "\tTraining loss :  1.2992437870533609\n"
          ],
          "name": "stdout"
        },
        {
          "output_type": "stream",
          "text": [
            "\n",
            "Iteration:  67%|██████▋   | 537/807 [06:04<03:03,  1.47it/s]\u001b[A\n",
            "Iteration:  67%|██████▋   | 538/807 [06:05<03:01,  1.48it/s]\u001b[A\n",
            "Iteration:  67%|██████▋   | 539/807 [06:05<02:58,  1.50it/s]\u001b[A\n",
            "Iteration:  67%|██████▋   | 540/807 [06:06<03:05,  1.44it/s]\u001b[A"
          ],
          "name": "stderr"
        },
        {
          "output_type": "stream",
          "text": [
            "\tTraining loss :  1.3001906460633985\n"
          ],
          "name": "stdout"
        },
        {
          "output_type": "stream",
          "text": [
            "\n",
            "Iteration:  67%|██████▋   | 541/807 [06:07<03:01,  1.47it/s]\u001b[A\n",
            "Iteration:  67%|██████▋   | 542/807 [06:07<02:57,  1.49it/s]\u001b[A\n",
            "Iteration:  67%|██████▋   | 543/807 [06:08<02:55,  1.50it/s]\u001b[A\n",
            "Iteration:  67%|██████▋   | 544/807 [06:09<03:02,  1.44it/s]\u001b[A"
          ],
          "name": "stderr"
        },
        {
          "output_type": "stream",
          "text": [
            "\tTraining loss :  1.3007885092211997\n"
          ],
          "name": "stdout"
        },
        {
          "output_type": "stream",
          "text": [
            "\n",
            "Iteration:  68%|██████▊   | 545/807 [06:09<02:58,  1.47it/s]\u001b[A\n",
            "Iteration:  68%|██████▊   | 546/807 [06:10<02:55,  1.49it/s]\u001b[A\n",
            "Iteration:  68%|██████▊   | 547/807 [06:11<02:52,  1.50it/s]\u001b[A\n",
            "Iteration:  68%|██████▊   | 548/807 [06:12<02:59,  1.44it/s]\u001b[A"
          ],
          "name": "stderr"
        },
        {
          "output_type": "stream",
          "text": [
            "\tTraining loss :  1.3015346348176908\n"
          ],
          "name": "stdout"
        },
        {
          "output_type": "stream",
          "text": [
            "\n",
            "Iteration:  68%|██████▊   | 549/807 [06:12<02:55,  1.47it/s]\u001b[A\n",
            "Iteration:  68%|██████▊   | 550/807 [06:13<02:52,  1.49it/s]\u001b[A\n",
            "Iteration:  68%|██████▊   | 551/807 [06:13<02:50,  1.50it/s]\u001b[A\n",
            "Iteration:  68%|██████▊   | 552/807 [06:14<02:56,  1.44it/s]\u001b[A"
          ],
          "name": "stderr"
        },
        {
          "output_type": "stream",
          "text": [
            "\tTraining loss :  1.3039709741546623\n"
          ],
          "name": "stdout"
        },
        {
          "output_type": "stream",
          "text": [
            "\n",
            "Iteration:  69%|██████▊   | 553/807 [06:15<02:51,  1.48it/s]\u001b[A\n",
            "Iteration:  69%|██████▊   | 554/807 [06:16<02:50,  1.49it/s]\u001b[A\n",
            "Iteration:  69%|██████▉   | 555/807 [06:16<02:47,  1.50it/s]\u001b[A\n",
            "Iteration:  69%|██████▉   | 556/807 [06:17<02:54,  1.44it/s]\u001b[A"
          ],
          "name": "stderr"
        },
        {
          "output_type": "stream",
          "text": [
            "\tTraining loss :  1.3026840216714701\n"
          ],
          "name": "stdout"
        },
        {
          "output_type": "stream",
          "text": [
            "\n",
            "Iteration:  69%|██████▉   | 557/807 [06:18<02:50,  1.47it/s]\u001b[A\n",
            "Iteration:  69%|██████▉   | 558/807 [06:18<02:47,  1.48it/s]\u001b[A\n",
            "Iteration:  69%|██████▉   | 559/807 [06:19<02:45,  1.50it/s]\u001b[A\n",
            "Iteration:  69%|██████▉   | 560/807 [06:20<02:51,  1.44it/s]\u001b[A"
          ],
          "name": "stderr"
        },
        {
          "output_type": "stream",
          "text": [
            "\tTraining loss :  1.3013200503907034\n"
          ],
          "name": "stdout"
        },
        {
          "output_type": "stream",
          "text": [
            "\n",
            "Iteration:  70%|██████▉   | 561/807 [06:20<02:47,  1.47it/s]\u001b[A\n",
            "Iteration:  70%|██████▉   | 562/807 [06:21<02:44,  1.49it/s]\u001b[A\n",
            "Iteration:  70%|██████▉   | 563/807 [06:22<02:42,  1.50it/s]\u001b[A\n",
            "Iteration:  70%|██████▉   | 564/807 [06:22<02:49,  1.43it/s]\u001b[A"
          ],
          "name": "stderr"
        },
        {
          "output_type": "stream",
          "text": [
            "\tTraining loss :  1.3016212568321126\n"
          ],
          "name": "stdout"
        },
        {
          "output_type": "stream",
          "text": [
            "\n",
            "Iteration:  70%|███████   | 565/807 [06:23<02:45,  1.47it/s]\u001b[A\n",
            "Iteration:  70%|███████   | 566/807 [06:24<02:42,  1.48it/s]\u001b[A\n",
            "Iteration:  70%|███████   | 567/807 [06:24<02:40,  1.50it/s]\u001b[A\n",
            "Iteration:  70%|███████   | 568/807 [06:25<02:47,  1.43it/s]\u001b[A"
          ],
          "name": "stderr"
        },
        {
          "output_type": "stream",
          "text": [
            "\tTraining loss :  1.3026015903853194\n"
          ],
          "name": "stdout"
        },
        {
          "output_type": "stream",
          "text": [
            "\n",
            "Iteration:  71%|███████   | 569/807 [06:26<02:43,  1.46it/s]\u001b[A\n",
            "Iteration:  71%|███████   | 570/807 [06:26<02:40,  1.48it/s]\u001b[A\n",
            "Iteration:  71%|███████   | 571/807 [06:27<02:37,  1.50it/s]\u001b[A\n",
            "Iteration:  71%|███████   | 572/807 [06:28<02:43,  1.44it/s]\u001b[A"
          ],
          "name": "stderr"
        },
        {
          "output_type": "stream",
          "text": [
            "\tTraining loss :  1.3020096234195715\n"
          ],
          "name": "stdout"
        },
        {
          "output_type": "stream",
          "text": [
            "\n",
            "Iteration:  71%|███████   | 573/807 [06:28<02:39,  1.47it/s]\u001b[A\n",
            "Iteration:  71%|███████   | 574/807 [06:29<02:37,  1.48it/s]\u001b[A\n",
            "Iteration:  71%|███████▏  | 575/807 [06:30<02:34,  1.50it/s]\u001b[A\n",
            "Iteration:  71%|███████▏  | 576/807 [06:31<02:40,  1.44it/s]\u001b[A"
          ],
          "name": "stderr"
        },
        {
          "output_type": "stream",
          "text": [
            "\tTraining loss :  1.3004465046752658\n"
          ],
          "name": "stdout"
        },
        {
          "output_type": "stream",
          "text": [
            "\n",
            "Iteration:  71%|███████▏  | 577/807 [06:31<02:36,  1.47it/s]\u001b[A\n",
            "Iteration:  72%|███████▏  | 578/807 [06:32<02:34,  1.49it/s]\u001b[A\n",
            "Iteration:  72%|███████▏  | 579/807 [06:32<02:31,  1.50it/s]\u001b[A\n",
            "Iteration:  72%|███████▏  | 580/807 [06:33<02:37,  1.44it/s]\u001b[A"
          ],
          "name": "stderr"
        },
        {
          "output_type": "stream",
          "text": [
            "\tTraining loss :  1.301367328855498\n"
          ],
          "name": "stdout"
        },
        {
          "output_type": "stream",
          "text": [
            "\n",
            "Iteration:  72%|███████▏  | 581/807 [06:34<02:34,  1.46it/s]\u001b[A\n",
            "Iteration:  72%|███████▏  | 582/807 [06:35<02:31,  1.48it/s]\u001b[A\n",
            "Iteration:  72%|███████▏  | 583/807 [06:35<02:29,  1.49it/s]\u001b[A\n",
            "Iteration:  72%|███████▏  | 584/807 [06:36<02:35,  1.43it/s]\u001b[A"
          ],
          "name": "stderr"
        },
        {
          "output_type": "stream",
          "text": [
            "\tTraining loss :  1.3007739674657175\n"
          ],
          "name": "stdout"
        },
        {
          "output_type": "stream",
          "text": [
            "\n",
            "Iteration:  72%|███████▏  | 585/807 [06:37<02:31,  1.46it/s]\u001b[A\n",
            "Iteration:  73%|███████▎  | 586/807 [06:37<02:28,  1.49it/s]\u001b[A\n",
            "Iteration:  73%|███████▎  | 587/807 [06:38<02:26,  1.50it/s]\u001b[A\n",
            "Iteration:  73%|███████▎  | 588/807 [06:39<02:32,  1.44it/s]\u001b[A"
          ],
          "name": "stderr"
        },
        {
          "output_type": "stream",
          "text": [
            "\tTraining loss :  1.3013155914995136\n"
          ],
          "name": "stdout"
        },
        {
          "output_type": "stream",
          "text": [
            "\n",
            "Iteration:  73%|███████▎  | 589/807 [06:39<02:28,  1.47it/s]\u001b[A\n",
            "Iteration:  73%|███████▎  | 590/807 [06:40<02:25,  1.49it/s]\u001b[A\n",
            "Iteration:  73%|███████▎  | 591/807 [06:41<02:23,  1.50it/s]\u001b[A\n",
            "Iteration:  73%|███████▎  | 592/807 [06:41<02:29,  1.44it/s]\u001b[A"
          ],
          "name": "stderr"
        },
        {
          "output_type": "stream",
          "text": [
            "\tTraining loss :  1.301065753289574\n"
          ],
          "name": "stdout"
        },
        {
          "output_type": "stream",
          "text": [
            "\n",
            "Iteration:  73%|███████▎  | 593/807 [06:42<02:25,  1.47it/s]\u001b[A\n",
            "Iteration:  74%|███████▎  | 594/807 [06:43<02:23,  1.49it/s]\u001b[A\n",
            "Iteration:  74%|███████▎  | 595/807 [06:43<02:21,  1.50it/s]\u001b[A\n",
            "Iteration:  74%|███████▍  | 596/807 [06:44<02:26,  1.44it/s]\u001b[A"
          ],
          "name": "stderr"
        },
        {
          "output_type": "stream",
          "text": [
            "\tTraining loss :  1.301364006062082\n"
          ],
          "name": "stdout"
        },
        {
          "output_type": "stream",
          "text": [
            "\n",
            "Iteration:  74%|███████▍  | 597/807 [06:45<02:23,  1.47it/s]\u001b[A\n",
            "Iteration:  74%|███████▍  | 598/807 [06:45<02:20,  1.49it/s]\u001b[A\n",
            "Iteration:  74%|███████▍  | 599/807 [06:46<02:18,  1.50it/s]\u001b[A\n",
            "Iteration:  74%|███████▍  | 600/807 [06:47<02:23,  1.44it/s]\u001b[A"
          ],
          "name": "stderr"
        },
        {
          "output_type": "stream",
          "text": [
            "\tTraining loss :  1.3015569760898749\n"
          ],
          "name": "stdout"
        },
        {
          "output_type": "stream",
          "text": [
            "\n",
            "Iteration:  74%|███████▍  | 601/807 [06:48<02:20,  1.47it/s]\u001b[A\n",
            "Iteration:  75%|███████▍  | 602/807 [06:48<02:17,  1.49it/s]\u001b[A\n",
            "Iteration:  75%|███████▍  | 603/807 [06:49<02:15,  1.50it/s]\u001b[A\n",
            "Iteration:  75%|███████▍  | 604/807 [06:50<02:20,  1.44it/s]\u001b[A"
          ],
          "name": "stderr"
        },
        {
          "output_type": "stream",
          "text": [
            "\tTraining loss :  1.3020204783768843\n"
          ],
          "name": "stdout"
        },
        {
          "output_type": "stream",
          "text": [
            "\n",
            "Iteration:  75%|███████▍  | 605/807 [06:50<02:17,  1.47it/s]\u001b[A\n",
            "Iteration:  75%|███████▌  | 606/807 [06:51<02:15,  1.48it/s]\u001b[A\n",
            "Iteration:  75%|███████▌  | 607/807 [06:52<02:13,  1.50it/s]\u001b[A\n",
            "Iteration:  75%|███████▌  | 608/807 [06:52<02:18,  1.44it/s]\u001b[A"
          ],
          "name": "stderr"
        },
        {
          "output_type": "stream",
          "text": [
            "\tTraining loss :  1.3051500444447524\n"
          ],
          "name": "stdout"
        },
        {
          "output_type": "stream",
          "text": [
            "\n",
            "Iteration:  75%|███████▌  | 609/807 [06:53<02:14,  1.47it/s]\u001b[A\n",
            "Iteration:  76%|███████▌  | 610/807 [06:54<02:12,  1.49it/s]\u001b[A\n",
            "Iteration:  76%|███████▌  | 611/807 [06:54<02:10,  1.50it/s]\u001b[A\n",
            "Iteration:  76%|███████▌  | 612/807 [06:55<02:15,  1.44it/s]\u001b[A"
          ],
          "name": "stderr"
        },
        {
          "output_type": "stream",
          "text": [
            "\tTraining loss :  1.3043588943828166\n"
          ],
          "name": "stdout"
        },
        {
          "output_type": "stream",
          "text": [
            "\n",
            "Iteration:  76%|███████▌  | 613/807 [06:56<02:12,  1.46it/s]\u001b[A\n",
            "Iteration:  76%|███████▌  | 614/807 [06:56<02:09,  1.49it/s]\u001b[A\n",
            "Iteration:  76%|███████▌  | 615/807 [06:57<02:07,  1.50it/s]\u001b[A\n",
            "Iteration:  76%|███████▋  | 616/807 [06:58<02:12,  1.44it/s]\u001b[A"
          ],
          "name": "stderr"
        },
        {
          "output_type": "stream",
          "text": [
            "\tTraining loss :  1.303170280555239\n"
          ],
          "name": "stdout"
        },
        {
          "output_type": "stream",
          "text": [
            "\n",
            "Iteration:  76%|███████▋  | 617/807 [06:58<02:09,  1.47it/s]\u001b[A\n",
            "Iteration:  77%|███████▋  | 618/807 [06:59<02:06,  1.49it/s]\u001b[A\n",
            "Iteration:  77%|███████▋  | 619/807 [07:00<02:05,  1.50it/s]\u001b[A\n",
            "Iteration:  77%|███████▋  | 620/807 [07:00<02:10,  1.44it/s]\u001b[A"
          ],
          "name": "stderr"
        },
        {
          "output_type": "stream",
          "text": [
            "\tTraining loss :  1.3027372594321929\n"
          ],
          "name": "stdout"
        },
        {
          "output_type": "stream",
          "text": [
            "\n",
            "Iteration:  77%|███████▋  | 621/807 [07:01<02:07,  1.46it/s]\u001b[A\n",
            "Iteration:  77%|███████▋  | 622/807 [07:02<02:04,  1.48it/s]\u001b[A\n",
            "Iteration:  77%|███████▋  | 623/807 [07:02<02:02,  1.50it/s]\u001b[A\n",
            "Iteration:  77%|███████▋  | 624/807 [07:03<02:08,  1.43it/s]\u001b[A"
          ],
          "name": "stderr"
        },
        {
          "output_type": "stream",
          "text": [
            "\tTraining loss :  1.3041101024032404\n"
          ],
          "name": "stdout"
        },
        {
          "output_type": "stream",
          "text": [
            "\n",
            "Iteration:  77%|███████▋  | 625/807 [07:04<02:04,  1.47it/s]\u001b[A\n",
            "Iteration:  78%|███████▊  | 626/807 [07:04<02:02,  1.48it/s]\u001b[A\n",
            "Iteration:  78%|███████▊  | 627/807 [07:05<01:59,  1.50it/s]\u001b[A\n",
            "Iteration:  78%|███████▊  | 628/807 [07:06<02:04,  1.44it/s]\u001b[A"
          ],
          "name": "stderr"
        },
        {
          "output_type": "stream",
          "text": [
            "\tTraining loss :  1.3052027789745362\n"
          ],
          "name": "stdout"
        },
        {
          "output_type": "stream",
          "text": [
            "\n",
            "Iteration:  78%|███████▊  | 629/807 [07:07<02:01,  1.47it/s]\u001b[A\n",
            "Iteration:  78%|███████▊  | 630/807 [07:07<01:59,  1.48it/s]\u001b[A\n",
            "Iteration:  78%|███████▊  | 631/807 [07:08<01:57,  1.50it/s]\u001b[A\n",
            "Iteration:  78%|███████▊  | 632/807 [07:09<02:02,  1.43it/s]\u001b[A"
          ],
          "name": "stderr"
        },
        {
          "output_type": "stream",
          "text": [
            "\tTraining loss :  1.3070994076566607\n"
          ],
          "name": "stdout"
        },
        {
          "output_type": "stream",
          "text": [
            "\n",
            "Iteration:  78%|███████▊  | 633/807 [07:09<01:59,  1.46it/s]\u001b[A\n",
            "Iteration:  79%|███████▊  | 634/807 [07:10<01:56,  1.48it/s]\u001b[A\n",
            "Iteration:  79%|███████▊  | 635/807 [07:11<01:54,  1.50it/s]\u001b[A\n",
            "Iteration:  79%|███████▉  | 636/807 [07:11<01:59,  1.43it/s]\u001b[A"
          ],
          "name": "stderr"
        },
        {
          "output_type": "stream",
          "text": [
            "\tTraining loss :  1.3076758944669609\n"
          ],
          "name": "stdout"
        },
        {
          "output_type": "stream",
          "text": [
            "\n",
            "Iteration:  79%|███████▉  | 637/807 [07:12<01:56,  1.46it/s]\u001b[A\n",
            "Iteration:  79%|███████▉  | 638/807 [07:13<01:54,  1.48it/s]\u001b[A\n",
            "Iteration:  79%|███████▉  | 639/807 [07:13<01:52,  1.50it/s]\u001b[A\n",
            "Iteration:  79%|███████▉  | 640/807 [07:14<01:56,  1.44it/s]\u001b[A"
          ],
          "name": "stderr"
        },
        {
          "output_type": "stream",
          "text": [
            "\tTraining loss :  1.3054645471740514\n"
          ],
          "name": "stdout"
        },
        {
          "output_type": "stream",
          "text": [
            "\n",
            "Iteration:  79%|███████▉  | 641/807 [07:15<01:53,  1.46it/s]\u001b[A\n",
            "Iteration:  80%|███████▉  | 642/807 [07:15<01:51,  1.48it/s]\u001b[A\n",
            "Iteration:  80%|███████▉  | 643/807 [07:16<01:49,  1.49it/s]\u001b[A\n",
            "Iteration:  80%|███████▉  | 644/807 [07:17<01:54,  1.42it/s]\u001b[A"
          ],
          "name": "stderr"
        },
        {
          "output_type": "stream",
          "text": [
            "\tTraining loss :  1.3067778229065563\n"
          ],
          "name": "stdout"
        },
        {
          "output_type": "stream",
          "text": [
            "\n",
            "Iteration:  80%|███████▉  | 645/807 [07:17<01:51,  1.46it/s]\u001b[A\n",
            "Iteration:  80%|████████  | 646/807 [07:18<01:49,  1.47it/s]\u001b[A\n",
            "Iteration:  80%|████████  | 647/807 [07:19<01:47,  1.49it/s]\u001b[A\n",
            "Iteration:  80%|████████  | 648/807 [07:20<01:51,  1.43it/s]\u001b[A"
          ],
          "name": "stderr"
        },
        {
          "output_type": "stream",
          "text": [
            "\tTraining loss :  1.3063728453384504\n"
          ],
          "name": "stdout"
        },
        {
          "output_type": "stream",
          "text": [
            "\n",
            "Iteration:  80%|████████  | 649/807 [07:20<01:48,  1.46it/s]\u001b[A\n",
            "Iteration:  81%|████████  | 650/807 [07:21<01:45,  1.48it/s]\u001b[A\n",
            "Iteration:  81%|████████  | 651/807 [07:21<01:44,  1.50it/s]\u001b[A\n",
            "Iteration:  81%|████████  | 652/807 [07:22<01:48,  1.43it/s]\u001b[A"
          ],
          "name": "stderr"
        },
        {
          "output_type": "stream",
          "text": [
            "\tTraining loss :  1.3051649615442826\n"
          ],
          "name": "stdout"
        },
        {
          "output_type": "stream",
          "text": [
            "\n",
            "Iteration:  81%|████████  | 653/807 [07:23<01:44,  1.47it/s]\u001b[A\n",
            "Iteration:  81%|████████  | 654/807 [07:24<01:43,  1.48it/s]\u001b[A\n",
            "Iteration:  81%|████████  | 655/807 [07:24<01:41,  1.50it/s]\u001b[A\n",
            "Iteration:  81%|████████▏ | 656/807 [07:25<01:45,  1.43it/s]\u001b[A"
          ],
          "name": "stderr"
        },
        {
          "output_type": "stream",
          "text": [
            "\tTraining loss :  1.3053449824815844\n"
          ],
          "name": "stdout"
        },
        {
          "output_type": "stream",
          "text": [
            "\n",
            "Iteration:  81%|████████▏ | 657/807 [07:26<01:42,  1.47it/s]\u001b[A\n",
            "Iteration:  82%|████████▏ | 658/807 [07:26<01:40,  1.48it/s]\u001b[A\n",
            "Iteration:  82%|████████▏ | 659/807 [07:27<01:38,  1.50it/s]\u001b[A\n",
            "Iteration:  82%|████████▏ | 660/807 [07:28<01:42,  1.44it/s]\u001b[A"
          ],
          "name": "stderr"
        },
        {
          "output_type": "stream",
          "text": [
            "\tTraining loss :  1.305533793568611\n"
          ],
          "name": "stdout"
        },
        {
          "output_type": "stream",
          "text": [
            "\n",
            "Iteration:  82%|████████▏ | 661/807 [07:28<01:39,  1.47it/s]\u001b[A\n",
            "Iteration:  82%|████████▏ | 662/807 [07:29<01:37,  1.48it/s]\u001b[A\n",
            "Iteration:  82%|████████▏ | 663/807 [07:30<01:36,  1.50it/s]\u001b[A\n",
            "Iteration:  82%|████████▏ | 664/807 [07:30<01:39,  1.43it/s]\u001b[A"
          ],
          "name": "stderr"
        },
        {
          "output_type": "stream",
          "text": [
            "\tTraining loss :  1.3081293317029274\n"
          ],
          "name": "stdout"
        },
        {
          "output_type": "stream",
          "text": [
            "\n",
            "Iteration:  82%|████████▏ | 665/807 [07:31<01:37,  1.46it/s]\u001b[A\n",
            "Iteration:  83%|████████▎ | 666/807 [07:32<01:35,  1.48it/s]\u001b[A\n",
            "Iteration:  83%|████████▎ | 667/807 [07:32<01:33,  1.50it/s]\u001b[A\n",
            "Iteration:  83%|████████▎ | 668/807 [07:33<01:36,  1.44it/s]\u001b[A"
          ],
          "name": "stderr"
        },
        {
          "output_type": "stream",
          "text": [
            "\tTraining loss :  1.308543874921199\n"
          ],
          "name": "stdout"
        },
        {
          "output_type": "stream",
          "text": [
            "\n",
            "Iteration:  83%|████████▎ | 669/807 [07:34<01:34,  1.47it/s]\u001b[A\n",
            "Iteration:  83%|████████▎ | 670/807 [07:34<01:32,  1.48it/s]\u001b[A\n",
            "Iteration:  83%|████████▎ | 671/807 [07:35<01:31,  1.49it/s]\u001b[A\n",
            "Iteration:  83%|████████▎ | 672/807 [07:36<01:34,  1.43it/s]\u001b[A"
          ],
          "name": "stderr"
        },
        {
          "output_type": "stream",
          "text": [
            "\tTraining loss :  1.310781853273511\n"
          ],
          "name": "stdout"
        },
        {
          "output_type": "stream",
          "text": [
            "\n",
            "Iteration:  83%|████████▎ | 673/807 [07:37<01:31,  1.46it/s]\u001b[A\n",
            "Iteration:  84%|████████▎ | 674/807 [07:37<01:29,  1.48it/s]\u001b[A\n",
            "Iteration:  84%|████████▎ | 675/807 [07:38<01:28,  1.50it/s]\u001b[A\n",
            "Iteration:  84%|████████▍ | 676/807 [07:39<01:31,  1.44it/s]\u001b[A"
          ],
          "name": "stderr"
        },
        {
          "output_type": "stream",
          "text": [
            "\tTraining loss :  1.3087691152413217\n"
          ],
          "name": "stdout"
        },
        {
          "output_type": "stream",
          "text": [
            "\n",
            "Iteration:  84%|████████▍ | 677/807 [07:39<01:28,  1.46it/s]\u001b[A\n",
            "Iteration:  84%|████████▍ | 678/807 [07:40<01:27,  1.48it/s]\u001b[A\n",
            "Iteration:  84%|████████▍ | 679/807 [07:41<01:25,  1.49it/s]\u001b[A\n",
            "Iteration:  84%|████████▍ | 680/807 [07:41<01:28,  1.43it/s]\u001b[A"
          ],
          "name": "stderr"
        },
        {
          "output_type": "stream",
          "text": [
            "\tTraining loss :  1.3090209369273746\n"
          ],
          "name": "stdout"
        },
        {
          "output_type": "stream",
          "text": [
            "\n",
            "Iteration:  84%|████████▍ | 681/807 [07:42<01:26,  1.46it/s]\u001b[A\n",
            "Iteration:  85%|████████▍ | 682/807 [07:43<01:24,  1.48it/s]\u001b[A\n",
            "Iteration:  85%|████████▍ | 683/807 [07:43<01:22,  1.50it/s]\u001b[A\n",
            "Iteration:  85%|████████▍ | 684/807 [07:44<01:26,  1.43it/s]\u001b[A"
          ],
          "name": "stderr"
        },
        {
          "output_type": "stream",
          "text": [
            "\tTraining loss :  1.3088775499348055\n"
          ],
          "name": "stdout"
        },
        {
          "output_type": "stream",
          "text": [
            "\n",
            "Iteration:  85%|████████▍ | 685/807 [07:45<01:23,  1.46it/s]\u001b[A\n",
            "Iteration:  85%|████████▌ | 686/807 [07:45<01:21,  1.48it/s]\u001b[A\n",
            "Iteration:  85%|████████▌ | 687/807 [07:46<01:20,  1.50it/s]\u001b[A\n",
            "Iteration:  85%|████████▌ | 688/807 [07:47<01:22,  1.44it/s]\u001b[A"
          ],
          "name": "stderr"
        },
        {
          "output_type": "stream",
          "text": [
            "\tTraining loss :  1.3086105572103068\n"
          ],
          "name": "stdout"
        },
        {
          "output_type": "stream",
          "text": [
            "\n",
            "Iteration:  85%|████████▌ | 689/807 [07:47<01:20,  1.47it/s]\u001b[A\n",
            "Iteration:  86%|████████▌ | 690/807 [07:48<01:18,  1.48it/s]\u001b[A\n",
            "Iteration:  86%|████████▌ | 691/807 [07:49<01:17,  1.50it/s]\u001b[A\n",
            "Iteration:  86%|████████▌ | 692/807 [07:49<01:19,  1.44it/s]\u001b[A"
          ],
          "name": "stderr"
        },
        {
          "output_type": "stream",
          "text": [
            "\tTraining loss :  1.3098502178929445\n"
          ],
          "name": "stdout"
        },
        {
          "output_type": "stream",
          "text": [
            "\n",
            "Iteration:  86%|████████▌ | 693/807 [07:50<01:17,  1.47it/s]\u001b[A\n",
            "Iteration:  86%|████████▌ | 694/807 [07:51<01:15,  1.49it/s]\u001b[A\n",
            "Iteration:  86%|████████▌ | 695/807 [07:51<01:14,  1.50it/s]\u001b[A\n",
            "Iteration:  86%|████████▌ | 696/807 [07:52<01:17,  1.44it/s]\u001b[A"
          ],
          "name": "stderr"
        },
        {
          "output_type": "stream",
          "text": [
            "\tTraining loss :  1.3084439093182827\n"
          ],
          "name": "stdout"
        },
        {
          "output_type": "stream",
          "text": [
            "\n",
            "Iteration:  86%|████████▋ | 697/807 [07:53<01:14,  1.47it/s]\u001b[A\n",
            "Iteration:  86%|████████▋ | 698/807 [07:53<01:13,  1.48it/s]\u001b[A\n",
            "Iteration:  87%|████████▋ | 699/807 [07:54<01:12,  1.50it/s]\u001b[A\n",
            "Iteration:  87%|████████▋ | 700/807 [07:55<01:14,  1.44it/s]\u001b[A"
          ],
          "name": "stderr"
        },
        {
          "output_type": "stream",
          "text": [
            "\tTraining loss :  1.308276965192386\n"
          ],
          "name": "stdout"
        },
        {
          "output_type": "stream",
          "text": [
            "\n",
            "Iteration:  87%|████████▋ | 701/807 [07:56<01:12,  1.47it/s]\u001b[A\n",
            "Iteration:  87%|████████▋ | 702/807 [07:56<01:10,  1.49it/s]\u001b[A\n",
            "Iteration:  87%|████████▋ | 703/807 [07:57<01:09,  1.50it/s]\u001b[A\n",
            "Iteration:  87%|████████▋ | 704/807 [07:58<01:11,  1.43it/s]\u001b[A"
          ],
          "name": "stderr"
        },
        {
          "output_type": "stream",
          "text": [
            "\tTraining loss :  1.3081646258519455\n"
          ],
          "name": "stdout"
        },
        {
          "output_type": "stream",
          "text": [
            "\n",
            "Iteration:  87%|████████▋ | 705/807 [07:58<01:09,  1.47it/s]\u001b[A\n",
            "Iteration:  87%|████████▋ | 706/807 [07:59<01:08,  1.48it/s]\u001b[A\n",
            "Iteration:  88%|████████▊ | 707/807 [08:00<01:06,  1.50it/s]\u001b[A\n",
            "Iteration:  88%|████████▊ | 708/807 [08:00<01:09,  1.43it/s]\u001b[A"
          ],
          "name": "stderr"
        },
        {
          "output_type": "stream",
          "text": [
            "\tTraining loss :  1.3100909481277574\n"
          ],
          "name": "stdout"
        },
        {
          "output_type": "stream",
          "text": [
            "\n",
            "Iteration:  88%|████████▊ | 709/807 [08:01<01:07,  1.46it/s]\u001b[A\n",
            "Iteration:  88%|████████▊ | 710/807 [08:02<01:05,  1.48it/s]\u001b[A\n",
            "Iteration:  88%|████████▊ | 711/807 [08:02<01:04,  1.50it/s]\u001b[A\n",
            "Iteration:  88%|████████▊ | 712/807 [08:03<01:06,  1.44it/s]\u001b[A"
          ],
          "name": "stderr"
        },
        {
          "output_type": "stream",
          "text": [
            "\tTraining loss :  1.3097498361649138\n"
          ],
          "name": "stdout"
        },
        {
          "output_type": "stream",
          "text": [
            "\n",
            "Iteration:  88%|████████▊ | 713/807 [08:04<01:03,  1.47it/s]\u001b[A\n",
            "Iteration:  88%|████████▊ | 714/807 [08:04<01:02,  1.48it/s]\u001b[A\n",
            "Iteration:  89%|████████▊ | 715/807 [08:05<01:01,  1.50it/s]\u001b[A\n",
            "Iteration:  89%|████████▊ | 716/807 [08:06<01:03,  1.43it/s]\u001b[A"
          ],
          "name": "stderr"
        },
        {
          "output_type": "stream",
          "text": [
            "\tTraining loss :  1.3110273778438568\n"
          ],
          "name": "stdout"
        },
        {
          "output_type": "stream",
          "text": [
            "\n",
            "Iteration:  89%|████████▉ | 717/807 [08:06<01:01,  1.47it/s]\u001b[A\n",
            "Iteration:  89%|████████▉ | 718/807 [08:07<00:59,  1.49it/s]\u001b[A\n",
            "Iteration:  89%|████████▉ | 719/807 [08:08<00:58,  1.50it/s]\u001b[A\n",
            "Iteration:  89%|████████▉ | 720/807 [08:08<01:00,  1.44it/s]\u001b[A"
          ],
          "name": "stderr"
        },
        {
          "output_type": "stream",
          "text": [
            "\tTraining loss :  1.3094685857494672\n"
          ],
          "name": "stdout"
        },
        {
          "output_type": "stream",
          "text": [
            "\n",
            "Iteration:  89%|████████▉ | 721/807 [08:09<00:58,  1.47it/s]\u001b[A\n",
            "Iteration:  89%|████████▉ | 722/807 [08:10<00:57,  1.49it/s]\u001b[A\n",
            "Iteration:  90%|████████▉ | 723/807 [08:10<00:55,  1.51it/s]\u001b[A\n",
            "Iteration:  90%|████████▉ | 724/807 [08:11<00:57,  1.44it/s]\u001b[A"
          ],
          "name": "stderr"
        },
        {
          "output_type": "stream",
          "text": [
            "\tTraining loss :  1.3118716942671254\n"
          ],
          "name": "stdout"
        },
        {
          "output_type": "stream",
          "text": [
            "\n",
            "Iteration:  90%|████████▉ | 725/807 [08:12<00:55,  1.47it/s]\u001b[A\n",
            "Iteration:  90%|████████▉ | 726/807 [08:13<00:54,  1.48it/s]\u001b[A\n",
            "Iteration:  90%|█████████ | 727/807 [08:13<00:53,  1.50it/s]\u001b[A\n",
            "Iteration:  90%|█████████ | 728/807 [08:14<00:55,  1.44it/s]\u001b[A"
          ],
          "name": "stderr"
        },
        {
          "output_type": "stream",
          "text": [
            "\tTraining loss :  1.3132313506288842\n"
          ],
          "name": "stdout"
        },
        {
          "output_type": "stream",
          "text": [
            "\n",
            "Iteration:  90%|█████████ | 729/807 [08:15<00:53,  1.46it/s]\u001b[A\n",
            "Iteration:  90%|█████████ | 730/807 [08:15<00:52,  1.48it/s]\u001b[A\n",
            "Iteration:  91%|█████████ | 731/807 [08:16<00:50,  1.50it/s]\u001b[A\n",
            "Iteration:  91%|█████████ | 732/807 [08:17<00:52,  1.44it/s]\u001b[A"
          ],
          "name": "stderr"
        },
        {
          "output_type": "stream",
          "text": [
            "\tTraining loss :  1.3140171823280105\n"
          ],
          "name": "stdout"
        },
        {
          "output_type": "stream",
          "text": [
            "\n",
            "Iteration:  91%|█████████ | 733/807 [08:17<00:50,  1.46it/s]\u001b[A\n",
            "Iteration:  91%|█████████ | 734/807 [08:18<00:49,  1.48it/s]\u001b[A\n",
            "Iteration:  91%|█████████ | 735/807 [08:19<00:48,  1.50it/s]\u001b[A\n",
            "Iteration:  91%|█████████ | 736/807 [08:19<00:49,  1.43it/s]\u001b[A"
          ],
          "name": "stderr"
        },
        {
          "output_type": "stream",
          "text": [
            "\tTraining loss :  1.3139774624420248\n"
          ],
          "name": "stdout"
        },
        {
          "output_type": "stream",
          "text": [
            "\n",
            "Iteration:  91%|█████████▏| 737/807 [08:20<00:47,  1.47it/s]\u001b[A\n",
            "Iteration:  91%|█████████▏| 738/807 [08:21<00:46,  1.48it/s]\u001b[A\n",
            "Iteration:  92%|█████████▏| 739/807 [08:21<00:45,  1.50it/s]\u001b[A\n",
            "Iteration:  92%|█████████▏| 740/807 [08:22<00:46,  1.44it/s]\u001b[A"
          ],
          "name": "stderr"
        },
        {
          "output_type": "stream",
          "text": [
            "\tTraining loss :  1.3147978603839874\n"
          ],
          "name": "stdout"
        },
        {
          "output_type": "stream",
          "text": [
            "\n",
            "Iteration:  92%|█████████▏| 741/807 [08:23<00:44,  1.47it/s]\u001b[A\n",
            "Iteration:  92%|█████████▏| 742/807 [08:23<00:43,  1.49it/s]\u001b[A\n",
            "Iteration:  92%|█████████▏| 743/807 [08:24<00:42,  1.51it/s]\u001b[A\n",
            "Iteration:  92%|█████████▏| 744/807 [08:25<00:43,  1.44it/s]\u001b[A"
          ],
          "name": "stderr"
        },
        {
          "output_type": "stream",
          "text": [
            "\tTraining loss :  1.3127544912439522\n"
          ],
          "name": "stdout"
        },
        {
          "output_type": "stream",
          "text": [
            "\n",
            "Iteration:  92%|█████████▏| 745/807 [08:25<00:42,  1.47it/s]\u001b[A\n",
            "Iteration:  92%|█████████▏| 746/807 [08:26<00:41,  1.48it/s]\u001b[A\n",
            "Iteration:  93%|█████████▎| 747/807 [08:27<00:40,  1.50it/s]\u001b[A\n",
            "Iteration:  93%|█████████▎| 748/807 [08:28<00:41,  1.44it/s]\u001b[A"
          ],
          "name": "stderr"
        },
        {
          "output_type": "stream",
          "text": [
            "\tTraining loss :  1.311903878329272\n"
          ],
          "name": "stdout"
        },
        {
          "output_type": "stream",
          "text": [
            "\n",
            "Iteration:  93%|█████████▎| 749/807 [08:28<00:39,  1.47it/s]\u001b[A\n",
            "Iteration:  93%|█████████▎| 750/807 [08:29<00:38,  1.48it/s]\u001b[A\n",
            "Iteration:  93%|█████████▎| 751/807 [08:29<00:37,  1.50it/s]\u001b[A\n",
            "Iteration:  93%|█████████▎| 752/807 [08:30<00:38,  1.44it/s]\u001b[A"
          ],
          "name": "stderr"
        },
        {
          "output_type": "stream",
          "text": [
            "\tTraining loss :  1.3105722502508061\n"
          ],
          "name": "stdout"
        },
        {
          "output_type": "stream",
          "text": [
            "\n",
            "Iteration:  93%|█████████▎| 753/807 [08:31<00:36,  1.47it/s]\u001b[A\n",
            "Iteration:  93%|█████████▎| 754/807 [08:32<00:35,  1.48it/s]\u001b[A\n",
            "Iteration:  94%|█████████▎| 755/807 [08:32<00:34,  1.50it/s]\u001b[A\n",
            "Iteration:  94%|█████████▎| 756/807 [08:33<00:35,  1.44it/s]\u001b[A"
          ],
          "name": "stderr"
        },
        {
          "output_type": "stream",
          "text": [
            "\tTraining loss :  1.3101732248351687\n"
          ],
          "name": "stdout"
        },
        {
          "output_type": "stream",
          "text": [
            "\n",
            "Iteration:  94%|█████████▍| 757/807 [08:34<00:34,  1.47it/s]\u001b[A\n",
            "Iteration:  94%|█████████▍| 758/807 [08:34<00:32,  1.49it/s]\u001b[A\n",
            "Iteration:  94%|█████████▍| 759/807 [08:35<00:31,  1.50it/s]\u001b[A\n",
            "Iteration:  94%|█████████▍| 760/807 [08:36<00:32,  1.44it/s]\u001b[A"
          ],
          "name": "stderr"
        },
        {
          "output_type": "stream",
          "text": [
            "\tTraining loss :  1.3101480175005762\n"
          ],
          "name": "stdout"
        },
        {
          "output_type": "stream",
          "text": [
            "\n",
            "Iteration:  94%|█████████▍| 761/807 [08:36<00:31,  1.46it/s]\u001b[A\n",
            "Iteration:  94%|█████████▍| 762/807 [08:37<00:30,  1.48it/s]\u001b[A\n",
            "Iteration:  95%|█████████▍| 763/807 [08:38<00:29,  1.50it/s]\u001b[A\n",
            "Iteration:  95%|█████████▍| 764/807 [08:38<00:29,  1.44it/s]\u001b[A"
          ],
          "name": "stderr"
        },
        {
          "output_type": "stream",
          "text": [
            "\tTraining loss :  1.30840257449924\n"
          ],
          "name": "stdout"
        },
        {
          "output_type": "stream",
          "text": [
            "\n",
            "Iteration:  95%|█████████▍| 765/807 [08:39<00:28,  1.47it/s]\u001b[A\n",
            "Iteration:  95%|█████████▍| 766/807 [08:40<00:27,  1.49it/s]\u001b[A\n",
            "Iteration:  95%|█████████▌| 767/807 [08:40<00:26,  1.50it/s]\u001b[A\n",
            "Iteration:  95%|█████████▌| 768/807 [08:41<00:27,  1.44it/s]\u001b[A"
          ],
          "name": "stderr"
        },
        {
          "output_type": "stream",
          "text": [
            "\tTraining loss :  1.3081373060898234\n"
          ],
          "name": "stdout"
        },
        {
          "output_type": "stream",
          "text": [
            "\n",
            "Iteration:  95%|█████████▌| 769/807 [08:42<00:25,  1.46it/s]\u001b[A\n",
            "Iteration:  95%|█████████▌| 770/807 [08:42<00:24,  1.49it/s]\u001b[A\n",
            "Iteration:  96%|█████████▌| 771/807 [08:43<00:23,  1.50it/s]\u001b[A\n",
            "Iteration:  96%|█████████▌| 772/807 [08:44<00:24,  1.44it/s]\u001b[A"
          ],
          "name": "stderr"
        },
        {
          "output_type": "stream",
          "text": [
            "\tTraining loss :  1.30804028049343\n"
          ],
          "name": "stdout"
        },
        {
          "output_type": "stream",
          "text": [
            "\n",
            "Iteration:  96%|█████████▌| 773/807 [08:44<00:23,  1.47it/s]\u001b[A\n",
            "Iteration:  96%|█████████▌| 774/807 [08:45<00:22,  1.49it/s]\u001b[A\n",
            "Iteration:  96%|█████████▌| 775/807 [08:46<00:21,  1.50it/s]\u001b[A\n",
            "Iteration:  96%|█████████▌| 776/807 [08:47<00:21,  1.44it/s]\u001b[A"
          ],
          "name": "stderr"
        },
        {
          "output_type": "stream",
          "text": [
            "\tTraining loss :  1.3093260577351777\n"
          ],
          "name": "stdout"
        },
        {
          "output_type": "stream",
          "text": [
            "\n",
            "Iteration:  96%|█████████▋| 777/807 [08:47<00:20,  1.46it/s]\u001b[A\n",
            "Iteration:  96%|█████████▋| 778/807 [08:48<00:19,  1.49it/s]\u001b[A\n",
            "Iteration:  97%|█████████▋| 779/807 [08:48<00:18,  1.50it/s]\u001b[A\n",
            "Iteration:  97%|█████████▋| 780/807 [08:49<00:18,  1.44it/s]\u001b[A"
          ],
          "name": "stderr"
        },
        {
          "output_type": "stream",
          "text": [
            "\tTraining loss :  1.3081070020412788\n"
          ],
          "name": "stdout"
        },
        {
          "output_type": "stream",
          "text": [
            "\n",
            "Iteration:  97%|█████████▋| 781/807 [08:50<00:17,  1.47it/s]\u001b[A\n",
            "Iteration:  97%|█████████▋| 782/807 [08:51<00:16,  1.49it/s]\u001b[A\n",
            "Iteration:  97%|█████████▋| 783/807 [08:51<00:15,  1.51it/s]\u001b[A\n",
            "Iteration:  97%|█████████▋| 784/807 [08:52<00:15,  1.44it/s]\u001b[A"
          ],
          "name": "stderr"
        },
        {
          "output_type": "stream",
          "text": [
            "\tTraining loss :  1.3082376132358093\n"
          ],
          "name": "stdout"
        },
        {
          "output_type": "stream",
          "text": [
            "\n",
            "Iteration:  97%|█████████▋| 785/807 [08:53<00:14,  1.47it/s]\u001b[A\n",
            "Iteration:  97%|█████████▋| 786/807 [08:53<00:14,  1.49it/s]\u001b[A\n",
            "Iteration:  98%|█████████▊| 787/807 [08:54<00:13,  1.51it/s]\u001b[A\n",
            "Iteration:  98%|█████████▊| 788/807 [08:55<00:13,  1.44it/s]\u001b[A"
          ],
          "name": "stderr"
        },
        {
          "output_type": "stream",
          "text": [
            "\tTraining loss :  1.3075848817068914\n"
          ],
          "name": "stdout"
        },
        {
          "output_type": "stream",
          "text": [
            "\n",
            "Iteration:  98%|█████████▊| 789/807 [08:55<00:12,  1.47it/s]\u001b[A\n",
            "Iteration:  98%|█████████▊| 790/807 [08:56<00:11,  1.49it/s]\u001b[A\n",
            "Iteration:  98%|█████████▊| 791/807 [08:57<00:10,  1.51it/s]\u001b[A\n",
            "Iteration:  98%|█████████▊| 792/807 [08:57<00:10,  1.44it/s]\u001b[A"
          ],
          "name": "stderr"
        },
        {
          "output_type": "stream",
          "text": [
            "\tTraining loss :  1.307809083600237\n"
          ],
          "name": "stdout"
        },
        {
          "output_type": "stream",
          "text": [
            "\n",
            "Iteration:  98%|█████████▊| 793/807 [08:58<00:09,  1.47it/s]\u001b[A\n",
            "Iteration:  98%|█████████▊| 794/807 [08:59<00:08,  1.49it/s]\u001b[A\n",
            "Iteration:  99%|█████████▊| 795/807 [08:59<00:07,  1.51it/s]\u001b[A\n",
            "Iteration:  99%|█████████▊| 796/807 [09:00<00:07,  1.45it/s]\u001b[A"
          ],
          "name": "stderr"
        },
        {
          "output_type": "stream",
          "text": [
            "\tTraining loss :  1.3076351169665255\n"
          ],
          "name": "stdout"
        },
        {
          "output_type": "stream",
          "text": [
            "\n",
            "Iteration:  99%|█████████▉| 797/807 [09:01<00:06,  1.47it/s]\u001b[A\n",
            "Iteration:  99%|█████████▉| 798/807 [09:01<00:06,  1.49it/s]\u001b[A\n",
            "Iteration:  99%|█████████▉| 799/807 [09:02<00:05,  1.50it/s]\u001b[A\n",
            "Iteration:  99%|█████████▉| 800/807 [09:03<00:04,  1.44it/s]\u001b[A"
          ],
          "name": "stderr"
        },
        {
          "output_type": "stream",
          "text": [
            "\tTraining loss :  1.3074643705785274\n"
          ],
          "name": "stdout"
        },
        {
          "output_type": "stream",
          "text": [
            "\n",
            "Iteration:  99%|█████████▉| 801/807 [09:03<00:04,  1.47it/s]\u001b[A\n",
            "Iteration:  99%|█████████▉| 802/807 [09:04<00:03,  1.49it/s]\u001b[A\n",
            "Iteration: 100%|█████████▉| 803/807 [09:05<00:02,  1.50it/s]\u001b[A\n",
            "Iteration: 100%|█████████▉| 804/807 [09:05<00:02,  1.44it/s]\u001b[A"
          ],
          "name": "stderr"
        },
        {
          "output_type": "stream",
          "text": [
            "\tTraining loss :  1.3054147024652851\n"
          ],
          "name": "stdout"
        },
        {
          "output_type": "stream",
          "text": [
            "\n",
            "Iteration: 100%|█████████▉| 805/807 [09:06<00:01,  1.47it/s]\u001b[A\n",
            "Iteration: 100%|█████████▉| 806/807 [09:07<00:00,  1.49it/s]\u001b[A\n",
            "Iteration: 100%|██████████| 807/807 [09:07<00:00,  1.47it/s]\n",
            "Epoch: 100%|██████████| 3/3 [27:15<00:00, 545.28s/it]\n"
          ],
          "name": "stderr"
        }
      ]
    },
    {
      "cell_type": "code",
      "metadata": {
        "id": "V5iZEZ0ADdbr"
      },
      "source": [
        "torch.save({\n",
        "    'model': model.state_dict()\n",
        "}, 'saved_file_epoch1.txt')\n"
      ],
      "execution_count": null,
      "outputs": []
    },
    {
      "cell_type": "code",
      "metadata": {
        "colab": {
          "base_uri": "https://localhost:8080/"
        },
        "id": "4vzmLIQSHdam",
        "outputId": "4ec5e062-f7ee-44c5-be2a-6f057c849b18"
      },
      "source": [
        "correct_score = 0\n",
        "wrong_list = []\n",
        "examples = read_examples('Task_2_dev_full.csv')\n",
        "model.eval()"
      ],
      "execution_count": 51,
      "outputs": [
        {
          "output_type": "execute_result",
          "data": {
            "text/plain": [
              "AlbertForMaskedLM(\n",
              "  (albert): AlbertModel(\n",
              "    (embeddings): AlbertEmbeddings(\n",
              "      (word_embeddings): Embedding(30000, 128, padding_idx=0)\n",
              "      (position_embeddings): Embedding(512, 128)\n",
              "      (token_type_embeddings): Embedding(2, 128)\n",
              "      (LayerNorm): LayerNorm((128,), eps=1e-12, elementwise_affine=True)\n",
              "      (dropout): Dropout(p=0, inplace=False)\n",
              "    )\n",
              "    (encoder): AlbertTransformer(\n",
              "      (embedding_hidden_mapping_in): Linear(in_features=128, out_features=4096, bias=True)\n",
              "      (albert_layer_groups): ModuleList(\n",
              "        (0): AlbertLayerGroup(\n",
              "          (albert_layers): ModuleList(\n",
              "            (0): AlbertLayer(\n",
              "              (full_layer_layer_norm): LayerNorm((4096,), eps=1e-12, elementwise_affine=True)\n",
              "              (attention): AlbertAttention(\n",
              "                (query): Linear(in_features=4096, out_features=4096, bias=True)\n",
              "                (key): Linear(in_features=4096, out_features=4096, bias=True)\n",
              "                (value): Linear(in_features=4096, out_features=4096, bias=True)\n",
              "                (attention_dropout): Dropout(p=0, inplace=False)\n",
              "                (output_dropout): Dropout(p=0, inplace=False)\n",
              "                (dense): Linear(in_features=4096, out_features=4096, bias=True)\n",
              "                (LayerNorm): LayerNorm((4096,), eps=1e-12, elementwise_affine=True)\n",
              "              )\n",
              "              (ffn): Linear(in_features=4096, out_features=16384, bias=True)\n",
              "              (ffn_output): Linear(in_features=16384, out_features=4096, bias=True)\n",
              "              (dropout): Dropout(p=0, inplace=False)\n",
              "            )\n",
              "          )\n",
              "        )\n",
              "      )\n",
              "    )\n",
              "  )\n",
              "  (predictions): AlbertMLMHead(\n",
              "    (LayerNorm): LayerNorm((128,), eps=1e-05, elementwise_affine=True)\n",
              "    (dense): Linear(in_features=4096, out_features=128, bias=True)\n",
              "    (decoder): Linear(in_features=128, out_features=30000, bias=True)\n",
              "  )\n",
              ")"
            ]
          },
          "metadata": {
            "tags": []
          },
          "execution_count": 51
        }
      ]
    },
    {
      "cell_type": "code",
      "metadata": {
        "colab": {
          "base_uri": "https://localhost:8080/"
        },
        "id": "1JeWOyTVDWV_",
        "outputId": "348fec4d-078d-4097-e039-f0b9548122f4"
      },
      "source": [
        "print([\"abhi\"] + [tokenizer.mask_token] + [tokenizer.sep_token] + [tokenizer.pad_token])"
      ],
      "execution_count": null,
      "outputs": [
        {
          "output_type": "stream",
          "text": [
            "['abhi', '[MASK]', '[SEP]', '[PAD]']\n"
          ],
          "name": "stdout"
        }
      ]
    },
    {
      "cell_type": "code",
      "metadata": {
        "id": "eB-Aq-9CDCiq"
      },
      "source": [
        "\n",
        "inputs = tokenizer(\"The capital of France is [MASK].\", return_tensors=\"pt\")\n",
        "labels = tokenizer(\"The capital of France is Paris.\", return_tensors=\"pt\")[\"input_ids\"]\n",
        "\n",
        "inputs = inputs.to('cuda')\n",
        "labels = labels.to('cuda')\n",
        "\n",
        "outputs = model(**inputs, labels=labels, output_hidden_states=True)\n",
        "loss = outputs.loss\n",
        "logits = outputs.logits"
      ],
      "execution_count": null,
      "outputs": []
    },
    {
      "cell_type": "code",
      "metadata": {
        "colab": {
          "base_uri": "https://localhost:8080/"
        },
        "id": "JBizUyY8GAuk",
        "outputId": "025bec5c-4f1b-4064-b127-6ffe9489b0f0"
      },
      "source": [
        "print(inputs)"
      ],
      "execution_count": null,
      "outputs": [
        {
          "output_type": "stream",
          "text": [
            "{'input_ids': tensor([[ 101, 1996, 3007, 1997, 2605, 2003,  103, 1012,  102]],\n",
            "       device='cuda:0'), 'token_type_ids': tensor([[0, 0, 0, 0, 0, 0, 0, 0, 0]], device='cuda:0'), 'attention_mask': tensor([[1, 1, 1, 1, 1, 1, 1, 1, 1]], device='cuda:0')}\n"
          ],
          "name": "stdout"
        }
      ]
    },
    {
      "cell_type": "code",
      "metadata": {
        "colab": {
          "base_uri": "https://localhost:8080/"
        },
        "id": "8BVKNajiF6rw",
        "outputId": "ef665891-32fa-459f-a0ae-ba42b4513801"
      },
      "source": [
        "print(logits[0])"
      ],
      "execution_count": null,
      "outputs": [
        {
          "output_type": "stream",
          "text": [
            "tensor([[ -6.0357,  -5.9746,  -6.0352,  ...,  -5.5175,  -5.4489,  -3.6893],\n",
            "        [-13.0917, -12.5835, -12.3866,  ...,  -8.3100, -11.5729, -10.4926],\n",
            "        [ -8.5031,  -9.5911,  -9.4720,  ..., -11.5717,  -9.6129,  -7.2501],\n",
            "        ...,\n",
            "        [ -0.6591,  -0.7770,  -0.8077,  ...,  -2.6484,  -2.2071,  -1.9790],\n",
            "        [ -8.3370,  -7.8262,  -8.5830,  ...,  -5.8269,  -8.2611,  -6.9086],\n",
            "        [ -7.7844,  -7.5628,  -8.2584,  ...,  -8.0199,  -7.6262,  -8.3779]],\n",
            "       device='cuda:0', grad_fn=<SelectBackward>)\n"
          ],
          "name": "stdout"
        }
      ]
    },
    {
      "cell_type": "code",
      "metadata": {
        "colab": {
          "base_uri": "https://localhost:8080/"
        },
        "id": "T2lzKzzAEbNs",
        "outputId": "fbb8799d-1afb-480e-fde4-67eb0969dad7"
      },
      "source": [
        "print(outputs.hidden_states[-1][0][-3])"
      ],
      "execution_count": null,
      "outputs": [
        {
          "output_type": "stream",
          "text": [
            "tensor([-0.0051,  0.5623, -0.3249,  ..., -0.3349,  0.2096, -0.2982],\n",
            "       device='cuda:0', grad_fn=<SelectBackward>)\n"
          ],
          "name": "stdout"
        }
      ]
    },
    {
      "cell_type": "code",
      "metadata": {
        "id": "tW6xTLfiGZpB"
      },
      "source": [
        ""
      ],
      "execution_count": null,
      "outputs": []
    },
    {
      "cell_type": "code",
      "metadata": {
        "colab": {
          "base_uri": "https://localhost:8080/"
        },
        "id": "3jDgkAwoEsZ9",
        "outputId": "c3a9579a-a397-4912-b8f6-60892ac1de7e"
      },
      "source": [
        "print(tokenizer.convert_ids_to_tokens(1013))"
      ],
      "execution_count": null,
      "outputs": [
        {
          "output_type": "stream",
          "text": [
            "/\n"
          ],
          "name": "stdout"
        }
      ]
    },
    {
      "cell_type": "code",
      "metadata": {
        "colab": {
          "base_uri": "https://localhost:8080/"
        },
        "id": "n-NUoIn0itnm",
        "outputId": "4755f3cb-9084-4118-a484-4ad57d95e9d0"
      },
      "source": [
        "tokenizer.tokenize(\"_\")"
      ],
      "execution_count": null,
      "outputs": [
        {
          "output_type": "execute_result",
          "data": {
            "text/plain": [
              "['_']"
            ]
          },
          "metadata": {
            "tags": []
          },
          "execution_count": 92
        }
      ]
    },
    {
      "cell_type": "code",
      "metadata": {
        "id": "KiVOEv5bkDxQ"
      },
      "source": [
        "list1 = []\n",
        "list2 = []"
      ],
      "execution_count": null,
      "outputs": []
    },
    {
      "cell_type": "code",
      "metadata": {
        "colab": {
          "base_uri": "https://localhost:8080/"
        },
        "id": "Q-OtloTMH5gT",
        "outputId": "5ebd3acf-c918-401e-cf2a-59927867794b"
      },
      "source": [
        "with open('outfile.csv', 'w') as f :\n",
        "    writer = csv.writer(f, delimiter = ',')\n",
        "    writer.writerow(['Predicted label', 'Option0','Option1','Option2','Option3','Option4'])\n",
        "    for idx, example in enumerate(examples) :\n",
        "\n",
        "        article = example['article']\n",
        "        ques_tokens = tokenizer.tokenize(example['question'].replace(\"@placeholder\", tokenizer.mask_token))        \n",
        "        tokenized_article = tokenizer.tokenize(article)\n",
        "\n",
        "        _truncate_seq_pair(tokenized_article, ques_tokens, max_seq_length - 1)\n",
        "\n",
        "        # tokens =  ques_tokens + [tokenizer.sep_token] + tokenized_article + [tokenizer.sep_token]\n",
        "\n",
        "        tokens =  ques_tokens + [tokenizer.sep_token]\n",
        "\n",
        "        masked_index = tokens.index(tokenizer.mask_token)\n",
        "\n",
        "\n",
        "        candidates = example['options']\n",
        "        candidates_ids = []\n",
        "        for c in candidates:\n",
        "            candidates_ids.append(tokenizer.convert_tokens_to_ids(tokenizer.tokenize(c))[0])\n",
        "\n",
        "\n",
        "        indexed_tokens = tokenizer.convert_tokens_to_ids(tokens)        \n",
        "        segments_ids = [0] * (len(ques_tokens) + 1)\n",
        "        input_mask = [1] * len(indexed_tokens)\n",
        "\n",
        "        # Zero-pad up to the sequence length.\n",
        "        padding = [0] * (max_seq_length - len(indexed_tokens))\n",
        "        indexed_tokens += [tokenizer.pad_token_id] * len(padding)\n",
        "        input_mask += padding\n",
        "        segments_ids += padding\n",
        "        \n",
        "\n",
        "        tokens_tensor = torch.tensor([indexed_tokens])\n",
        "        segments_tensors = torch.tensor([segments_ids])\n",
        "        mask_tensors = torch.tensor([input_mask])\n",
        "        \n",
        "        mask_tensors = mask_tensors.to(device)\n",
        "        tokens_tensor = tokens_tensor.to(device)\n",
        "        segments_tensors = segments_tensors.to(device)\n",
        "\n",
        "\n",
        "        predictions = model(input_ids = tokens_tensor, attention_mask=mask_tensors, token_type_ids = segments_tensors)\n",
        "        predictions_candidates = predictions.logits[0, masked_index, candidates_ids]\n",
        "        answer_idx = torch.argmax(predictions_candidates).item()\n",
        "        print(answer_idx)\n",
        "        \n",
        "        writer.writerow([answer_idx, predictions_candidates[0].item(),predictions_candidates[1].item(),predictions_candidates[2].item(),predictions_candidates[3].item(),predictions_candidates[4].item()])\n",
        "        print(\"Correct answer : \", answer_idx, \"\\tLabel :\", example['label'], '\\n') \n",
        "        if(answer_idx == example['label']):\n",
        "            correct_score += 1\n",
        "        else :\n",
        "            wrong_list.append(idx)\n",
        "\n"
      ],
      "execution_count": 52,
      "outputs": [
        {
          "output_type": "stream",
          "text": [
            "1\n",
            "Correct answer :  1 \tLabel : 0 \n",
            "\n",
            "0\n",
            "Correct answer :  0 \tLabel : 0 \n",
            "\n",
            "3\n",
            "Correct answer :  3 \tLabel : 3 \n",
            "\n",
            "0\n",
            "Correct answer :  0 \tLabel : 0 \n",
            "\n",
            "2\n",
            "Correct answer :  2 \tLabel : 2 \n",
            "\n",
            "2\n",
            "Correct answer :  2 \tLabel : 2 \n",
            "\n",
            "3\n",
            "Correct answer :  3 \tLabel : 3 \n",
            "\n",
            "2\n",
            "Correct answer :  2 \tLabel : 2 \n",
            "\n",
            "3\n",
            "Correct answer :  3 \tLabel : 2 \n",
            "\n",
            "2\n",
            "Correct answer :  2 \tLabel : 2 \n",
            "\n",
            "3\n",
            "Correct answer :  3 \tLabel : 3 \n",
            "\n",
            "3\n",
            "Correct answer :  3 \tLabel : 3 \n",
            "\n",
            "1\n",
            "Correct answer :  1 \tLabel : 3 \n",
            "\n",
            "1\n",
            "Correct answer :  1 \tLabel : 1 \n",
            "\n",
            "2\n",
            "Correct answer :  2 \tLabel : 2 \n",
            "\n",
            "0\n",
            "Correct answer :  0 \tLabel : 3 \n",
            "\n",
            "0\n",
            "Correct answer :  0 \tLabel : 2 \n",
            "\n",
            "3\n",
            "Correct answer :  3 \tLabel : 3 \n",
            "\n",
            "2\n",
            "Correct answer :  2 \tLabel : 2 \n",
            "\n",
            "3\n",
            "Correct answer :  3 \tLabel : 3 \n",
            "\n",
            "2\n",
            "Correct answer :  2 \tLabel : 2 \n",
            "\n",
            "2\n",
            "Correct answer :  2 \tLabel : 2 \n",
            "\n",
            "1\n",
            "Correct answer :  1 \tLabel : 1 \n",
            "\n",
            "3\n",
            "Correct answer :  3 \tLabel : 3 \n",
            "\n",
            "0\n",
            "Correct answer :  0 \tLabel : 0 \n",
            "\n",
            "2\n",
            "Correct answer :  2 \tLabel : 2 \n",
            "\n",
            "4\n",
            "Correct answer :  4 \tLabel : 4 \n",
            "\n",
            "0\n",
            "Correct answer :  0 \tLabel : 0 \n",
            "\n",
            "4\n",
            "Correct answer :  4 \tLabel : 4 \n",
            "\n",
            "3\n",
            "Correct answer :  3 \tLabel : 3 \n",
            "\n",
            "0\n",
            "Correct answer :  0 \tLabel : 0 \n",
            "\n",
            "3\n",
            "Correct answer :  3 \tLabel : 0 \n",
            "\n",
            "0\n",
            "Correct answer :  0 \tLabel : 0 \n",
            "\n",
            "2\n",
            "Correct answer :  2 \tLabel : 2 \n",
            "\n",
            "1\n",
            "Correct answer :  1 \tLabel : 2 \n",
            "\n",
            "2\n",
            "Correct answer :  2 \tLabel : 2 \n",
            "\n",
            "3\n",
            "Correct answer :  3 \tLabel : 0 \n",
            "\n",
            "0\n",
            "Correct answer :  0 \tLabel : 0 \n",
            "\n",
            "1\n",
            "Correct answer :  1 \tLabel : 1 \n",
            "\n",
            "2\n",
            "Correct answer :  2 \tLabel : 2 \n",
            "\n",
            "3\n",
            "Correct answer :  3 \tLabel : 1 \n",
            "\n",
            "4\n",
            "Correct answer :  4 \tLabel : 4 \n",
            "\n",
            "1\n",
            "Correct answer :  1 \tLabel : 1 \n",
            "\n",
            "3\n",
            "Correct answer :  3 \tLabel : 3 \n",
            "\n",
            "2\n",
            "Correct answer :  2 \tLabel : 2 \n",
            "\n",
            "2\n",
            "Correct answer :  2 \tLabel : 2 \n",
            "\n",
            "4\n",
            "Correct answer :  4 \tLabel : 1 \n",
            "\n",
            "1\n",
            "Correct answer :  1 \tLabel : 1 \n",
            "\n",
            "4\n",
            "Correct answer :  4 \tLabel : 4 \n",
            "\n",
            "0\n",
            "Correct answer :  0 \tLabel : 0 \n",
            "\n",
            "0\n",
            "Correct answer :  0 \tLabel : 0 \n",
            "\n",
            "2\n",
            "Correct answer :  2 \tLabel : 2 \n",
            "\n",
            "1\n",
            "Correct answer :  1 \tLabel : 1 \n",
            "\n",
            "2\n",
            "Correct answer :  2 \tLabel : 2 \n",
            "\n",
            "1\n",
            "Correct answer :  1 \tLabel : 1 \n",
            "\n",
            "3\n",
            "Correct answer :  3 \tLabel : 3 \n",
            "\n",
            "2\n",
            "Correct answer :  2 \tLabel : 1 \n",
            "\n",
            "4\n",
            "Correct answer :  4 \tLabel : 4 \n",
            "\n",
            "3\n",
            "Correct answer :  3 \tLabel : 3 \n",
            "\n",
            "0\n",
            "Correct answer :  0 \tLabel : 4 \n",
            "\n",
            "4\n",
            "Correct answer :  4 \tLabel : 4 \n",
            "\n",
            "4\n",
            "Correct answer :  4 \tLabel : 4 \n",
            "\n",
            "4\n",
            "Correct answer :  4 \tLabel : 4 \n",
            "\n",
            "1\n",
            "Correct answer :  1 \tLabel : 3 \n",
            "\n",
            "4\n",
            "Correct answer :  4 \tLabel : 4 \n",
            "\n",
            "0\n",
            "Correct answer :  0 \tLabel : 3 \n",
            "\n",
            "4\n",
            "Correct answer :  4 \tLabel : 4 \n",
            "\n",
            "1\n",
            "Correct answer :  1 \tLabel : 1 \n",
            "\n",
            "3\n",
            "Correct answer :  3 \tLabel : 3 \n",
            "\n",
            "2\n",
            "Correct answer :  2 \tLabel : 2 \n",
            "\n",
            "3\n",
            "Correct answer :  3 \tLabel : 3 \n",
            "\n",
            "4\n",
            "Correct answer :  4 \tLabel : 4 \n",
            "\n",
            "2\n",
            "Correct answer :  2 \tLabel : 2 \n",
            "\n",
            "0\n",
            "Correct answer :  0 \tLabel : 0 \n",
            "\n",
            "2\n",
            "Correct answer :  2 \tLabel : 2 \n",
            "\n",
            "3\n",
            "Correct answer :  3 \tLabel : 3 \n",
            "\n",
            "3\n",
            "Correct answer :  3 \tLabel : 3 \n",
            "\n",
            "0\n",
            "Correct answer :  0 \tLabel : 0 \n",
            "\n",
            "1\n",
            "Correct answer :  1 \tLabel : 3 \n",
            "\n",
            "2\n",
            "Correct answer :  2 \tLabel : 2 \n",
            "\n",
            "4\n",
            "Correct answer :  4 \tLabel : 4 \n",
            "\n",
            "0\n",
            "Correct answer :  0 \tLabel : 0 \n",
            "\n",
            "2\n",
            "Correct answer :  2 \tLabel : 2 \n",
            "\n",
            "2\n",
            "Correct answer :  2 \tLabel : 0 \n",
            "\n",
            "1\n",
            "Correct answer :  1 \tLabel : 1 \n",
            "\n",
            "3\n",
            "Correct answer :  3 \tLabel : 3 \n",
            "\n",
            "1\n",
            "Correct answer :  1 \tLabel : 1 \n",
            "\n",
            "0\n",
            "Correct answer :  0 \tLabel : 2 \n",
            "\n",
            "1\n",
            "Correct answer :  1 \tLabel : 1 \n",
            "\n",
            "2\n",
            "Correct answer :  2 \tLabel : 1 \n",
            "\n",
            "1\n",
            "Correct answer :  1 \tLabel : 1 \n",
            "\n",
            "2\n",
            "Correct answer :  2 \tLabel : 2 \n",
            "\n",
            "1\n",
            "Correct answer :  1 \tLabel : 1 \n",
            "\n",
            "4\n",
            "Correct answer :  4 \tLabel : 4 \n",
            "\n",
            "0\n",
            "Correct answer :  0 \tLabel : 0 \n",
            "\n",
            "4\n",
            "Correct answer :  4 \tLabel : 4 \n",
            "\n",
            "2\n",
            "Correct answer :  2 \tLabel : 3 \n",
            "\n",
            "1\n",
            "Correct answer :  1 \tLabel : 1 \n",
            "\n",
            "4\n",
            "Correct answer :  4 \tLabel : 4 \n",
            "\n",
            "3\n",
            "Correct answer :  3 \tLabel : 4 \n",
            "\n",
            "3\n",
            "Correct answer :  3 \tLabel : 3 \n",
            "\n",
            "3\n",
            "Correct answer :  3 \tLabel : 3 \n",
            "\n",
            "0\n",
            "Correct answer :  0 \tLabel : 1 \n",
            "\n",
            "1\n",
            "Correct answer :  1 \tLabel : 1 \n",
            "\n",
            "2\n",
            "Correct answer :  2 \tLabel : 2 \n",
            "\n",
            "4\n",
            "Correct answer :  4 \tLabel : 0 \n",
            "\n",
            "1\n",
            "Correct answer :  1 \tLabel : 1 \n",
            "\n",
            "3\n",
            "Correct answer :  3 \tLabel : 3 \n",
            "\n",
            "4\n",
            "Correct answer :  4 \tLabel : 4 \n",
            "\n",
            "4\n",
            "Correct answer :  4 \tLabel : 4 \n",
            "\n",
            "0\n",
            "Correct answer :  0 \tLabel : 0 \n",
            "\n",
            "0\n",
            "Correct answer :  0 \tLabel : 0 \n",
            "\n",
            "0\n",
            "Correct answer :  0 \tLabel : 0 \n",
            "\n",
            "1\n",
            "Correct answer :  1 \tLabel : 1 \n",
            "\n",
            "4\n",
            "Correct answer :  4 \tLabel : 2 \n",
            "\n",
            "2\n",
            "Correct answer :  2 \tLabel : 2 \n",
            "\n",
            "3\n",
            "Correct answer :  3 \tLabel : 2 \n",
            "\n",
            "2\n",
            "Correct answer :  2 \tLabel : 2 \n",
            "\n",
            "0\n",
            "Correct answer :  0 \tLabel : 0 \n",
            "\n",
            "1\n",
            "Correct answer :  1 \tLabel : 1 \n",
            "\n",
            "4\n",
            "Correct answer :  4 \tLabel : 4 \n",
            "\n",
            "4\n",
            "Correct answer :  4 \tLabel : 4 \n",
            "\n",
            "3\n",
            "Correct answer :  3 \tLabel : 3 \n",
            "\n",
            "1\n",
            "Correct answer :  1 \tLabel : 1 \n",
            "\n",
            "2\n",
            "Correct answer :  2 \tLabel : 2 \n",
            "\n",
            "1\n",
            "Correct answer :  1 \tLabel : 3 \n",
            "\n",
            "4\n",
            "Correct answer :  4 \tLabel : 4 \n",
            "\n",
            "3\n",
            "Correct answer :  3 \tLabel : 3 \n",
            "\n",
            "1\n",
            "Correct answer :  1 \tLabel : 4 \n",
            "\n",
            "4\n",
            "Correct answer :  4 \tLabel : 0 \n",
            "\n",
            "0\n",
            "Correct answer :  0 \tLabel : 1 \n",
            "\n",
            "4\n",
            "Correct answer :  4 \tLabel : 4 \n",
            "\n",
            "3\n",
            "Correct answer :  3 \tLabel : 3 \n",
            "\n",
            "0\n",
            "Correct answer :  0 \tLabel : 3 \n",
            "\n",
            "1\n",
            "Correct answer :  1 \tLabel : 1 \n",
            "\n",
            "4\n",
            "Correct answer :  4 \tLabel : 4 \n",
            "\n",
            "1\n",
            "Correct answer :  1 \tLabel : 1 \n",
            "\n",
            "2\n",
            "Correct answer :  2 \tLabel : 2 \n",
            "\n",
            "4\n",
            "Correct answer :  4 \tLabel : 4 \n",
            "\n",
            "4\n",
            "Correct answer :  4 \tLabel : 1 \n",
            "\n",
            "2\n",
            "Correct answer :  2 \tLabel : 0 \n",
            "\n",
            "4\n",
            "Correct answer :  4 \tLabel : 4 \n",
            "\n",
            "3\n",
            "Correct answer :  3 \tLabel : 4 \n",
            "\n",
            "1\n",
            "Correct answer :  1 \tLabel : 1 \n",
            "\n",
            "1\n",
            "Correct answer :  1 \tLabel : 1 \n",
            "\n",
            "1\n",
            "Correct answer :  1 \tLabel : 1 \n",
            "\n",
            "4\n",
            "Correct answer :  4 \tLabel : 3 \n",
            "\n",
            "0\n",
            "Correct answer :  0 \tLabel : 0 \n",
            "\n",
            "2\n",
            "Correct answer :  2 \tLabel : 2 \n",
            "\n",
            "4\n",
            "Correct answer :  4 \tLabel : 4 \n",
            "\n",
            "3\n",
            "Correct answer :  3 \tLabel : 0 \n",
            "\n",
            "0\n",
            "Correct answer :  0 \tLabel : 3 \n",
            "\n",
            "2\n",
            "Correct answer :  2 \tLabel : 2 \n",
            "\n",
            "0\n",
            "Correct answer :  0 \tLabel : 1 \n",
            "\n",
            "1\n",
            "Correct answer :  1 \tLabel : 1 \n",
            "\n",
            "0\n",
            "Correct answer :  0 \tLabel : 0 \n",
            "\n",
            "2\n",
            "Correct answer :  2 \tLabel : 4 \n",
            "\n",
            "2\n",
            "Correct answer :  2 \tLabel : 2 \n",
            "\n",
            "4\n",
            "Correct answer :  4 \tLabel : 2 \n",
            "\n",
            "1\n",
            "Correct answer :  1 \tLabel : 1 \n",
            "\n",
            "2\n",
            "Correct answer :  2 \tLabel : 2 \n",
            "\n",
            "1\n",
            "Correct answer :  1 \tLabel : 0 \n",
            "\n",
            "0\n",
            "Correct answer :  0 \tLabel : 2 \n",
            "\n",
            "0\n",
            "Correct answer :  0 \tLabel : 2 \n",
            "\n",
            "0\n",
            "Correct answer :  0 \tLabel : 0 \n",
            "\n",
            "0\n",
            "Correct answer :  0 \tLabel : 0 \n",
            "\n",
            "0\n",
            "Correct answer :  0 \tLabel : 0 \n",
            "\n",
            "2\n",
            "Correct answer :  2 \tLabel : 2 \n",
            "\n",
            "4\n",
            "Correct answer :  4 \tLabel : 3 \n",
            "\n",
            "0\n",
            "Correct answer :  0 \tLabel : 0 \n",
            "\n",
            "3\n",
            "Correct answer :  3 \tLabel : 3 \n",
            "\n",
            "3\n",
            "Correct answer :  3 \tLabel : 2 \n",
            "\n",
            "3\n",
            "Correct answer :  3 \tLabel : 0 \n",
            "\n",
            "3\n",
            "Correct answer :  3 \tLabel : 3 \n",
            "\n",
            "2\n",
            "Correct answer :  2 \tLabel : 3 \n",
            "\n",
            "3\n",
            "Correct answer :  3 \tLabel : 4 \n",
            "\n",
            "3\n",
            "Correct answer :  3 \tLabel : 3 \n",
            "\n",
            "4\n",
            "Correct answer :  4 \tLabel : 4 \n",
            "\n",
            "0\n",
            "Correct answer :  0 \tLabel : 3 \n",
            "\n",
            "3\n",
            "Correct answer :  3 \tLabel : 3 \n",
            "\n",
            "0\n",
            "Correct answer :  0 \tLabel : 0 \n",
            "\n",
            "3\n",
            "Correct answer :  3 \tLabel : 3 \n",
            "\n",
            "0\n",
            "Correct answer :  0 \tLabel : 0 \n",
            "\n",
            "0\n",
            "Correct answer :  0 \tLabel : 1 \n",
            "\n",
            "2\n",
            "Correct answer :  2 \tLabel : 2 \n",
            "\n",
            "2\n",
            "Correct answer :  2 \tLabel : 2 \n",
            "\n",
            "0\n",
            "Correct answer :  0 \tLabel : 0 \n",
            "\n",
            "2\n",
            "Correct answer :  2 \tLabel : 2 \n",
            "\n",
            "4\n",
            "Correct answer :  4 \tLabel : 0 \n",
            "\n",
            "3\n",
            "Correct answer :  3 \tLabel : 1 \n",
            "\n",
            "1\n",
            "Correct answer :  1 \tLabel : 3 \n",
            "\n",
            "4\n",
            "Correct answer :  4 \tLabel : 4 \n",
            "\n",
            "2\n",
            "Correct answer :  2 \tLabel : 3 \n",
            "\n",
            "0\n",
            "Correct answer :  0 \tLabel : 0 \n",
            "\n",
            "4\n",
            "Correct answer :  4 \tLabel : 4 \n",
            "\n",
            "2\n",
            "Correct answer :  2 \tLabel : 2 \n",
            "\n",
            "2\n",
            "Correct answer :  2 \tLabel : 2 \n",
            "\n",
            "2\n",
            "Correct answer :  2 \tLabel : 2 \n",
            "\n",
            "1\n",
            "Correct answer :  1 \tLabel : 0 \n",
            "\n",
            "2\n",
            "Correct answer :  2 \tLabel : 2 \n",
            "\n",
            "4\n",
            "Correct answer :  4 \tLabel : 4 \n",
            "\n",
            "1\n",
            "Correct answer :  1 \tLabel : 1 \n",
            "\n",
            "0\n",
            "Correct answer :  0 \tLabel : 0 \n",
            "\n",
            "0\n",
            "Correct answer :  0 \tLabel : 0 \n",
            "\n",
            "1\n",
            "Correct answer :  1 \tLabel : 0 \n",
            "\n",
            "2\n",
            "Correct answer :  2 \tLabel : 1 \n",
            "\n",
            "0\n",
            "Correct answer :  0 \tLabel : 0 \n",
            "\n",
            "0\n",
            "Correct answer :  0 \tLabel : 0 \n",
            "\n",
            "3\n",
            "Correct answer :  3 \tLabel : 1 \n",
            "\n",
            "0\n",
            "Correct answer :  0 \tLabel : 1 \n",
            "\n",
            "1\n",
            "Correct answer :  1 \tLabel : 1 \n",
            "\n",
            "2\n",
            "Correct answer :  2 \tLabel : 2 \n",
            "\n",
            "3\n",
            "Correct answer :  3 \tLabel : 3 \n",
            "\n",
            "0\n",
            "Correct answer :  0 \tLabel : 0 \n",
            "\n",
            "2\n",
            "Correct answer :  2 \tLabel : 2 \n",
            "\n",
            "3\n",
            "Correct answer :  3 \tLabel : 3 \n",
            "\n",
            "0\n",
            "Correct answer :  0 \tLabel : 0 \n",
            "\n",
            "2\n",
            "Correct answer :  2 \tLabel : 0 \n",
            "\n",
            "3\n",
            "Correct answer :  3 \tLabel : 4 \n",
            "\n",
            "0\n",
            "Correct answer :  0 \tLabel : 0 \n",
            "\n",
            "3\n",
            "Correct answer :  3 \tLabel : 3 \n",
            "\n",
            "2\n",
            "Correct answer :  2 \tLabel : 2 \n",
            "\n",
            "1\n",
            "Correct answer :  1 \tLabel : 1 \n",
            "\n",
            "1\n",
            "Correct answer :  1 \tLabel : 1 \n",
            "\n",
            "4\n",
            "Correct answer :  4 \tLabel : 4 \n",
            "\n",
            "4\n",
            "Correct answer :  4 \tLabel : 4 \n",
            "\n",
            "1\n",
            "Correct answer :  1 \tLabel : 1 \n",
            "\n",
            "4\n",
            "Correct answer :  4 \tLabel : 4 \n",
            "\n",
            "1\n",
            "Correct answer :  1 \tLabel : 2 \n",
            "\n",
            "2\n",
            "Correct answer :  2 \tLabel : 2 \n",
            "\n",
            "0\n",
            "Correct answer :  0 \tLabel : 3 \n",
            "\n",
            "3\n",
            "Correct answer :  3 \tLabel : 3 \n",
            "\n",
            "0\n",
            "Correct answer :  0 \tLabel : 0 \n",
            "\n",
            "3\n",
            "Correct answer :  3 \tLabel : 3 \n",
            "\n",
            "2\n",
            "Correct answer :  2 \tLabel : 0 \n",
            "\n",
            "4\n",
            "Correct answer :  4 \tLabel : 4 \n",
            "\n",
            "4\n",
            "Correct answer :  4 \tLabel : 4 \n",
            "\n",
            "4\n",
            "Correct answer :  4 \tLabel : 4 \n",
            "\n",
            "1\n",
            "Correct answer :  1 \tLabel : 1 \n",
            "\n",
            "0\n",
            "Correct answer :  0 \tLabel : 0 \n",
            "\n",
            "2\n",
            "Correct answer :  2 \tLabel : 2 \n",
            "\n",
            "1\n",
            "Correct answer :  1 \tLabel : 1 \n",
            "\n",
            "4\n",
            "Correct answer :  4 \tLabel : 4 \n",
            "\n",
            "2\n",
            "Correct answer :  2 \tLabel : 3 \n",
            "\n",
            "3\n",
            "Correct answer :  3 \tLabel : 0 \n",
            "\n",
            "0\n",
            "Correct answer :  0 \tLabel : 2 \n",
            "\n",
            "1\n",
            "Correct answer :  1 \tLabel : 1 \n",
            "\n",
            "2\n",
            "Correct answer :  2 \tLabel : 2 \n",
            "\n",
            "4\n",
            "Correct answer :  4 \tLabel : 4 \n",
            "\n",
            "2\n",
            "Correct answer :  2 \tLabel : 2 \n",
            "\n",
            "0\n",
            "Correct answer :  0 \tLabel : 1 \n",
            "\n",
            "3\n",
            "Correct answer :  3 \tLabel : 3 \n",
            "\n",
            "4\n",
            "Correct answer :  4 \tLabel : 4 \n",
            "\n",
            "2\n",
            "Correct answer :  2 \tLabel : 2 \n",
            "\n",
            "3\n",
            "Correct answer :  3 \tLabel : 3 \n",
            "\n",
            "0\n",
            "Correct answer :  0 \tLabel : 0 \n",
            "\n",
            "0\n",
            "Correct answer :  0 \tLabel : 3 \n",
            "\n",
            "1\n",
            "Correct answer :  1 \tLabel : 1 \n",
            "\n",
            "1\n",
            "Correct answer :  1 \tLabel : 0 \n",
            "\n",
            "4\n",
            "Correct answer :  4 \tLabel : 4 \n",
            "\n",
            "3\n",
            "Correct answer :  3 \tLabel : 3 \n",
            "\n",
            "3\n",
            "Correct answer :  3 \tLabel : 3 \n",
            "\n",
            "4\n",
            "Correct answer :  4 \tLabel : 4 \n",
            "\n",
            "0\n",
            "Correct answer :  0 \tLabel : 3 \n",
            "\n",
            "2\n",
            "Correct answer :  2 \tLabel : 2 \n",
            "\n",
            "3\n",
            "Correct answer :  3 \tLabel : 2 \n",
            "\n",
            "0\n",
            "Correct answer :  0 \tLabel : 0 \n",
            "\n",
            "4\n",
            "Correct answer :  4 \tLabel : 3 \n",
            "\n",
            "3\n",
            "Correct answer :  3 \tLabel : 4 \n",
            "\n",
            "0\n",
            "Correct answer :  0 \tLabel : 0 \n",
            "\n",
            "4\n",
            "Correct answer :  4 \tLabel : 3 \n",
            "\n",
            "0\n",
            "Correct answer :  0 \tLabel : 0 \n",
            "\n",
            "3\n",
            "Correct answer :  3 \tLabel : 3 \n",
            "\n",
            "3\n",
            "Correct answer :  3 \tLabel : 3 \n",
            "\n",
            "1\n",
            "Correct answer :  1 \tLabel : 4 \n",
            "\n",
            "2\n",
            "Correct answer :  2 \tLabel : 2 \n",
            "\n",
            "0\n",
            "Correct answer :  0 \tLabel : 0 \n",
            "\n",
            "4\n",
            "Correct answer :  4 \tLabel : 4 \n",
            "\n",
            "4\n",
            "Correct answer :  4 \tLabel : 4 \n",
            "\n",
            "1\n",
            "Correct answer :  1 \tLabel : 1 \n",
            "\n",
            "3\n",
            "Correct answer :  3 \tLabel : 3 \n",
            "\n",
            "1\n",
            "Correct answer :  1 \tLabel : 1 \n",
            "\n",
            "2\n",
            "Correct answer :  2 \tLabel : 1 \n",
            "\n",
            "2\n",
            "Correct answer :  2 \tLabel : 2 \n",
            "\n",
            "2\n",
            "Correct answer :  2 \tLabel : 2 \n",
            "\n",
            "0\n",
            "Correct answer :  0 \tLabel : 0 \n",
            "\n",
            "3\n",
            "Correct answer :  3 \tLabel : 2 \n",
            "\n",
            "3\n",
            "Correct answer :  3 \tLabel : 2 \n",
            "\n",
            "2\n",
            "Correct answer :  2 \tLabel : 2 \n",
            "\n",
            "4\n",
            "Correct answer :  4 \tLabel : 4 \n",
            "\n",
            "4\n",
            "Correct answer :  4 \tLabel : 4 \n",
            "\n",
            "0\n",
            "Correct answer :  0 \tLabel : 0 \n",
            "\n",
            "4\n",
            "Correct answer :  4 \tLabel : 4 \n",
            "\n",
            "2\n",
            "Correct answer :  2 \tLabel : 2 \n",
            "\n",
            "2\n",
            "Correct answer :  2 \tLabel : 2 \n",
            "\n",
            "2\n",
            "Correct answer :  2 \tLabel : 2 \n",
            "\n",
            "2\n",
            "Correct answer :  2 \tLabel : 2 \n",
            "\n",
            "0\n",
            "Correct answer :  0 \tLabel : 0 \n",
            "\n",
            "0\n",
            "Correct answer :  0 \tLabel : 0 \n",
            "\n",
            "1\n",
            "Correct answer :  1 \tLabel : 2 \n",
            "\n",
            "2\n",
            "Correct answer :  2 \tLabel : 2 \n",
            "\n",
            "2\n",
            "Correct answer :  2 \tLabel : 3 \n",
            "\n",
            "4\n",
            "Correct answer :  4 \tLabel : 4 \n",
            "\n",
            "3\n",
            "Correct answer :  3 \tLabel : 3 \n",
            "\n",
            "1\n",
            "Correct answer :  1 \tLabel : 1 \n",
            "\n",
            "4\n",
            "Correct answer :  4 \tLabel : 4 \n",
            "\n",
            "0\n",
            "Correct answer :  0 \tLabel : 0 \n",
            "\n",
            "4\n",
            "Correct answer :  4 \tLabel : 2 \n",
            "\n",
            "2\n",
            "Correct answer :  2 \tLabel : 2 \n",
            "\n",
            "2\n",
            "Correct answer :  2 \tLabel : 2 \n",
            "\n",
            "4\n",
            "Correct answer :  4 \tLabel : 4 \n",
            "\n",
            "3\n",
            "Correct answer :  3 \tLabel : 3 \n",
            "\n",
            "1\n",
            "Correct answer :  1 \tLabel : 0 \n",
            "\n",
            "2\n",
            "Correct answer :  2 \tLabel : 2 \n",
            "\n",
            "0\n",
            "Correct answer :  0 \tLabel : 0 \n",
            "\n",
            "1\n",
            "Correct answer :  1 \tLabel : 0 \n",
            "\n",
            "2\n",
            "Correct answer :  2 \tLabel : 3 \n",
            "\n",
            "3\n",
            "Correct answer :  3 \tLabel : 3 \n",
            "\n",
            "0\n",
            "Correct answer :  0 \tLabel : 0 \n",
            "\n",
            "4\n",
            "Correct answer :  4 \tLabel : 4 \n",
            "\n",
            "3\n",
            "Correct answer :  3 \tLabel : 3 \n",
            "\n",
            "2\n",
            "Correct answer :  2 \tLabel : 0 \n",
            "\n",
            "1\n",
            "Correct answer :  1 \tLabel : 3 \n",
            "\n",
            "4\n",
            "Correct answer :  4 \tLabel : 4 \n",
            "\n",
            "0\n",
            "Correct answer :  0 \tLabel : 0 \n",
            "\n",
            "0\n",
            "Correct answer :  0 \tLabel : 2 \n",
            "\n",
            "4\n",
            "Correct answer :  4 \tLabel : 4 \n",
            "\n",
            "1\n",
            "Correct answer :  1 \tLabel : 1 \n",
            "\n",
            "2\n",
            "Correct answer :  2 \tLabel : 2 \n",
            "\n",
            "1\n",
            "Correct answer :  1 \tLabel : 1 \n",
            "\n",
            "4\n",
            "Correct answer :  4 \tLabel : 3 \n",
            "\n",
            "3\n",
            "Correct answer :  3 \tLabel : 3 \n",
            "\n",
            "2\n",
            "Correct answer :  2 \tLabel : 1 \n",
            "\n",
            "1\n",
            "Correct answer :  1 \tLabel : 1 \n",
            "\n",
            "2\n",
            "Correct answer :  2 \tLabel : 2 \n",
            "\n",
            "3\n",
            "Correct answer :  3 \tLabel : 4 \n",
            "\n",
            "0\n",
            "Correct answer :  0 \tLabel : 1 \n",
            "\n",
            "1\n",
            "Correct answer :  1 \tLabel : 4 \n",
            "\n",
            "3\n",
            "Correct answer :  3 \tLabel : 1 \n",
            "\n",
            "1\n",
            "Correct answer :  1 \tLabel : 1 \n",
            "\n",
            "2\n",
            "Correct answer :  2 \tLabel : 2 \n",
            "\n",
            "3\n",
            "Correct answer :  3 \tLabel : 3 \n",
            "\n",
            "2\n",
            "Correct answer :  2 \tLabel : 2 \n",
            "\n",
            "3\n",
            "Correct answer :  3 \tLabel : 3 \n",
            "\n",
            "3\n",
            "Correct answer :  3 \tLabel : 3 \n",
            "\n",
            "2\n",
            "Correct answer :  2 \tLabel : 2 \n",
            "\n",
            "2\n",
            "Correct answer :  2 \tLabel : 2 \n",
            "\n",
            "2\n",
            "Correct answer :  2 \tLabel : 2 \n",
            "\n",
            "1\n",
            "Correct answer :  1 \tLabel : 1 \n",
            "\n",
            "1\n",
            "Correct answer :  1 \tLabel : 1 \n",
            "\n",
            "0\n",
            "Correct answer :  0 \tLabel : 2 \n",
            "\n",
            "3\n",
            "Correct answer :  3 \tLabel : 3 \n",
            "\n",
            "2\n",
            "Correct answer :  2 \tLabel : 2 \n",
            "\n",
            "2\n",
            "Correct answer :  2 \tLabel : 2 \n",
            "\n",
            "3\n",
            "Correct answer :  3 \tLabel : 3 \n",
            "\n",
            "3\n",
            "Correct answer :  3 \tLabel : 3 \n",
            "\n",
            "4\n",
            "Correct answer :  4 \tLabel : 1 \n",
            "\n",
            "2\n",
            "Correct answer :  2 \tLabel : 2 \n",
            "\n",
            "3\n",
            "Correct answer :  3 \tLabel : 3 \n",
            "\n",
            "4\n",
            "Correct answer :  4 \tLabel : 4 \n",
            "\n",
            "1\n",
            "Correct answer :  1 \tLabel : 1 \n",
            "\n",
            "3\n",
            "Correct answer :  3 \tLabel : 3 \n",
            "\n",
            "1\n",
            "Correct answer :  1 \tLabel : 1 \n",
            "\n",
            "3\n",
            "Correct answer :  3 \tLabel : 3 \n",
            "\n",
            "1\n",
            "Correct answer :  1 \tLabel : 1 \n",
            "\n",
            "4\n",
            "Correct answer :  4 \tLabel : 4 \n",
            "\n",
            "2\n",
            "Correct answer :  2 \tLabel : 0 \n",
            "\n",
            "4\n",
            "Correct answer :  4 \tLabel : 4 \n",
            "\n",
            "4\n",
            "Correct answer :  4 \tLabel : 4 \n",
            "\n",
            "2\n",
            "Correct answer :  2 \tLabel : 3 \n",
            "\n",
            "3\n",
            "Correct answer :  3 \tLabel : 3 \n",
            "\n",
            "4\n",
            "Correct answer :  4 \tLabel : 2 \n",
            "\n",
            "2\n",
            "Correct answer :  2 \tLabel : 2 \n",
            "\n",
            "0\n",
            "Correct answer :  0 \tLabel : 0 \n",
            "\n",
            "2\n",
            "Correct answer :  2 \tLabel : 2 \n",
            "\n",
            "0\n",
            "Correct answer :  0 \tLabel : 1 \n",
            "\n",
            "3\n",
            "Correct answer :  3 \tLabel : 3 \n",
            "\n",
            "2\n",
            "Correct answer :  2 \tLabel : 0 \n",
            "\n",
            "3\n",
            "Correct answer :  3 \tLabel : 3 \n",
            "\n",
            "3\n",
            "Correct answer :  3 \tLabel : 3 \n",
            "\n",
            "4\n",
            "Correct answer :  4 \tLabel : 1 \n",
            "\n",
            "2\n",
            "Correct answer :  2 \tLabel : 2 \n",
            "\n",
            "1\n",
            "Correct answer :  1 \tLabel : 1 \n",
            "\n",
            "4\n",
            "Correct answer :  4 \tLabel : 4 \n",
            "\n",
            "4\n",
            "Correct answer :  4 \tLabel : 4 \n",
            "\n",
            "0\n",
            "Correct answer :  0 \tLabel : 0 \n",
            "\n",
            "2\n",
            "Correct answer :  2 \tLabel : 2 \n",
            "\n",
            "1\n",
            "Correct answer :  1 \tLabel : 1 \n",
            "\n",
            "0\n",
            "Correct answer :  0 \tLabel : 0 \n",
            "\n",
            "4\n",
            "Correct answer :  4 \tLabel : 4 \n",
            "\n",
            "3\n",
            "Correct answer :  3 \tLabel : 2 \n",
            "\n",
            "4\n",
            "Correct answer :  4 \tLabel : 4 \n",
            "\n",
            "1\n",
            "Correct answer :  1 \tLabel : 1 \n",
            "\n",
            "4\n",
            "Correct answer :  4 \tLabel : 4 \n",
            "\n",
            "0\n",
            "Correct answer :  0 \tLabel : 0 \n",
            "\n",
            "1\n",
            "Correct answer :  1 \tLabel : 3 \n",
            "\n",
            "4\n",
            "Correct answer :  4 \tLabel : 2 \n",
            "\n",
            "2\n",
            "Correct answer :  2 \tLabel : 0 \n",
            "\n",
            "4\n",
            "Correct answer :  4 \tLabel : 4 \n",
            "\n",
            "2\n",
            "Correct answer :  2 \tLabel : 2 \n",
            "\n",
            "3\n",
            "Correct answer :  3 \tLabel : 3 \n",
            "\n",
            "3\n",
            "Correct answer :  3 \tLabel : 3 \n",
            "\n",
            "1\n",
            "Correct answer :  1 \tLabel : 2 \n",
            "\n",
            "0\n",
            "Correct answer :  0 \tLabel : 4 \n",
            "\n",
            "1\n",
            "Correct answer :  1 \tLabel : 1 \n",
            "\n",
            "1\n",
            "Correct answer :  1 \tLabel : 1 \n",
            "\n",
            "0\n",
            "Correct answer :  0 \tLabel : 0 \n",
            "\n",
            "1\n",
            "Correct answer :  1 \tLabel : 1 \n",
            "\n",
            "1\n",
            "Correct answer :  1 \tLabel : 1 \n",
            "\n",
            "2\n",
            "Correct answer :  2 \tLabel : 2 \n",
            "\n",
            "1\n",
            "Correct answer :  1 \tLabel : 1 \n",
            "\n",
            "3\n",
            "Correct answer :  3 \tLabel : 3 \n",
            "\n",
            "4\n",
            "Correct answer :  4 \tLabel : 4 \n",
            "\n",
            "4\n",
            "Correct answer :  4 \tLabel : 4 \n",
            "\n",
            "1\n",
            "Correct answer :  1 \tLabel : 3 \n",
            "\n",
            "4\n",
            "Correct answer :  4 \tLabel : 0 \n",
            "\n",
            "1\n",
            "Correct answer :  1 \tLabel : 1 \n",
            "\n",
            "3\n",
            "Correct answer :  3 \tLabel : 1 \n",
            "\n",
            "3\n",
            "Correct answer :  3 \tLabel : 3 \n",
            "\n",
            "1\n",
            "Correct answer :  1 \tLabel : 0 \n",
            "\n",
            "1\n",
            "Correct answer :  1 \tLabel : 1 \n",
            "\n",
            "4\n",
            "Correct answer :  4 \tLabel : 4 \n",
            "\n",
            "1\n",
            "Correct answer :  1 \tLabel : 1 \n",
            "\n",
            "4\n",
            "Correct answer :  4 \tLabel : 0 \n",
            "\n",
            "4\n",
            "Correct answer :  4 \tLabel : 4 \n",
            "\n",
            "2\n",
            "Correct answer :  2 \tLabel : 2 \n",
            "\n",
            "2\n",
            "Correct answer :  2 \tLabel : 2 \n",
            "\n",
            "2\n",
            "Correct answer :  2 \tLabel : 2 \n",
            "\n",
            "4\n",
            "Correct answer :  4 \tLabel : 3 \n",
            "\n",
            "0\n",
            "Correct answer :  0 \tLabel : 0 \n",
            "\n",
            "2\n",
            "Correct answer :  2 \tLabel : 4 \n",
            "\n",
            "0\n",
            "Correct answer :  0 \tLabel : 0 \n",
            "\n",
            "2\n",
            "Correct answer :  2 \tLabel : 2 \n",
            "\n",
            "3\n",
            "Correct answer :  3 \tLabel : 0 \n",
            "\n",
            "2\n",
            "Correct answer :  2 \tLabel : 2 \n",
            "\n",
            "0\n",
            "Correct answer :  0 \tLabel : 0 \n",
            "\n",
            "3\n",
            "Correct answer :  3 \tLabel : 3 \n",
            "\n",
            "4\n",
            "Correct answer :  4 \tLabel : 4 \n",
            "\n",
            "2\n",
            "Correct answer :  2 \tLabel : 2 \n",
            "\n",
            "0\n",
            "Correct answer :  0 \tLabel : 4 \n",
            "\n",
            "2\n",
            "Correct answer :  2 \tLabel : 2 \n",
            "\n",
            "0\n",
            "Correct answer :  0 \tLabel : 0 \n",
            "\n",
            "4\n",
            "Correct answer :  4 \tLabel : 4 \n",
            "\n",
            "3\n",
            "Correct answer :  3 \tLabel : 3 \n",
            "\n",
            "1\n",
            "Correct answer :  1 \tLabel : 1 \n",
            "\n",
            "2\n",
            "Correct answer :  2 \tLabel : 2 \n",
            "\n",
            "0\n",
            "Correct answer :  0 \tLabel : 2 \n",
            "\n",
            "0\n",
            "Correct answer :  0 \tLabel : 0 \n",
            "\n",
            "1\n",
            "Correct answer :  1 \tLabel : 2 \n",
            "\n",
            "0\n",
            "Correct answer :  0 \tLabel : 1 \n",
            "\n",
            "4\n",
            "Correct answer :  4 \tLabel : 4 \n",
            "\n",
            "0\n",
            "Correct answer :  0 \tLabel : 1 \n",
            "\n",
            "3\n",
            "Correct answer :  3 \tLabel : 2 \n",
            "\n",
            "0\n",
            "Correct answer :  0 \tLabel : 0 \n",
            "\n",
            "1\n",
            "Correct answer :  1 \tLabel : 1 \n",
            "\n",
            "0\n",
            "Correct answer :  0 \tLabel : 0 \n",
            "\n",
            "3\n",
            "Correct answer :  3 \tLabel : 3 \n",
            "\n",
            "2\n",
            "Correct answer :  2 \tLabel : 2 \n",
            "\n",
            "3\n",
            "Correct answer :  3 \tLabel : 3 \n",
            "\n",
            "0\n",
            "Correct answer :  0 \tLabel : 0 \n",
            "\n",
            "3\n",
            "Correct answer :  3 \tLabel : 3 \n",
            "\n",
            "3\n",
            "Correct answer :  3 \tLabel : 2 \n",
            "\n",
            "0\n",
            "Correct answer :  0 \tLabel : 0 \n",
            "\n",
            "2\n",
            "Correct answer :  2 \tLabel : 2 \n",
            "\n",
            "2\n",
            "Correct answer :  2 \tLabel : 2 \n",
            "\n",
            "4\n",
            "Correct answer :  4 \tLabel : 4 \n",
            "\n",
            "0\n",
            "Correct answer :  0 \tLabel : 0 \n",
            "\n",
            "2\n",
            "Correct answer :  2 \tLabel : 2 \n",
            "\n",
            "4\n",
            "Correct answer :  4 \tLabel : 4 \n",
            "\n",
            "4\n",
            "Correct answer :  4 \tLabel : 0 \n",
            "\n",
            "0\n",
            "Correct answer :  0 \tLabel : 0 \n",
            "\n",
            "2\n",
            "Correct answer :  2 \tLabel : 2 \n",
            "\n",
            "4\n",
            "Correct answer :  4 \tLabel : 4 \n",
            "\n",
            "1\n",
            "Correct answer :  1 \tLabel : 1 \n",
            "\n",
            "3\n",
            "Correct answer :  3 \tLabel : 1 \n",
            "\n",
            "2\n",
            "Correct answer :  2 \tLabel : 2 \n",
            "\n",
            "1\n",
            "Correct answer :  1 \tLabel : 3 \n",
            "\n",
            "1\n",
            "Correct answer :  1 \tLabel : 1 \n",
            "\n",
            "3\n",
            "Correct answer :  3 \tLabel : 3 \n",
            "\n",
            "1\n",
            "Correct answer :  1 \tLabel : 1 \n",
            "\n",
            "4\n",
            "Correct answer :  4 \tLabel : 4 \n",
            "\n",
            "4\n",
            "Correct answer :  4 \tLabel : 4 \n",
            "\n",
            "2\n",
            "Correct answer :  2 \tLabel : 1 \n",
            "\n",
            "0\n",
            "Correct answer :  0 \tLabel : 0 \n",
            "\n",
            "1\n",
            "Correct answer :  1 \tLabel : 1 \n",
            "\n",
            "4\n",
            "Correct answer :  4 \tLabel : 4 \n",
            "\n",
            "3\n",
            "Correct answer :  3 \tLabel : 3 \n",
            "\n",
            "2\n",
            "Correct answer :  2 \tLabel : 2 \n",
            "\n",
            "4\n",
            "Correct answer :  4 \tLabel : 4 \n",
            "\n",
            "0\n",
            "Correct answer :  0 \tLabel : 2 \n",
            "\n",
            "2\n",
            "Correct answer :  2 \tLabel : 2 \n",
            "\n",
            "4\n",
            "Correct answer :  4 \tLabel : 4 \n",
            "\n",
            "0\n",
            "Correct answer :  0 \tLabel : 0 \n",
            "\n",
            "0\n",
            "Correct answer :  0 \tLabel : 0 \n",
            "\n",
            "4\n",
            "Correct answer :  4 \tLabel : 4 \n",
            "\n",
            "2\n",
            "Correct answer :  2 \tLabel : 2 \n",
            "\n",
            "3\n",
            "Correct answer :  3 \tLabel : 3 \n",
            "\n",
            "1\n",
            "Correct answer :  1 \tLabel : 1 \n",
            "\n",
            "1\n",
            "Correct answer :  1 \tLabel : 1 \n",
            "\n",
            "2\n",
            "Correct answer :  2 \tLabel : 2 \n",
            "\n",
            "0\n",
            "Correct answer :  0 \tLabel : 0 \n",
            "\n",
            "2\n",
            "Correct answer :  2 \tLabel : 3 \n",
            "\n",
            "1\n",
            "Correct answer :  1 \tLabel : 1 \n",
            "\n",
            "2\n",
            "Correct answer :  2 \tLabel : 2 \n",
            "\n",
            "4\n",
            "Correct answer :  4 \tLabel : 4 \n",
            "\n",
            "3\n",
            "Correct answer :  3 \tLabel : 3 \n",
            "\n",
            "3\n",
            "Correct answer :  3 \tLabel : 0 \n",
            "\n",
            "3\n",
            "Correct answer :  3 \tLabel : 3 \n",
            "\n",
            "3\n",
            "Correct answer :  3 \tLabel : 1 \n",
            "\n",
            "0\n",
            "Correct answer :  0 \tLabel : 0 \n",
            "\n",
            "0\n",
            "Correct answer :  0 \tLabel : 0 \n",
            "\n",
            "2\n",
            "Correct answer :  2 \tLabel : 2 \n",
            "\n",
            "0\n",
            "Correct answer :  0 \tLabel : 3 \n",
            "\n",
            "2\n",
            "Correct answer :  2 \tLabel : 0 \n",
            "\n",
            "4\n",
            "Correct answer :  4 \tLabel : 4 \n",
            "\n",
            "4\n",
            "Correct answer :  4 \tLabel : 3 \n",
            "\n",
            "0\n",
            "Correct answer :  0 \tLabel : 0 \n",
            "\n",
            "1\n",
            "Correct answer :  1 \tLabel : 1 \n",
            "\n",
            "4\n",
            "Correct answer :  4 \tLabel : 4 \n",
            "\n",
            "1\n",
            "Correct answer :  1 \tLabel : 1 \n",
            "\n",
            "2\n",
            "Correct answer :  2 \tLabel : 0 \n",
            "\n",
            "2\n",
            "Correct answer :  2 \tLabel : 1 \n",
            "\n",
            "0\n",
            "Correct answer :  0 \tLabel : 3 \n",
            "\n",
            "1\n",
            "Correct answer :  1 \tLabel : 1 \n",
            "\n",
            "2\n",
            "Correct answer :  2 \tLabel : 4 \n",
            "\n",
            "3\n",
            "Correct answer :  3 \tLabel : 3 \n",
            "\n",
            "2\n",
            "Correct answer :  2 \tLabel : 4 \n",
            "\n",
            "3\n",
            "Correct answer :  3 \tLabel : 1 \n",
            "\n",
            "0\n",
            "Correct answer :  0 \tLabel : 0 \n",
            "\n",
            "0\n",
            "Correct answer :  0 \tLabel : 0 \n",
            "\n",
            "1\n",
            "Correct answer :  1 \tLabel : 1 \n",
            "\n",
            "3\n",
            "Correct answer :  3 \tLabel : 3 \n",
            "\n",
            "1\n",
            "Correct answer :  1 \tLabel : 1 \n",
            "\n",
            "2\n",
            "Correct answer :  2 \tLabel : 4 \n",
            "\n",
            "1\n",
            "Correct answer :  1 \tLabel : 1 \n",
            "\n",
            "0\n",
            "Correct answer :  0 \tLabel : 0 \n",
            "\n",
            "1\n",
            "Correct answer :  1 \tLabel : 1 \n",
            "\n",
            "1\n",
            "Correct answer :  1 \tLabel : 1 \n",
            "\n",
            "4\n",
            "Correct answer :  4 \tLabel : 2 \n",
            "\n",
            "2\n",
            "Correct answer :  2 \tLabel : 4 \n",
            "\n",
            "3\n",
            "Correct answer :  3 \tLabel : 3 \n",
            "\n",
            "4\n",
            "Correct answer :  4 \tLabel : 4 \n",
            "\n",
            "0\n",
            "Correct answer :  0 \tLabel : 0 \n",
            "\n",
            "4\n",
            "Correct answer :  4 \tLabel : 0 \n",
            "\n",
            "1\n",
            "Correct answer :  1 \tLabel : 1 \n",
            "\n",
            "3\n",
            "Correct answer :  3 \tLabel : 0 \n",
            "\n",
            "3\n",
            "Correct answer :  3 \tLabel : 4 \n",
            "\n",
            "4\n",
            "Correct answer :  4 \tLabel : 1 \n",
            "\n",
            "0\n",
            "Correct answer :  0 \tLabel : 0 \n",
            "\n",
            "2\n",
            "Correct answer :  2 \tLabel : 2 \n",
            "\n",
            "4\n",
            "Correct answer :  4 \tLabel : 3 \n",
            "\n",
            "3\n",
            "Correct answer :  3 \tLabel : 0 \n",
            "\n",
            "1\n",
            "Correct answer :  1 \tLabel : 4 \n",
            "\n",
            "1\n",
            "Correct answer :  1 \tLabel : 1 \n",
            "\n",
            "2\n",
            "Correct answer :  2 \tLabel : 2 \n",
            "\n",
            "1\n",
            "Correct answer :  1 \tLabel : 1 \n",
            "\n",
            "2\n",
            "Correct answer :  2 \tLabel : 2 \n",
            "\n",
            "1\n",
            "Correct answer :  1 \tLabel : 1 \n",
            "\n",
            "2\n",
            "Correct answer :  2 \tLabel : 1 \n",
            "\n",
            "2\n",
            "Correct answer :  2 \tLabel : 2 \n",
            "\n",
            "4\n",
            "Correct answer :  4 \tLabel : 4 \n",
            "\n",
            "1\n",
            "Correct answer :  1 \tLabel : 1 \n",
            "\n",
            "1\n",
            "Correct answer :  1 \tLabel : 1 \n",
            "\n",
            "3\n",
            "Correct answer :  3 \tLabel : 3 \n",
            "\n",
            "0\n",
            "Correct answer :  0 \tLabel : 0 \n",
            "\n",
            "2\n",
            "Correct answer :  2 \tLabel : 2 \n",
            "\n",
            "1\n",
            "Correct answer :  1 \tLabel : 1 \n",
            "\n",
            "4\n",
            "Correct answer :  4 \tLabel : 3 \n",
            "\n",
            "4\n",
            "Correct answer :  4 \tLabel : 4 \n",
            "\n",
            "4\n",
            "Correct answer :  4 \tLabel : 4 \n",
            "\n",
            "3\n",
            "Correct answer :  3 \tLabel : 1 \n",
            "\n",
            "4\n",
            "Correct answer :  4 \tLabel : 1 \n",
            "\n",
            "0\n",
            "Correct answer :  0 \tLabel : 0 \n",
            "\n",
            "3\n",
            "Correct answer :  3 \tLabel : 3 \n",
            "\n",
            "0\n",
            "Correct answer :  0 \tLabel : 0 \n",
            "\n",
            "1\n",
            "Correct answer :  1 \tLabel : 1 \n",
            "\n",
            "3\n",
            "Correct answer :  3 \tLabel : 3 \n",
            "\n",
            "0\n",
            "Correct answer :  0 \tLabel : 1 \n",
            "\n",
            "0\n",
            "Correct answer :  0 \tLabel : 3 \n",
            "\n",
            "4\n",
            "Correct answer :  4 \tLabel : 1 \n",
            "\n",
            "4\n",
            "Correct answer :  4 \tLabel : 4 \n",
            "\n",
            "4\n",
            "Correct answer :  4 \tLabel : 0 \n",
            "\n",
            "3\n",
            "Correct answer :  3 \tLabel : 3 \n",
            "\n",
            "2\n",
            "Correct answer :  2 \tLabel : 4 \n",
            "\n",
            "3\n",
            "Correct answer :  3 \tLabel : 3 \n",
            "\n",
            "0\n",
            "Correct answer :  0 \tLabel : 0 \n",
            "\n",
            "3\n",
            "Correct answer :  3 \tLabel : 3 \n",
            "\n",
            "1\n",
            "Correct answer :  1 \tLabel : 0 \n",
            "\n",
            "3\n",
            "Correct answer :  3 \tLabel : 3 \n",
            "\n",
            "4\n",
            "Correct answer :  4 \tLabel : 4 \n",
            "\n",
            "3\n",
            "Correct answer :  3 \tLabel : 3 \n",
            "\n",
            "3\n",
            "Correct answer :  3 \tLabel : 3 \n",
            "\n",
            "3\n",
            "Correct answer :  3 \tLabel : 3 \n",
            "\n",
            "0\n",
            "Correct answer :  0 \tLabel : 0 \n",
            "\n",
            "0\n",
            "Correct answer :  0 \tLabel : 0 \n",
            "\n",
            "2\n",
            "Correct answer :  2 \tLabel : 2 \n",
            "\n",
            "0\n",
            "Correct answer :  0 \tLabel : 0 \n",
            "\n",
            "2\n",
            "Correct answer :  2 \tLabel : 4 \n",
            "\n",
            "1\n",
            "Correct answer :  1 \tLabel : 0 \n",
            "\n",
            "2\n",
            "Correct answer :  2 \tLabel : 1 \n",
            "\n",
            "1\n",
            "Correct answer :  1 \tLabel : 1 \n",
            "\n",
            "2\n",
            "Correct answer :  2 \tLabel : 2 \n",
            "\n",
            "4\n",
            "Correct answer :  4 \tLabel : 4 \n",
            "\n",
            "1\n",
            "Correct answer :  1 \tLabel : 1 \n",
            "\n",
            "1\n",
            "Correct answer :  1 \tLabel : 1 \n",
            "\n",
            "0\n",
            "Correct answer :  0 \tLabel : 0 \n",
            "\n",
            "3\n",
            "Correct answer :  3 \tLabel : 3 \n",
            "\n",
            "2\n",
            "Correct answer :  2 \tLabel : 2 \n",
            "\n",
            "1\n",
            "Correct answer :  1 \tLabel : 1 \n",
            "\n",
            "2\n",
            "Correct answer :  2 \tLabel : 2 \n",
            "\n",
            "0\n",
            "Correct answer :  0 \tLabel : 0 \n",
            "\n",
            "4\n",
            "Correct answer :  4 \tLabel : 3 \n",
            "\n",
            "1\n",
            "Correct answer :  1 \tLabel : 1 \n",
            "\n",
            "2\n",
            "Correct answer :  2 \tLabel : 2 \n",
            "\n",
            "1\n",
            "Correct answer :  1 \tLabel : 1 \n",
            "\n",
            "0\n",
            "Correct answer :  0 \tLabel : 0 \n",
            "\n",
            "2\n",
            "Correct answer :  2 \tLabel : 2 \n",
            "\n",
            "3\n",
            "Correct answer :  3 \tLabel : 3 \n",
            "\n",
            "1\n",
            "Correct answer :  1 \tLabel : 1 \n",
            "\n",
            "3\n",
            "Correct answer :  3 \tLabel : 2 \n",
            "\n",
            "3\n",
            "Correct answer :  3 \tLabel : 3 \n",
            "\n",
            "3\n",
            "Correct answer :  3 \tLabel : 0 \n",
            "\n",
            "1\n",
            "Correct answer :  1 \tLabel : 3 \n",
            "\n",
            "0\n",
            "Correct answer :  0 \tLabel : 0 \n",
            "\n",
            "2\n",
            "Correct answer :  2 \tLabel : 2 \n",
            "\n",
            "0\n",
            "Correct answer :  0 \tLabel : 0 \n",
            "\n",
            "4\n",
            "Correct answer :  4 \tLabel : 1 \n",
            "\n",
            "2\n",
            "Correct answer :  2 \tLabel : 4 \n",
            "\n",
            "4\n",
            "Correct answer :  4 \tLabel : 2 \n",
            "\n",
            "4\n",
            "Correct answer :  4 \tLabel : 4 \n",
            "\n",
            "0\n",
            "Correct answer :  0 \tLabel : 0 \n",
            "\n",
            "2\n",
            "Correct answer :  2 \tLabel : 1 \n",
            "\n",
            "4\n",
            "Correct answer :  4 \tLabel : 0 \n",
            "\n",
            "4\n",
            "Correct answer :  4 \tLabel : 4 \n",
            "\n",
            "4\n",
            "Correct answer :  4 \tLabel : 4 \n",
            "\n",
            "3\n",
            "Correct answer :  3 \tLabel : 4 \n",
            "\n",
            "3\n",
            "Correct answer :  3 \tLabel : 1 \n",
            "\n",
            "0\n",
            "Correct answer :  0 \tLabel : 0 \n",
            "\n",
            "0\n",
            "Correct answer :  0 \tLabel : 0 \n",
            "\n",
            "0\n",
            "Correct answer :  0 \tLabel : 1 \n",
            "\n",
            "1\n",
            "Correct answer :  1 \tLabel : 1 \n",
            "\n",
            "0\n",
            "Correct answer :  0 \tLabel : 4 \n",
            "\n",
            "1\n",
            "Correct answer :  1 \tLabel : 1 \n",
            "\n",
            "1\n",
            "Correct answer :  1 \tLabel : 1 \n",
            "\n",
            "1\n",
            "Correct answer :  1 \tLabel : 3 \n",
            "\n",
            "4\n",
            "Correct answer :  4 \tLabel : 4 \n",
            "\n",
            "3\n",
            "Correct answer :  3 \tLabel : 3 \n",
            "\n",
            "3\n",
            "Correct answer :  3 \tLabel : 1 \n",
            "\n",
            "1\n",
            "Correct answer :  1 \tLabel : 1 \n",
            "\n",
            "0\n",
            "Correct answer :  0 \tLabel : 0 \n",
            "\n",
            "3\n",
            "Correct answer :  3 \tLabel : 3 \n",
            "\n",
            "2\n",
            "Correct answer :  2 \tLabel : 2 \n",
            "\n",
            "3\n",
            "Correct answer :  3 \tLabel : 3 \n",
            "\n",
            "1\n",
            "Correct answer :  1 \tLabel : 2 \n",
            "\n",
            "1\n",
            "Correct answer :  1 \tLabel : 3 \n",
            "\n",
            "2\n",
            "Correct answer :  2 \tLabel : 2 \n",
            "\n",
            "1\n",
            "Correct answer :  1 \tLabel : 1 \n",
            "\n",
            "3\n",
            "Correct answer :  3 \tLabel : 2 \n",
            "\n",
            "4\n",
            "Correct answer :  4 \tLabel : 4 \n",
            "\n",
            "3\n",
            "Correct answer :  3 \tLabel : 3 \n",
            "\n",
            "4\n",
            "Correct answer :  4 \tLabel : 2 \n",
            "\n",
            "1\n",
            "Correct answer :  1 \tLabel : 1 \n",
            "\n",
            "1\n",
            "Correct answer :  1 \tLabel : 1 \n",
            "\n",
            "1\n",
            "Correct answer :  1 \tLabel : 1 \n",
            "\n",
            "0\n",
            "Correct answer :  0 \tLabel : 4 \n",
            "\n",
            "1\n",
            "Correct answer :  1 \tLabel : 0 \n",
            "\n",
            "3\n",
            "Correct answer :  3 \tLabel : 3 \n",
            "\n",
            "2\n",
            "Correct answer :  2 \tLabel : 2 \n",
            "\n",
            "0\n",
            "Correct answer :  0 \tLabel : 0 \n",
            "\n",
            "4\n",
            "Correct answer :  4 \tLabel : 4 \n",
            "\n",
            "3\n",
            "Correct answer :  3 \tLabel : 0 \n",
            "\n",
            "3\n",
            "Correct answer :  3 \tLabel : 3 \n",
            "\n",
            "4\n",
            "Correct answer :  4 \tLabel : 4 \n",
            "\n",
            "1\n",
            "Correct answer :  1 \tLabel : 1 \n",
            "\n",
            "0\n",
            "Correct answer :  0 \tLabel : 3 \n",
            "\n",
            "2\n",
            "Correct answer :  2 \tLabel : 2 \n",
            "\n",
            "2\n",
            "Correct answer :  2 \tLabel : 2 \n",
            "\n",
            "0\n",
            "Correct answer :  0 \tLabel : 0 \n",
            "\n",
            "4\n",
            "Correct answer :  4 \tLabel : 4 \n",
            "\n",
            "3\n",
            "Correct answer :  3 \tLabel : 3 \n",
            "\n",
            "0\n",
            "Correct answer :  0 \tLabel : 0 \n",
            "\n",
            "0\n",
            "Correct answer :  0 \tLabel : 0 \n",
            "\n",
            "2\n",
            "Correct answer :  2 \tLabel : 2 \n",
            "\n",
            "1\n",
            "Correct answer :  1 \tLabel : 1 \n",
            "\n",
            "1\n",
            "Correct answer :  1 \tLabel : 1 \n",
            "\n",
            "4\n",
            "Correct answer :  4 \tLabel : 2 \n",
            "\n",
            "0\n",
            "Correct answer :  0 \tLabel : 2 \n",
            "\n",
            "1\n",
            "Correct answer :  1 \tLabel : 1 \n",
            "\n",
            "2\n",
            "Correct answer :  2 \tLabel : 2 \n",
            "\n",
            "0\n",
            "Correct answer :  0 \tLabel : 0 \n",
            "\n",
            "4\n",
            "Correct answer :  4 \tLabel : 4 \n",
            "\n",
            "3\n",
            "Correct answer :  3 \tLabel : 0 \n",
            "\n",
            "0\n",
            "Correct answer :  0 \tLabel : 2 \n",
            "\n",
            "2\n",
            "Correct answer :  2 \tLabel : 3 \n",
            "\n",
            "3\n",
            "Correct answer :  3 \tLabel : 3 \n",
            "\n",
            "0\n",
            "Correct answer :  0 \tLabel : 2 \n",
            "\n",
            "1\n",
            "Correct answer :  1 \tLabel : 4 \n",
            "\n",
            "4\n",
            "Correct answer :  4 \tLabel : 2 \n",
            "\n",
            "4\n",
            "Correct answer :  4 \tLabel : 3 \n",
            "\n",
            "0\n",
            "Correct answer :  0 \tLabel : 3 \n",
            "\n",
            "0\n",
            "Correct answer :  0 \tLabel : 0 \n",
            "\n",
            "0\n",
            "Correct answer :  0 \tLabel : 3 \n",
            "\n",
            "1\n",
            "Correct answer :  1 \tLabel : 1 \n",
            "\n",
            "2\n",
            "Correct answer :  2 \tLabel : 2 \n",
            "\n",
            "2\n",
            "Correct answer :  2 \tLabel : 2 \n",
            "\n",
            "0\n",
            "Correct answer :  0 \tLabel : 0 \n",
            "\n",
            "1\n",
            "Correct answer :  1 \tLabel : 1 \n",
            "\n",
            "2\n",
            "Correct answer :  2 \tLabel : 0 \n",
            "\n",
            "1\n",
            "Correct answer :  1 \tLabel : 1 \n",
            "\n",
            "4\n",
            "Correct answer :  4 \tLabel : 4 \n",
            "\n",
            "2\n",
            "Correct answer :  2 \tLabel : 2 \n",
            "\n",
            "3\n",
            "Correct answer :  3 \tLabel : 3 \n",
            "\n",
            "0\n",
            "Correct answer :  0 \tLabel : 0 \n",
            "\n",
            "4\n",
            "Correct answer :  4 \tLabel : 4 \n",
            "\n",
            "3\n",
            "Correct answer :  3 \tLabel : 3 \n",
            "\n",
            "4\n",
            "Correct answer :  4 \tLabel : 4 \n",
            "\n",
            "2\n",
            "Correct answer :  2 \tLabel : 2 \n",
            "\n",
            "0\n",
            "Correct answer :  0 \tLabel : 0 \n",
            "\n",
            "2\n",
            "Correct answer :  2 \tLabel : 2 \n",
            "\n",
            "0\n",
            "Correct answer :  0 \tLabel : 1 \n",
            "\n",
            "3\n",
            "Correct answer :  3 \tLabel : 3 \n",
            "\n",
            "2\n",
            "Correct answer :  2 \tLabel : 2 \n",
            "\n",
            "4\n",
            "Correct answer :  4 \tLabel : 4 \n",
            "\n",
            "0\n",
            "Correct answer :  0 \tLabel : 2 \n",
            "\n",
            "3\n",
            "Correct answer :  3 \tLabel : 0 \n",
            "\n",
            "4\n",
            "Correct answer :  4 \tLabel : 4 \n",
            "\n",
            "3\n",
            "Correct answer :  3 \tLabel : 3 \n",
            "\n",
            "2\n",
            "Correct answer :  2 \tLabel : 4 \n",
            "\n",
            "0\n",
            "Correct answer :  0 \tLabel : 0 \n",
            "\n",
            "1\n",
            "Correct answer :  1 \tLabel : 3 \n",
            "\n",
            "2\n",
            "Correct answer :  2 \tLabel : 3 \n",
            "\n",
            "2\n",
            "Correct answer :  2 \tLabel : 2 \n",
            "\n",
            "4\n",
            "Correct answer :  4 \tLabel : 4 \n",
            "\n",
            "4\n",
            "Correct answer :  4 \tLabel : 4 \n",
            "\n",
            "0\n",
            "Correct answer :  0 \tLabel : 0 \n",
            "\n",
            "0\n",
            "Correct answer :  0 \tLabel : 0 \n",
            "\n",
            "0\n",
            "Correct answer :  0 \tLabel : 0 \n",
            "\n",
            "1\n",
            "Correct answer :  1 \tLabel : 1 \n",
            "\n",
            "0\n",
            "Correct answer :  0 \tLabel : 4 \n",
            "\n",
            "4\n",
            "Correct answer :  4 \tLabel : 4 \n",
            "\n",
            "1\n",
            "Correct answer :  1 \tLabel : 1 \n",
            "\n",
            "0\n",
            "Correct answer :  0 \tLabel : 0 \n",
            "\n",
            "1\n",
            "Correct answer :  1 \tLabel : 4 \n",
            "\n",
            "2\n",
            "Correct answer :  2 \tLabel : 2 \n",
            "\n",
            "4\n",
            "Correct answer :  4 \tLabel : 0 \n",
            "\n",
            "1\n",
            "Correct answer :  1 \tLabel : 2 \n",
            "\n",
            "4\n",
            "Correct answer :  4 \tLabel : 2 \n",
            "\n",
            "3\n",
            "Correct answer :  3 \tLabel : 3 \n",
            "\n",
            "0\n",
            "Correct answer :  0 \tLabel : 0 \n",
            "\n",
            "3\n",
            "Correct answer :  3 \tLabel : 3 \n",
            "\n",
            "1\n",
            "Correct answer :  1 \tLabel : 1 \n",
            "\n",
            "0\n",
            "Correct answer :  0 \tLabel : 0 \n",
            "\n",
            "4\n",
            "Correct answer :  4 \tLabel : 4 \n",
            "\n",
            "4\n",
            "Correct answer :  4 \tLabel : 1 \n",
            "\n",
            "1\n",
            "Correct answer :  1 \tLabel : 1 \n",
            "\n",
            "1\n",
            "Correct answer :  1 \tLabel : 0 \n",
            "\n",
            "3\n",
            "Correct answer :  3 \tLabel : 3 \n",
            "\n",
            "4\n",
            "Correct answer :  4 \tLabel : 4 \n",
            "\n",
            "4\n",
            "Correct answer :  4 \tLabel : 0 \n",
            "\n",
            "2\n",
            "Correct answer :  2 \tLabel : 0 \n",
            "\n",
            "1\n",
            "Correct answer :  1 \tLabel : 3 \n",
            "\n",
            "1\n",
            "Correct answer :  1 \tLabel : 1 \n",
            "\n",
            "1\n",
            "Correct answer :  1 \tLabel : 0 \n",
            "\n",
            "4\n",
            "Correct answer :  4 \tLabel : 4 \n",
            "\n",
            "2\n",
            "Correct answer :  2 \tLabel : 2 \n",
            "\n",
            "3\n",
            "Correct answer :  3 \tLabel : 3 \n",
            "\n",
            "1\n",
            "Correct answer :  1 \tLabel : 0 \n",
            "\n",
            "3\n",
            "Correct answer :  3 \tLabel : 1 \n",
            "\n",
            "0\n",
            "Correct answer :  0 \tLabel : 0 \n",
            "\n",
            "4\n",
            "Correct answer :  4 \tLabel : 4 \n",
            "\n",
            "3\n",
            "Correct answer :  3 \tLabel : 3 \n",
            "\n",
            "2\n",
            "Correct answer :  2 \tLabel : 2 \n",
            "\n",
            "2\n",
            "Correct answer :  2 \tLabel : 1 \n",
            "\n",
            "2\n",
            "Correct answer :  2 \tLabel : 2 \n",
            "\n",
            "0\n",
            "Correct answer :  0 \tLabel : 0 \n",
            "\n",
            "3\n",
            "Correct answer :  3 \tLabel : 3 \n",
            "\n",
            "0\n",
            "Correct answer :  0 \tLabel : 2 \n",
            "\n",
            "3\n",
            "Correct answer :  3 \tLabel : 3 \n",
            "\n",
            "0\n",
            "Correct answer :  0 \tLabel : 0 \n",
            "\n",
            "2\n",
            "Correct answer :  2 \tLabel : 2 \n",
            "\n",
            "0\n",
            "Correct answer :  0 \tLabel : 0 \n",
            "\n",
            "1\n",
            "Correct answer :  1 \tLabel : 1 \n",
            "\n",
            "0\n",
            "Correct answer :  0 \tLabel : 0 \n",
            "\n",
            "4\n",
            "Correct answer :  4 \tLabel : 4 \n",
            "\n",
            "0\n",
            "Correct answer :  0 \tLabel : 0 \n",
            "\n",
            "4\n",
            "Correct answer :  4 \tLabel : 4 \n",
            "\n",
            "4\n",
            "Correct answer :  4 \tLabel : 0 \n",
            "\n",
            "4\n",
            "Correct answer :  4 \tLabel : 4 \n",
            "\n",
            "4\n",
            "Correct answer :  4 \tLabel : 4 \n",
            "\n",
            "1\n",
            "Correct answer :  1 \tLabel : 1 \n",
            "\n",
            "1\n",
            "Correct answer :  1 \tLabel : 1 \n",
            "\n",
            "0\n",
            "Correct answer :  0 \tLabel : 0 \n",
            "\n",
            "4\n",
            "Correct answer :  4 \tLabel : 1 \n",
            "\n",
            "3\n",
            "Correct answer :  3 \tLabel : 2 \n",
            "\n",
            "1\n",
            "Correct answer :  1 \tLabel : 1 \n",
            "\n",
            "1\n",
            "Correct answer :  1 \tLabel : 0 \n",
            "\n",
            "4\n",
            "Correct answer :  4 \tLabel : 4 \n",
            "\n",
            "0\n",
            "Correct answer :  0 \tLabel : 0 \n",
            "\n",
            "0\n",
            "Correct answer :  0 \tLabel : 0 \n",
            "\n",
            "3\n",
            "Correct answer :  3 \tLabel : 3 \n",
            "\n",
            "3\n",
            "Correct answer :  3 \tLabel : 1 \n",
            "\n",
            "0\n",
            "Correct answer :  0 \tLabel : 0 \n",
            "\n",
            "2\n",
            "Correct answer :  2 \tLabel : 2 \n",
            "\n",
            "1\n",
            "Correct answer :  1 \tLabel : 1 \n",
            "\n",
            "1\n",
            "Correct answer :  1 \tLabel : 1 \n",
            "\n",
            "4\n",
            "Correct answer :  4 \tLabel : 4 \n",
            "\n",
            "0\n",
            "Correct answer :  0 \tLabel : 4 \n",
            "\n",
            "4\n",
            "Correct answer :  4 \tLabel : 4 \n",
            "\n",
            "4\n",
            "Correct answer :  4 \tLabel : 4 \n",
            "\n",
            "3\n",
            "Correct answer :  3 \tLabel : 3 \n",
            "\n",
            "3\n",
            "Correct answer :  3 \tLabel : 3 \n",
            "\n",
            "1\n",
            "Correct answer :  1 \tLabel : 1 \n",
            "\n",
            "0\n",
            "Correct answer :  0 \tLabel : 0 \n",
            "\n",
            "0\n",
            "Correct answer :  0 \tLabel : 0 \n",
            "\n",
            "3\n",
            "Correct answer :  3 \tLabel : 3 \n",
            "\n",
            "4\n",
            "Correct answer :  4 \tLabel : 1 \n",
            "\n",
            "2\n",
            "Correct answer :  2 \tLabel : 2 \n",
            "\n",
            "0\n",
            "Correct answer :  0 \tLabel : 1 \n",
            "\n",
            "2\n",
            "Correct answer :  2 \tLabel : 0 \n",
            "\n",
            "3\n",
            "Correct answer :  3 \tLabel : 3 \n",
            "\n",
            "0\n",
            "Correct answer :  0 \tLabel : 3 \n",
            "\n",
            "2\n",
            "Correct answer :  2 \tLabel : 2 \n",
            "\n",
            "1\n",
            "Correct answer :  1 \tLabel : 1 \n",
            "\n",
            "3\n",
            "Correct answer :  3 \tLabel : 3 \n",
            "\n",
            "1\n",
            "Correct answer :  1 \tLabel : 1 \n",
            "\n",
            "4\n",
            "Correct answer :  4 \tLabel : 4 \n",
            "\n",
            "1\n",
            "Correct answer :  1 \tLabel : 1 \n",
            "\n",
            "1\n",
            "Correct answer :  1 \tLabel : 1 \n",
            "\n",
            "3\n",
            "Correct answer :  3 \tLabel : 3 \n",
            "\n",
            "1\n",
            "Correct answer :  1 \tLabel : 1 \n",
            "\n",
            "0\n",
            "Correct answer :  0 \tLabel : 0 \n",
            "\n",
            "3\n",
            "Correct answer :  3 \tLabel : 0 \n",
            "\n",
            "2\n",
            "Correct answer :  2 \tLabel : 2 \n",
            "\n",
            "4\n",
            "Correct answer :  4 \tLabel : 4 \n",
            "\n",
            "3\n",
            "Correct answer :  3 \tLabel : 3 \n",
            "\n",
            "2\n",
            "Correct answer :  2 \tLabel : 2 \n",
            "\n",
            "2\n",
            "Correct answer :  2 \tLabel : 2 \n",
            "\n",
            "2\n",
            "Correct answer :  2 \tLabel : 2 \n",
            "\n",
            "2\n",
            "Correct answer :  2 \tLabel : 2 \n",
            "\n",
            "3\n",
            "Correct answer :  3 \tLabel : 0 \n",
            "\n",
            "1\n",
            "Correct answer :  1 \tLabel : 1 \n",
            "\n",
            "1\n",
            "Correct answer :  1 \tLabel : 1 \n",
            "\n",
            "1\n",
            "Correct answer :  1 \tLabel : 4 \n",
            "\n",
            "0\n",
            "Correct answer :  0 \tLabel : 0 \n",
            "\n",
            "2\n",
            "Correct answer :  2 \tLabel : 4 \n",
            "\n",
            "2\n",
            "Correct answer :  2 \tLabel : 2 \n",
            "\n",
            "4\n",
            "Correct answer :  4 \tLabel : 4 \n",
            "\n",
            "4\n",
            "Correct answer :  4 \tLabel : 2 \n",
            "\n",
            "4\n",
            "Correct answer :  4 \tLabel : 1 \n",
            "\n",
            "0\n",
            "Correct answer :  0 \tLabel : 0 \n",
            "\n",
            "3\n",
            "Correct answer :  3 \tLabel : 3 \n",
            "\n"
          ],
          "name": "stdout"
        }
      ]
    },
    {
      "cell_type": "code",
      "metadata": {
        "colab": {
          "base_uri": "https://localhost:8080/"
        },
        "id": "T6cNsQ54KUwC",
        "outputId": "7fd7122f-4edb-4b4b-f90a-37f318146571"
      },
      "source": [
        "accuracy = correct_score / len(examples)  \n",
        "print(\"Accuracy :\", accuracy)\n",
        "print(\"Correct answers :\", correct_score) \n",
        "\n",
        "print(\"wrong list items :\\n\", wrong_list) \n"
      ],
      "execution_count": 53,
      "outputs": [
        {
          "output_type": "stream",
          "text": [
            "Accuracy : 0.7262044653349001\n",
            "Correct answers : 618\n",
            "wrong list items :\n",
            " [0, 8, 12, 15, 16, 31, 34, 36, 40, 46, 56, 59, 63, 65, 78, 83, 87, 89, 96, 99, 102, 105, 114, 116, 125, 128, 129, 130, 133, 139, 140, 142, 146, 150, 151, 153, 156, 158, 161, 162, 163, 168, 171, 172, 174, 175, 178, 183, 188, 189, 190, 192, 198, 204, 205, 208, 209, 217, 218, 228, 230, 234, 243, 244, 245, 250, 256, 258, 263, 265, 267, 268, 270, 274, 282, 286, 287, 299, 301, 307, 312, 315, 316, 321, 322, 325, 330, 332, 335, 336, 337, 338, 350, 356, 366, 369, 371, 375, 377, 380, 390, 395, 396, 397, 402, 403, 414, 415, 417, 419, 423, 428, 430, 433, 439, 446, 448, 449, 451, 452, 461, 469, 474, 476, 482, 489, 501, 506, 508, 512, 513, 515, 520, 521, 522, 524, 526, 527, 533, 538, 539, 543, 545, 546, 547, 550, 551, 552, 558, 567, 570, 571, 577, 578, 579, 581, 583, 587, 597, 598, 599, 611, 619, 621, 622, 626, 627, 628, 631, 632, 635, 636, 639, 641, 644, 647, 653, 654, 657, 660, 664, 665, 670, 674, 685, 686, 691, 692, 693, 695, 696, 697, 698, 699, 701, 707, 719, 723, 724, 727, 729, 730, 738, 742, 744, 745, 746, 753, 755, 758, 759, 760, 762, 766, 767, 772, 776, 786, 792, 793, 795, 800, 806, 815, 817, 818, 820, 831, 839, 842, 844, 847, 848]\n"
          ],
          "name": "stdout"
        }
      ]
    },
    {
      "cell_type": "markdown",
      "metadata": {
        "id": "fK6SOkoxuLsR"
      },
      "source": [
        "Material After this is just for practice and is of no use: \n",
        "\n",
        "\n",
        "---\n",
        "\n",
        "\n",
        "\n",
        "---\n",
        "\n"
      ]
    },
    {
      "cell_type": "code",
      "metadata": {
        "id": "64fzSzN9k9lW"
      },
      "source": [
        "for i, item in enumerate(list1):\n",
        "  if(list2[i] != item):\n",
        "    print(\"Yes\") "
      ],
      "execution_count": null,
      "outputs": []
    },
    {
      "cell_type": "code",
      "metadata": {
        "colab": {
          "base_uri": "https://localhost:8080/"
        },
        "id": "A2oqIupJszWy",
        "outputId": "7616339b-3708-4156-9af9-446e6cbfc814"
      },
      "source": [
        "tokenizer.encode(\"Hello, my dog is very <mask> unusual\", add_special_tokens=False)"
      ],
      "execution_count": null,
      "outputs": [
        {
          "output_type": "execute_result",
          "data": {
            "text/plain": [
              "[17, 11368, 19, 94, 2288, 27, 172, 6, 4395]"
            ]
          },
          "metadata": {
            "tags": []
          },
          "execution_count": 56
        }
      ]
    },
    {
      "cell_type": "code",
      "metadata": {
        "colab": {
          "base_uri": "https://localhost:8080/"
        },
        "id": "ELTMIhQSBZqU",
        "outputId": "d3bbb219-f7a5-4be8-c659-0ab3cb02fd0d"
      },
      "source": [
        "# We show how to setup inputs to predict a next token using a bi-directional context.\n",
        "input_ids = torch.tensor(tokenizer.encode(\"Hello, my dog is very <mask>\", add_special_tokens=False)).unsqueeze(0)  # We will predict the masked token\n",
        "\n",
        "print(input_ids)\n",
        "\n",
        "perm_mask = torch.zeros((1, input_ids.shape[1], input_ids.shape[1]), dtype=torch.float)\n",
        "perm_mask[:, :, -1] = 1.0  # Previous tokens don't see last token i.e <mask> here.\n",
        "\n",
        "target_mapping = torch.zeros((1, 1, input_ids.shape[1]), dtype=torch.float)  # Shape [1, 1, seq_length] => let's predict one token\n",
        "target_mapping[0, 0, -1] = 1.0  # Our first (and only) prediction will be the last token of the sequence (the masked token)\n",
        "input_ids=input_ids.to(device)\n",
        "perm_mask=perm_mask.to(device)\n",
        "target_mapping=target_mapping.to(device)\n",
        "outputs = model(input_ids, perm_mask=perm_mask, target_mapping=target_mapping)\n",
        "print(np.shape(outputs.logits))\n",
        "next_token_logits = outputs[0]  # Output has shape [target_mapping.size(0), target_mapping.size(1), config.vocab_size]\n",
        "print(next_token_logits)\n",
        "print(torch.argmax(next_token_logits))\n",
        "# The same way can the XLNetLMHeadModel be used to be trained by standard auto-regressive language modeling.\n"
      ],
      "execution_count": null,
      "outputs": [
        {
          "output_type": "stream",
          "text": [
            "tensor([[   17, 11368,    19,    94,  2288,    27,   172,     6]])\n",
            "torch.Size([1, 1, 32000])\n",
            "tensor([[[-32.9998, -42.5084, -42.8883,  ..., -38.2738, -41.6116, -38.0217]]],\n",
            "       device='cuda:0', grad_fn=<AddBackward0>)\n",
            "tensor(172, device='cuda:0')\n"
          ],
          "name": "stdout"
        }
      ]
    },
    {
      "cell_type": "code",
      "metadata": {
        "id": "Uhk2FK8Qtnxl"
      },
      "source": [
        "\n",
        "\n",
        "input_ids = torch.tensor(tokenizer.encode(\"Hello, my dog is very <mask>\", add_special_tokens=False)).unsqueeze(0)  # We will predict the masked token\n",
        "labels = torch.tensor(tokenizer.encode(\"cute\", add_special_tokens=False)).unsqueeze(0)\n",
        "\n",
        "assert labels.shape[0] == 1, 'only one word will be predicted'\n",
        "perm_mask = torch.zeros((1, input_ids.shape[1], input_ids.shape[1]), dtype=torch.float)\n",
        "perm_mask[:, :, -1] = 1.0  # Previous tokens don't see last token as is done in standard auto-regressive lm training\n",
        "\n",
        "target_mapping = torch.zeros((1, 1, input_ids.shape[1]), dtype=torch.float)  # Shape [1, 1, seq_length] => let's predict one token\n",
        "target_mapping[0, 0, -1] = 1.0  # Our first (and only) prediction will be the last token of the sequence (the masked token)\n",
        "\n",
        "input_ids=input_ids.to('cuda')\n",
        "perm_mask=perm_mask.to('cuda')\n",
        "target_mapping=target_mapping.to('cuda')\n",
        "labels = labels.to(device)\n",
        "\n",
        "outputs = model(input_ids, perm_mask=perm_mask, target_mapping=target_mapping, labels=labels)\n",
        "loss = outputs.loss\n",
        "next_token_logits = outputs.logits  # Logits have shape [target_mapping.size(0), target_mapping.size(1), config.vocab_size]"
      ],
      "execution_count": null,
      "outputs": []
    }
  ]
}